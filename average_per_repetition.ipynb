{
 "cells": [
  {
   "cell_type": "code",
   "execution_count": 1,
   "outputs": [],
   "source": [
    "from pathlib import Path\n",
    "from datetime import datetime, timedelta\n",
    "import json"
   ],
   "metadata": {
    "collapsed": false
   }
  },
  {
   "cell_type": "code",
   "execution_count": null,
   "metadata": {
    "collapsed": true
   },
   "outputs": [],
   "source": [
    "def aggregate_results(log_dir: Path, execution_time: timedelta = None):\n",
    "    aggregated = {}\n",
    "    for repetition in log_dir.iterdir():\n",
    "        if repetition.is_dir():\n",
    "            aggregated[repetition.name] = {}\n",
    "            for fold_iter in repetition.iterdir():\n",
    "                aggregated[repetition.name][fold_iter.name] = {}\n",
    "                if (fold_iter / \"test_metrics.json\").is_file():\n",
    "                    with open(fold_iter / \"test_metrics.json\", \"r\") as f:\n",
    "                        result = json.load(f)\n",
    "                        aggregated[repetition.name][fold_iter.name].update(result)\n",
    "                elif (fold_iter / \"val_metrics.csv\").is_file():\n",
    "                    with open(fold_iter / \"val_metrics.csv\", \"r\") as f:\n",
    "                        result = json.load(f)\n",
    "                        aggregated[repetition.name][fold_iter.name].update(result)\n",
    "                # Add durations to metrics\n",
    "                if (fold_iter / \"durations.json\").is_file():\n",
    "                    with open(fold_iter / \"durations.json\", \"r\") as f:\n",
    "                        result = json.load(f)\n",
    "                        aggregated[repetition.name][fold_iter.name].update(result)\n",
    "\n",
    "    # Aggregate results per metric\n",
    "    list_scores = {}\n",
    "    for repetition, folds in aggregated.items():\n",
    "        for fold, result in folds.items():\n",
    "            for metric, score in result.items():\n",
    "                if isinstance(score, (float, int)):\n",
    "                    list_scores[metric] = list_scores.setdefault(metric, [])\n",
    "                    list_scores[metric].append(score)"
   ]
  },
  {
   "cell_type": "code",
   "execution_count": null,
   "outputs": [],
   "source": [],
   "metadata": {
    "collapsed": false
   }
  }
 ],
 "metadata": {
  "kernelspec": {
   "display_name": "Python 3",
   "language": "python",
   "name": "python3"
  },
  "language_info": {
   "codemirror_mode": {
    "name": "ipython",
    "version": 2
   },
   "file_extension": ".py",
   "mimetype": "text/x-python",
   "name": "python",
   "nbconvert_exporter": "python",
   "pygments_lexer": "ipython2",
   "version": "2.7.6"
  }
 },
 "nbformat": 4,
 "nbformat_minor": 0
}
