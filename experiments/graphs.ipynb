{
 "cells": [
  {
   "cell_type": "code",
   "execution_count": 1,
   "metadata": {
    "collapsed": true
   },
   "outputs": [],
   "source": [
    "import pandas as pd\n",
    "import numpy as np\n",
    "import matplotlib.pyplot as plt\n",
    "import seaborn as sns\n",
    "import plotly.express as px"
   ]
  },
  {
   "cell_type": "code",
   "execution_count": 63,
   "outputs": [],
   "source": [
    "df= pd.read_csv(r\"C:\\Users\\Robin\\Downloads\\results_imputation.csv\")\n",
    "df = pd.read_csv(r\"C:\\Users\\Robin\\Downloads\\results_imputation_updated_2.csv\")\n",
    "df = df.loc[~df[\"model\"].isin([\"GAIN\", \"SSSDS4\"])]\n",
    "df.model.replace({\"Simple_Diffusion\": \"Diffusion\", \"RNN\": \"GRU-D\", \"BRNN\":\"M4IP\"}, inplace=True)\n",
    "df.data_dir.replace({\"../data/eicu\": \"eICU\", \"../data/miiv\": \"MIMIC-IV\", \"../data/hirid\":\"HiRID\"}, inplace=True)"
   ],
   "metadata": {
    "collapsed": false
   }
  },
  {
   "cell_type": "code",
   "execution_count": 64,
   "outputs": [],
   "source": [
    "df.drop(columns=[col for col in df if col not in [\"model\",\"avg.rmse\", \"avg.mae\", \"avg.rmse\", \"avg.jsd\", \"std.mae\", \"std.jsd\",\"std.rmse\", \"data_dir\", \"ImputationDataset.mask_proportion\", \"ImputationDataset.mask_method\"]], inplace=True)"
   ],
   "metadata": {
    "collapsed": false
   }
  },
  {
   "cell_type": "code",
   "execution_count": 66,
   "outputs": [
    {
     "data": {
      "text/plain": "      avg.rmse   avg.mae   avg.jsd   std.rmse   std.mae   std.jsd      model  \\\n0   108.922087  0.006574  0.000451   9.929536  0.001198  0.000066  Attention   \n1     6.087111  0.008025  0.000753   7.776867  0.002548  0.000469       CSDI   \n2   134.485405  0.038082  0.004144   4.879338  0.001241  0.000130  Attention   \n3   284.676188  0.038215  0.003731  11.195988  0.003594  0.000256  Attention   \n4     4.911884  0.041573  0.004719   1.696708  0.002061  0.000340       CSDI   \n5    59.810889  0.050834  0.005850   6.495227  0.004611  0.000830  Attention   \n6    60.635006  0.052249  0.006048   8.485724  0.006049  0.001113      SAITS   \n7   302.866946  0.054684  0.006090   7.896474  0.001090  0.000136      BRITS   \n8   116.766776  0.054813  0.006888   2.127506  0.000854  0.000117      SAITS   \n9   153.572507  0.055632  0.006399   5.114115  0.001287  0.000126      BRITS   \n10   59.458323  0.056828  0.006189   2.179923  0.001325  0.000161      SAITS   \n11   57.698746  0.056922  0.006145   1.959592  0.000935  0.000150      SAITS   \n12   59.368996  0.057189  0.006270   1.916809  0.001382  0.000187  Attention   \n13  242.979703  0.057796  0.006758  19.143085  0.003962  0.000652      SAITS   \n14  247.021509  0.057815  0.006822  19.902373  0.004574  0.000773  Attention   \n15    9.458442  0.059891  0.007065   0.229128  0.001170  0.000137       M4IP   \n16    4.791069  0.061491  0.007501   0.136792  0.001169  0.000103       M4IP   \n17   66.437651  0.063100  0.007290   5.141578  0.004811  0.000777  Attention   \n18   67.275995  0.063938  0.007386   5.928646  0.004074  0.000766      SAITS   \n19  249.649914  0.065229  0.007414   3.183434  0.000359  0.000057  Attention   \n20  251.506710  0.066150  0.007513   4.370672  0.000685  0.000100      SAITS   \n21  251.506710  0.066150  0.007513   4.370672  0.000685  0.000100      SAITS   \n22    9.879091  0.066682  0.008143   0.202276  0.001034  0.000128      GRU-D   \n23    2.975227  0.068900  0.007857   0.365535  0.001092  0.000169       CSDI   \n24    2.763766  0.069073  0.007952   0.623562  0.010126  0.001532       CSDI   \n25  270.067563  0.070449  0.008327  13.898127  0.003378  0.000509  Attention   \n26  272.657762  0.071541  0.008391  14.776616  0.003715  0.000561      SAITS   \n27    2.927526  0.072087  0.008311   0.175495  0.002776  0.000430       CSDI   \n28   71.212785  0.072965  0.008935   6.837871  0.005698  0.001028      BRITS   \n29    5.481176  0.075085  0.010135   0.132109  0.001647  0.000222      GRU-D   \n30    3.487655  0.075433  0.009048   1.680854  0.011943  0.002137       CSDI   \n31  174.390997  0.078248  0.009960  13.662086  0.007275  0.001272  Attention   \n32  168.034790  0.078583  0.010002  15.808286  0.007419  0.001187      SAITS   \n33   73.348716  0.079973  0.009529   1.869234  0.001395  0.000287      BRITS   \n34    3.538220  0.082890  0.010182   0.970329  0.019408  0.002994       CSDI   \n35    2.908282  0.086482  0.010672   0.078179  0.001788  0.000299       M4IP   \n36  352.301819  0.087718  0.012236   2.611350  0.000406  0.000091      SAITS   \n37   79.624432  0.087826  0.010955   2.270317  0.001968  0.000351  Attention   \n38    2.983733  0.088544  0.011039   0.062123  0.002156  0.000351       M4IP   \n39   80.682431  0.089218  0.011094   5.366456  0.004851  0.000885      BRITS   \n40  180.711071  0.092951  0.011687   2.105670  0.000938  0.000135      SAITS   \n41  181.279941  0.093009  0.011669   2.363377  0.001001  0.000146      SAITS   \n42  188.904183  0.093207  0.011704   2.557365  0.000668  0.000115  Attention   \n43   82.889135  0.093346  0.011855   3.389002  0.004869  0.000872      SAITS   \n44  287.359756  0.094571  0.011925   3.198924  0.001010  0.000208  Attention   \n45    3.320392  0.095714  0.012239   0.015758  0.000412  0.000078       M4IP   \n46  325.965957  0.096091  0.012409   4.219375  0.001086  0.000181  Attention   \n47    3.217139  0.096598  0.012547   0.197698  0.005619  0.001237       M4IP   \n48    3.629522  0.097322  0.012605   0.436236  0.001262  0.000269       CSDI   \n49    3.371551  0.097392  0.012553   0.018932  0.000506  0.000103       M4IP   \n\n   ImputationDataset.mask_method  ImputationDataset.mask_proportion  data_dir  \n0                           MCAR                                0.3       NaN  \n1                           MCAR                                0.3       NaN  \n2                           MCAR                                0.3       NaN  \n3                           MCAR                                0.7       NaN  \n4                           MCAR                                0.3       NaN  \n5                            MAR                                0.3     HiRID  \n6                            MAR                                0.3     HiRID  \n7                           MCAR                                0.3       NaN  \n8                           MCAR                                0.3     HiRID  \n9                           MCAR                                0.3       NaN  \n10                          MCAR                                0.3     HiRID  \n11                          MCAR                                0.3     HiRID  \n12                          MCAR                                0.3     HiRID  \n13                           MAR                                0.3      eICU  \n14                           MAR                                0.3      eICU  \n15                          MCAR                                0.3       NaN  \n16                          MCAR                                0.3       NaN  \n17                          MNAR                                0.3     HiRID  \n18                          MNAR                                0.3     HiRID  \n19                          MCAR                                0.3      eICU  \n20                          MCAR                                0.3      eICU  \n21                          MCAR                                0.3      eICU  \n22                          MCAR                                0.3       NaN  \n23                          MCAR                                0.3      eICU  \n24                          MCAR                                0.3     HiRID  \n25                          MNAR                                0.3      eICU  \n26                          MNAR                                0.3      eICU  \n27                          MNAR                                0.3      eICU  \n28                           MAR                                0.3     HiRID  \n29                          MCAR                                0.3       NaN  \n30                          MNAR                                0.3     HiRID  \n31                           MAR                                0.3  MIMIC-IV  \n32                           MAR                                0.3  MIMIC-IV  \n33                          MCAR                                0.3     HiRID  \n34                           MAR                                0.3     HiRID  \n35                          MCAR                                0.3     HiRID  \n36                          MCAR                                0.3  MIMIC-IV  \n37                            BO                                0.3     HiRID  \n38                            BO                                0.3     HiRID  \n39                          MNAR                                0.3     HiRID  \n40                          MCAR                                0.3  MIMIC-IV  \n41                          MCAR                                0.3  MIMIC-IV  \n42                          MCAR                                0.3  MIMIC-IV  \n43                            BO                                0.3     HiRID  \n44                          MCAR                                0.3  MIMIC-IV  \n45                          MCAR                                0.3      eICU  \n46                            BO                                0.3      eICU  \n47                          MNAR                                0.3     HiRID  \n48                            BO                                0.3      eICU  \n49                            BO                                0.3      eICU  ",
      "text/html": "<div>\n<style scoped>\n    .dataframe tbody tr th:only-of-type {\n        vertical-align: middle;\n    }\n\n    .dataframe tbody tr th {\n        vertical-align: top;\n    }\n\n    .dataframe thead th {\n        text-align: right;\n    }\n</style>\n<table border=\"1\" class=\"dataframe\">\n  <thead>\n    <tr style=\"text-align: right;\">\n      <th></th>\n      <th>avg.rmse</th>\n      <th>avg.mae</th>\n      <th>avg.jsd</th>\n      <th>std.rmse</th>\n      <th>std.mae</th>\n      <th>std.jsd</th>\n      <th>model</th>\n      <th>ImputationDataset.mask_method</th>\n      <th>ImputationDataset.mask_proportion</th>\n      <th>data_dir</th>\n    </tr>\n  </thead>\n  <tbody>\n    <tr>\n      <th>0</th>\n      <td>108.922087</td>\n      <td>0.006574</td>\n      <td>0.000451</td>\n      <td>9.929536</td>\n      <td>0.001198</td>\n      <td>0.000066</td>\n      <td>Attention</td>\n      <td>MCAR</td>\n      <td>0.3</td>\n      <td>NaN</td>\n    </tr>\n    <tr>\n      <th>1</th>\n      <td>6.087111</td>\n      <td>0.008025</td>\n      <td>0.000753</td>\n      <td>7.776867</td>\n      <td>0.002548</td>\n      <td>0.000469</td>\n      <td>CSDI</td>\n      <td>MCAR</td>\n      <td>0.3</td>\n      <td>NaN</td>\n    </tr>\n    <tr>\n      <th>2</th>\n      <td>134.485405</td>\n      <td>0.038082</td>\n      <td>0.004144</td>\n      <td>4.879338</td>\n      <td>0.001241</td>\n      <td>0.000130</td>\n      <td>Attention</td>\n      <td>MCAR</td>\n      <td>0.3</td>\n      <td>NaN</td>\n    </tr>\n    <tr>\n      <th>3</th>\n      <td>284.676188</td>\n      <td>0.038215</td>\n      <td>0.003731</td>\n      <td>11.195988</td>\n      <td>0.003594</td>\n      <td>0.000256</td>\n      <td>Attention</td>\n      <td>MCAR</td>\n      <td>0.7</td>\n      <td>NaN</td>\n    </tr>\n    <tr>\n      <th>4</th>\n      <td>4.911884</td>\n      <td>0.041573</td>\n      <td>0.004719</td>\n      <td>1.696708</td>\n      <td>0.002061</td>\n      <td>0.000340</td>\n      <td>CSDI</td>\n      <td>MCAR</td>\n      <td>0.3</td>\n      <td>NaN</td>\n    </tr>\n    <tr>\n      <th>5</th>\n      <td>59.810889</td>\n      <td>0.050834</td>\n      <td>0.005850</td>\n      <td>6.495227</td>\n      <td>0.004611</td>\n      <td>0.000830</td>\n      <td>Attention</td>\n      <td>MAR</td>\n      <td>0.3</td>\n      <td>HiRID</td>\n    </tr>\n    <tr>\n      <th>6</th>\n      <td>60.635006</td>\n      <td>0.052249</td>\n      <td>0.006048</td>\n      <td>8.485724</td>\n      <td>0.006049</td>\n      <td>0.001113</td>\n      <td>SAITS</td>\n      <td>MAR</td>\n      <td>0.3</td>\n      <td>HiRID</td>\n    </tr>\n    <tr>\n      <th>7</th>\n      <td>302.866946</td>\n      <td>0.054684</td>\n      <td>0.006090</td>\n      <td>7.896474</td>\n      <td>0.001090</td>\n      <td>0.000136</td>\n      <td>BRITS</td>\n      <td>MCAR</td>\n      <td>0.3</td>\n      <td>NaN</td>\n    </tr>\n    <tr>\n      <th>8</th>\n      <td>116.766776</td>\n      <td>0.054813</td>\n      <td>0.006888</td>\n      <td>2.127506</td>\n      <td>0.000854</td>\n      <td>0.000117</td>\n      <td>SAITS</td>\n      <td>MCAR</td>\n      <td>0.3</td>\n      <td>HiRID</td>\n    </tr>\n    <tr>\n      <th>9</th>\n      <td>153.572507</td>\n      <td>0.055632</td>\n      <td>0.006399</td>\n      <td>5.114115</td>\n      <td>0.001287</td>\n      <td>0.000126</td>\n      <td>BRITS</td>\n      <td>MCAR</td>\n      <td>0.3</td>\n      <td>NaN</td>\n    </tr>\n    <tr>\n      <th>10</th>\n      <td>59.458323</td>\n      <td>0.056828</td>\n      <td>0.006189</td>\n      <td>2.179923</td>\n      <td>0.001325</td>\n      <td>0.000161</td>\n      <td>SAITS</td>\n      <td>MCAR</td>\n      <td>0.3</td>\n      <td>HiRID</td>\n    </tr>\n    <tr>\n      <th>11</th>\n      <td>57.698746</td>\n      <td>0.056922</td>\n      <td>0.006145</td>\n      <td>1.959592</td>\n      <td>0.000935</td>\n      <td>0.000150</td>\n      <td>SAITS</td>\n      <td>MCAR</td>\n      <td>0.3</td>\n      <td>HiRID</td>\n    </tr>\n    <tr>\n      <th>12</th>\n      <td>59.368996</td>\n      <td>0.057189</td>\n      <td>0.006270</td>\n      <td>1.916809</td>\n      <td>0.001382</td>\n      <td>0.000187</td>\n      <td>Attention</td>\n      <td>MCAR</td>\n      <td>0.3</td>\n      <td>HiRID</td>\n    </tr>\n    <tr>\n      <th>13</th>\n      <td>242.979703</td>\n      <td>0.057796</td>\n      <td>0.006758</td>\n      <td>19.143085</td>\n      <td>0.003962</td>\n      <td>0.000652</td>\n      <td>SAITS</td>\n      <td>MAR</td>\n      <td>0.3</td>\n      <td>eICU</td>\n    </tr>\n    <tr>\n      <th>14</th>\n      <td>247.021509</td>\n      <td>0.057815</td>\n      <td>0.006822</td>\n      <td>19.902373</td>\n      <td>0.004574</td>\n      <td>0.000773</td>\n      <td>Attention</td>\n      <td>MAR</td>\n      <td>0.3</td>\n      <td>eICU</td>\n    </tr>\n    <tr>\n      <th>15</th>\n      <td>9.458442</td>\n      <td>0.059891</td>\n      <td>0.007065</td>\n      <td>0.229128</td>\n      <td>0.001170</td>\n      <td>0.000137</td>\n      <td>M4IP</td>\n      <td>MCAR</td>\n      <td>0.3</td>\n      <td>NaN</td>\n    </tr>\n    <tr>\n      <th>16</th>\n      <td>4.791069</td>\n      <td>0.061491</td>\n      <td>0.007501</td>\n      <td>0.136792</td>\n      <td>0.001169</td>\n      <td>0.000103</td>\n      <td>M4IP</td>\n      <td>MCAR</td>\n      <td>0.3</td>\n      <td>NaN</td>\n    </tr>\n    <tr>\n      <th>17</th>\n      <td>66.437651</td>\n      <td>0.063100</td>\n      <td>0.007290</td>\n      <td>5.141578</td>\n      <td>0.004811</td>\n      <td>0.000777</td>\n      <td>Attention</td>\n      <td>MNAR</td>\n      <td>0.3</td>\n      <td>HiRID</td>\n    </tr>\n    <tr>\n      <th>18</th>\n      <td>67.275995</td>\n      <td>0.063938</td>\n      <td>0.007386</td>\n      <td>5.928646</td>\n      <td>0.004074</td>\n      <td>0.000766</td>\n      <td>SAITS</td>\n      <td>MNAR</td>\n      <td>0.3</td>\n      <td>HiRID</td>\n    </tr>\n    <tr>\n      <th>19</th>\n      <td>249.649914</td>\n      <td>0.065229</td>\n      <td>0.007414</td>\n      <td>3.183434</td>\n      <td>0.000359</td>\n      <td>0.000057</td>\n      <td>Attention</td>\n      <td>MCAR</td>\n      <td>0.3</td>\n      <td>eICU</td>\n    </tr>\n    <tr>\n      <th>20</th>\n      <td>251.506710</td>\n      <td>0.066150</td>\n      <td>0.007513</td>\n      <td>4.370672</td>\n      <td>0.000685</td>\n      <td>0.000100</td>\n      <td>SAITS</td>\n      <td>MCAR</td>\n      <td>0.3</td>\n      <td>eICU</td>\n    </tr>\n    <tr>\n      <th>21</th>\n      <td>251.506710</td>\n      <td>0.066150</td>\n      <td>0.007513</td>\n      <td>4.370672</td>\n      <td>0.000685</td>\n      <td>0.000100</td>\n      <td>SAITS</td>\n      <td>MCAR</td>\n      <td>0.3</td>\n      <td>eICU</td>\n    </tr>\n    <tr>\n      <th>22</th>\n      <td>9.879091</td>\n      <td>0.066682</td>\n      <td>0.008143</td>\n      <td>0.202276</td>\n      <td>0.001034</td>\n      <td>0.000128</td>\n      <td>GRU-D</td>\n      <td>MCAR</td>\n      <td>0.3</td>\n      <td>NaN</td>\n    </tr>\n    <tr>\n      <th>23</th>\n      <td>2.975227</td>\n      <td>0.068900</td>\n      <td>0.007857</td>\n      <td>0.365535</td>\n      <td>0.001092</td>\n      <td>0.000169</td>\n      <td>CSDI</td>\n      <td>MCAR</td>\n      <td>0.3</td>\n      <td>eICU</td>\n    </tr>\n    <tr>\n      <th>24</th>\n      <td>2.763766</td>\n      <td>0.069073</td>\n      <td>0.007952</td>\n      <td>0.623562</td>\n      <td>0.010126</td>\n      <td>0.001532</td>\n      <td>CSDI</td>\n      <td>MCAR</td>\n      <td>0.3</td>\n      <td>HiRID</td>\n    </tr>\n    <tr>\n      <th>25</th>\n      <td>270.067563</td>\n      <td>0.070449</td>\n      <td>0.008327</td>\n      <td>13.898127</td>\n      <td>0.003378</td>\n      <td>0.000509</td>\n      <td>Attention</td>\n      <td>MNAR</td>\n      <td>0.3</td>\n      <td>eICU</td>\n    </tr>\n    <tr>\n      <th>26</th>\n      <td>272.657762</td>\n      <td>0.071541</td>\n      <td>0.008391</td>\n      <td>14.776616</td>\n      <td>0.003715</td>\n      <td>0.000561</td>\n      <td>SAITS</td>\n      <td>MNAR</td>\n      <td>0.3</td>\n      <td>eICU</td>\n    </tr>\n    <tr>\n      <th>27</th>\n      <td>2.927526</td>\n      <td>0.072087</td>\n      <td>0.008311</td>\n      <td>0.175495</td>\n      <td>0.002776</td>\n      <td>0.000430</td>\n      <td>CSDI</td>\n      <td>MNAR</td>\n      <td>0.3</td>\n      <td>eICU</td>\n    </tr>\n    <tr>\n      <th>28</th>\n      <td>71.212785</td>\n      <td>0.072965</td>\n      <td>0.008935</td>\n      <td>6.837871</td>\n      <td>0.005698</td>\n      <td>0.001028</td>\n      <td>BRITS</td>\n      <td>MAR</td>\n      <td>0.3</td>\n      <td>HiRID</td>\n    </tr>\n    <tr>\n      <th>29</th>\n      <td>5.481176</td>\n      <td>0.075085</td>\n      <td>0.010135</td>\n      <td>0.132109</td>\n      <td>0.001647</td>\n      <td>0.000222</td>\n      <td>GRU-D</td>\n      <td>MCAR</td>\n      <td>0.3</td>\n      <td>NaN</td>\n    </tr>\n    <tr>\n      <th>30</th>\n      <td>3.487655</td>\n      <td>0.075433</td>\n      <td>0.009048</td>\n      <td>1.680854</td>\n      <td>0.011943</td>\n      <td>0.002137</td>\n      <td>CSDI</td>\n      <td>MNAR</td>\n      <td>0.3</td>\n      <td>HiRID</td>\n    </tr>\n    <tr>\n      <th>31</th>\n      <td>174.390997</td>\n      <td>0.078248</td>\n      <td>0.009960</td>\n      <td>13.662086</td>\n      <td>0.007275</td>\n      <td>0.001272</td>\n      <td>Attention</td>\n      <td>MAR</td>\n      <td>0.3</td>\n      <td>MIMIC-IV</td>\n    </tr>\n    <tr>\n      <th>32</th>\n      <td>168.034790</td>\n      <td>0.078583</td>\n      <td>0.010002</td>\n      <td>15.808286</td>\n      <td>0.007419</td>\n      <td>0.001187</td>\n      <td>SAITS</td>\n      <td>MAR</td>\n      <td>0.3</td>\n      <td>MIMIC-IV</td>\n    </tr>\n    <tr>\n      <th>33</th>\n      <td>73.348716</td>\n      <td>0.079973</td>\n      <td>0.009529</td>\n      <td>1.869234</td>\n      <td>0.001395</td>\n      <td>0.000287</td>\n      <td>BRITS</td>\n      <td>MCAR</td>\n      <td>0.3</td>\n      <td>HiRID</td>\n    </tr>\n    <tr>\n      <th>34</th>\n      <td>3.538220</td>\n      <td>0.082890</td>\n      <td>0.010182</td>\n      <td>0.970329</td>\n      <td>0.019408</td>\n      <td>0.002994</td>\n      <td>CSDI</td>\n      <td>MAR</td>\n      <td>0.3</td>\n      <td>HiRID</td>\n    </tr>\n    <tr>\n      <th>35</th>\n      <td>2.908282</td>\n      <td>0.086482</td>\n      <td>0.010672</td>\n      <td>0.078179</td>\n      <td>0.001788</td>\n      <td>0.000299</td>\n      <td>M4IP</td>\n      <td>MCAR</td>\n      <td>0.3</td>\n      <td>HiRID</td>\n    </tr>\n    <tr>\n      <th>36</th>\n      <td>352.301819</td>\n      <td>0.087718</td>\n      <td>0.012236</td>\n      <td>2.611350</td>\n      <td>0.000406</td>\n      <td>0.000091</td>\n      <td>SAITS</td>\n      <td>MCAR</td>\n      <td>0.3</td>\n      <td>MIMIC-IV</td>\n    </tr>\n    <tr>\n      <th>37</th>\n      <td>79.624432</td>\n      <td>0.087826</td>\n      <td>0.010955</td>\n      <td>2.270317</td>\n      <td>0.001968</td>\n      <td>0.000351</td>\n      <td>Attention</td>\n      <td>BO</td>\n      <td>0.3</td>\n      <td>HiRID</td>\n    </tr>\n    <tr>\n      <th>38</th>\n      <td>2.983733</td>\n      <td>0.088544</td>\n      <td>0.011039</td>\n      <td>0.062123</td>\n      <td>0.002156</td>\n      <td>0.000351</td>\n      <td>M4IP</td>\n      <td>BO</td>\n      <td>0.3</td>\n      <td>HiRID</td>\n    </tr>\n    <tr>\n      <th>39</th>\n      <td>80.682431</td>\n      <td>0.089218</td>\n      <td>0.011094</td>\n      <td>5.366456</td>\n      <td>0.004851</td>\n      <td>0.000885</td>\n      <td>BRITS</td>\n      <td>MNAR</td>\n      <td>0.3</td>\n      <td>HiRID</td>\n    </tr>\n    <tr>\n      <th>40</th>\n      <td>180.711071</td>\n      <td>0.092951</td>\n      <td>0.011687</td>\n      <td>2.105670</td>\n      <td>0.000938</td>\n      <td>0.000135</td>\n      <td>SAITS</td>\n      <td>MCAR</td>\n      <td>0.3</td>\n      <td>MIMIC-IV</td>\n    </tr>\n    <tr>\n      <th>41</th>\n      <td>181.279941</td>\n      <td>0.093009</td>\n      <td>0.011669</td>\n      <td>2.363377</td>\n      <td>0.001001</td>\n      <td>0.000146</td>\n      <td>SAITS</td>\n      <td>MCAR</td>\n      <td>0.3</td>\n      <td>MIMIC-IV</td>\n    </tr>\n    <tr>\n      <th>42</th>\n      <td>188.904183</td>\n      <td>0.093207</td>\n      <td>0.011704</td>\n      <td>2.557365</td>\n      <td>0.000668</td>\n      <td>0.000115</td>\n      <td>Attention</td>\n      <td>MCAR</td>\n      <td>0.3</td>\n      <td>MIMIC-IV</td>\n    </tr>\n    <tr>\n      <th>43</th>\n      <td>82.889135</td>\n      <td>0.093346</td>\n      <td>0.011855</td>\n      <td>3.389002</td>\n      <td>0.004869</td>\n      <td>0.000872</td>\n      <td>SAITS</td>\n      <td>BO</td>\n      <td>0.3</td>\n      <td>HiRID</td>\n    </tr>\n    <tr>\n      <th>44</th>\n      <td>287.359756</td>\n      <td>0.094571</td>\n      <td>0.011925</td>\n      <td>3.198924</td>\n      <td>0.001010</td>\n      <td>0.000208</td>\n      <td>Attention</td>\n      <td>MCAR</td>\n      <td>0.3</td>\n      <td>MIMIC-IV</td>\n    </tr>\n    <tr>\n      <th>45</th>\n      <td>3.320392</td>\n      <td>0.095714</td>\n      <td>0.012239</td>\n      <td>0.015758</td>\n      <td>0.000412</td>\n      <td>0.000078</td>\n      <td>M4IP</td>\n      <td>MCAR</td>\n      <td>0.3</td>\n      <td>eICU</td>\n    </tr>\n    <tr>\n      <th>46</th>\n      <td>325.965957</td>\n      <td>0.096091</td>\n      <td>0.012409</td>\n      <td>4.219375</td>\n      <td>0.001086</td>\n      <td>0.000181</td>\n      <td>Attention</td>\n      <td>BO</td>\n      <td>0.3</td>\n      <td>eICU</td>\n    </tr>\n    <tr>\n      <th>47</th>\n      <td>3.217139</td>\n      <td>0.096598</td>\n      <td>0.012547</td>\n      <td>0.197698</td>\n      <td>0.005619</td>\n      <td>0.001237</td>\n      <td>M4IP</td>\n      <td>MNAR</td>\n      <td>0.3</td>\n      <td>HiRID</td>\n    </tr>\n    <tr>\n      <th>48</th>\n      <td>3.629522</td>\n      <td>0.097322</td>\n      <td>0.012605</td>\n      <td>0.436236</td>\n      <td>0.001262</td>\n      <td>0.000269</td>\n      <td>CSDI</td>\n      <td>BO</td>\n      <td>0.3</td>\n      <td>eICU</td>\n    </tr>\n    <tr>\n      <th>49</th>\n      <td>3.371551</td>\n      <td>0.097392</td>\n      <td>0.012553</td>\n      <td>0.018932</td>\n      <td>0.000506</td>\n      <td>0.000103</td>\n      <td>M4IP</td>\n      <td>BO</td>\n      <td>0.3</td>\n      <td>eICU</td>\n    </tr>\n  </tbody>\n</table>\n</div>"
     },
     "execution_count": 66,
     "metadata": {},
     "output_type": "execute_result"
    }
   ],
   "source": [
    "df.head(50)"
   ],
   "metadata": {
    "collapsed": false
   }
  },
  {
   "cell_type": "code",
   "execution_count": 157,
   "outputs": [],
   "source": [
    "mnar = df.loc[df[\"ImputationDataset.mask_method\"]==\"MNAR\"]\n",
    "# mnar = mnar.loc[mnar[\"ImputationDataset.mask_proportion\"]==0.5]\n",
    "# mnar = mnar.loc[mnar[\"model\"] not in[\"GAIN\", \"SSSDS4\"]]"
   ],
   "metadata": {
    "collapsed": false
   }
  },
  {
   "cell_type": "code",
   "execution_count": 30,
   "outputs": [],
   "source": [],
   "metadata": {
    "collapsed": false
   }
  },
  {
   "cell_type": "code",
   "execution_count": 252,
   "outputs": [
    {
     "name": "stderr",
     "output_type": "stream",
     "text": [
      "C:\\Users\\Robin\\AppData\\Local\\Temp\\ipykernel_28648\\3397736999.py:1: FutureWarning: The default value of numeric_only in DataFrameGroupBy.mean is deprecated. In a future version, numeric_only will default to False. Either specify numeric_only or select only columns which should be valid for the function.\n",
      "  mnar_mean = mnar.groupby(\"model\").mean()\n"
     ]
    }
   ],
   "source": [
    "mnar_mean = mnar.groupby(\"model\").mean()\n",
    "mnar_mean = mnar_mean.reset_index()"
   ],
   "metadata": {
    "collapsed": false
   }
  },
  {
   "cell_type": "code",
   "execution_count": 253,
   "outputs": [
    {
     "ename": "ValueError",
     "evalue": "x must be a label or position",
     "output_type": "error",
     "traceback": [
      "\u001B[1;31m---------------------------------------------------------------------------\u001B[0m",
      "\u001B[1;31mValueError\u001B[0m                                Traceback (most recent call last)",
      "Cell \u001B[1;32mIn[253], line 1\u001B[0m\n\u001B[1;32m----> 1\u001B[0m \u001B[43mmnar_mean\u001B[49m\u001B[38;5;241;43m.\u001B[39;49m\u001B[43mplot\u001B[49m\u001B[38;5;241;43m.\u001B[39;49m\u001B[43mbar\u001B[49m\u001B[43m(\u001B[49m\u001B[43my\u001B[49m\u001B[38;5;241;43m=\u001B[39;49m\u001B[38;5;124;43m\"\u001B[39;49m\u001B[38;5;124;43mavg.mae\u001B[39;49m\u001B[38;5;124;43m\"\u001B[39;49m\u001B[43m \u001B[49m\u001B[43m,\u001B[49m\u001B[43mx\u001B[49m\u001B[38;5;241;43m=\u001B[39;49m\u001B[43m[\u001B[49m\u001B[38;5;124;43m\"\u001B[39;49m\u001B[38;5;124;43mmodel\u001B[39;49m\u001B[38;5;124;43m\"\u001B[39;49m\u001B[43m,\u001B[49m\u001B[38;5;124;43m\"\u001B[39;49m\u001B[38;5;124;43mImputationDataset.mask_proportion\u001B[39;49m\u001B[38;5;124;43m\"\u001B[39;49m\u001B[43m]\u001B[49m\u001B[43m,\u001B[49m\u001B[43m \u001B[49m\u001B[43myerr\u001B[49m\u001B[38;5;241;43m=\u001B[39;49m\u001B[38;5;124;43m\"\u001B[39;49m\u001B[38;5;124;43mstd.mae\u001B[39;49m\u001B[38;5;124;43m\"\u001B[39;49m\u001B[43m)\u001B[49m\n",
      "File \u001B[1;32m~\\miniconda\\envs\\yaib_15\\lib\\site-packages\\pandas\\plotting\\_core.py:1159\u001B[0m, in \u001B[0;36mPlotAccessor.bar\u001B[1;34m(self, x, y, **kwargs)\u001B[0m\n\u001B[0;32m   1071\u001B[0m \u001B[38;5;129m@Appender\u001B[39m(\n\u001B[0;32m   1072\u001B[0m \u001B[38;5;250m    \u001B[39m\u001B[38;5;124;03m\"\"\"\u001B[39;00m\n\u001B[0;32m   1073\u001B[0m \u001B[38;5;124;03m    See Also\u001B[39;00m\n\u001B[1;32m   (...)\u001B[0m\n\u001B[0;32m   1148\u001B[0m \u001B[38;5;129m@Appender\u001B[39m(_bar_or_line_doc)\n\u001B[0;32m   1149\u001B[0m \u001B[38;5;28;01mdef\u001B[39;00m \u001B[38;5;21mbar\u001B[39m(\u001B[38;5;28mself\u001B[39m, x\u001B[38;5;241m=\u001B[39m\u001B[38;5;28;01mNone\u001B[39;00m, y\u001B[38;5;241m=\u001B[39m\u001B[38;5;28;01mNone\u001B[39;00m, \u001B[38;5;241m*\u001B[39m\u001B[38;5;241m*\u001B[39mkwargs) \u001B[38;5;241m-\u001B[39m\u001B[38;5;241m>\u001B[39m PlotAccessor:\n\u001B[0;32m   1150\u001B[0m \u001B[38;5;250m    \u001B[39m\u001B[38;5;124;03m\"\"\"\u001B[39;00m\n\u001B[0;32m   1151\u001B[0m \u001B[38;5;124;03m    Vertical bar plot.\u001B[39;00m\n\u001B[0;32m   1152\u001B[0m \n\u001B[1;32m   (...)\u001B[0m\n\u001B[0;32m   1157\u001B[0m \u001B[38;5;124;03m    other axis represents a measured value.\u001B[39;00m\n\u001B[0;32m   1158\u001B[0m \u001B[38;5;124;03m    \"\"\"\u001B[39;00m\n\u001B[1;32m-> 1159\u001B[0m     \u001B[38;5;28;01mreturn\u001B[39;00m \u001B[38;5;28mself\u001B[39m(kind\u001B[38;5;241m=\u001B[39m\u001B[38;5;124m\"\u001B[39m\u001B[38;5;124mbar\u001B[39m\u001B[38;5;124m\"\u001B[39m, x\u001B[38;5;241m=\u001B[39mx, y\u001B[38;5;241m=\u001B[39my, \u001B[38;5;241m*\u001B[39m\u001B[38;5;241m*\u001B[39mkwargs)\n",
      "File \u001B[1;32m~\\miniconda\\envs\\yaib_15\\lib\\site-packages\\pandas\\plotting\\_core.py:966\u001B[0m, in \u001B[0;36mPlotAccessor.__call__\u001B[1;34m(self, *args, **kwargs)\u001B[0m\n\u001B[0;32m    964\u001B[0m         x \u001B[38;5;241m=\u001B[39m data_cols[x]\n\u001B[0;32m    965\u001B[0m     \u001B[38;5;28;01melif\u001B[39;00m \u001B[38;5;129;01mnot\u001B[39;00m \u001B[38;5;28misinstance\u001B[39m(data[x], ABCSeries):\n\u001B[1;32m--> 966\u001B[0m         \u001B[38;5;28;01mraise\u001B[39;00m \u001B[38;5;167;01mValueError\u001B[39;00m(\u001B[38;5;124m\"\u001B[39m\u001B[38;5;124mx must be a label or position\u001B[39m\u001B[38;5;124m\"\u001B[39m)\n\u001B[0;32m    967\u001B[0m     data \u001B[38;5;241m=\u001B[39m data\u001B[38;5;241m.\u001B[39mset_index(x)\n\u001B[0;32m    968\u001B[0m \u001B[38;5;28;01mif\u001B[39;00m y \u001B[38;5;129;01mis\u001B[39;00m \u001B[38;5;129;01mnot\u001B[39;00m \u001B[38;5;28;01mNone\u001B[39;00m:\n\u001B[0;32m    969\u001B[0m     \u001B[38;5;66;03m# check if we have y as int or list of ints\u001B[39;00m\n",
      "\u001B[1;31mValueError\u001B[0m: x must be a label or position"
     ]
    }
   ],
   "source": [
    "mnar_mean.plot.bar(y=\"avg.mae\" ,x=[\"model\",\"ImputationDataset.mask_proportion\"], yerr=\"std.mae\")"
   ],
   "metadata": {
    "collapsed": false
   }
  },
  {
   "cell_type": "code",
   "execution_count": 116,
   "outputs": [
    {
     "data": {
      "text/plain": "<Axes: ylabel='model'>"
     },
     "execution_count": 116,
     "metadata": {},
     "output_type": "execute_result"
    },
    {
     "data": {
      "text/plain": "<Figure size 640x480 with 1 Axes>",
      "image/png": "[encoded data removed]"
     },
     "metadata": {},
     "output_type": "display_data"
    }
   ],
   "source": [
    "mnar_mean.plot.barh(y=\"avg.rmse\")"
   ],
   "metadata": {
    "collapsed": false
   }
  },
  {
   "cell_type": "code",
   "execution_count": 138,
   "outputs": [
    {
     "data": {
      "text/plain": "<Figure size 862.986x600 with 1 Axes>",
      "image/png": "[encoded data removed]"
     },
     "metadata": {},
     "output_type": "display_data"
    }
   ],
   "source": [
    "g = sns.catplot(x=\"avg.mae\",y=\"model\", hue=\"ImputationDataset.mask_proportion\", data=mnar,\n",
    "                height=6, kind=\"bar\", palette=\"muted\", orient=\"h\")\n",
    "# extract the matplotlib axes_subplot objects from the FacetGrid\n",
    "# for ax in g.axes.ravel():\n",
    "#     # iterate through the containers (bars)\n",
    "#     for c in ax.containers:\n",
    "#         # customize labels to not include values below a specific number\n",
    "#         labels = [f' {w:0.2f}' if (w := v.get_width()) > 0 else '' for v in c]\n",
    "#         # add the labels\n",
    "#         ax.bar_label(c, labels=labels,fontsize=7,label_type=\"center\")"
   ],
   "metadata": {
    "collapsed": false
   }
  },
  {
   "cell_type": "code",
   "execution_count": 159,
   "outputs": [
    {
     "data": {
      "text/plain": "0               NaN\n1               NaN\n2               NaN\n3               NaN\n4               NaN\n           ...     \n683    ../data/miiv\n684    ../data/eicu\n685    ../data/miiv\n687             NaN\n688    ../data/miiv\nName: data_dir, Length: 606, dtype: object"
     },
     "execution_count": 159,
     "metadata": {},
     "output_type": "execute_result"
    }
   ],
   "source": [
    "df[\"data_dir\"]"
   ],
   "metadata": {
    "collapsed": false
   }
  },
  {
   "cell_type": "code",
   "execution_count": 189,
   "outputs": [
    {
     "name": "stderr",
     "output_type": "stream",
     "text": [
      "C:\\Users\\Robin\\AppData\\Local\\Temp\\ipykernel_28648\\2816346500.py:2: FutureWarning: The default value of numeric_only in DataFrameGroupBy.mean is deprecated. In a future version, numeric_only will default to False. Either specify numeric_only or select only columns which should be valid for the function.\n",
      "  dataset = dataset.groupby([\"model\", \"ImputationDataset.mask_method\"]).mean()\n"
     ]
    }
   ],
   "source": [
    "dataset = df.loc[df[\"data_dir\"]==\"../data/eicu\"]\n",
    "dataset = dataset.groupby([\"model\", \"ImputationDataset.mask_method\"]).mean()\n",
    "dataset = dataset.reset_index()"
   ],
   "metadata": {
    "collapsed": false
   }
  },
  {
   "cell_type": "code",
   "execution_count": 187,
   "outputs": [
    {
     "data": {
      "text/plain": "           model    avg.rmse   avg.mae   avg.jsd   std.rmse   std.mae  \\\n0      Attention  412.485547  0.157449  0.021401  23.361917  0.010071   \n1          BRITS  625.791515  0.274472  0.057040  24.453090  0.010975   \n2           CSDI    5.119744  0.172363  0.022464   1.357339  0.022329   \n3      Diffusion    8.387024  0.373340  0.128803   0.093898  0.002988   \n4          GRU-D    5.644942  0.222438  0.040663   0.166370  0.006694   \n5           M4IP    4.851137  0.188042  0.030471   0.177958  0.006579   \n6           MICE  750.667061  0.338965  0.112531  17.004786  0.005791   \n7            MLP    7.317954  0.319894  0.117041   0.095064  0.004992   \n8           Mean  801.158848  0.373410  0.177786  13.939696  0.005082   \n9         Median  809.542065  0.369435  0.087705  15.650595  0.005551   \n10    MissForest  820.502493  0.377070  0.066618  41.385127  0.021188   \n11  MostFrequent  910.732723  0.379524  0.045558  20.730956  0.007980   \n12            NP    5.966785  0.241660  0.040747   0.263407  0.011725   \n13         SAITS  414.965578  0.158434  0.022157  25.644692  0.011462   \n14          Zero  797.058172  0.371346  0.212429  11.058037  0.003088   \n\n     std.jsd  Tags       Runtime  Attention.d_inner  ...  trainer/global_step  \\\n0   0.002353   NaN  60728.583333                NaN  ...                  NaN   \n1   0.003062   NaN  39538.333333                NaN  ...                  NaN   \n2   0.004112   NaN  65981.750000                NaN  ...         13380.666667   \n3   0.003713   NaN   9106.333333                NaN  ...          4588.333333   \n4   0.003580   NaN  11175.750000                NaN  ...                  NaN   \n5   0.003519   NaN  21583.083333                NaN  ...                  NaN   \n6   0.003992   NaN   3636.500000                NaN  ...                  NaN   \n7   0.004906   NaN   2407.166667                NaN  ...                  NaN   \n8   0.010269   NaN   1772.500000                NaN  ...                  NaN   \n9   0.006691   NaN   2110.083333                NaN  ...                  NaN   \n10  0.009501   NaN   9149.250000                NaN  ...                  NaN   \n11  0.003986   NaN   2153.785714                NaN  ...                  NaN   \n12  0.006363   NaN  76933.357143                NaN  ...                  NaN   \n13  0.002328   NaN  95731.428571                NaN  ...                  NaN   \n14  0.001748   NaN   1792.333333                NaN  ...                  NaN   \n\n    val/AUC  val/AUC/1111  val/PR  val/PR/1111   val/jsd  val/loss  \\\n0       NaN           NaN     NaN          NaN       NaN       NaN   \n1       NaN           NaN     NaN          NaN       NaN       NaN   \n2       NaN           NaN     NaN          NaN       NaN  0.055036   \n3       NaN           NaN     NaN          NaN  0.127476  0.482623   \n4       NaN           NaN     NaN          NaN       NaN       NaN   \n5       NaN           NaN     NaN          NaN       NaN       NaN   \n6       NaN           NaN     NaN          NaN       NaN       NaN   \n7       NaN           NaN     NaN          NaN       NaN       NaN   \n8       NaN           NaN     NaN          NaN       NaN       NaN   \n9       NaN           NaN     NaN          NaN       NaN       NaN   \n10      NaN           NaN     NaN          NaN       NaN       NaN   \n11      NaN           NaN     NaN          NaN       NaN       NaN   \n12      NaN           NaN     NaN          NaN       NaN       NaN   \n13      NaN           NaN     NaN          NaN       NaN       NaN   \n14      NaN           NaN     NaN          NaN       NaN       NaN   \n\n    val/loss/1111   val/mae  val/rmse  \n0             NaN       NaN       NaN  \n1             NaN       NaN       NaN  \n2             NaN       NaN       NaN  \n3             NaN  0.373657  8.382364  \n4             NaN       NaN       NaN  \n5             NaN       NaN       NaN  \n6             NaN       NaN       NaN  \n7             NaN       NaN       NaN  \n8             NaN       NaN       NaN  \n9             NaN       NaN       NaN  \n10            NaN       NaN       NaN  \n11            NaN       NaN       NaN  \n12            NaN       NaN       NaN  \n13            NaN       NaN       NaN  \n14            NaN       NaN       NaN  \n\n[15 rows x 145 columns]",
      "text/html": "<div>\n<style scoped>\n    .dataframe tbody tr th:only-of-type {\n        vertical-align: middle;\n    }\n\n    .dataframe tbody tr th {\n        vertical-align: top;\n    }\n\n    .dataframe thead th {\n        text-align: right;\n    }\n</style>\n<table border=\"1\" class=\"dataframe\">\n  <thead>\n    <tr style=\"text-align: right;\">\n      <th></th>\n      <th>model</th>\n      <th>avg.rmse</th>\n      <th>avg.mae</th>\n      <th>avg.jsd</th>\n      <th>std.rmse</th>\n      <th>std.mae</th>\n      <th>std.jsd</th>\n      <th>Tags</th>\n      <th>Runtime</th>\n      <th>Attention.d_inner</th>\n      <th>...</th>\n      <th>trainer/global_step</th>\n      <th>val/AUC</th>\n      <th>val/AUC/1111</th>\n      <th>val/PR</th>\n      <th>val/PR/1111</th>\n      <th>val/jsd</th>\n      <th>val/loss</th>\n      <th>val/loss/1111</th>\n      <th>val/mae</th>\n      <th>val/rmse</th>\n    </tr>\n  </thead>\n  <tbody>\n    <tr>\n      <th>0</th>\n      <td>Attention</td>\n      <td>412.485547</td>\n      <td>0.157449</td>\n      <td>0.021401</td>\n      <td>23.361917</td>\n      <td>0.010071</td>\n      <td>0.002353</td>\n      <td>NaN</td>\n      <td>60728.583333</td>\n      <td>NaN</td>\n      <td>...</td>\n      <td>NaN</td>\n      <td>NaN</td>\n      <td>NaN</td>\n      <td>NaN</td>\n      <td>NaN</td>\n      <td>NaN</td>\n      <td>NaN</td>\n      <td>NaN</td>\n      <td>NaN</td>\n      <td>NaN</td>\n    </tr>\n    <tr>\n      <th>1</th>\n      <td>BRITS</td>\n      <td>625.791515</td>\n      <td>0.274472</td>\n      <td>0.057040</td>\n      <td>24.453090</td>\n      <td>0.010975</td>\n      <td>0.003062</td>\n      <td>NaN</td>\n      <td>39538.333333</td>\n      <td>NaN</td>\n      <td>...</td>\n      <td>NaN</td>\n      <td>NaN</td>\n      <td>NaN</td>\n      <td>NaN</td>\n      <td>NaN</td>\n      <td>NaN</td>\n      <td>NaN</td>\n      <td>NaN</td>\n      <td>NaN</td>\n      <td>NaN</td>\n    </tr>\n    <tr>\n      <th>2</th>\n      <td>CSDI</td>\n      <td>5.119744</td>\n      <td>0.172363</td>\n      <td>0.022464</td>\n      <td>1.357339</td>\n      <td>0.022329</td>\n      <td>0.004112</td>\n      <td>NaN</td>\n      <td>65981.750000</td>\n      <td>NaN</td>\n      <td>...</td>\n      <td>13380.666667</td>\n      <td>NaN</td>\n      <td>NaN</td>\n      <td>NaN</td>\n      <td>NaN</td>\n      <td>NaN</td>\n      <td>0.055036</td>\n      <td>NaN</td>\n      <td>NaN</td>\n      <td>NaN</td>\n    </tr>\n    <tr>\n      <th>3</th>\n      <td>Diffusion</td>\n      <td>8.387024</td>\n      <td>0.373340</td>\n      <td>0.128803</td>\n      <td>0.093898</td>\n      <td>0.002988</td>\n      <td>0.003713</td>\n      <td>NaN</td>\n      <td>9106.333333</td>\n      <td>NaN</td>\n      <td>...</td>\n      <td>4588.333333</td>\n      <td>NaN</td>\n      <td>NaN</td>\n      <td>NaN</td>\n      <td>NaN</td>\n      <td>0.127476</td>\n      <td>0.482623</td>\n      <td>NaN</td>\n      <td>0.373657</td>\n      <td>8.382364</td>\n    </tr>\n    <tr>\n      <th>4</th>\n      <td>GRU-D</td>\n      <td>5.644942</td>\n      <td>0.222438</td>\n      <td>0.040663</td>\n      <td>0.166370</td>\n      <td>0.006694</td>\n      <td>0.003580</td>\n      <td>NaN</td>\n      <td>11175.750000</td>\n      <td>NaN</td>\n      <td>...</td>\n      <td>NaN</td>\n      <td>NaN</td>\n      <td>NaN</td>\n      <td>NaN</td>\n      <td>NaN</td>\n      <td>NaN</td>\n      <td>NaN</td>\n      <td>NaN</td>\n      <td>NaN</td>\n      <td>NaN</td>\n    </tr>\n    <tr>\n      <th>5</th>\n      <td>M4IP</td>\n      <td>4.851137</td>\n      <td>0.188042</td>\n      <td>0.030471</td>\n      <td>0.177958</td>\n      <td>0.006579</td>\n      <td>0.003519</td>\n      <td>NaN</td>\n      <td>21583.083333</td>\n      <td>NaN</td>\n      <td>...</td>\n      <td>NaN</td>\n      <td>NaN</td>\n      <td>NaN</td>\n      <td>NaN</td>\n      <td>NaN</td>\n      <td>NaN</td>\n      <td>NaN</td>\n      <td>NaN</td>\n      <td>NaN</td>\n      <td>NaN</td>\n    </tr>\n    <tr>\n      <th>6</th>\n      <td>MICE</td>\n      <td>750.667061</td>\n      <td>0.338965</td>\n      <td>0.112531</td>\n      <td>17.004786</td>\n      <td>0.005791</td>\n      <td>0.003992</td>\n      <td>NaN</td>\n      <td>3636.500000</td>\n      <td>NaN</td>\n      <td>...</td>\n      <td>NaN</td>\n      <td>NaN</td>\n      <td>NaN</td>\n      <td>NaN</td>\n      <td>NaN</td>\n      <td>NaN</td>\n      <td>NaN</td>\n      <td>NaN</td>\n      <td>NaN</td>\n      <td>NaN</td>\n    </tr>\n    <tr>\n      <th>7</th>\n      <td>MLP</td>\n      <td>7.317954</td>\n      <td>0.319894</td>\n      <td>0.117041</td>\n      <td>0.095064</td>\n      <td>0.004992</td>\n      <td>0.004906</td>\n      <td>NaN</td>\n      <td>2407.166667</td>\n      <td>NaN</td>\n      <td>...</td>\n      <td>NaN</td>\n      <td>NaN</td>\n      <td>NaN</td>\n      <td>NaN</td>\n      <td>NaN</td>\n      <td>NaN</td>\n      <td>NaN</td>\n      <td>NaN</td>\n      <td>NaN</td>\n      <td>NaN</td>\n    </tr>\n    <tr>\n      <th>8</th>\n      <td>Mean</td>\n      <td>801.158848</td>\n      <td>0.373410</td>\n      <td>0.177786</td>\n      <td>13.939696</td>\n      <td>0.005082</td>\n      <td>0.010269</td>\n      <td>NaN</td>\n      <td>1772.500000</td>\n      <td>NaN</td>\n      <td>...</td>\n      <td>NaN</td>\n      <td>NaN</td>\n      <td>NaN</td>\n      <td>NaN</td>\n      <td>NaN</td>\n      <td>NaN</td>\n      <td>NaN</td>\n      <td>NaN</td>\n      <td>NaN</td>\n      <td>NaN</td>\n    </tr>\n    <tr>\n      <th>9</th>\n      <td>Median</td>\n      <td>809.542065</td>\n      <td>0.369435</td>\n      <td>0.087705</td>\n      <td>15.650595</td>\n      <td>0.005551</td>\n      <td>0.006691</td>\n      <td>NaN</td>\n      <td>2110.083333</td>\n      <td>NaN</td>\n      <td>...</td>\n      <td>NaN</td>\n      <td>NaN</td>\n      <td>NaN</td>\n      <td>NaN</td>\n      <td>NaN</td>\n      <td>NaN</td>\n      <td>NaN</td>\n      <td>NaN</td>\n      <td>NaN</td>\n      <td>NaN</td>\n    </tr>\n    <tr>\n      <th>10</th>\n      <td>MissForest</td>\n      <td>820.502493</td>\n      <td>0.377070</td>\n      <td>0.066618</td>\n      <td>41.385127</td>\n      <td>0.021188</td>\n      <td>0.009501</td>\n      <td>NaN</td>\n      <td>9149.250000</td>\n      <td>NaN</td>\n      <td>...</td>\n      <td>NaN</td>\n      <td>NaN</td>\n      <td>NaN</td>\n      <td>NaN</td>\n      <td>NaN</td>\n      <td>NaN</td>\n      <td>NaN</td>\n      <td>NaN</td>\n      <td>NaN</td>\n      <td>NaN</td>\n    </tr>\n    <tr>\n      <th>11</th>\n      <td>MostFrequent</td>\n      <td>910.732723</td>\n      <td>0.379524</td>\n      <td>0.045558</td>\n      <td>20.730956</td>\n      <td>0.007980</td>\n      <td>0.003986</td>\n      <td>NaN</td>\n      <td>2153.785714</td>\n      <td>NaN</td>\n      <td>...</td>\n      <td>NaN</td>\n      <td>NaN</td>\n      <td>NaN</td>\n      <td>NaN</td>\n      <td>NaN</td>\n      <td>NaN</td>\n      <td>NaN</td>\n      <td>NaN</td>\n      <td>NaN</td>\n      <td>NaN</td>\n    </tr>\n    <tr>\n      <th>12</th>\n      <td>NP</td>\n      <td>5.966785</td>\n      <td>0.241660</td>\n      <td>0.040747</td>\n      <td>0.263407</td>\n      <td>0.011725</td>\n      <td>0.006363</td>\n      <td>NaN</td>\n      <td>76933.357143</td>\n      <td>NaN</td>\n      <td>...</td>\n      <td>NaN</td>\n      <td>NaN</td>\n      <td>NaN</td>\n      <td>NaN</td>\n      <td>NaN</td>\n      <td>NaN</td>\n      <td>NaN</td>\n      <td>NaN</td>\n      <td>NaN</td>\n      <td>NaN</td>\n    </tr>\n    <tr>\n      <th>13</th>\n      <td>SAITS</td>\n      <td>414.965578</td>\n      <td>0.158434</td>\n      <td>0.022157</td>\n      <td>25.644692</td>\n      <td>0.011462</td>\n      <td>0.002328</td>\n      <td>NaN</td>\n      <td>95731.428571</td>\n      <td>NaN</td>\n      <td>...</td>\n      <td>NaN</td>\n      <td>NaN</td>\n      <td>NaN</td>\n      <td>NaN</td>\n      <td>NaN</td>\n      <td>NaN</td>\n      <td>NaN</td>\n      <td>NaN</td>\n      <td>NaN</td>\n      <td>NaN</td>\n    </tr>\n    <tr>\n      <th>14</th>\n      <td>Zero</td>\n      <td>797.058172</td>\n      <td>0.371346</td>\n      <td>0.212429</td>\n      <td>11.058037</td>\n      <td>0.003088</td>\n      <td>0.001748</td>\n      <td>NaN</td>\n      <td>1792.333333</td>\n      <td>NaN</td>\n      <td>...</td>\n      <td>NaN</td>\n      <td>NaN</td>\n      <td>NaN</td>\n      <td>NaN</td>\n      <td>NaN</td>\n      <td>NaN</td>\n      <td>NaN</td>\n      <td>NaN</td>\n      <td>NaN</td>\n      <td>NaN</td>\n    </tr>\n  </tbody>\n</table>\n<p>15 rows × 145 columns</p>\n</div>"
     },
     "execution_count": 187,
     "metadata": {},
     "output_type": "execute_result"
    }
   ],
   "source": [
    "dataset[\"y_lower\"]"
   ],
   "metadata": {
    "collapsed": false
   }
  },
  {
   "cell_type": "code",
   "execution_count": 165,
   "outputs": [],
   "source": [
    "def legend_title_left(leg):\n",
    "    c = leg.get_children()[0]\n",
    "    title = c.get_children()[0]\n",
    "    hpack = c.get_children()[1]\n",
    "    c._children = [hpack]\n",
    "    hpack._children = [title] + hpack.get_children()"
   ],
   "metadata": {
    "collapsed": false
   }
  },
  {
   "cell_type": "code",
   "execution_count": 235,
   "outputs": [
    {
     "data": {
      "text/plain": "array([[0.4328177 , 0.67340988, 0.8207924 , 0.8261555 , 0.78945418,\n        0.14099314, 0.74204708, 0.28477038, 0.71412268, 0.83427892,\n        0.33436901, 0.19264212, 0.21389787, 0.45624949, 0.15538015],\n       [0.91128647, 0.85396677, 0.90222923, 0.41348097, 0.43417947,\n        0.89179075, 0.08920838, 0.72137177, 0.65595741, 0.82490173,\n        0.58468969, 0.56849561, 0.75906249, 0.81508966, 0.41450947],\n       [0.65711218, 0.24162942, 0.72328101, 0.24353234, 0.87554287,\n        0.4468355 , 0.71088759, 0.7615182 , 0.06139767, 0.2440234 ,\n        0.53501723, 0.69577787, 0.04636405, 0.24809354, 0.89512523]])"
     },
     "execution_count": 235,
     "metadata": {},
     "output_type": "execute_result"
    }
   ],
   "source": [
    "np.random.rand(3,15)"
   ],
   "metadata": {
    "collapsed": false
   }
  },
  {
   "cell_type": "code",
   "execution_count": 256,
   "outputs": [
    {
     "data": {
      "text/plain": "                   Name     avg.rmse   avg.mae   avg.jsd    std.rmse  \\\n17     lively-sweep-132    66.437651  0.063100  0.007290    5.141578   \n18       wise-sweep-121    67.275995  0.063938  0.007386    5.928646   \n25   twilight-sweep-203   270.067563  0.070449  0.008327   13.898127   \n26      peach-sweep-126   272.657762  0.071541  0.008391   14.776616   \n27                 CSDI     2.927526  0.072087  0.008311    0.175495   \n..                  ...          ...       ...       ...         ...   \n630    worthy-sweep-191   318.567543  0.614010  0.071593   13.625457   \n633     sweet-sweep-169   648.121213  0.615585  0.073266   16.403037   \n641   scarlet-sweep-185  1248.551050  0.683073  0.088467  105.320695   \n644      wise-sweep-174   753.951279  0.729535  0.088994   98.854933   \n645     eager-sweep-196   381.559805  0.733414  0.089906   93.763601   \n\n      std.mae   std.jsd         model     State Notes  ...  \\\n17   0.004811  0.000777     Attention  finished     -  ...   \n18   0.004074  0.000766         SAITS  finished     -  ...   \n25   0.003378  0.000509     Attention  finished     -  ...   \n26   0.003715  0.000561         SAITS  finished     -  ...   \n27   0.002776  0.000430          CSDI  finished     -  ...   \n..        ...       ...           ...       ...   ...  ...   \n630  0.028543  0.014179  MostFrequent  finished     -  ...   \n633  0.015871  0.007696  MostFrequent  finished     -  ...   \n641  0.064523  0.008649    MissForest  finished     -  ...   \n644  0.100105  0.014138    MissForest  finished     -  ...   \n645  0.161241  0.017023    MissForest  finished     -  ...   \n\n    trainer/global_step  val/AUC val/AUC/1111  val/PR val/PR/1111  val/jsd  \\\n17                  NaN      NaN          NaN     NaN         NaN      NaN   \n18                  NaN      NaN          NaN     NaN         NaN      NaN   \n25                  NaN      NaN          NaN     NaN         NaN      NaN   \n26                  NaN      NaN          NaN     NaN         NaN      NaN   \n27               7328.0      NaN          NaN     NaN         NaN      NaN   \n..                  ...      ...          ...     ...         ...      ...   \n630                 NaN      NaN          NaN     NaN         NaN      NaN   \n633                 NaN      NaN          NaN     NaN         NaN      NaN   \n641                 NaN      NaN          NaN     NaN         NaN      NaN   \n644                 NaN      NaN          NaN     NaN         NaN      NaN   \n645                 NaN      NaN          NaN     NaN         NaN      NaN   \n\n     val/loss  val/loss/1111  val/mae  val/rmse  \n17        NaN            NaN      NaN       NaN  \n18        NaN            NaN      NaN       NaN  \n25        NaN            NaN      NaN       NaN  \n26        NaN            NaN      NaN       NaN  \n27   0.049502            NaN      NaN       NaN  \n..        ...            ...      ...       ...  \n630       NaN            NaN      NaN       NaN  \n633       NaN            NaN      NaN       NaN  \n641       NaN            NaN      NaN       NaN  \n644       NaN            NaN      NaN       NaN  \n645       NaN            NaN      NaN       NaN  \n\n[135 rows x 171 columns]",
      "text/html": "<div>\n<style scoped>\n    .dataframe tbody tr th:only-of-type {\n        vertical-align: middle;\n    }\n\n    .dataframe tbody tr th {\n        vertical-align: top;\n    }\n\n    .dataframe thead th {\n        text-align: right;\n    }\n</style>\n<table border=\"1\" class=\"dataframe\">\n  <thead>\n    <tr style=\"text-align: right;\">\n      <th></th>\n      <th>Name</th>\n      <th>avg.rmse</th>\n      <th>avg.mae</th>\n      <th>avg.jsd</th>\n      <th>std.rmse</th>\n      <th>std.mae</th>\n      <th>std.jsd</th>\n      <th>model</th>\n      <th>State</th>\n      <th>Notes</th>\n      <th>...</th>\n      <th>trainer/global_step</th>\n      <th>val/AUC</th>\n      <th>val/AUC/1111</th>\n      <th>val/PR</th>\n      <th>val/PR/1111</th>\n      <th>val/jsd</th>\n      <th>val/loss</th>\n      <th>val/loss/1111</th>\n      <th>val/mae</th>\n      <th>val/rmse</th>\n    </tr>\n  </thead>\n  <tbody>\n    <tr>\n      <th>17</th>\n      <td>lively-sweep-132</td>\n      <td>66.437651</td>\n      <td>0.063100</td>\n      <td>0.007290</td>\n      <td>5.141578</td>\n      <td>0.004811</td>\n      <td>0.000777</td>\n      <td>Attention</td>\n      <td>finished</td>\n      <td>-</td>\n      <td>...</td>\n      <td>NaN</td>\n      <td>NaN</td>\n      <td>NaN</td>\n      <td>NaN</td>\n      <td>NaN</td>\n      <td>NaN</td>\n      <td>NaN</td>\n      <td>NaN</td>\n      <td>NaN</td>\n      <td>NaN</td>\n    </tr>\n    <tr>\n      <th>18</th>\n      <td>wise-sweep-121</td>\n      <td>67.275995</td>\n      <td>0.063938</td>\n      <td>0.007386</td>\n      <td>5.928646</td>\n      <td>0.004074</td>\n      <td>0.000766</td>\n      <td>SAITS</td>\n      <td>finished</td>\n      <td>-</td>\n      <td>...</td>\n      <td>NaN</td>\n      <td>NaN</td>\n      <td>NaN</td>\n      <td>NaN</td>\n      <td>NaN</td>\n      <td>NaN</td>\n      <td>NaN</td>\n      <td>NaN</td>\n      <td>NaN</td>\n      <td>NaN</td>\n    </tr>\n    <tr>\n      <th>25</th>\n      <td>twilight-sweep-203</td>\n      <td>270.067563</td>\n      <td>0.070449</td>\n      <td>0.008327</td>\n      <td>13.898127</td>\n      <td>0.003378</td>\n      <td>0.000509</td>\n      <td>Attention</td>\n      <td>finished</td>\n      <td>-</td>\n      <td>...</td>\n      <td>NaN</td>\n      <td>NaN</td>\n      <td>NaN</td>\n      <td>NaN</td>\n      <td>NaN</td>\n      <td>NaN</td>\n      <td>NaN</td>\n      <td>NaN</td>\n      <td>NaN</td>\n      <td>NaN</td>\n    </tr>\n    <tr>\n      <th>26</th>\n      <td>peach-sweep-126</td>\n      <td>272.657762</td>\n      <td>0.071541</td>\n      <td>0.008391</td>\n      <td>14.776616</td>\n      <td>0.003715</td>\n      <td>0.000561</td>\n      <td>SAITS</td>\n      <td>finished</td>\n      <td>-</td>\n      <td>...</td>\n      <td>NaN</td>\n      <td>NaN</td>\n      <td>NaN</td>\n      <td>NaN</td>\n      <td>NaN</td>\n      <td>NaN</td>\n      <td>NaN</td>\n      <td>NaN</td>\n      <td>NaN</td>\n      <td>NaN</td>\n    </tr>\n    <tr>\n      <th>27</th>\n      <td>CSDI</td>\n      <td>2.927526</td>\n      <td>0.072087</td>\n      <td>0.008311</td>\n      <td>0.175495</td>\n      <td>0.002776</td>\n      <td>0.000430</td>\n      <td>CSDI</td>\n      <td>finished</td>\n      <td>-</td>\n      <td>...</td>\n      <td>7328.0</td>\n      <td>NaN</td>\n      <td>NaN</td>\n      <td>NaN</td>\n      <td>NaN</td>\n      <td>NaN</td>\n      <td>0.049502</td>\n      <td>NaN</td>\n      <td>NaN</td>\n      <td>NaN</td>\n    </tr>\n    <tr>\n      <th>...</th>\n      <td>...</td>\n      <td>...</td>\n      <td>...</td>\n      <td>...</td>\n      <td>...</td>\n      <td>...</td>\n      <td>...</td>\n      <td>...</td>\n      <td>...</td>\n      <td>...</td>\n      <td>...</td>\n      <td>...</td>\n      <td>...</td>\n      <td>...</td>\n      <td>...</td>\n      <td>...</td>\n      <td>...</td>\n      <td>...</td>\n      <td>...</td>\n      <td>...</td>\n      <td>...</td>\n    </tr>\n    <tr>\n      <th>630</th>\n      <td>worthy-sweep-191</td>\n      <td>318.567543</td>\n      <td>0.614010</td>\n      <td>0.071593</td>\n      <td>13.625457</td>\n      <td>0.028543</td>\n      <td>0.014179</td>\n      <td>MostFrequent</td>\n      <td>finished</td>\n      <td>-</td>\n      <td>...</td>\n      <td>NaN</td>\n      <td>NaN</td>\n      <td>NaN</td>\n      <td>NaN</td>\n      <td>NaN</td>\n      <td>NaN</td>\n      <td>NaN</td>\n      <td>NaN</td>\n      <td>NaN</td>\n      <td>NaN</td>\n    </tr>\n    <tr>\n      <th>633</th>\n      <td>sweet-sweep-169</td>\n      <td>648.121213</td>\n      <td>0.615585</td>\n      <td>0.073266</td>\n      <td>16.403037</td>\n      <td>0.015871</td>\n      <td>0.007696</td>\n      <td>MostFrequent</td>\n      <td>finished</td>\n      <td>-</td>\n      <td>...</td>\n      <td>NaN</td>\n      <td>NaN</td>\n      <td>NaN</td>\n      <td>NaN</td>\n      <td>NaN</td>\n      <td>NaN</td>\n      <td>NaN</td>\n      <td>NaN</td>\n      <td>NaN</td>\n      <td>NaN</td>\n    </tr>\n    <tr>\n      <th>641</th>\n      <td>scarlet-sweep-185</td>\n      <td>1248.551050</td>\n      <td>0.683073</td>\n      <td>0.088467</td>\n      <td>105.320695</td>\n      <td>0.064523</td>\n      <td>0.008649</td>\n      <td>MissForest</td>\n      <td>finished</td>\n      <td>-</td>\n      <td>...</td>\n      <td>NaN</td>\n      <td>NaN</td>\n      <td>NaN</td>\n      <td>NaN</td>\n      <td>NaN</td>\n      <td>NaN</td>\n      <td>NaN</td>\n      <td>NaN</td>\n      <td>NaN</td>\n      <td>NaN</td>\n    </tr>\n    <tr>\n      <th>644</th>\n      <td>wise-sweep-174</td>\n      <td>753.951279</td>\n      <td>0.729535</td>\n      <td>0.088994</td>\n      <td>98.854933</td>\n      <td>0.100105</td>\n      <td>0.014138</td>\n      <td>MissForest</td>\n      <td>finished</td>\n      <td>-</td>\n      <td>...</td>\n      <td>NaN</td>\n      <td>NaN</td>\n      <td>NaN</td>\n      <td>NaN</td>\n      <td>NaN</td>\n      <td>NaN</td>\n      <td>NaN</td>\n      <td>NaN</td>\n      <td>NaN</td>\n      <td>NaN</td>\n    </tr>\n    <tr>\n      <th>645</th>\n      <td>eager-sweep-196</td>\n      <td>381.559805</td>\n      <td>0.733414</td>\n      <td>0.089906</td>\n      <td>93.763601</td>\n      <td>0.161241</td>\n      <td>0.017023</td>\n      <td>MissForest</td>\n      <td>finished</td>\n      <td>-</td>\n      <td>...</td>\n      <td>NaN</td>\n      <td>NaN</td>\n      <td>NaN</td>\n      <td>NaN</td>\n      <td>NaN</td>\n      <td>NaN</td>\n      <td>NaN</td>\n      <td>NaN</td>\n      <td>NaN</td>\n      <td>NaN</td>\n    </tr>\n  </tbody>\n</table>\n<p>135 rows × 171 columns</p>\n</div>"
     },
     "execution_count": 256,
     "metadata": {},
     "output_type": "execute_result"
    }
   ],
   "source": [
    "mnar"
   ],
   "metadata": {
    "collapsed": false
   }
  },
  {
   "cell_type": "code",
   "execution_count": 257,
   "outputs": [
    {
     "data": {
      "text/plain": "<Figure size 1000x600 with 1 Axes>",
      "image/png": "[encoded data removed]"
     },
     "metadata": {},
     "output_type": "display_data"
    }
   ],
   "source": [
    "fig, ax = plt.subplots(figsize=(10, 6))"
   ],
   "metadata": {
    "collapsed": false
   }
  },
  {
   "cell_type": "code",
   "execution_count": 259,
   "outputs": [
    {
     "name": "stderr",
     "output_type": "stream",
     "text": [
      "C:\\Users\\Robin\\miniconda\\envs\\yaib_15\\lib\\site-packages\\seaborn\\categorical.py:3025: UserWarning: catplot is a figure-level function and does not accept target axes. You may wish to try barplot\n",
      "  warnings.warn(msg, UserWarning)\n"
     ]
    },
    {
     "data": {
      "text/plain": "<Figure size 1500x500 with 1 Axes>",
      "image/png": "[encoded data removed]"
     },
     "metadata": {},
     "output_type": "display_data"
    },
    {
     "data": {
      "text/plain": "<Figure size 1500x500 with 1 Axes>",
      "image/png": "[encoded data removed]"
     },
     "metadata": {},
     "output_type": "display_data"
    }
   ],
   "source": [
    "metric = \"avg.mae\"\n",
    "order = [\"Zero\", \"Median\",\"Mean\", \"MostFrequent\", \"MICE\", \"MissForest\",\"MLP\", \"BRITS\", \"GRU-D\", \"M4IP\", \"Attention\", \"NP\",\"SAITS\",\"Diffusion\", \"CSDI\"]\n",
    "g = sns.catplot(y=\"avg.mae\", x=\"model\", hue=\"ImputationDataset.mask_proportion\", data=mnar, ax=ax,\n",
    "                height=5, kind=\"bar\", palette=\"colorblind\", orient=\"v\", log=False, legend=False,aspect=3, order=order, )\n",
    "legend = plt.legend(loc=\"upper center\", ncol=len(mnar[\"ImputationDataset.mask_proportion\"].unique()), title=\"Missingness\", )#bbox_to_anchor=(0.5,1.1), alignment=\"left\")\n",
    "legend_title_left(legend)\n",
    "g.set(xlabel=\"\")\n",
    "g.set_xticklabels(\"\")\n",
    "g.set_ylabels(\"Root Mean Squared Error (RMSE)\")\n",
    "g.set_ylabels(\"Mean Absolute Error (MAE)\")\n",
    "g.set_xticklabels(rotation=30)\n",
    "mnar[\"std.mae\"].plot(ax=ax)\n",
    "# plt.errorbar(x = x, y = df['average'],\n",
    "#             yerr=df['sd'], fmt='none', c= 'black', capsize = 2)\n",
    "g.savefig(r\"C:\\Users\\Robin\\Downloads\\results_imputation_mnar.pdf\", bbox_inches='tight')\n",
    "metric = \"avg.mae\"\n",
    "g = sns.catplot(y=\"avg.mae\",x=\"model\", hue=\"ImputationDataset.mask_method\", data=dataset,\n",
    "                height=5, kind=\"bar\", palette=\"colorblind\", orient=\"v\", log=False, legend=False, aspect=3, order=order)\n",
    "legend = plt.legend(loc=\"upper center\", ncol=len(df[\"ImputationDataset.mask_method\"].unique()), title=\"Type\",) #bbox_to_anchor=(0.5,1.1))\n",
    "legend_title_left(legend)\n",
    "g.set_ylabels(\"Root Mean Squared Error (RMSE)\")\n",
    "g.set_ylabels(\"Mean Absolute Error (MAE)\")\n",
    "g.set_xticklabels(rotation=30)\n",
    "g.savefig(r\"C:\\Users\\Robin\\Downloads\\results_imputation_missingness_method.pdf\", bbox_inches='tight')\n"
   ],
   "metadata": {
    "collapsed": false
   }
  },
  {
   "cell_type": "code",
   "execution_count": 274,
   "outputs": [
    {
     "name": "stdout",
     "output_type": "stream",
     "text": [
      "Attention\n",
      "                  Name    avg.rmse   avg.mae   avg.jsd   std.rmse   std.mae  \\\n",
      "17    lively-sweep-132   66.437651  0.063100  0.007290   5.141578  0.004811   \n",
      "25  twilight-sweep-203  270.067563  0.070449  0.008327  13.898127  0.003378   \n",
      "50   ancient-sweep-118  196.084531  0.097853  0.012579   8.532065  0.004495   \n",
      "\n",
      "     std.jsd      model     State Notes  ... trainer/global_step  val/AUC  \\\n",
      "17  0.000777  Attention  finished     -  ...                 NaN      NaN   \n",
      "25  0.000509  Attention  finished     -  ...                 NaN      NaN   \n",
      "50  0.000903  Attention  finished     -  ...                 NaN      NaN   \n",
      "\n",
      "   val/AUC/1111  val/PR val/PR/1111  val/jsd  val/loss  val/loss/1111  \\\n",
      "17          NaN     NaN         NaN      NaN       NaN            NaN   \n",
      "25          NaN     NaN         NaN      NaN       NaN            NaN   \n",
      "50          NaN     NaN         NaN      NaN       NaN            NaN   \n",
      "\n",
      "    val/mae  val/rmse  \n",
      "17      NaN       NaN  \n",
      "25      NaN       NaN  \n",
      "50      NaN       NaN  \n",
      "\n",
      "[3 rows x 171 columns]\n",
      "SAITS\n",
      "                    Name    avg.rmse   avg.mae   avg.jsd   std.rmse   std.mae  \\\n",
      "281    flowing-sweep-140  141.386883  0.237442  0.032448   7.376759  0.009336   \n",
      "334  resilient-sweep-224  582.818540  0.264142  0.037897  37.996311  0.014954   \n",
      "383   grateful-sweep-145  358.215760  0.321382  0.047081  12.247475  0.010127   \n",
      "\n",
      "      std.jsd      model     State Notes  ... trainer/global_step  val/AUC  \\\n",
      "281  0.002224  Attention  finished     -  ...                 NaN      NaN   \n",
      "334  0.003292  Attention  finished     -  ...                 NaN      NaN   \n",
      "383  0.002092  Attention  finished     -  ...                 NaN      NaN   \n",
      "\n",
      "    val/AUC/1111  val/PR val/PR/1111  val/jsd  val/loss  val/loss/1111  \\\n",
      "281          NaN     NaN         NaN      NaN       NaN            NaN   \n",
      "334          NaN     NaN         NaN      NaN       NaN            NaN   \n",
      "383          NaN     NaN         NaN      NaN       NaN            NaN   \n",
      "\n",
      "     val/mae  val/rmse  \n",
      "281      NaN       NaN  \n",
      "334      NaN       NaN  \n",
      "383      NaN       NaN  \n",
      "\n",
      "[3 rows x 171 columns]\n",
      "CSDI\n",
      "                  Name    avg.rmse   avg.mae   avg.jsd   std.rmse   std.mae  \\\n",
      "307  playful-sweep-216  144.481864  0.247062  0.034499  10.714714  0.015141   \n",
      "316  dutiful-sweep-246  564.956919  0.256577  0.036154  19.935762  0.007500   \n",
      "392   unique-sweep-214  365.419454  0.326251  0.047917  18.652674  0.014583   \n",
      "\n",
      "      std.jsd  model     State Notes  ... trainer/global_step  val/AUC  \\\n",
      "307  0.003121  SAITS  finished     -  ...                 NaN      NaN   \n",
      "316  0.001730  SAITS  finished     -  ...                 NaN      NaN   \n",
      "392  0.003198  SAITS  finished     -  ...                 NaN      NaN   \n",
      "\n",
      "    val/AUC/1111  val/PR val/PR/1111  val/jsd  val/loss  val/loss/1111  \\\n",
      "307          NaN     NaN         NaN      NaN       NaN            NaN   \n",
      "316          NaN     NaN         NaN      NaN       NaN            NaN   \n",
      "392          NaN     NaN         NaN      NaN       NaN            NaN   \n",
      "\n",
      "     val/mae  val/rmse  \n",
      "307      NaN       NaN  \n",
      "316      NaN       NaN  \n",
      "392      NaN       NaN  \n",
      "\n",
      "[3 rows x 171 columns]\n",
      "BRITS\n",
      "     Name   avg.rmse   avg.mae   avg.jsd  std.rmse   std.mae   std.jsd model  \\\n",
      "355  CSDI   6.555638  0.280466  0.035711  0.586159  0.015711  0.001914  CSDI   \n",
      "433  CSDI   7.835174  0.372612  0.048992  0.497035  0.020589  0.002867  CSDI   \n",
      "525  CSDI  16.190932  0.443626  0.056871  8.462572  0.093642  0.011931  CSDI   \n",
      "\n",
      "        State Notes  ... trainer/global_step  val/AUC val/AUC/1111  val/PR  \\\n",
      "355  finished     -  ...             16065.0      NaN          NaN     NaN   \n",
      "433  finished     -  ...              3066.0      NaN          NaN     NaN   \n",
      "525  finished     -  ...               630.0      NaN          NaN     NaN   \n",
      "\n",
      "    val/PR/1111  val/jsd  val/loss  val/loss/1111  val/mae  val/rmse  \n",
      "355         NaN      NaN  0.063340            NaN      NaN       NaN  \n",
      "433         NaN      NaN  0.076071            NaN      NaN       NaN  \n",
      "525         NaN      NaN  0.070880            NaN      NaN       NaN  \n",
      "\n",
      "[3 rows x 171 columns]\n",
      "M4IP\n",
      "                 Name    avg.rmse   avg.mae   avg.jsd   std.rmse   std.mae  \\\n",
      "369    lunar-sweep-98  166.051541  0.301409  0.045064   7.114789  0.011693   \n",
      "445  dashing-sweep-97  748.910273  0.385881  0.066212  35.771120  0.020667   \n",
      "500  restful-sweep-96  434.579417  0.405742  0.071224  18.553348  0.017465   \n",
      "\n",
      "      std.jsd  model     State Notes  ... trainer/global_step  val/AUC  \\\n",
      "369  0.003164  BRITS  finished     -  ...                 NaN      NaN   \n",
      "445  0.006259  BRITS  finished     -  ...                 NaN      NaN   \n",
      "500  0.004946  BRITS  finished     -  ...                 NaN      NaN   \n",
      "\n",
      "    val/AUC/1111  val/PR val/PR/1111  val/jsd  val/loss  val/loss/1111  \\\n",
      "369          NaN     NaN         NaN      NaN       NaN            NaN   \n",
      "445          NaN     NaN         NaN      NaN       NaN            NaN   \n",
      "500          NaN     NaN         NaN      NaN       NaN            NaN   \n",
      "\n",
      "     val/mae  val/rmse  \n",
      "369      NaN       NaN  \n",
      "445      NaN       NaN  \n",
      "500      NaN       NaN  \n",
      "\n",
      "[3 rows x 171 columns]\n",
      "GRU-D\n",
      "                     Name  avg.rmse   avg.mae   avg.jsd  std.rmse   std.mae  \\\n",
      "359      summer-sweep-145  5.885212  0.281944  0.040679  0.347340  0.014656   \n",
      "366        ruby-sweep-149  6.382364  0.299368  0.044762  0.239447  0.009524   \n",
      "427  effortless-sweep-143  7.307953  0.361345  0.056792  0.179124  0.007278   \n",
      "\n",
      "      std.jsd model     State Notes  ... trainer/global_step  val/AUC  \\\n",
      "359  0.003987  M4IP  finished     -  ...                 NaN      NaN   \n",
      "366  0.002496  M4IP  finished     -  ...                 NaN      NaN   \n",
      "427  0.001946  M4IP  finished     -  ...                 NaN      NaN   \n",
      "\n",
      "    val/AUC/1111  val/PR val/PR/1111  val/jsd  val/loss  val/loss/1111  \\\n",
      "359          NaN     NaN         NaN      NaN       NaN            NaN   \n",
      "366          NaN     NaN         NaN      NaN       NaN            NaN   \n",
      "427          NaN     NaN         NaN      NaN       NaN            NaN   \n",
      "\n",
      "     val/mae  val/rmse  \n",
      "359      NaN       NaN  \n",
      "366      NaN       NaN  \n",
      "427      NaN       NaN  \n",
      "\n",
      "[3 rows x 171 columns]\n",
      "NP\n",
      "                  Name  avg.rmse   avg.mae   avg.jsd  std.rmse   std.mae  \\\n",
      "403    vocal-sweep-198  6.975976  0.334202  0.056033  0.176458  0.009964   \n",
      "418     deep-sweep-187  7.356794  0.350981  0.060061  0.173563  0.008863   \n",
      "504  silvery-sweep-176  8.179603  0.411974  0.070803  0.187465  0.007563   \n",
      "\n",
      "      std.jsd  model     State Notes  ... trainer/global_step  val/AUC  \\\n",
      "403  0.003123  GRU-D  finished     -  ...                 NaN      NaN   \n",
      "418  0.002398  GRU-D  finished     -  ...                 NaN      NaN   \n",
      "504  0.003092  GRU-D  finished     -  ...                 NaN      NaN   \n",
      "\n",
      "    val/AUC/1111  val/PR val/PR/1111  val/jsd  val/loss  val/loss/1111  \\\n",
      "403          NaN     NaN         NaN      NaN       NaN            NaN   \n",
      "418          NaN     NaN         NaN      NaN       NaN            NaN   \n",
      "504          NaN     NaN         NaN      NaN       NaN            NaN   \n",
      "\n",
      "     val/mae  val/rmse  \n",
      "403      NaN       NaN  \n",
      "418      NaN       NaN  \n",
      "504      NaN       NaN  \n",
      "\n",
      "[3 rows x 171 columns]\n",
      "MICE\n",
      "                   Name  avg.rmse   avg.mae   avg.jsd  std.rmse   std.mae  \\\n",
      "503     noble-sweep-244  8.199469  0.411965  0.074259  0.235505  0.014671   \n",
      "533      warm-sweep-144  8.750357  0.457920  0.090732  0.502851  0.026184   \n",
      "536  pleasant-sweep-213  8.806514  0.458301  0.088080  0.477587  0.030715   \n",
      "\n",
      "      std.jsd model     State Notes  ... trainer/global_step  val/AUC  \\\n",
      "503  0.002653    NP  finished     -  ...                 NaN      NaN   \n",
      "533  0.019123    NP  finished     -  ...                 NaN      NaN   \n",
      "536  0.025134    NP  finished     -  ...                 NaN      NaN   \n",
      "\n",
      "    val/AUC/1111  val/PR val/PR/1111  val/jsd  val/loss  val/loss/1111  \\\n",
      "503          NaN     NaN         NaN      NaN       NaN            NaN   \n",
      "533          NaN     NaN         NaN      NaN       NaN            NaN   \n",
      "536          NaN     NaN         NaN      NaN       NaN            NaN   \n",
      "\n",
      "     val/mae  val/rmse  \n",
      "503      NaN       NaN  \n",
      "533      NaN       NaN  \n",
      "536      NaN       NaN  \n",
      "\n",
      "[3 rows x 171 columns]\n",
      "MissForest\n",
      "                   Name    avg.rmse   avg.mae   avg.jsd   std.rmse   std.mae  \\\n",
      "560  splendid-sweep-192  260.744807  0.510085  0.114883  15.917238  0.021685   \n",
      "561    iconic-sweep-181  943.813513  0.510137  0.128106  33.123307  0.015460   \n",
      "566     azure-sweep-170  541.391138  0.521905  0.125207  18.565171  0.015010   \n",
      "\n",
      "      std.jsd model     State Notes  ... trainer/global_step  val/AUC  \\\n",
      "560  0.013457  MICE  finished     -  ...                 NaN      NaN   \n",
      "561  0.016073  MICE  finished     -  ...                 NaN      NaN   \n",
      "566  0.017870  MICE  finished     -  ...                 NaN      NaN   \n",
      "\n",
      "    val/AUC/1111  val/PR val/PR/1111  val/jsd  val/loss  val/loss/1111  \\\n",
      "560          NaN     NaN         NaN      NaN       NaN            NaN   \n",
      "561          NaN     NaN         NaN      NaN       NaN            NaN   \n",
      "566          NaN     NaN         NaN      NaN       NaN            NaN   \n",
      "\n",
      "     val/mae  val/rmse  \n",
      "560      NaN       NaN  \n",
      "561      NaN       NaN  \n",
      "566      NaN       NaN  \n",
      "\n",
      "[3 rows x 171 columns]\n",
      "MLP\n",
      "                  Name     avg.rmse   avg.mae   avg.jsd    std.rmse   std.mae  \\\n",
      "641  scarlet-sweep-185  1248.551050  0.683073  0.088467  105.320695  0.064523   \n",
      "644     wise-sweep-174   753.951279  0.729535  0.088994   98.854933  0.100105   \n",
      "645    eager-sweep-196   381.559805  0.733414  0.089906   93.763601  0.161241   \n",
      "\n",
      "      std.jsd       model     State Notes  ... trainer/global_step  val/AUC  \\\n",
      "641  0.008649  MissForest  finished     -  ...                 NaN      NaN   \n",
      "644  0.014138  MissForest  finished     -  ...                 NaN      NaN   \n",
      "645  0.017023  MissForest  finished     -  ...                 NaN      NaN   \n",
      "\n",
      "    val/AUC/1111  val/PR val/PR/1111  val/jsd  val/loss  val/loss/1111  \\\n",
      "641          NaN     NaN         NaN      NaN       NaN            NaN   \n",
      "644          NaN     NaN         NaN      NaN       NaN            NaN   \n",
      "645          NaN     NaN         NaN      NaN       NaN            NaN   \n",
      "\n",
      "     val/mae  val/rmse  \n",
      "641      NaN       NaN  \n",
      "644      NaN       NaN  \n",
      "645      NaN       NaN  \n",
      "\n",
      "[3 rows x 171 columns]\n",
      "Median\n",
      "                    Name  avg.rmse   avg.mae   avg.jsd  std.rmse   std.mae  \\\n",
      "546      comic-sweep-186  9.020187  0.472126  0.186809  0.111233  0.005501   \n",
      "554      swept-sweep-197  9.335233  0.498882  0.138819  0.167546  0.008992   \n",
      "555  legendary-sweep-175  9.314705  0.502060  0.187343  0.100253  0.006284   \n",
      "\n",
      "      std.jsd model     State Notes  ... trainer/global_step  val/AUC  \\\n",
      "546  0.008442   MLP  finished     -  ...                 NaN      NaN   \n",
      "554  0.008020   MLP  finished     -  ...                 NaN      NaN   \n",
      "555  0.012114   MLP  finished     -  ...                 NaN      NaN   \n",
      "\n",
      "    val/AUC/1111  val/PR val/PR/1111  val/jsd  val/loss  val/loss/1111  \\\n",
      "546          NaN     NaN         NaN      NaN       NaN            NaN   \n",
      "554          NaN     NaN         NaN      NaN       NaN            NaN   \n",
      "555          NaN     NaN         NaN      NaN       NaN            NaN   \n",
      "\n",
      "     val/mae  val/rmse  \n",
      "546      NaN       NaN  \n",
      "554      NaN       NaN  \n",
      "555      NaN       NaN  \n",
      "\n",
      "[3 rows x 171 columns]\n",
      "Zero\n",
      "                   Name    avg.rmse   avg.mae   avg.jsd   std.rmse   std.mae  \\\n",
      "580  ethereal-sweep-178  997.176763  0.542996  0.120410  26.390135  0.013312   \n",
      "618     stoic-sweep-167  565.003496  0.554732  0.118035  11.703997  0.013333   \n",
      "619   skilled-sweep-189  278.683998  0.555831  0.126145   9.175685  0.018262   \n",
      "\n",
      "      std.jsd   model     State Notes  ... trainer/global_step  val/AUC  \\\n",
      "580  0.021977  Median  finished     -  ...                 NaN      NaN   \n",
      "618  0.015603  Median  finished     -  ...                 NaN      NaN   \n",
      "619  0.029221  Median  finished     -  ...                 NaN      NaN   \n",
      "\n",
      "    val/AUC/1111  val/PR val/PR/1111  val/jsd  val/loss  val/loss/1111  \\\n",
      "580          NaN     NaN         NaN      NaN       NaN            NaN   \n",
      "618          NaN     NaN         NaN      NaN       NaN            NaN   \n",
      "619          NaN     NaN         NaN      NaN       NaN            NaN   \n",
      "\n",
      "     val/mae  val/rmse  \n",
      "580      NaN       NaN  \n",
      "618      NaN       NaN  \n",
      "619      NaN       NaN  \n",
      "\n",
      "[3 rows x 171 columns]\n",
      "Mean\n",
      "                  Name    avg.rmse   avg.mae   avg.jsd   std.rmse   std.mae  \\\n",
      "575    vague-sweep-179  971.495315  0.539637  0.338317  13.362976  0.004807   \n",
      "588     mild-sweep-190  268.627032  0.545194  0.339413   5.922331  0.008317   \n",
      "599  dashing-sweep-168  550.394602  0.548535  0.339355   9.793167  0.005402   \n",
      "\n",
      "      std.jsd model     State Notes  ... trainer/global_step  val/AUC  \\\n",
      "575  0.004264  Zero  finished     -  ...                 NaN      NaN   \n",
      "588  0.004689  Zero  finished     -  ...                 NaN      NaN   \n",
      "599  0.004518  Zero  finished     -  ...                 NaN      NaN   \n",
      "\n",
      "    val/AUC/1111  val/PR val/PR/1111  val/jsd  val/loss  val/loss/1111  \\\n",
      "575          NaN     NaN         NaN      NaN       NaN            NaN   \n",
      "588          NaN     NaN         NaN      NaN       NaN            NaN   \n",
      "599          NaN     NaN         NaN      NaN       NaN            NaN   \n",
      "\n",
      "     val/mae  val/rmse  \n",
      "575      NaN       NaN  \n",
      "588      NaN       NaN  \n",
      "599      NaN       NaN  \n",
      "\n",
      "[3 rows x 171 columns]\n",
      "Diffusion\n",
      "                    Name    avg.rmse   avg.mae   avg.jsd   std.rmse   std.mae  \\\n",
      "600      giddy-sweep-177  988.228577  0.548992  0.206199  24.795685  0.013708   \n",
      "621  glamorous-sweep-166  561.843625  0.561310  0.201498  13.163958  0.015465   \n",
      "622    curious-sweep-188  276.214177  0.562064  0.155140   8.394535  0.017633   \n",
      "\n",
      "      std.jsd model     State Notes  ... trainer/global_step  val/AUC  \\\n",
      "600  0.029815  Mean  finished     -  ...                 NaN      NaN   \n",
      "621  0.032398  Mean  finished     -  ...                 NaN      NaN   \n",
      "622  0.009865  Mean  finished     -  ...                 NaN      NaN   \n",
      "\n",
      "    val/AUC/1111  val/PR val/PR/1111  val/jsd  val/loss  val/loss/1111  \\\n",
      "600          NaN     NaN         NaN      NaN       NaN            NaN   \n",
      "621          NaN     NaN         NaN      NaN       NaN            NaN   \n",
      "622          NaN     NaN         NaN      NaN       NaN            NaN   \n",
      "\n",
      "     val/mae  val/rmse  \n",
      "600      NaN       NaN  \n",
      "621      NaN       NaN  \n",
      "622      NaN       NaN  \n",
      "\n",
      "[3 rows x 171 columns]\n",
      "MostFrequent\n",
      "                     Name   avg.rmse   avg.mae   avg.jsd  std.rmse   std.mae  \\\n",
      "577  SimpleDiffusionModel  10.196244  0.541740  0.188382  0.149749  0.006057   \n",
      "604  SimpleDiffusionModel  10.209939  0.550117  0.188531  0.150077  0.006437   \n",
      "605  SimpleDiffusionModel  10.307054  0.550767  0.195313  0.217370  0.008869   \n",
      "\n",
      "      std.jsd      model     State Notes  ... trainer/global_step  val/AUC  \\\n",
      "577  0.006618  Diffusion  finished     -  ...              4590.0      NaN   \n",
      "604  0.008429  Diffusion  finished     -  ...              1330.0      NaN   \n",
      "605  0.023902  Diffusion    failed     -  ...               330.0      NaN   \n",
      "\n",
      "    val/AUC/1111  val/PR val/PR/1111   val/jsd  val/loss  val/loss/1111  \\\n",
      "577          NaN     NaN         NaN  0.185634  0.704891            NaN   \n",
      "604          NaN     NaN         NaN  0.189447  0.708149            NaN   \n",
      "605          NaN     NaN         NaN  0.179916  0.750763            NaN   \n",
      "\n",
      "      val/mae   val/rmse  \n",
      "577  0.545224  10.282684  \n",
      "604  0.553770  10.306422  \n",
      "605  0.560886  10.611995  \n",
      "\n",
      "[3 rows x 171 columns]\n"
     ]
    },
    {
     "data": {
      "text/plain": "<Figure size 1000x600 with 1 Axes>",
      "image/png": "[encoded data removed]"
     },
     "metadata": {},
     "output_type": "display_data"
    }
   ],
   "source": [
    "fig, ax = plt.subplots(figsize=(10, 6))\n",
    "metric = \"avg.mae\"\n",
    "order = [\"Zero\", \"Median\",\"Mean\", \"MostFrequent\", \"MICE\", \"MissForest\",\"MLP\", \"BRITS\", \"GRU-D\", \"M4IP\", \"Attention\", \"NP\",\"SAITS\",\"Diffusion\", \"CSDI\"]\n",
    "g = sns.barplot(y=\"avg.mae\", x=\"model\",ax=ax, hue=\"ImputationDataset.mask_proportion\", data=mnar, palette=\"colorblind\", orient=\"v\", order=order)\n",
    "legend = plt.legend(loc=\"upper center\", ncol=len(mnar[\"ImputationDataset.mask_proportion\"].unique()), title=\"Missingness\", )#bbox_to_anchor=(0.5,1.1), alignment=\"left\")\n",
    "legend_title_left(legend)\n",
    "g.set(xlabel=\"\")\n",
    "g.set_xticklabels(\"\")\n",
    "g.set_ylabel(\"Root Mean Squared Error (RMSE)\")\n",
    "g.set_ylabel(\"Mean Absolute Error (MAE)\")\n",
    "# mnar.plot(x=\"model\",y=\"std.mae\",ax=ax, kind=\"bar\", color=\"black\", legend=False)\n",
    "for category in mnar[\"model\"].unique():\n",
    "    error_data = mnar[mnar[\"model\"] == category]\n",
    "    print(category)\n",
    "    print(group_data)\n",
    "    for i, group in enumerate(error_data[\"ImputationDataset.mask_proportion\"].unique()):\n",
    "        group_data = error_data[error_data[\"ImputationDataset.mask_proportion\"] == group]\n",
    "        # print(i)\n",
    "        # print(group)\n",
    "        g.errorbar(\n",
    "            x=category, y=group_data[metric].iloc[i], yerr=group_data[\"std.mae\"].mean(),\n",
    "            fmt='none', color='red', capsize=4, capthick=2, barsabove=True\n",
    "        )\n",
    "# g.set_xticklabels(rotation=30)\n",
    "# g.figure.savefig(r\"C:\\Users\\Robin\\Downloads\\results_imputation_mnar.pdf\", bbox_inches='tight')\n",
    "# metric = \"avg.mae\"\n",
    "# g = sns.catplot(y=\"avg.mae\",x=\"model\", hue=\"ImputationDataset.mask_method\", data=dataset,\n",
    "#                 height=5, kind=\"bar\", palette=\"colorblind\", orient=\"v\", log=False, legend=False, aspect=3, order=order)\n",
    "# legend = plt.legend(loc=\"upper center\", ncol=len(df[\"ImputationDataset.mask_method\"].unique()), title=\"Type\",) #bbox_to_anchor=(0.5,1.1))\n",
    "# legend_title_left(legend)\n",
    "# g.set_ylabels(\"Root Mean Squared Error (RMSE)\")\n",
    "# g.set_ylabels(\"Mean Absolute Error (MAE)\")\n",
    "# g.set_xticklabels(rotation=30)\n",
    "# g.savefig(r\"C:\\Users\\Robin\\Downloads\\results_imputation_missingness_method.pdf\", bbox_inches='tight')"
   ],
   "metadata": {
    "collapsed": false
   }
  },
  {
   "cell_type": "code",
   "execution_count": 194,
   "outputs": [
    {
     "data": {
      "text/plain": "           model ImputationDataset.mask_method    avg.rmse   avg.mae  \\\n0      Attention                            BO  485.285229  0.204177   \n1      Attention                           MAR  372.571277  0.126440   \n2      Attention                          MCAR  373.574652  0.139628   \n3      Attention                          MNAR  418.511029  0.159551   \n4          BRITS                            BO  786.418815  0.370720   \n5          BRITS                           MAR  554.740461  0.221633   \n6          BRITS                          MCAR  557.887283  0.241313   \n7          BRITS                          MNAR  604.119502  0.264222   \n8           CSDI                            BO    5.034651  0.186122   \n9           CSDI                           MAR    6.385178  0.181656   \n10          CSDI                          MCAR    4.453222  0.154320   \n11          CSDI                          MNAR    4.605924  0.167354   \n12     Diffusion                            BO    8.573081  0.389860   \n13     Diffusion                           MAR    7.880248  0.325736   \n14     Diffusion                          MCAR    8.569751  0.389652   \n15     Diffusion                          MNAR    8.525014  0.388112   \n16         GRU-D                            BO    5.597716  0.223806   \n17         GRU-D                           MAR    5.753214  0.215181   \n18         GRU-D                          MCAR    5.439046  0.216676   \n19         GRU-D                          MNAR    5.789792  0.234089   \n20          M4IP                            BO    4.681884  0.184409   \n21          M4IP                           MAR    5.151804  0.189959   \n22          M4IP                          MCAR    4.561709  0.178635   \n23          M4IP                          MNAR    5.009150  0.199164   \n24          MICE                            BO  816.465363  0.388229   \n25          MICE                           MAR  678.390983  0.278204   \n26          MICE                          MCAR  746.173776  0.341322   \n27          MICE                          MNAR  761.638124  0.348106   \n28           MLP                            BO    7.329695  0.325523   \n29           MLP                           MAR    7.145263  0.294200   \n30           MLP                          MCAR    7.306559  0.324580   \n31           MLP                          MNAR    7.490297  0.335272   \n32          Mean                            BO  816.465363  0.388229   \n33          Mean                           MAR  750.994267  0.326355   \n34          Mean                          MCAR  816.422337  0.388236   \n35          Mean                          MNAR  820.753426  0.390822   \n36        Median                            BO  826.420555  0.384348   \n37        Median                           MAR  756.524055  0.322588   \n38        Median                          MCAR  826.350776  0.384342   \n39        Median                          MNAR  828.872873  0.386461   \n40    MissForest                            BO  843.576025  0.394790   \n41    MissForest                           MAR  684.924243  0.290296   \n42    MissForest                          MCAR  847.516743  0.394731   \n43    MissForest                          MNAR  905.992961  0.428465   \n44  MostFrequent                            BO  934.698870  0.421186   \n45  MostFrequent                           MAR  839.624337  0.347359   \n46  MostFrequent                          MCAR  927.623704  0.349711   \n47  MostFrequent                          MNAR  929.723328  0.419716   \n48            NP                            BO    6.007656  0.252085   \n49            NP                           MAR    6.079375  0.240763   \n50            NP                          MCAR    5.510680  0.211530   \n51            NP                          MNAR    6.573497  0.282348   \n52         SAITS                            BO  542.065893  0.234613   \n53         SAITS                           MAR  380.862084  0.131029   \n54         SAITS                          MCAR  344.925519  0.122097   \n55         SAITS                          MNAR  415.355502  0.158112   \n56          Zero                            BO  816.465614  0.388223   \n57          Zero                           MAR  742.866537  0.322248   \n58          Zero                          MCAR  816.421242  0.388226   \n59          Zero                          MNAR  812.479294  0.386685   \n\n     avg.jsd   std.rmse   std.mae   std.jsd  Tags        Runtime  ...  \\\n0   0.029907  30.292760  0.018700  0.005418   NaN   58619.000000  ...   \n1   0.016688  31.843693  0.011681  0.001925   NaN   65594.000000  ...   \n2   0.017437   4.027849  0.000741  0.000118   NaN   61885.666667  ...   \n3   0.021572  27.283364  0.009163  0.001952   NaN   56815.666667  ...   \n4   0.112132   8.169977  0.002786  0.003525   NaN   38231.666667  ...   \n5   0.035705  43.213548  0.018499  0.003056   NaN   41408.666667  ...   \n6   0.037371  14.416698  0.007147  0.001662   NaN   37884.333333  ...   \n7   0.042953  32.012137  0.015465  0.004006   NaN   40628.666667  ...   \n8   0.024899   0.558780  0.002575  0.000450   NaN   73241.666667  ...   \n9   0.025434   4.131361  0.075430  0.014467   NaN   67385.000000  ...   \n10  0.018767   0.419813  0.002879  0.000416   NaN   61793.333333  ...   \n11  0.020755   0.319403  0.008430  0.001116   NaN   61507.000000  ...   \n12  0.134228   0.035848  0.001210  0.003238   NaN    9079.333333  ...   \n13  0.112387   0.145989  0.004237  0.003554   NaN    9531.000000  ...   \n14  0.134603   0.034492  0.001449  0.003689   NaN    8310.000000  ...   \n15  0.133992   0.159264  0.005055  0.004371   NaN    9505.000000  ...   \n16  0.038749   0.034032  0.001970  0.000516   NaN   13082.333333  ...   \n17  0.051057   0.368947  0.015160  0.011508   NaN   11871.000000  ...   \n18  0.034703   0.029109  0.001506  0.000291   NaN   10329.333333  ...   \n19  0.038142   0.233391  0.008139  0.002004   NaN    9420.333333  ...   \n20  0.025243   0.024008  0.000834  0.000194   NaN   21807.666667  ...   \n21  0.043832   0.394784  0.015996  0.011498   NaN   19146.333333  ...   \n22  0.024040   0.021651  0.000762  0.000149   NaN   30728.000000  ...   \n23  0.028771   0.271389  0.008725  0.002236   NaN   14650.333333  ...   \n24  0.219630   6.817136  0.001611  0.001567   NaN    2202.000000  ...   \n25  0.059800  28.387629  0.010251  0.005959   NaN    3784.000000  ...   \n26  0.091213   7.811672  0.001535  0.001066   NaN    4671.333333  ...   \n27  0.079480  25.002705  0.009769  0.007378   NaN    3888.666667  ...   \n28  0.124025   0.037638  0.002510  0.003074   NaN    2783.666667  ...   \n29  0.092736   0.206824  0.010927  0.008745   NaN    2674.333333  ...   \n30  0.123093   0.036363  0.002202  0.002479   NaN    2182.666667  ...   \n31  0.128311   0.099432  0.004328  0.005324   NaN    1988.000000  ...   \n32  0.219630   6.817136  0.001611  0.001567   NaN    2119.666667  ...   \n33  0.120956  21.501267  0.008259  0.018591   NaN    1460.000000  ...   \n34  0.219624   6.610060  0.001426  0.001506   NaN    1752.666667  ...   \n35  0.150934  20.830322  0.009033  0.019412   NaN    1757.666667  ...   \n36  0.092862   7.148840  0.001687  0.001484   NaN    2596.000000  ...   \n37  0.076346  24.752208  0.009263  0.011219   NaN    2287.000000  ...   \n38  0.092886   6.927774  0.001497  0.001229   NaN    1737.000000  ...   \n39  0.088725  23.773558  0.009757  0.012834   NaN    1820.333333  ...   \n40  0.098552  10.801010  0.006179  0.018236   NaN    4405.333333  ...   \n41  0.048826  27.724988  0.011942  0.006223   NaN   11399.333333  ...   \n42  0.060199  59.010117  0.030671  0.008412   NaN    6727.666667  ...   \n43  0.058894  68.004394  0.035958  0.005132   NaN   14064.666667  ...   \n44  0.048918  11.512987  0.004032  0.001951   NaN    2542.000000  ...   \n45  0.042798  40.126582  0.014947  0.006377   NaN    1480.333333  ...   \n46  0.041548   7.724528  0.002388  0.001547   NaN    2374.000000  ...   \n47  0.051640  32.230681  0.014279  0.007696   NaN    2072.000000  ...   \n48  0.039540   0.229890  0.011514  0.010519   NaN   74629.000000  ...   \n49  0.041538   0.393122  0.017505  0.005571   NaN   71957.666667  ...   \n50  0.034960   0.159761  0.005541  0.001908   NaN   95956.800000  ...   \n51  0.050809   0.339952  0.016462  0.010424   NaN   52507.666667  ...   \n52  0.037674  54.285045  0.030165  0.006492   NaN   95815.000000  ...   \n53  0.017133  29.626382  0.011649  0.002092   NaN  122472.666667  ...   \n54  0.015059   5.310720  0.001170  0.000178   NaN   84949.800000  ...   \n55  0.021126  20.134613  0.006294  0.001266   NaN   86876.000000  ...   \n56  0.224975   6.818908  0.001596  0.000267   NaN    2110.000000  ...   \n57  0.176195  16.881947  0.005125  0.003277   NaN    1759.000000  ...   \n58  0.224987   6.611271  0.001422  0.000325   NaN    1884.666667  ...   \n59  0.223557  13.920021  0.004211  0.003124   NaN    1415.666667  ...   \n\n    trainer/global_step  val/AUC  val/AUC/1111  val/PR  val/PR/1111   val/jsd  \\\n0                   NaN      NaN           NaN     NaN          NaN       NaN   \n1                   NaN      NaN           NaN     NaN          NaN       NaN   \n2                   NaN      NaN           NaN     NaN          NaN       NaN   \n3                   NaN      NaN           NaN     NaN          NaN       NaN   \n4                   NaN      NaN           NaN     NaN          NaN       NaN   \n5                   NaN      NaN           NaN     NaN          NaN       NaN   \n6                   NaN      NaN           NaN     NaN          NaN       NaN   \n7                   NaN      NaN           NaN     NaN          NaN       NaN   \n8          14972.000000      NaN           NaN     NaN          NaN       NaN   \n9          13923.000000      NaN           NaN     NaN          NaN       NaN   \n10         12546.000000      NaN           NaN     NaN          NaN       NaN   \n11         12081.666667      NaN           NaN     NaN          NaN       NaN   \n12          4586.666667      NaN           NaN     NaN          NaN  0.134880   \n13          4590.000000      NaN           NaN     NaN          NaN  0.109866   \n14          4586.666667      NaN           NaN     NaN          NaN  0.133107   \n15          4590.000000      NaN           NaN     NaN          NaN  0.132050   \n16                  NaN      NaN           NaN     NaN          NaN       NaN   \n17                  NaN      NaN           NaN     NaN          NaN       NaN   \n18                  NaN      NaN           NaN     NaN          NaN       NaN   \n19                  NaN      NaN           NaN     NaN          NaN       NaN   \n20                  NaN      NaN           NaN     NaN          NaN       NaN   \n21                  NaN      NaN           NaN     NaN          NaN       NaN   \n22                  NaN      NaN           NaN     NaN          NaN       NaN   \n23                  NaN      NaN           NaN     NaN          NaN       NaN   \n24                  NaN      NaN           NaN     NaN          NaN       NaN   \n25                  NaN      NaN           NaN     NaN          NaN       NaN   \n26                  NaN      NaN           NaN     NaN          NaN       NaN   \n27                  NaN      NaN           NaN     NaN          NaN       NaN   \n28                  NaN      NaN           NaN     NaN          NaN       NaN   \n29                  NaN      NaN           NaN     NaN          NaN       NaN   \n30                  NaN      NaN           NaN     NaN          NaN       NaN   \n31                  NaN      NaN           NaN     NaN          NaN       NaN   \n32                  NaN      NaN           NaN     NaN          NaN       NaN   \n33                  NaN      NaN           NaN     NaN          NaN       NaN   \n34                  NaN      NaN           NaN     NaN          NaN       NaN   \n35                  NaN      NaN           NaN     NaN          NaN       NaN   \n36                  NaN      NaN           NaN     NaN          NaN       NaN   \n37                  NaN      NaN           NaN     NaN          NaN       NaN   \n38                  NaN      NaN           NaN     NaN          NaN       NaN   \n39                  NaN      NaN           NaN     NaN          NaN       NaN   \n40                  NaN      NaN           NaN     NaN          NaN       NaN   \n41                  NaN      NaN           NaN     NaN          NaN       NaN   \n42                  NaN      NaN           NaN     NaN          NaN       NaN   \n43                  NaN      NaN           NaN     NaN          NaN       NaN   \n44                  NaN      NaN           NaN     NaN          NaN       NaN   \n45                  NaN      NaN           NaN     NaN          NaN       NaN   \n46                  NaN      NaN           NaN     NaN          NaN       NaN   \n47                  NaN      NaN           NaN     NaN          NaN       NaN   \n48                  NaN      NaN           NaN     NaN          NaN       NaN   \n49                  NaN      NaN           NaN     NaN          NaN       NaN   \n50                  NaN      NaN           NaN     NaN          NaN       NaN   \n51                  NaN      NaN           NaN     NaN          NaN       NaN   \n52                  NaN      NaN           NaN     NaN          NaN       NaN   \n53                  NaN      NaN           NaN     NaN          NaN       NaN   \n54                  NaN      NaN           NaN     NaN          NaN       NaN   \n55                  NaN      NaN           NaN     NaN          NaN       NaN   \n56                  NaN      NaN           NaN     NaN          NaN       NaN   \n57                  NaN      NaN           NaN     NaN          NaN       NaN   \n58                  NaN      NaN           NaN     NaN          NaN       NaN   \n59                  NaN      NaN           NaN     NaN          NaN       NaN   \n\n    val/loss  val/loss/1111   val/mae  val/rmse  \n0        NaN            NaN       NaN       NaN  \n1        NaN            NaN       NaN       NaN  \n2        NaN            NaN       NaN       NaN  \n3        NaN            NaN       NaN       NaN  \n4        NaN            NaN       NaN       NaN  \n5        NaN            NaN       NaN       NaN  \n6        NaN            NaN       NaN       NaN  \n7        NaN            NaN       NaN       NaN  \n8   0.055229            NaN       NaN       NaN  \n9   0.048083            NaN       NaN       NaN  \n10  0.057888            NaN       NaN       NaN  \n11  0.058944            NaN       NaN       NaN  \n12  0.502889            NaN  0.389274  8.562503  \n13  0.417655            NaN  0.325092  7.804780  \n14  0.504841            NaN  0.390261  8.578371  \n15  0.505107            NaN  0.390000  8.583801  \n16       NaN            NaN       NaN       NaN  \n17       NaN            NaN       NaN       NaN  \n18       NaN            NaN       NaN       NaN  \n19       NaN            NaN       NaN       NaN  \n20       NaN            NaN       NaN       NaN  \n21       NaN            NaN       NaN       NaN  \n22       NaN            NaN       NaN       NaN  \n23       NaN            NaN       NaN       NaN  \n24       NaN            NaN       NaN       NaN  \n25       NaN            NaN       NaN       NaN  \n26       NaN            NaN       NaN       NaN  \n27       NaN            NaN       NaN       NaN  \n28       NaN            NaN       NaN       NaN  \n29       NaN            NaN       NaN       NaN  \n30       NaN            NaN       NaN       NaN  \n31       NaN            NaN       NaN       NaN  \n32       NaN            NaN       NaN       NaN  \n33       NaN            NaN       NaN       NaN  \n34       NaN            NaN       NaN       NaN  \n35       NaN            NaN       NaN       NaN  \n36       NaN            NaN       NaN       NaN  \n37       NaN            NaN       NaN       NaN  \n38       NaN            NaN       NaN       NaN  \n39       NaN            NaN       NaN       NaN  \n40       NaN            NaN       NaN       NaN  \n41       NaN            NaN       NaN       NaN  \n42       NaN            NaN       NaN       NaN  \n43       NaN            NaN       NaN       NaN  \n44       NaN            NaN       NaN       NaN  \n45       NaN            NaN       NaN       NaN  \n46       NaN            NaN       NaN       NaN  \n47       NaN            NaN       NaN       NaN  \n48       NaN            NaN       NaN       NaN  \n49       NaN            NaN       NaN       NaN  \n50       NaN            NaN       NaN       NaN  \n51       NaN            NaN       NaN       NaN  \n52       NaN            NaN       NaN       NaN  \n53       NaN            NaN       NaN       NaN  \n54       NaN            NaN       NaN       NaN  \n55       NaN            NaN       NaN       NaN  \n56       NaN            NaN       NaN       NaN  \n57       NaN            NaN       NaN       NaN  \n58       NaN            NaN       NaN       NaN  \n59       NaN            NaN       NaN       NaN  \n\n[60 rows x 146 columns]",
      "text/html": "<div>\n<style scoped>\n    .dataframe tbody tr th:only-of-type {\n        vertical-align: middle;\n    }\n\n    .dataframe tbody tr th {\n        vertical-align: top;\n    }\n\n    .dataframe thead th {\n        text-align: right;\n    }\n</style>\n<table border=\"1\" class=\"dataframe\">\n  <thead>\n    <tr style=\"text-align: right;\">\n      <th></th>\n      <th>model</th>\n      <th>ImputationDataset.mask_method</th>\n      <th>avg.rmse</th>\n      <th>avg.mae</th>\n      <th>avg.jsd</th>\n      <th>std.rmse</th>\n      <th>std.mae</th>\n      <th>std.jsd</th>\n      <th>Tags</th>\n      <th>Runtime</th>\n      <th>...</th>\n      <th>trainer/global_step</th>\n      <th>val/AUC</th>\n      <th>val/AUC/1111</th>\n      <th>val/PR</th>\n      <th>val/PR/1111</th>\n      <th>val/jsd</th>\n      <th>val/loss</th>\n      <th>val/loss/1111</th>\n      <th>val/mae</th>\n      <th>val/rmse</th>\n    </tr>\n  </thead>\n  <tbody>\n    <tr>\n      <th>0</th>\n      <td>Attention</td>\n      <td>BO</td>\n      <td>485.285229</td>\n      <td>0.204177</td>\n      <td>0.029907</td>\n      <td>30.292760</td>\n      <td>0.018700</td>\n      <td>0.005418</td>\n      <td>NaN</td>\n      <td>58619.000000</td>\n      <td>...</td>\n      <td>NaN</td>\n      <td>NaN</td>\n      <td>NaN</td>\n      <td>NaN</td>\n      <td>NaN</td>\n      <td>NaN</td>\n      <td>NaN</td>\n      <td>NaN</td>\n      <td>NaN</td>\n      <td>NaN</td>\n    </tr>\n    <tr>\n      <th>1</th>\n      <td>Attention</td>\n      <td>MAR</td>\n      <td>372.571277</td>\n      <td>0.126440</td>\n      <td>0.016688</td>\n      <td>31.843693</td>\n      <td>0.011681</td>\n      <td>0.001925</td>\n      <td>NaN</td>\n      <td>65594.000000</td>\n      <td>...</td>\n      <td>NaN</td>\n      <td>NaN</td>\n      <td>NaN</td>\n      <td>NaN</td>\n      <td>NaN</td>\n      <td>NaN</td>\n      <td>NaN</td>\n      <td>NaN</td>\n      <td>NaN</td>\n      <td>NaN</td>\n    </tr>\n    <tr>\n      <th>2</th>\n      <td>Attention</td>\n      <td>MCAR</td>\n      <td>373.574652</td>\n      <td>0.139628</td>\n      <td>0.017437</td>\n      <td>4.027849</td>\n      <td>0.000741</td>\n      <td>0.000118</td>\n      <td>NaN</td>\n      <td>61885.666667</td>\n      <td>...</td>\n      <td>NaN</td>\n      <td>NaN</td>\n      <td>NaN</td>\n      <td>NaN</td>\n      <td>NaN</td>\n      <td>NaN</td>\n      <td>NaN</td>\n      <td>NaN</td>\n      <td>NaN</td>\n      <td>NaN</td>\n    </tr>\n    <tr>\n      <th>3</th>\n      <td>Attention</td>\n      <td>MNAR</td>\n      <td>418.511029</td>\n      <td>0.159551</td>\n      <td>0.021572</td>\n      <td>27.283364</td>\n      <td>0.009163</td>\n      <td>0.001952</td>\n      <td>NaN</td>\n      <td>56815.666667</td>\n      <td>...</td>\n      <td>NaN</td>\n      <td>NaN</td>\n      <td>NaN</td>\n      <td>NaN</td>\n      <td>NaN</td>\n      <td>NaN</td>\n      <td>NaN</td>\n      <td>NaN</td>\n      <td>NaN</td>\n      <td>NaN</td>\n    </tr>\n    <tr>\n      <th>4</th>\n      <td>BRITS</td>\n      <td>BO</td>\n      <td>786.418815</td>\n      <td>0.370720</td>\n      <td>0.112132</td>\n      <td>8.169977</td>\n      <td>0.002786</td>\n      <td>0.003525</td>\n      <td>NaN</td>\n      <td>38231.666667</td>\n      <td>...</td>\n      <td>NaN</td>\n      <td>NaN</td>\n      <td>NaN</td>\n      <td>NaN</td>\n      <td>NaN</td>\n      <td>NaN</td>\n      <td>NaN</td>\n      <td>NaN</td>\n      <td>NaN</td>\n      <td>NaN</td>\n    </tr>\n    <tr>\n      <th>5</th>\n      <td>BRITS</td>\n      <td>MAR</td>\n      <td>554.740461</td>\n      <td>0.221633</td>\n      <td>0.035705</td>\n      <td>43.213548</td>\n      <td>0.018499</td>\n      <td>0.003056</td>\n      <td>NaN</td>\n      <td>41408.666667</td>\n      <td>...</td>\n      <td>NaN</td>\n      <td>NaN</td>\n      <td>NaN</td>\n      <td>NaN</td>\n      <td>NaN</td>\n      <td>NaN</td>\n      <td>NaN</td>\n      <td>NaN</td>\n      <td>NaN</td>\n      <td>NaN</td>\n    </tr>\n    <tr>\n      <th>6</th>\n      <td>BRITS</td>\n      <td>MCAR</td>\n      <td>557.887283</td>\n      <td>0.241313</td>\n      <td>0.037371</td>\n      <td>14.416698</td>\n      <td>0.007147</td>\n      <td>0.001662</td>\n      <td>NaN</td>\n      <td>37884.333333</td>\n      <td>...</td>\n      <td>NaN</td>\n      <td>NaN</td>\n      <td>NaN</td>\n      <td>NaN</td>\n      <td>NaN</td>\n      <td>NaN</td>\n      <td>NaN</td>\n      <td>NaN</td>\n      <td>NaN</td>\n      <td>NaN</td>\n    </tr>\n    <tr>\n      <th>7</th>\n      <td>BRITS</td>\n      <td>MNAR</td>\n      <td>604.119502</td>\n      <td>0.264222</td>\n      <td>0.042953</td>\n      <td>32.012137</td>\n      <td>0.015465</td>\n      <td>0.004006</td>\n      <td>NaN</td>\n      <td>40628.666667</td>\n      <td>...</td>\n      <td>NaN</td>\n      <td>NaN</td>\n      <td>NaN</td>\n      <td>NaN</td>\n      <td>NaN</td>\n      <td>NaN</td>\n      <td>NaN</td>\n      <td>NaN</td>\n      <td>NaN</td>\n      <td>NaN</td>\n    </tr>\n    <tr>\n      <th>8</th>\n      <td>CSDI</td>\n      <td>BO</td>\n      <td>5.034651</td>\n      <td>0.186122</td>\n      <td>0.024899</td>\n      <td>0.558780</td>\n      <td>0.002575</td>\n      <td>0.000450</td>\n      <td>NaN</td>\n      <td>73241.666667</td>\n      <td>...</td>\n      <td>14972.000000</td>\n      <td>NaN</td>\n      <td>NaN</td>\n      <td>NaN</td>\n      <td>NaN</td>\n      <td>NaN</td>\n      <td>0.055229</td>\n      <td>NaN</td>\n      <td>NaN</td>\n      <td>NaN</td>\n    </tr>\n    <tr>\n      <th>9</th>\n      <td>CSDI</td>\n      <td>MAR</td>\n      <td>6.385178</td>\n      <td>0.181656</td>\n      <td>0.025434</td>\n      <td>4.131361</td>\n      <td>0.075430</td>\n      <td>0.014467</td>\n      <td>NaN</td>\n      <td>67385.000000</td>\n      <td>...</td>\n      <td>13923.000000</td>\n      <td>NaN</td>\n      <td>NaN</td>\n      <td>NaN</td>\n      <td>NaN</td>\n      <td>NaN</td>\n      <td>0.048083</td>\n      <td>NaN</td>\n      <td>NaN</td>\n      <td>NaN</td>\n    </tr>\n    <tr>\n      <th>10</th>\n      <td>CSDI</td>\n      <td>MCAR</td>\n      <td>4.453222</td>\n      <td>0.154320</td>\n      <td>0.018767</td>\n      <td>0.419813</td>\n      <td>0.002879</td>\n      <td>0.000416</td>\n      <td>NaN</td>\n      <td>61793.333333</td>\n      <td>...</td>\n      <td>12546.000000</td>\n      <td>NaN</td>\n      <td>NaN</td>\n      <td>NaN</td>\n      <td>NaN</td>\n      <td>NaN</td>\n      <td>0.057888</td>\n      <td>NaN</td>\n      <td>NaN</td>\n      <td>NaN</td>\n    </tr>\n    <tr>\n      <th>11</th>\n      <td>CSDI</td>\n      <td>MNAR</td>\n      <td>4.605924</td>\n      <td>0.167354</td>\n      <td>0.020755</td>\n      <td>0.319403</td>\n      <td>0.008430</td>\n      <td>0.001116</td>\n      <td>NaN</td>\n      <td>61507.000000</td>\n      <td>...</td>\n      <td>12081.666667</td>\n      <td>NaN</td>\n      <td>NaN</td>\n      <td>NaN</td>\n      <td>NaN</td>\n      <td>NaN</td>\n      <td>0.058944</td>\n      <td>NaN</td>\n      <td>NaN</td>\n      <td>NaN</td>\n    </tr>\n    <tr>\n      <th>12</th>\n      <td>Diffusion</td>\n      <td>BO</td>\n      <td>8.573081</td>\n      <td>0.389860</td>\n      <td>0.134228</td>\n      <td>0.035848</td>\n      <td>0.001210</td>\n      <td>0.003238</td>\n      <td>NaN</td>\n      <td>9079.333333</td>\n      <td>...</td>\n      <td>4586.666667</td>\n      <td>NaN</td>\n      <td>NaN</td>\n      <td>NaN</td>\n      <td>NaN</td>\n      <td>0.134880</td>\n      <td>0.502889</td>\n      <td>NaN</td>\n      <td>0.389274</td>\n      <td>8.562503</td>\n    </tr>\n    <tr>\n      <th>13</th>\n      <td>Diffusion</td>\n      <td>MAR</td>\n      <td>7.880248</td>\n      <td>0.325736</td>\n      <td>0.112387</td>\n      <td>0.145989</td>\n      <td>0.004237</td>\n      <td>0.003554</td>\n      <td>NaN</td>\n      <td>9531.000000</td>\n      <td>...</td>\n      <td>4590.000000</td>\n      <td>NaN</td>\n      <td>NaN</td>\n      <td>NaN</td>\n      <td>NaN</td>\n      <td>0.109866</td>\n      <td>0.417655</td>\n      <td>NaN</td>\n      <td>0.325092</td>\n      <td>7.804780</td>\n    </tr>\n    <tr>\n      <th>14</th>\n      <td>Diffusion</td>\n      <td>MCAR</td>\n      <td>8.569751</td>\n      <td>0.389652</td>\n      <td>0.134603</td>\n      <td>0.034492</td>\n      <td>0.001449</td>\n      <td>0.003689</td>\n      <td>NaN</td>\n      <td>8310.000000</td>\n      <td>...</td>\n      <td>4586.666667</td>\n      <td>NaN</td>\n      <td>NaN</td>\n      <td>NaN</td>\n      <td>NaN</td>\n      <td>0.133107</td>\n      <td>0.504841</td>\n      <td>NaN</td>\n      <td>0.390261</td>\n      <td>8.578371</td>\n    </tr>\n    <tr>\n      <th>15</th>\n      <td>Diffusion</td>\n      <td>MNAR</td>\n      <td>8.525014</td>\n      <td>0.388112</td>\n      <td>0.133992</td>\n      <td>0.159264</td>\n      <td>0.005055</td>\n      <td>0.004371</td>\n      <td>NaN</td>\n      <td>9505.000000</td>\n      <td>...</td>\n      <td>4590.000000</td>\n      <td>NaN</td>\n      <td>NaN</td>\n      <td>NaN</td>\n      <td>NaN</td>\n      <td>0.132050</td>\n      <td>0.505107</td>\n      <td>NaN</td>\n      <td>0.390000</td>\n      <td>8.583801</td>\n    </tr>\n    <tr>\n      <th>16</th>\n      <td>GRU-D</td>\n      <td>BO</td>\n      <td>5.597716</td>\n      <td>0.223806</td>\n      <td>0.038749</td>\n      <td>0.034032</td>\n      <td>0.001970</td>\n      <td>0.000516</td>\n      <td>NaN</td>\n      <td>13082.333333</td>\n      <td>...</td>\n      <td>NaN</td>\n      <td>NaN</td>\n      <td>NaN</td>\n      <td>NaN</td>\n      <td>NaN</td>\n      <td>NaN</td>\n      <td>NaN</td>\n      <td>NaN</td>\n      <td>NaN</td>\n      <td>NaN</td>\n    </tr>\n    <tr>\n      <th>17</th>\n      <td>GRU-D</td>\n      <td>MAR</td>\n      <td>5.753214</td>\n      <td>0.215181</td>\n      <td>0.051057</td>\n      <td>0.368947</td>\n      <td>0.015160</td>\n      <td>0.011508</td>\n      <td>NaN</td>\n      <td>11871.000000</td>\n      <td>...</td>\n      <td>NaN</td>\n      <td>NaN</td>\n      <td>NaN</td>\n      <td>NaN</td>\n      <td>NaN</td>\n      <td>NaN</td>\n      <td>NaN</td>\n      <td>NaN</td>\n      <td>NaN</td>\n      <td>NaN</td>\n    </tr>\n    <tr>\n      <th>18</th>\n      <td>GRU-D</td>\n      <td>MCAR</td>\n      <td>5.439046</td>\n      <td>0.216676</td>\n      <td>0.034703</td>\n      <td>0.029109</td>\n      <td>0.001506</td>\n      <td>0.000291</td>\n      <td>NaN</td>\n      <td>10329.333333</td>\n      <td>...</td>\n      <td>NaN</td>\n      <td>NaN</td>\n      <td>NaN</td>\n      <td>NaN</td>\n      <td>NaN</td>\n      <td>NaN</td>\n      <td>NaN</td>\n      <td>NaN</td>\n      <td>NaN</td>\n      <td>NaN</td>\n    </tr>\n    <tr>\n      <th>19</th>\n      <td>GRU-D</td>\n      <td>MNAR</td>\n      <td>5.789792</td>\n      <td>0.234089</td>\n      <td>0.038142</td>\n      <td>0.233391</td>\n      <td>0.008139</td>\n      <td>0.002004</td>\n      <td>NaN</td>\n      <td>9420.333333</td>\n      <td>...</td>\n      <td>NaN</td>\n      <td>NaN</td>\n      <td>NaN</td>\n      <td>NaN</td>\n      <td>NaN</td>\n      <td>NaN</td>\n      <td>NaN</td>\n      <td>NaN</td>\n      <td>NaN</td>\n      <td>NaN</td>\n    </tr>\n    <tr>\n      <th>20</th>\n      <td>M4IP</td>\n      <td>BO</td>\n      <td>4.681884</td>\n      <td>0.184409</td>\n      <td>0.025243</td>\n      <td>0.024008</td>\n      <td>0.000834</td>\n      <td>0.000194</td>\n      <td>NaN</td>\n      <td>21807.666667</td>\n      <td>...</td>\n      <td>NaN</td>\n      <td>NaN</td>\n      <td>NaN</td>\n      <td>NaN</td>\n      <td>NaN</td>\n      <td>NaN</td>\n      <td>NaN</td>\n      <td>NaN</td>\n      <td>NaN</td>\n      <td>NaN</td>\n    </tr>\n    <tr>\n      <th>21</th>\n      <td>M4IP</td>\n      <td>MAR</td>\n      <td>5.151804</td>\n      <td>0.189959</td>\n      <td>0.043832</td>\n      <td>0.394784</td>\n      <td>0.015996</td>\n      <td>0.011498</td>\n      <td>NaN</td>\n      <td>19146.333333</td>\n      <td>...</td>\n      <td>NaN</td>\n      <td>NaN</td>\n      <td>NaN</td>\n      <td>NaN</td>\n      <td>NaN</td>\n      <td>NaN</td>\n      <td>NaN</td>\n      <td>NaN</td>\n      <td>NaN</td>\n      <td>NaN</td>\n    </tr>\n    <tr>\n      <th>22</th>\n      <td>M4IP</td>\n      <td>MCAR</td>\n      <td>4.561709</td>\n      <td>0.178635</td>\n      <td>0.024040</td>\n      <td>0.021651</td>\n      <td>0.000762</td>\n      <td>0.000149</td>\n      <td>NaN</td>\n      <td>30728.000000</td>\n      <td>...</td>\n      <td>NaN</td>\n      <td>NaN</td>\n      <td>NaN</td>\n      <td>NaN</td>\n      <td>NaN</td>\n      <td>NaN</td>\n      <td>NaN</td>\n      <td>NaN</td>\n      <td>NaN</td>\n      <td>NaN</td>\n    </tr>\n    <tr>\n      <th>23</th>\n      <td>M4IP</td>\n      <td>MNAR</td>\n      <td>5.009150</td>\n      <td>0.199164</td>\n      <td>0.028771</td>\n      <td>0.271389</td>\n      <td>0.008725</td>\n      <td>0.002236</td>\n      <td>NaN</td>\n      <td>14650.333333</td>\n      <td>...</td>\n      <td>NaN</td>\n      <td>NaN</td>\n      <td>NaN</td>\n      <td>NaN</td>\n      <td>NaN</td>\n      <td>NaN</td>\n      <td>NaN</td>\n      <td>NaN</td>\n      <td>NaN</td>\n      <td>NaN</td>\n    </tr>\n    <tr>\n      <th>24</th>\n      <td>MICE</td>\n      <td>BO</td>\n      <td>816.465363</td>\n      <td>0.388229</td>\n      <td>0.219630</td>\n      <td>6.817136</td>\n      <td>0.001611</td>\n      <td>0.001567</td>\n      <td>NaN</td>\n      <td>2202.000000</td>\n      <td>...</td>\n      <td>NaN</td>\n      <td>NaN</td>\n      <td>NaN</td>\n      <td>NaN</td>\n      <td>NaN</td>\n      <td>NaN</td>\n      <td>NaN</td>\n      <td>NaN</td>\n      <td>NaN</td>\n      <td>NaN</td>\n    </tr>\n    <tr>\n      <th>25</th>\n      <td>MICE</td>\n      <td>MAR</td>\n      <td>678.390983</td>\n      <td>0.278204</td>\n      <td>0.059800</td>\n      <td>28.387629</td>\n      <td>0.010251</td>\n      <td>0.005959</td>\n      <td>NaN</td>\n      <td>3784.000000</td>\n      <td>...</td>\n      <td>NaN</td>\n      <td>NaN</td>\n      <td>NaN</td>\n      <td>NaN</td>\n      <td>NaN</td>\n      <td>NaN</td>\n      <td>NaN</td>\n      <td>NaN</td>\n      <td>NaN</td>\n      <td>NaN</td>\n    </tr>\n    <tr>\n      <th>26</th>\n      <td>MICE</td>\n      <td>MCAR</td>\n      <td>746.173776</td>\n      <td>0.341322</td>\n      <td>0.091213</td>\n      <td>7.811672</td>\n      <td>0.001535</td>\n      <td>0.001066</td>\n      <td>NaN</td>\n      <td>4671.333333</td>\n      <td>...</td>\n      <td>NaN</td>\n      <td>NaN</td>\n      <td>NaN</td>\n      <td>NaN</td>\n      <td>NaN</td>\n      <td>NaN</td>\n      <td>NaN</td>\n      <td>NaN</td>\n      <td>NaN</td>\n      <td>NaN</td>\n    </tr>\n    <tr>\n      <th>27</th>\n      <td>MICE</td>\n      <td>MNAR</td>\n      <td>761.638124</td>\n      <td>0.348106</td>\n      <td>0.079480</td>\n      <td>25.002705</td>\n      <td>0.009769</td>\n      <td>0.007378</td>\n      <td>NaN</td>\n      <td>3888.666667</td>\n      <td>...</td>\n      <td>NaN</td>\n      <td>NaN</td>\n      <td>NaN</td>\n      <td>NaN</td>\n      <td>NaN</td>\n      <td>NaN</td>\n      <td>NaN</td>\n      <td>NaN</td>\n      <td>NaN</td>\n      <td>NaN</td>\n    </tr>\n    <tr>\n      <th>28</th>\n      <td>MLP</td>\n      <td>BO</td>\n      <td>7.329695</td>\n      <td>0.325523</td>\n      <td>0.124025</td>\n      <td>0.037638</td>\n      <td>0.002510</td>\n      <td>0.003074</td>\n      <td>NaN</td>\n      <td>2783.666667</td>\n      <td>...</td>\n      <td>NaN</td>\n      <td>NaN</td>\n      <td>NaN</td>\n      <td>NaN</td>\n      <td>NaN</td>\n      <td>NaN</td>\n      <td>NaN</td>\n      <td>NaN</td>\n      <td>NaN</td>\n      <td>NaN</td>\n    </tr>\n    <tr>\n      <th>29</th>\n      <td>MLP</td>\n      <td>MAR</td>\n      <td>7.145263</td>\n      <td>0.294200</td>\n      <td>0.092736</td>\n      <td>0.206824</td>\n      <td>0.010927</td>\n      <td>0.008745</td>\n      <td>NaN</td>\n      <td>2674.333333</td>\n      <td>...</td>\n      <td>NaN</td>\n      <td>NaN</td>\n      <td>NaN</td>\n      <td>NaN</td>\n      <td>NaN</td>\n      <td>NaN</td>\n      <td>NaN</td>\n      <td>NaN</td>\n      <td>NaN</td>\n      <td>NaN</td>\n    </tr>\n    <tr>\n      <th>30</th>\n      <td>MLP</td>\n      <td>MCAR</td>\n      <td>7.306559</td>\n      <td>0.324580</td>\n      <td>0.123093</td>\n      <td>0.036363</td>\n      <td>0.002202</td>\n      <td>0.002479</td>\n      <td>NaN</td>\n      <td>2182.666667</td>\n      <td>...</td>\n      <td>NaN</td>\n      <td>NaN</td>\n      <td>NaN</td>\n      <td>NaN</td>\n      <td>NaN</td>\n      <td>NaN</td>\n      <td>NaN</td>\n      <td>NaN</td>\n      <td>NaN</td>\n      <td>NaN</td>\n    </tr>\n    <tr>\n      <th>31</th>\n      <td>MLP</td>\n      <td>MNAR</td>\n      <td>7.490297</td>\n      <td>0.335272</td>\n      <td>0.128311</td>\n      <td>0.099432</td>\n      <td>0.004328</td>\n      <td>0.005324</td>\n      <td>NaN</td>\n      <td>1988.000000</td>\n      <td>...</td>\n      <td>NaN</td>\n      <td>NaN</td>\n      <td>NaN</td>\n      <td>NaN</td>\n      <td>NaN</td>\n      <td>NaN</td>\n      <td>NaN</td>\n      <td>NaN</td>\n      <td>NaN</td>\n      <td>NaN</td>\n    </tr>\n    <tr>\n      <th>32</th>\n      <td>Mean</td>\n      <td>BO</td>\n      <td>816.465363</td>\n      <td>0.388229</td>\n      <td>0.219630</td>\n      <td>6.817136</td>\n      <td>0.001611</td>\n      <td>0.001567</td>\n      <td>NaN</td>\n      <td>2119.666667</td>\n      <td>...</td>\n      <td>NaN</td>\n      <td>NaN</td>\n      <td>NaN</td>\n      <td>NaN</td>\n      <td>NaN</td>\n      <td>NaN</td>\n      <td>NaN</td>\n      <td>NaN</td>\n      <td>NaN</td>\n      <td>NaN</td>\n    </tr>\n    <tr>\n      <th>33</th>\n      <td>Mean</td>\n      <td>MAR</td>\n      <td>750.994267</td>\n      <td>0.326355</td>\n      <td>0.120956</td>\n      <td>21.501267</td>\n      <td>0.008259</td>\n      <td>0.018591</td>\n      <td>NaN</td>\n      <td>1460.000000</td>\n      <td>...</td>\n      <td>NaN</td>\n      <td>NaN</td>\n      <td>NaN</td>\n      <td>NaN</td>\n      <td>NaN</td>\n      <td>NaN</td>\n      <td>NaN</td>\n      <td>NaN</td>\n      <td>NaN</td>\n      <td>NaN</td>\n    </tr>\n    <tr>\n      <th>34</th>\n      <td>Mean</td>\n      <td>MCAR</td>\n      <td>816.422337</td>\n      <td>0.388236</td>\n      <td>0.219624</td>\n      <td>6.610060</td>\n      <td>0.001426</td>\n      <td>0.001506</td>\n      <td>NaN</td>\n      <td>1752.666667</td>\n      <td>...</td>\n      <td>NaN</td>\n      <td>NaN</td>\n      <td>NaN</td>\n      <td>NaN</td>\n      <td>NaN</td>\n      <td>NaN</td>\n      <td>NaN</td>\n      <td>NaN</td>\n      <td>NaN</td>\n      <td>NaN</td>\n    </tr>\n    <tr>\n      <th>35</th>\n      <td>Mean</td>\n      <td>MNAR</td>\n      <td>820.753426</td>\n      <td>0.390822</td>\n      <td>0.150934</td>\n      <td>20.830322</td>\n      <td>0.009033</td>\n      <td>0.019412</td>\n      <td>NaN</td>\n      <td>1757.666667</td>\n      <td>...</td>\n      <td>NaN</td>\n      <td>NaN</td>\n      <td>NaN</td>\n      <td>NaN</td>\n      <td>NaN</td>\n      <td>NaN</td>\n      <td>NaN</td>\n      <td>NaN</td>\n      <td>NaN</td>\n      <td>NaN</td>\n    </tr>\n    <tr>\n      <th>36</th>\n      <td>Median</td>\n      <td>BO</td>\n      <td>826.420555</td>\n      <td>0.384348</td>\n      <td>0.092862</td>\n      <td>7.148840</td>\n      <td>0.001687</td>\n      <td>0.001484</td>\n      <td>NaN</td>\n      <td>2596.000000</td>\n      <td>...</td>\n      <td>NaN</td>\n      <td>NaN</td>\n      <td>NaN</td>\n      <td>NaN</td>\n      <td>NaN</td>\n      <td>NaN</td>\n      <td>NaN</td>\n      <td>NaN</td>\n      <td>NaN</td>\n      <td>NaN</td>\n    </tr>\n    <tr>\n      <th>37</th>\n      <td>Median</td>\n      <td>MAR</td>\n      <td>756.524055</td>\n      <td>0.322588</td>\n      <td>0.076346</td>\n      <td>24.752208</td>\n      <td>0.009263</td>\n      <td>0.011219</td>\n      <td>NaN</td>\n      <td>2287.000000</td>\n      <td>...</td>\n      <td>NaN</td>\n      <td>NaN</td>\n      <td>NaN</td>\n      <td>NaN</td>\n      <td>NaN</td>\n      <td>NaN</td>\n      <td>NaN</td>\n      <td>NaN</td>\n      <td>NaN</td>\n      <td>NaN</td>\n    </tr>\n    <tr>\n      <th>38</th>\n      <td>Median</td>\n      <td>MCAR</td>\n      <td>826.350776</td>\n      <td>0.384342</td>\n      <td>0.092886</td>\n      <td>6.927774</td>\n      <td>0.001497</td>\n      <td>0.001229</td>\n      <td>NaN</td>\n      <td>1737.000000</td>\n      <td>...</td>\n      <td>NaN</td>\n      <td>NaN</td>\n      <td>NaN</td>\n      <td>NaN</td>\n      <td>NaN</td>\n      <td>NaN</td>\n      <td>NaN</td>\n      <td>NaN</td>\n      <td>NaN</td>\n      <td>NaN</td>\n    </tr>\n    <tr>\n      <th>39</th>\n      <td>Median</td>\n      <td>MNAR</td>\n      <td>828.872873</td>\n      <td>0.386461</td>\n      <td>0.088725</td>\n      <td>23.773558</td>\n      <td>0.009757</td>\n      <td>0.012834</td>\n      <td>NaN</td>\n      <td>1820.333333</td>\n      <td>...</td>\n      <td>NaN</td>\n      <td>NaN</td>\n      <td>NaN</td>\n      <td>NaN</td>\n      <td>NaN</td>\n      <td>NaN</td>\n      <td>NaN</td>\n      <td>NaN</td>\n      <td>NaN</td>\n      <td>NaN</td>\n    </tr>\n    <tr>\n      <th>40</th>\n      <td>MissForest</td>\n      <td>BO</td>\n      <td>843.576025</td>\n      <td>0.394790</td>\n      <td>0.098552</td>\n      <td>10.801010</td>\n      <td>0.006179</td>\n      <td>0.018236</td>\n      <td>NaN</td>\n      <td>4405.333333</td>\n      <td>...</td>\n      <td>NaN</td>\n      <td>NaN</td>\n      <td>NaN</td>\n      <td>NaN</td>\n      <td>NaN</td>\n      <td>NaN</td>\n      <td>NaN</td>\n      <td>NaN</td>\n      <td>NaN</td>\n      <td>NaN</td>\n    </tr>\n    <tr>\n      <th>41</th>\n      <td>MissForest</td>\n      <td>MAR</td>\n      <td>684.924243</td>\n      <td>0.290296</td>\n      <td>0.048826</td>\n      <td>27.724988</td>\n      <td>0.011942</td>\n      <td>0.006223</td>\n      <td>NaN</td>\n      <td>11399.333333</td>\n      <td>...</td>\n      <td>NaN</td>\n      <td>NaN</td>\n      <td>NaN</td>\n      <td>NaN</td>\n      <td>NaN</td>\n      <td>NaN</td>\n      <td>NaN</td>\n      <td>NaN</td>\n      <td>NaN</td>\n      <td>NaN</td>\n    </tr>\n    <tr>\n      <th>42</th>\n      <td>MissForest</td>\n      <td>MCAR</td>\n      <td>847.516743</td>\n      <td>0.394731</td>\n      <td>0.060199</td>\n      <td>59.010117</td>\n      <td>0.030671</td>\n      <td>0.008412</td>\n      <td>NaN</td>\n      <td>6727.666667</td>\n      <td>...</td>\n      <td>NaN</td>\n      <td>NaN</td>\n      <td>NaN</td>\n      <td>NaN</td>\n      <td>NaN</td>\n      <td>NaN</td>\n      <td>NaN</td>\n      <td>NaN</td>\n      <td>NaN</td>\n      <td>NaN</td>\n    </tr>\n    <tr>\n      <th>43</th>\n      <td>MissForest</td>\n      <td>MNAR</td>\n      <td>905.992961</td>\n      <td>0.428465</td>\n      <td>0.058894</td>\n      <td>68.004394</td>\n      <td>0.035958</td>\n      <td>0.005132</td>\n      <td>NaN</td>\n      <td>14064.666667</td>\n      <td>...</td>\n      <td>NaN</td>\n      <td>NaN</td>\n      <td>NaN</td>\n      <td>NaN</td>\n      <td>NaN</td>\n      <td>NaN</td>\n      <td>NaN</td>\n      <td>NaN</td>\n      <td>NaN</td>\n      <td>NaN</td>\n    </tr>\n    <tr>\n      <th>44</th>\n      <td>MostFrequent</td>\n      <td>BO</td>\n      <td>934.698870</td>\n      <td>0.421186</td>\n      <td>0.048918</td>\n      <td>11.512987</td>\n      <td>0.004032</td>\n      <td>0.001951</td>\n      <td>NaN</td>\n      <td>2542.000000</td>\n      <td>...</td>\n      <td>NaN</td>\n      <td>NaN</td>\n      <td>NaN</td>\n      <td>NaN</td>\n      <td>NaN</td>\n      <td>NaN</td>\n      <td>NaN</td>\n      <td>NaN</td>\n      <td>NaN</td>\n      <td>NaN</td>\n    </tr>\n    <tr>\n      <th>45</th>\n      <td>MostFrequent</td>\n      <td>MAR</td>\n      <td>839.624337</td>\n      <td>0.347359</td>\n      <td>0.042798</td>\n      <td>40.126582</td>\n      <td>0.014947</td>\n      <td>0.006377</td>\n      <td>NaN</td>\n      <td>1480.333333</td>\n      <td>...</td>\n      <td>NaN</td>\n      <td>NaN</td>\n      <td>NaN</td>\n      <td>NaN</td>\n      <td>NaN</td>\n      <td>NaN</td>\n      <td>NaN</td>\n      <td>NaN</td>\n      <td>NaN</td>\n      <td>NaN</td>\n    </tr>\n    <tr>\n      <th>46</th>\n      <td>MostFrequent</td>\n      <td>MCAR</td>\n      <td>927.623704</td>\n      <td>0.349711</td>\n      <td>0.041548</td>\n      <td>7.724528</td>\n      <td>0.002388</td>\n      <td>0.001547</td>\n      <td>NaN</td>\n      <td>2374.000000</td>\n      <td>...</td>\n      <td>NaN</td>\n      <td>NaN</td>\n      <td>NaN</td>\n      <td>NaN</td>\n      <td>NaN</td>\n      <td>NaN</td>\n      <td>NaN</td>\n      <td>NaN</td>\n      <td>NaN</td>\n      <td>NaN</td>\n    </tr>\n    <tr>\n      <th>47</th>\n      <td>MostFrequent</td>\n      <td>MNAR</td>\n      <td>929.723328</td>\n      <td>0.419716</td>\n      <td>0.051640</td>\n      <td>32.230681</td>\n      <td>0.014279</td>\n      <td>0.007696</td>\n      <td>NaN</td>\n      <td>2072.000000</td>\n      <td>...</td>\n      <td>NaN</td>\n      <td>NaN</td>\n      <td>NaN</td>\n      <td>NaN</td>\n      <td>NaN</td>\n      <td>NaN</td>\n      <td>NaN</td>\n      <td>NaN</td>\n      <td>NaN</td>\n      <td>NaN</td>\n    </tr>\n    <tr>\n      <th>48</th>\n      <td>NP</td>\n      <td>BO</td>\n      <td>6.007656</td>\n      <td>0.252085</td>\n      <td>0.039540</td>\n      <td>0.229890</td>\n      <td>0.011514</td>\n      <td>0.010519</td>\n      <td>NaN</td>\n      <td>74629.000000</td>\n      <td>...</td>\n      <td>NaN</td>\n      <td>NaN</td>\n      <td>NaN</td>\n      <td>NaN</td>\n      <td>NaN</td>\n      <td>NaN</td>\n      <td>NaN</td>\n      <td>NaN</td>\n      <td>NaN</td>\n      <td>NaN</td>\n    </tr>\n    <tr>\n      <th>49</th>\n      <td>NP</td>\n      <td>MAR</td>\n      <td>6.079375</td>\n      <td>0.240763</td>\n      <td>0.041538</td>\n      <td>0.393122</td>\n      <td>0.017505</td>\n      <td>0.005571</td>\n      <td>NaN</td>\n      <td>71957.666667</td>\n      <td>...</td>\n      <td>NaN</td>\n      <td>NaN</td>\n      <td>NaN</td>\n      <td>NaN</td>\n      <td>NaN</td>\n      <td>NaN</td>\n      <td>NaN</td>\n      <td>NaN</td>\n      <td>NaN</td>\n      <td>NaN</td>\n    </tr>\n    <tr>\n      <th>50</th>\n      <td>NP</td>\n      <td>MCAR</td>\n      <td>5.510680</td>\n      <td>0.211530</td>\n      <td>0.034960</td>\n      <td>0.159761</td>\n      <td>0.005541</td>\n      <td>0.001908</td>\n      <td>NaN</td>\n      <td>95956.800000</td>\n      <td>...</td>\n      <td>NaN</td>\n      <td>NaN</td>\n      <td>NaN</td>\n      <td>NaN</td>\n      <td>NaN</td>\n      <td>NaN</td>\n      <td>NaN</td>\n      <td>NaN</td>\n      <td>NaN</td>\n      <td>NaN</td>\n    </tr>\n    <tr>\n      <th>51</th>\n      <td>NP</td>\n      <td>MNAR</td>\n      <td>6.573497</td>\n      <td>0.282348</td>\n      <td>0.050809</td>\n      <td>0.339952</td>\n      <td>0.016462</td>\n      <td>0.010424</td>\n      <td>NaN</td>\n      <td>52507.666667</td>\n      <td>...</td>\n      <td>NaN</td>\n      <td>NaN</td>\n      <td>NaN</td>\n      <td>NaN</td>\n      <td>NaN</td>\n      <td>NaN</td>\n      <td>NaN</td>\n      <td>NaN</td>\n      <td>NaN</td>\n      <td>NaN</td>\n    </tr>\n    <tr>\n      <th>52</th>\n      <td>SAITS</td>\n      <td>BO</td>\n      <td>542.065893</td>\n      <td>0.234613</td>\n      <td>0.037674</td>\n      <td>54.285045</td>\n      <td>0.030165</td>\n      <td>0.006492</td>\n      <td>NaN</td>\n      <td>95815.000000</td>\n      <td>...</td>\n      <td>NaN</td>\n      <td>NaN</td>\n      <td>NaN</td>\n      <td>NaN</td>\n      <td>NaN</td>\n      <td>NaN</td>\n      <td>NaN</td>\n      <td>NaN</td>\n      <td>NaN</td>\n      <td>NaN</td>\n    </tr>\n    <tr>\n      <th>53</th>\n      <td>SAITS</td>\n      <td>MAR</td>\n      <td>380.862084</td>\n      <td>0.131029</td>\n      <td>0.017133</td>\n      <td>29.626382</td>\n      <td>0.011649</td>\n      <td>0.002092</td>\n      <td>NaN</td>\n      <td>122472.666667</td>\n      <td>...</td>\n      <td>NaN</td>\n      <td>NaN</td>\n      <td>NaN</td>\n      <td>NaN</td>\n      <td>NaN</td>\n      <td>NaN</td>\n      <td>NaN</td>\n      <td>NaN</td>\n      <td>NaN</td>\n      <td>NaN</td>\n    </tr>\n    <tr>\n      <th>54</th>\n      <td>SAITS</td>\n      <td>MCAR</td>\n      <td>344.925519</td>\n      <td>0.122097</td>\n      <td>0.015059</td>\n      <td>5.310720</td>\n      <td>0.001170</td>\n      <td>0.000178</td>\n      <td>NaN</td>\n      <td>84949.800000</td>\n      <td>...</td>\n      <td>NaN</td>\n      <td>NaN</td>\n      <td>NaN</td>\n      <td>NaN</td>\n      <td>NaN</td>\n      <td>NaN</td>\n      <td>NaN</td>\n      <td>NaN</td>\n      <td>NaN</td>\n      <td>NaN</td>\n    </tr>\n    <tr>\n      <th>55</th>\n      <td>SAITS</td>\n      <td>MNAR</td>\n      <td>415.355502</td>\n      <td>0.158112</td>\n      <td>0.021126</td>\n      <td>20.134613</td>\n      <td>0.006294</td>\n      <td>0.001266</td>\n      <td>NaN</td>\n      <td>86876.000000</td>\n      <td>...</td>\n      <td>NaN</td>\n      <td>NaN</td>\n      <td>NaN</td>\n      <td>NaN</td>\n      <td>NaN</td>\n      <td>NaN</td>\n      <td>NaN</td>\n      <td>NaN</td>\n      <td>NaN</td>\n      <td>NaN</td>\n    </tr>\n    <tr>\n      <th>56</th>\n      <td>Zero</td>\n      <td>BO</td>\n      <td>816.465614</td>\n      <td>0.388223</td>\n      <td>0.224975</td>\n      <td>6.818908</td>\n      <td>0.001596</td>\n      <td>0.000267</td>\n      <td>NaN</td>\n      <td>2110.000000</td>\n      <td>...</td>\n      <td>NaN</td>\n      <td>NaN</td>\n      <td>NaN</td>\n      <td>NaN</td>\n      <td>NaN</td>\n      <td>NaN</td>\n      <td>NaN</td>\n      <td>NaN</td>\n      <td>NaN</td>\n      <td>NaN</td>\n    </tr>\n    <tr>\n      <th>57</th>\n      <td>Zero</td>\n      <td>MAR</td>\n      <td>742.866537</td>\n      <td>0.322248</td>\n      <td>0.176195</td>\n      <td>16.881947</td>\n      <td>0.005125</td>\n      <td>0.003277</td>\n      <td>NaN</td>\n      <td>1759.000000</td>\n      <td>...</td>\n      <td>NaN</td>\n      <td>NaN</td>\n      <td>NaN</td>\n      <td>NaN</td>\n      <td>NaN</td>\n      <td>NaN</td>\n      <td>NaN</td>\n      <td>NaN</td>\n      <td>NaN</td>\n      <td>NaN</td>\n    </tr>\n    <tr>\n      <th>58</th>\n      <td>Zero</td>\n      <td>MCAR</td>\n      <td>816.421242</td>\n      <td>0.388226</td>\n      <td>0.224987</td>\n      <td>6.611271</td>\n      <td>0.001422</td>\n      <td>0.000325</td>\n      <td>NaN</td>\n      <td>1884.666667</td>\n      <td>...</td>\n      <td>NaN</td>\n      <td>NaN</td>\n      <td>NaN</td>\n      <td>NaN</td>\n      <td>NaN</td>\n      <td>NaN</td>\n      <td>NaN</td>\n      <td>NaN</td>\n      <td>NaN</td>\n      <td>NaN</td>\n    </tr>\n    <tr>\n      <th>59</th>\n      <td>Zero</td>\n      <td>MNAR</td>\n      <td>812.479294</td>\n      <td>0.386685</td>\n      <td>0.223557</td>\n      <td>13.920021</td>\n      <td>0.004211</td>\n      <td>0.003124</td>\n      <td>NaN</td>\n      <td>1415.666667</td>\n      <td>...</td>\n      <td>NaN</td>\n      <td>NaN</td>\n      <td>NaN</td>\n      <td>NaN</td>\n      <td>NaN</td>\n      <td>NaN</td>\n      <td>NaN</td>\n      <td>NaN</td>\n      <td>NaN</td>\n      <td>NaN</td>\n    </tr>\n  </tbody>\n</table>\n<p>60 rows × 146 columns</p>\n</div>"
     },
     "execution_count": 194,
     "metadata": {},
     "output_type": "execute_result"
    }
   ],
   "source": [
    "dataset"
   ],
   "metadata": {
    "collapsed": false
   }
  },
  {
   "cell_type": "code",
   "execution_count": 227,
   "outputs": [
    {
     "ename": "ValueError",
     "evalue": "`errorbar` must be a callable, string, or (string, number) tuple",
     "output_type": "error",
     "traceback": [
      "\u001B[1;31m---------------------------------------------------------------------------\u001B[0m",
      "\u001B[1;31mValueError\u001B[0m                                Traceback (most recent call last)",
      "File \u001B[1;32m~\\miniconda\\envs\\yaib_15\\lib\\site-packages\\seaborn\\_statistics.py:546\u001B[0m, in \u001B[0;36m_validate_errorbar_arg\u001B[1;34m(arg)\u001B[0m\n\u001B[0;32m    545\u001B[0m \u001B[38;5;28;01mtry\u001B[39;00m:\n\u001B[1;32m--> 546\u001B[0m     method, level \u001B[38;5;241m=\u001B[39m arg\n\u001B[0;32m    547\u001B[0m \u001B[38;5;28;01mexcept\u001B[39;00m (\u001B[38;5;167;01mValueError\u001B[39;00m, \u001B[38;5;167;01mTypeError\u001B[39;00m) \u001B[38;5;28;01mas\u001B[39;00m err:\n",
      "\u001B[1;31mValueError\u001B[0m: too many values to unpack (expected 2)",
      "\nThe above exception was the direct cause of the following exception:\n",
      "\u001B[1;31mValueError\u001B[0m                                Traceback (most recent call last)",
      "Cell \u001B[1;32mIn[227], line 2\u001B[0m\n\u001B[0;32m      1\u001B[0m metric \u001B[38;5;241m=\u001B[39m \u001B[38;5;124m\"\u001B[39m\u001B[38;5;124mavg.mae\u001B[39m\u001B[38;5;124m\"\u001B[39m\n\u001B[1;32m----> 2\u001B[0m g \u001B[38;5;241m=\u001B[39m \u001B[43msns\u001B[49m\u001B[38;5;241;43m.\u001B[39;49m\u001B[43mcatplot\u001B[49m\u001B[43m(\u001B[49m\u001B[43my\u001B[49m\u001B[38;5;241;43m=\u001B[39;49m\u001B[38;5;124;43m\"\u001B[39;49m\u001B[38;5;124;43mavg.mae\u001B[39;49m\u001B[38;5;124;43m\"\u001B[39;49m\u001B[43m,\u001B[49m\u001B[43mx\u001B[49m\u001B[38;5;241;43m=\u001B[39;49m\u001B[38;5;124;43m\"\u001B[39;49m\u001B[38;5;124;43mmodel\u001B[39;49m\u001B[38;5;124;43m\"\u001B[39;49m\u001B[43m,\u001B[49m\u001B[43m \u001B[49m\u001B[43mhue\u001B[49m\u001B[38;5;241;43m=\u001B[39;49m\u001B[38;5;124;43m\"\u001B[39;49m\u001B[38;5;124;43mImputationDataset.mask_method\u001B[39;49m\u001B[38;5;124;43m\"\u001B[39;49m\u001B[43m,\u001B[49m\u001B[43m \u001B[49m\u001B[43mdata\u001B[49m\u001B[38;5;241;43m=\u001B[39;49m\u001B[43mdf\u001B[49m\u001B[43m,\u001B[49m\n\u001B[0;32m      3\u001B[0m \u001B[43m                \u001B[49m\u001B[43mheight\u001B[49m\u001B[38;5;241;43m=\u001B[39;49m\u001B[38;5;241;43m6\u001B[39;49m\u001B[43m,\u001B[49m\u001B[43m \u001B[49m\u001B[43mkind\u001B[49m\u001B[38;5;241;43m=\u001B[39;49m\u001B[38;5;124;43m\"\u001B[39;49m\u001B[38;5;124;43mbar\u001B[39;49m\u001B[38;5;124;43m\"\u001B[39;49m\u001B[43m,\u001B[49m\u001B[43m \u001B[49m\u001B[43mpalette\u001B[49m\u001B[38;5;241;43m=\u001B[39;49m\u001B[38;5;124;43m\"\u001B[39;49m\u001B[38;5;124;43mcolorblind\u001B[39;49m\u001B[38;5;124;43m\"\u001B[39;49m\u001B[43m,\u001B[49m\u001B[43m \u001B[49m\u001B[43morient\u001B[49m\u001B[38;5;241;43m=\u001B[39;49m\u001B[38;5;124;43m\"\u001B[39;49m\u001B[38;5;124;43mv\u001B[39;49m\u001B[38;5;124;43m\"\u001B[39;49m\u001B[43m,\u001B[49m\u001B[43m \u001B[49m\u001B[43mlog\u001B[49m\u001B[38;5;241;43m=\u001B[39;49m\u001B[38;5;28;43;01mFalse\u001B[39;49;00m\u001B[43m,\u001B[49m\u001B[43m \u001B[49m\u001B[43mlegend\u001B[49m\u001B[38;5;241;43m=\u001B[39;49m\u001B[38;5;28;43;01mFalse\u001B[39;49;00m\u001B[43m,\u001B[49m\u001B[43m \u001B[49m\u001B[43maspect\u001B[49m\u001B[38;5;241;43m=\u001B[39;49m\u001B[38;5;241;43m2\u001B[39;49m\u001B[43m,\u001B[49m\u001B[43merrorbar\u001B[49m\u001B[38;5;241;43m=\u001B[39;49m\u001B[43mdf\u001B[49m\u001B[43m[\u001B[49m\u001B[38;5;124;43m\"\u001B[39;49m\u001B[38;5;124;43mstd.mae\u001B[39;49m\u001B[38;5;124;43m\"\u001B[39;49m\u001B[43m]\u001B[49m\u001B[43m,\u001B[49m\u001B[43m \u001B[49m\u001B[43morder\u001B[49m\u001B[38;5;241;43m=\u001B[39;49m\u001B[43m[\u001B[49m\u001B[38;5;124;43m\"\u001B[39;49m\u001B[38;5;124;43mZero\u001B[39;49m\u001B[38;5;124;43m\"\u001B[39;49m\u001B[43m,\u001B[49m\u001B[43m \u001B[49m\u001B[38;5;124;43m\"\u001B[39;49m\u001B[38;5;124;43mMedian\u001B[39;49m\u001B[38;5;124;43m\"\u001B[39;49m\u001B[43m,\u001B[49m\u001B[38;5;124;43m\"\u001B[39;49m\u001B[38;5;124;43mMean\u001B[39;49m\u001B[38;5;124;43m\"\u001B[39;49m\u001B[43m,\u001B[49m\u001B[43m \u001B[49m\u001B[38;5;124;43m\"\u001B[39;49m\u001B[38;5;124;43mMostFrequent\u001B[39;49m\u001B[38;5;124;43m\"\u001B[39;49m\u001B[43m,\u001B[49m\u001B[43m \u001B[49m\u001B[38;5;124;43m\"\u001B[39;49m\u001B[38;5;124;43mMICE\u001B[39;49m\u001B[38;5;124;43m\"\u001B[39;49m\u001B[43m,\u001B[49m\u001B[43m \u001B[49m\u001B[38;5;124;43m\"\u001B[39;49m\u001B[38;5;124;43mMissForest\u001B[39;49m\u001B[38;5;124;43m\"\u001B[39;49m\u001B[43m,\u001B[49m\u001B[38;5;124;43m\"\u001B[39;49m\u001B[38;5;124;43mMLP\u001B[39;49m\u001B[38;5;124;43m\"\u001B[39;49m\u001B[43m,\u001B[49m\u001B[43m \u001B[49m\u001B[38;5;124;43m\"\u001B[39;49m\u001B[38;5;124;43mBRITS\u001B[39;49m\u001B[38;5;124;43m\"\u001B[39;49m\u001B[43m,\u001B[49m\u001B[43m \u001B[49m\u001B[38;5;124;43m\"\u001B[39;49m\u001B[38;5;124;43mRNN\u001B[39;49m\u001B[38;5;124;43m\"\u001B[39;49m\u001B[43m,\u001B[49m\u001B[43m \u001B[49m\u001B[38;5;124;43m\"\u001B[39;49m\u001B[38;5;124;43mBRNN\u001B[39;49m\u001B[38;5;124;43m\"\u001B[39;49m\u001B[43m,\u001B[49m\u001B[43m \u001B[49m\u001B[38;5;124;43m\"\u001B[39;49m\u001B[38;5;124;43mAttention\u001B[39;49m\u001B[38;5;124;43m\"\u001B[39;49m\u001B[43m,\u001B[49m\u001B[43m \u001B[49m\u001B[38;5;124;43m\"\u001B[39;49m\u001B[38;5;124;43mNP\u001B[39;49m\u001B[38;5;124;43m\"\u001B[39;49m\u001B[43m,\u001B[49m\u001B[38;5;124;43m\"\u001B[39;49m\u001B[38;5;124;43mSAITS\u001B[39;49m\u001B[38;5;124;43m\"\u001B[39;49m\u001B[43m,\u001B[49m\u001B[38;5;124;43m\"\u001B[39;49m\u001B[38;5;124;43mSimple_Diffusion\u001B[39;49m\u001B[38;5;124;43m\"\u001B[39;49m\u001B[43m,\u001B[49m\u001B[43m \u001B[49m\u001B[38;5;124;43m\"\u001B[39;49m\u001B[38;5;124;43mCSDI\u001B[39;49m\u001B[38;5;124;43m\"\u001B[39;49m\u001B[43m]\u001B[49m\u001B[43m)\u001B[49m\n\u001B[0;32m      4\u001B[0m plt\u001B[38;5;241m.\u001B[39mlegend(loc\u001B[38;5;241m=\u001B[39m\u001B[38;5;124m\"\u001B[39m\u001B[38;5;124mupper center\u001B[39m\u001B[38;5;124m\"\u001B[39m, ncol\u001B[38;5;241m=\u001B[39m\u001B[38;5;28mlen\u001B[39m(df[\u001B[38;5;124m\"\u001B[39m\u001B[38;5;124mImputationDataset.mask_method\u001B[39m\u001B[38;5;124m\"\u001B[39m]\u001B[38;5;241m.\u001B[39munique()), title\u001B[38;5;241m=\u001B[39m\u001B[38;5;124m\"\u001B[39m\u001B[38;5;124mMissingness\u001B[39m\u001B[38;5;124m\"\u001B[39m, bbox_to_anchor\u001B[38;5;241m=\u001B[39m(\u001B[38;5;241m0.5\u001B[39m,\u001B[38;5;241m1.1\u001B[39m))\n\u001B[0;32m      5\u001B[0m g\u001B[38;5;241m.\u001B[39mset_ylabels(\u001B[38;5;124m\"\u001B[39m\u001B[38;5;124mRoot Mean Squared Error (RMSE)\u001B[39m\u001B[38;5;124m\"\u001B[39m)\n",
      "File \u001B[1;32m~\\miniconda\\envs\\yaib_15\\lib\\site-packages\\seaborn\\categorical.py:3244\u001B[0m, in \u001B[0;36mcatplot\u001B[1;34m(data, x, y, hue, row, col, col_wrap, estimator, errorbar, n_boot, units, seed, order, hue_order, row_order, col_order, height, aspect, kind, native_scale, formatter, orient, color, palette, hue_norm, legend, legend_out, sharex, sharey, margin_titles, facet_kws, ci, **kwargs)\u001B[0m\n\u001B[0;32m   3241\u001B[0m g \u001B[38;5;241m=\u001B[39m FacetGrid(\u001B[38;5;241m*\u001B[39m\u001B[38;5;241m*\u001B[39mfacet_kws)\n\u001B[0;32m   3243\u001B[0m \u001B[38;5;66;03m# Draw the plot onto the facets\u001B[39;00m\n\u001B[1;32m-> 3244\u001B[0m g\u001B[38;5;241m.\u001B[39mmap_dataframe(plot_func, x\u001B[38;5;241m=\u001B[39mx, y\u001B[38;5;241m=\u001B[39my, hue\u001B[38;5;241m=\u001B[39mhue, \u001B[38;5;241m*\u001B[39m\u001B[38;5;241m*\u001B[39mplot_kws)\n\u001B[0;32m   3246\u001B[0m \u001B[38;5;28;01mif\u001B[39;00m p\u001B[38;5;241m.\u001B[39morient \u001B[38;5;241m==\u001B[39m \u001B[38;5;124m\"\u001B[39m\u001B[38;5;124mh\u001B[39m\u001B[38;5;124m\"\u001B[39m:\n\u001B[0;32m   3247\u001B[0m     g\u001B[38;5;241m.\u001B[39mset_axis_labels(p\u001B[38;5;241m.\u001B[39mvalue_label, p\u001B[38;5;241m.\u001B[39mgroup_label)\n",
      "File \u001B[1;32m~\\miniconda\\envs\\yaib_15\\lib\\site-packages\\seaborn\\axisgrid.py:819\u001B[0m, in \u001B[0;36mFacetGrid.map_dataframe\u001B[1;34m(self, func, *args, **kwargs)\u001B[0m\n\u001B[0;32m    816\u001B[0m     kwargs[\u001B[38;5;124m\"\u001B[39m\u001B[38;5;124mdata\u001B[39m\u001B[38;5;124m\"\u001B[39m] \u001B[38;5;241m=\u001B[39m data_ijk\n\u001B[0;32m    818\u001B[0m     \u001B[38;5;66;03m# Draw the plot\u001B[39;00m\n\u001B[1;32m--> 819\u001B[0m     \u001B[38;5;28;43mself\u001B[39;49m\u001B[38;5;241;43m.\u001B[39;49m\u001B[43m_facet_plot\u001B[49m\u001B[43m(\u001B[49m\u001B[43mfunc\u001B[49m\u001B[43m,\u001B[49m\u001B[43m \u001B[49m\u001B[43max\u001B[49m\u001B[43m,\u001B[49m\u001B[43m \u001B[49m\u001B[43margs\u001B[49m\u001B[43m,\u001B[49m\u001B[43m \u001B[49m\u001B[43mkwargs\u001B[49m\u001B[43m)\u001B[49m\n\u001B[0;32m    821\u001B[0m \u001B[38;5;66;03m# For axis labels, prefer to use positional args for backcompat\u001B[39;00m\n\u001B[0;32m    822\u001B[0m \u001B[38;5;66;03m# but also extract the x/y kwargs and use if no corresponding arg\u001B[39;00m\n\u001B[0;32m    823\u001B[0m axis_labels \u001B[38;5;241m=\u001B[39m [kwargs\u001B[38;5;241m.\u001B[39mget(\u001B[38;5;124m\"\u001B[39m\u001B[38;5;124mx\u001B[39m\u001B[38;5;124m\"\u001B[39m, \u001B[38;5;28;01mNone\u001B[39;00m), kwargs\u001B[38;5;241m.\u001B[39mget(\u001B[38;5;124m\"\u001B[39m\u001B[38;5;124my\u001B[39m\u001B[38;5;124m\"\u001B[39m, \u001B[38;5;28;01mNone\u001B[39;00m)]\n",
      "File \u001B[1;32m~\\miniconda\\envs\\yaib_15\\lib\\site-packages\\seaborn\\axisgrid.py:848\u001B[0m, in \u001B[0;36mFacetGrid._facet_plot\u001B[1;34m(self, func, ax, plot_args, plot_kwargs)\u001B[0m\n\u001B[0;32m    846\u001B[0m     plot_args \u001B[38;5;241m=\u001B[39m []\n\u001B[0;32m    847\u001B[0m     plot_kwargs[\u001B[38;5;124m\"\u001B[39m\u001B[38;5;124max\u001B[39m\u001B[38;5;124m\"\u001B[39m] \u001B[38;5;241m=\u001B[39m ax\n\u001B[1;32m--> 848\u001B[0m func(\u001B[38;5;241m*\u001B[39mplot_args, \u001B[38;5;241m*\u001B[39m\u001B[38;5;241m*\u001B[39mplot_kwargs)\n\u001B[0;32m    850\u001B[0m \u001B[38;5;66;03m# Sort out the supporting information\u001B[39;00m\n\u001B[0;32m    851\u001B[0m \u001B[38;5;28mself\u001B[39m\u001B[38;5;241m.\u001B[39m_update_legend_data(ax)\n",
      "File \u001B[1;32m~\\miniconda\\envs\\yaib_15\\lib\\site-packages\\seaborn\\categorical.py:2755\u001B[0m, in \u001B[0;36mbarplot\u001B[1;34m(data, x, y, hue, order, hue_order, estimator, errorbar, n_boot, units, seed, orient, color, palette, saturation, width, errcolor, errwidth, capsize, dodge, ci, ax, **kwargs)\u001B[0m\n\u001B[0;32m   2752\u001B[0m \u001B[38;5;28;01mif\u001B[39;00m estimator \u001B[38;5;129;01mis\u001B[39;00m \u001B[38;5;28mlen\u001B[39m:\n\u001B[0;32m   2753\u001B[0m     estimator \u001B[38;5;241m=\u001B[39m \u001B[38;5;124m\"\u001B[39m\u001B[38;5;124msize\u001B[39m\u001B[38;5;124m\"\u001B[39m\n\u001B[1;32m-> 2755\u001B[0m plotter \u001B[38;5;241m=\u001B[39m \u001B[43m_BarPlotter\u001B[49m\u001B[43m(\u001B[49m\u001B[43mx\u001B[49m\u001B[43m,\u001B[49m\u001B[43m \u001B[49m\u001B[43my\u001B[49m\u001B[43m,\u001B[49m\u001B[43m \u001B[49m\u001B[43mhue\u001B[49m\u001B[43m,\u001B[49m\u001B[43m \u001B[49m\u001B[43mdata\u001B[49m\u001B[43m,\u001B[49m\u001B[43m \u001B[49m\u001B[43morder\u001B[49m\u001B[43m,\u001B[49m\u001B[43m \u001B[49m\u001B[43mhue_order\u001B[49m\u001B[43m,\u001B[49m\n\u001B[0;32m   2756\u001B[0m \u001B[43m                      \u001B[49m\u001B[43mestimator\u001B[49m\u001B[43m,\u001B[49m\u001B[43m \u001B[49m\u001B[43merrorbar\u001B[49m\u001B[43m,\u001B[49m\u001B[43m \u001B[49m\u001B[43mn_boot\u001B[49m\u001B[43m,\u001B[49m\u001B[43m \u001B[49m\u001B[43munits\u001B[49m\u001B[43m,\u001B[49m\u001B[43m \u001B[49m\u001B[43mseed\u001B[49m\u001B[43m,\u001B[49m\n\u001B[0;32m   2757\u001B[0m \u001B[43m                      \u001B[49m\u001B[43morient\u001B[49m\u001B[43m,\u001B[49m\u001B[43m \u001B[49m\u001B[43mcolor\u001B[49m\u001B[43m,\u001B[49m\u001B[43m \u001B[49m\u001B[43mpalette\u001B[49m\u001B[43m,\u001B[49m\u001B[43m \u001B[49m\u001B[43msaturation\u001B[49m\u001B[43m,\u001B[49m\n\u001B[0;32m   2758\u001B[0m \u001B[43m                      \u001B[49m\u001B[43mwidth\u001B[49m\u001B[43m,\u001B[49m\u001B[43m \u001B[49m\u001B[43merrcolor\u001B[49m\u001B[43m,\u001B[49m\u001B[43m \u001B[49m\u001B[43merrwidth\u001B[49m\u001B[43m,\u001B[49m\u001B[43m \u001B[49m\u001B[43mcapsize\u001B[49m\u001B[43m,\u001B[49m\u001B[43m \u001B[49m\u001B[43mdodge\u001B[49m\u001B[43m)\u001B[49m\n\u001B[0;32m   2760\u001B[0m \u001B[38;5;28;01mif\u001B[39;00m ax \u001B[38;5;129;01mis\u001B[39;00m \u001B[38;5;28;01mNone\u001B[39;00m:\n\u001B[0;32m   2761\u001B[0m     ax \u001B[38;5;241m=\u001B[39m plt\u001B[38;5;241m.\u001B[39mgca()\n",
      "File \u001B[1;32m~\\miniconda\\envs\\yaib_15\\lib\\site-packages\\seaborn\\categorical.py:1533\u001B[0m, in \u001B[0;36m_BarPlotter.__init__\u001B[1;34m(self, x, y, hue, data, order, hue_order, estimator, errorbar, n_boot, units, seed, orient, color, palette, saturation, width, errcolor, errwidth, capsize, dodge)\u001B[0m\n\u001B[0;32m   1530\u001B[0m \u001B[38;5;28mself\u001B[39m\u001B[38;5;241m.\u001B[39mestablish_variables(x, y, hue, data, orient,\n\u001B[0;32m   1531\u001B[0m                          order, hue_order, units)\n\u001B[0;32m   1532\u001B[0m \u001B[38;5;28mself\u001B[39m\u001B[38;5;241m.\u001B[39mestablish_colors(color, palette, saturation)\n\u001B[1;32m-> 1533\u001B[0m \u001B[38;5;28;43mself\u001B[39;49m\u001B[38;5;241;43m.\u001B[39;49m\u001B[43mestimate_statistic\u001B[49m\u001B[43m(\u001B[49m\u001B[43mestimator\u001B[49m\u001B[43m,\u001B[49m\u001B[43m \u001B[49m\u001B[43merrorbar\u001B[49m\u001B[43m,\u001B[49m\u001B[43m \u001B[49m\u001B[43mn_boot\u001B[49m\u001B[43m,\u001B[49m\u001B[43m \u001B[49m\u001B[43mseed\u001B[49m\u001B[43m)\u001B[49m\n\u001B[0;32m   1535\u001B[0m \u001B[38;5;28mself\u001B[39m\u001B[38;5;241m.\u001B[39mdodge \u001B[38;5;241m=\u001B[39m dodge\n\u001B[0;32m   1536\u001B[0m \u001B[38;5;28mself\u001B[39m\u001B[38;5;241m.\u001B[39mwidth \u001B[38;5;241m=\u001B[39m width\n",
      "File \u001B[1;32m~\\miniconda\\envs\\yaib_15\\lib\\site-packages\\seaborn\\categorical.py:1449\u001B[0m, in \u001B[0;36m_CategoricalStatPlotter.estimate_statistic\u001B[1;34m(self, estimator, errorbar, n_boot, seed)\u001B[0m\n\u001B[0;32m   1445\u001B[0m     confint \u001B[38;5;241m=\u001B[39m [[] \u001B[38;5;28;01mfor\u001B[39;00m _ \u001B[38;5;129;01min\u001B[39;00m \u001B[38;5;28mself\u001B[39m\u001B[38;5;241m.\u001B[39mplot_data]\n\u001B[0;32m   1447\u001B[0m var \u001B[38;5;241m=\u001B[39m {\u001B[38;5;124m\"\u001B[39m\u001B[38;5;124mv\u001B[39m\u001B[38;5;124m\"\u001B[39m: \u001B[38;5;124m\"\u001B[39m\u001B[38;5;124my\u001B[39m\u001B[38;5;124m\"\u001B[39m, \u001B[38;5;124m\"\u001B[39m\u001B[38;5;124mh\u001B[39m\u001B[38;5;124m\"\u001B[39m: \u001B[38;5;124m\"\u001B[39m\u001B[38;5;124mx\u001B[39m\u001B[38;5;124m\"\u001B[39m}[\u001B[38;5;28mself\u001B[39m\u001B[38;5;241m.\u001B[39morient]\n\u001B[1;32m-> 1449\u001B[0m agg \u001B[38;5;241m=\u001B[39m \u001B[43mEstimateAggregator\u001B[49m\u001B[43m(\u001B[49m\u001B[43mestimator\u001B[49m\u001B[43m,\u001B[49m\u001B[43m \u001B[49m\u001B[43merrorbar\u001B[49m\u001B[43m,\u001B[49m\u001B[43m \u001B[49m\u001B[43mn_boot\u001B[49m\u001B[38;5;241;43m=\u001B[39;49m\u001B[43mn_boot\u001B[49m\u001B[43m,\u001B[49m\u001B[43m \u001B[49m\u001B[43mseed\u001B[49m\u001B[38;5;241;43m=\u001B[39;49m\u001B[43mseed\u001B[49m\u001B[43m)\u001B[49m\n\u001B[0;32m   1451\u001B[0m \u001B[38;5;28;01mfor\u001B[39;00m i, group_data \u001B[38;5;129;01min\u001B[39;00m \u001B[38;5;28menumerate\u001B[39m(\u001B[38;5;28mself\u001B[39m\u001B[38;5;241m.\u001B[39mplot_data):\n\u001B[0;32m   1452\u001B[0m \n\u001B[0;32m   1453\u001B[0m     \u001B[38;5;66;03m# Option 1: we have a single layer of grouping\u001B[39;00m\n\u001B[0;32m   1454\u001B[0m     \u001B[38;5;66;03m# --------------------------------------------\u001B[39;00m\n\u001B[0;32m   1455\u001B[0m     \u001B[38;5;28;01mif\u001B[39;00m \u001B[38;5;28mself\u001B[39m\u001B[38;5;241m.\u001B[39mplot_hues \u001B[38;5;129;01mis\u001B[39;00m \u001B[38;5;28;01mNone\u001B[39;00m:\n",
      "File \u001B[1;32m~\\miniconda\\envs\\yaib_15\\lib\\site-packages\\seaborn\\_statistics.py:474\u001B[0m, in \u001B[0;36mEstimateAggregator.__init__\u001B[1;34m(self, estimator, errorbar, **boot_kws)\u001B[0m\n\u001B[0;32m    457\u001B[0m \u001B[38;5;250m\u001B[39m\u001B[38;5;124;03m\"\"\"\u001B[39;00m\n\u001B[0;32m    458\u001B[0m \u001B[38;5;124;03mData aggregator that produces an estimate and error bar interval.\u001B[39;00m\n\u001B[0;32m    459\u001B[0m \n\u001B[1;32m   (...)\u001B[0m\n\u001B[0;32m    470\u001B[0m \n\u001B[0;32m    471\u001B[0m \u001B[38;5;124;03m\"\"\"\u001B[39;00m\n\u001B[0;32m    472\u001B[0m \u001B[38;5;28mself\u001B[39m\u001B[38;5;241m.\u001B[39mestimator \u001B[38;5;241m=\u001B[39m estimator\n\u001B[1;32m--> 474\u001B[0m method, level \u001B[38;5;241m=\u001B[39m \u001B[43m_validate_errorbar_arg\u001B[49m\u001B[43m(\u001B[49m\u001B[43merrorbar\u001B[49m\u001B[43m)\u001B[49m\n\u001B[0;32m    475\u001B[0m \u001B[38;5;28mself\u001B[39m\u001B[38;5;241m.\u001B[39merror_method \u001B[38;5;241m=\u001B[39m method\n\u001B[0;32m    476\u001B[0m \u001B[38;5;28mself\u001B[39m\u001B[38;5;241m.\u001B[39merror_level \u001B[38;5;241m=\u001B[39m level\n",
      "File \u001B[1;32m~\\miniconda\\envs\\yaib_15\\lib\\site-packages\\seaborn\\_statistics.py:548\u001B[0m, in \u001B[0;36m_validate_errorbar_arg\u001B[1;34m(arg)\u001B[0m\n\u001B[0;32m    546\u001B[0m         method, level \u001B[38;5;241m=\u001B[39m arg\n\u001B[0;32m    547\u001B[0m     \u001B[38;5;28;01mexcept\u001B[39;00m (\u001B[38;5;167;01mValueError\u001B[39;00m, \u001B[38;5;167;01mTypeError\u001B[39;00m) \u001B[38;5;28;01mas\u001B[39;00m err:\n\u001B[1;32m--> 548\u001B[0m         \u001B[38;5;28;01mraise\u001B[39;00m err\u001B[38;5;241m.\u001B[39m\u001B[38;5;18m__class__\u001B[39m(usage) \u001B[38;5;28;01mfrom\u001B[39;00m \u001B[38;5;21;01merr\u001B[39;00m\n\u001B[0;32m    550\u001B[0m _check_argument(\u001B[38;5;124m\"\u001B[39m\u001B[38;5;124merrorbar\u001B[39m\u001B[38;5;124m\"\u001B[39m, \u001B[38;5;28mlist\u001B[39m(DEFAULT_LEVELS), method)\n\u001B[0;32m    551\u001B[0m \u001B[38;5;28;01mif\u001B[39;00m level \u001B[38;5;129;01mis\u001B[39;00m \u001B[38;5;129;01mnot\u001B[39;00m \u001B[38;5;28;01mNone\u001B[39;00m \u001B[38;5;129;01mand\u001B[39;00m \u001B[38;5;129;01mnot\u001B[39;00m \u001B[38;5;28misinstance\u001B[39m(level, Number):\n",
      "\u001B[1;31mValueError\u001B[0m: `errorbar` must be a callable, string, or (string, number) tuple"
     ]
    },
    {
     "data": {
      "text/plain": "<Figure size 1200x600 with 1 Axes>",
      "image/png": "[encoded data removed]"
     },
     "metadata": {},
     "output_type": "display_data"
    }
   ],
   "source": [
    "metric = \"avg.mae\"\n",
    "g = sns.catplot(y=\"avg.mae\",x=\"model\", hue=\"ImputationDataset.mask_method\", data=df,\n",
    "                height=6, kind=\"bar\", palette=\"colorblind\", orient=\"v\", log=False, legend=False, aspect=2,errorbar=df[\"std.mae\"], order=[\"Zero\", \"Median\",\"Mean\", \"MostFrequent\", \"MICE\", \"MissForest\",\"MLP\", \"BRITS\", \"RNN\", \"BRNN\", \"Attention\", \"NP\",\"SAITS\",\"Simple_Diffusion\", \"CSDI\"])\n",
    "plt.legend(loc=\"upper center\", ncol=len(df[\"ImputationDataset.mask_method\"].unique()), title=\"Missingness\", bbox_to_anchor=(0.5,1.1))\n",
    "g.set_ylabels(\"Root Mean Squared Error (RMSE)\")\n",
    "g.set_ylabels(\"Mean Absolute Error (MAE)\")\n",
    "g.set_xticklabels(rotation=30 )"
   ],
   "metadata": {
    "collapsed": false
   }
  },
  {
   "cell_type": "code",
   "execution_count": 91,
   "outputs": [
    {
     "name": "stderr",
     "output_type": "stream",
     "text": [
      "C:\\Users\\Robin\\AppData\\Local\\Temp\\ipykernel_28648\\3353128530.py:1: FutureWarning: The default value of numeric_only in DataFrameGroupBy.mean is deprecated. In a future version, numeric_only will default to False. Either specify numeric_only or select only columns which should be valid for the function.\n",
      "  miss_df = df.groupby(\"model\").mean()\n"
     ]
    }
   ],
   "source": [
    "miss_df = df.groupby(\"model\").mean()"
   ],
   "metadata": {
    "collapsed": false
   }
  },
  {
   "cell_type": "code",
   "execution_count": 98,
   "outputs": [
    {
     "data": {
      "text/plain": "                  avg.rmse     avg.mae   avg.jsd      std.rmse     std.mae  \\\nmodel                                                                        \nAttention       256.048537    0.162105  0.022155     12.199610    0.007705   \nBRITS           354.488043    0.235388  0.044106     13.909530    0.008933   \nBRNN              5.486480    0.192210  0.030961      0.194887    0.006635   \nCSDI              9.828122    0.224374  0.029048      6.194864    0.068764   \nGAIN           1852.542788    1.404994  0.109369    251.533844    0.165821   \nMICE            466.552260    0.335164  0.107704     12.175502    0.006803   \nMean            503.029806    0.377116  0.174030     10.099926    0.006361   \nMedian          497.713005    0.373644  0.088281     11.131934    0.007162   \nMissForest      504.547131    0.387488  0.065048     31.120079    0.028346   \nMostFrequent    570.528737    0.389532  0.045530     15.189143    0.011088   \nNP                7.028207    0.278101  0.052865      0.374386    0.015954   \nRNN               6.290282    0.226250  0.040230      0.185433    0.006724   \nSAITS           269.585502    0.169693  0.024077     16.962722    0.011203   \nSSSDS4        24286.214291  501.874411  0.230990  13938.946880  288.267237   \nZero            489.721034    0.374733  0.212835      8.314248    0.004313   \n\n               std.jsd       Runtime  ImputationDataset.mask_proportion  \nmodel                                                                    \nAttention     0.001768  26000.675676                           0.500000  \nBRITS         0.002420  19391.157895                           0.500000  \nBRNN          0.003243  11451.650000                           0.500000  \nCSDI          0.008197  32231.289474                           0.505263  \nGAIN          0.013230   1238.243243                           0.494595  \nMICE          0.004190   1797.846154                           0.494872  \nMean          0.009107    854.447368                           0.500000  \nMedian        0.008082    991.694444                           0.500000  \nMissForest    0.009706   4281.142857                           0.505714  \nMostFrequent  0.003849   1056.476190                           0.471429  \nNP            0.011684  35682.243243                           0.489189  \nRNN           0.003427   5754.692308                           0.505128  \nSAITS         0.002374  49036.090909                           0.487879  \nSSSDS4        0.046420  65066.782609                           0.473913  \nZero          0.002050    886.888889                           0.500000  ",
      "text/html": "<div>\n<style scoped>\n    .dataframe tbody tr th:only-of-type {\n        vertical-align: middle;\n    }\n\n    .dataframe tbody tr th {\n        vertical-align: top;\n    }\n\n    .dataframe thead th {\n        text-align: right;\n    }\n</style>\n<table border=\"1\" class=\"dataframe\">\n  <thead>\n    <tr style=\"text-align: right;\">\n      <th></th>\n      <th>avg.rmse</th>\n      <th>avg.mae</th>\n      <th>avg.jsd</th>\n      <th>std.rmse</th>\n      <th>std.mae</th>\n      <th>std.jsd</th>\n      <th>Runtime</th>\n      <th>ImputationDataset.mask_proportion</th>\n    </tr>\n    <tr>\n      <th>model</th>\n      <th></th>\n      <th></th>\n      <th></th>\n      <th></th>\n      <th></th>\n      <th></th>\n      <th></th>\n      <th></th>\n    </tr>\n  </thead>\n  <tbody>\n    <tr>\n      <th>Attention</th>\n      <td>256.048537</td>\n      <td>0.162105</td>\n      <td>0.022155</td>\n      <td>12.199610</td>\n      <td>0.007705</td>\n      <td>0.001768</td>\n      <td>26000.675676</td>\n      <td>0.500000</td>\n    </tr>\n    <tr>\n      <th>BRITS</th>\n      <td>354.488043</td>\n      <td>0.235388</td>\n      <td>0.044106</td>\n      <td>13.909530</td>\n      <td>0.008933</td>\n      <td>0.002420</td>\n      <td>19391.157895</td>\n      <td>0.500000</td>\n    </tr>\n    <tr>\n      <th>BRNN</th>\n      <td>5.486480</td>\n      <td>0.192210</td>\n      <td>0.030961</td>\n      <td>0.194887</td>\n      <td>0.006635</td>\n      <td>0.003243</td>\n      <td>11451.650000</td>\n      <td>0.500000</td>\n    </tr>\n    <tr>\n      <th>CSDI</th>\n      <td>9.828122</td>\n      <td>0.224374</td>\n      <td>0.029048</td>\n      <td>6.194864</td>\n      <td>0.068764</td>\n      <td>0.008197</td>\n      <td>32231.289474</td>\n      <td>0.505263</td>\n    </tr>\n    <tr>\n      <th>GAIN</th>\n      <td>1852.542788</td>\n      <td>1.404994</td>\n      <td>0.109369</td>\n      <td>251.533844</td>\n      <td>0.165821</td>\n      <td>0.013230</td>\n      <td>1238.243243</td>\n      <td>0.494595</td>\n    </tr>\n    <tr>\n      <th>MICE</th>\n      <td>466.552260</td>\n      <td>0.335164</td>\n      <td>0.107704</td>\n      <td>12.175502</td>\n      <td>0.006803</td>\n      <td>0.004190</td>\n      <td>1797.846154</td>\n      <td>0.494872</td>\n    </tr>\n    <tr>\n      <th>Mean</th>\n      <td>503.029806</td>\n      <td>0.377116</td>\n      <td>0.174030</td>\n      <td>10.099926</td>\n      <td>0.006361</td>\n      <td>0.009107</td>\n      <td>854.447368</td>\n      <td>0.500000</td>\n    </tr>\n    <tr>\n      <th>Median</th>\n      <td>497.713005</td>\n      <td>0.373644</td>\n      <td>0.088281</td>\n      <td>11.131934</td>\n      <td>0.007162</td>\n      <td>0.008082</td>\n      <td>991.694444</td>\n      <td>0.500000</td>\n    </tr>\n    <tr>\n      <th>MissForest</th>\n      <td>504.547131</td>\n      <td>0.387488</td>\n      <td>0.065048</td>\n      <td>31.120079</td>\n      <td>0.028346</td>\n      <td>0.009706</td>\n      <td>4281.142857</td>\n      <td>0.505714</td>\n    </tr>\n    <tr>\n      <th>MostFrequent</th>\n      <td>570.528737</td>\n      <td>0.389532</td>\n      <td>0.045530</td>\n      <td>15.189143</td>\n      <td>0.011088</td>\n      <td>0.003849</td>\n      <td>1056.476190</td>\n      <td>0.471429</td>\n    </tr>\n    <tr>\n      <th>NP</th>\n      <td>7.028207</td>\n      <td>0.278101</td>\n      <td>0.052865</td>\n      <td>0.374386</td>\n      <td>0.015954</td>\n      <td>0.011684</td>\n      <td>35682.243243</td>\n      <td>0.489189</td>\n    </tr>\n    <tr>\n      <th>RNN</th>\n      <td>6.290282</td>\n      <td>0.226250</td>\n      <td>0.040230</td>\n      <td>0.185433</td>\n      <td>0.006724</td>\n      <td>0.003427</td>\n      <td>5754.692308</td>\n      <td>0.505128</td>\n    </tr>\n    <tr>\n      <th>SAITS</th>\n      <td>269.585502</td>\n      <td>0.169693</td>\n      <td>0.024077</td>\n      <td>16.962722</td>\n      <td>0.011203</td>\n      <td>0.002374</td>\n      <td>49036.090909</td>\n      <td>0.487879</td>\n    </tr>\n    <tr>\n      <th>SSSDS4</th>\n      <td>24286.214291</td>\n      <td>501.874411</td>\n      <td>0.230990</td>\n      <td>13938.946880</td>\n      <td>288.267237</td>\n      <td>0.046420</td>\n      <td>65066.782609</td>\n      <td>0.473913</td>\n    </tr>\n    <tr>\n      <th>Zero</th>\n      <td>489.721034</td>\n      <td>0.374733</td>\n      <td>0.212835</td>\n      <td>8.314248</td>\n      <td>0.004313</td>\n      <td>0.002050</td>\n      <td>886.888889</td>\n      <td>0.500000</td>\n    </tr>\n  </tbody>\n</table>\n</div>"
     },
     "execution_count": 98,
     "metadata": {},
     "output_type": "execute_result"
    }
   ],
   "source": [
    "miss_df"
   ],
   "metadata": {
    "collapsed": false
   }
  },
  {
   "cell_type": "code",
   "execution_count": null,
   "outputs": [],
   "source": [],
   "metadata": {
    "collapsed": false
   }
  },
  {
   "cell_type": "code",
   "execution_count": 108,
   "outputs": [
    {
     "data": {
      "text/plain": "<seaborn.axisgrid.FacetGrid at 0x17a4b9b87c0>"
     },
     "execution_count": 108,
     "metadata": {},
     "output_type": "execute_result"
    },
    {
     "data": {
      "text/plain": "<Figure size 1200x600 with 1 Axes>",
      "image/png": "[encoded data removed]"
     },
     "metadata": {},
     "output_type": "display_data"
    }
   ],
   "source": [],
   "metadata": {
    "collapsed": false
   }
  },
  {
   "cell_type": "code",
   "execution_count": 267,
   "outputs": [
    {
     "ename": "ValueError",
     "evalue": "shape mismatch: objects cannot be broadcast to a single shape.  Mismatch is between arg 0 with shape (16,) and arg 1 with shape (41,).",
     "output_type": "error",
     "traceback": [
      "\u001B[1;31m---------------------------------------------------------------------------\u001B[0m",
      "\u001B[1;31mValueError\u001B[0m                                Traceback (most recent call last)",
      "Cell \u001B[1;32mIn[267], line 28\u001B[0m\n\u001B[0;32m     26\u001B[0m \u001B[38;5;28;01mfor\u001B[39;00m i, group \u001B[38;5;129;01min\u001B[39;00m \u001B[38;5;28menumerate\u001B[39m(df[\u001B[38;5;124m'\u001B[39m\u001B[38;5;124mmodel\u001B[39m\u001B[38;5;124m'\u001B[39m]\u001B[38;5;241m.\u001B[39munique()):\n\u001B[0;32m     27\u001B[0m     group_data \u001B[38;5;241m=\u001B[39m df[df[\u001B[38;5;124m'\u001B[39m\u001B[38;5;124mmodel\u001B[39m\u001B[38;5;124m'\u001B[39m] \u001B[38;5;241m==\u001B[39m group]\n\u001B[1;32m---> 28\u001B[0m     \u001B[43max\u001B[49m\u001B[38;5;241;43m.\u001B[39;49m\u001B[43mbar\u001B[49m\u001B[43m(\u001B[49m\n\u001B[0;32m     29\u001B[0m \u001B[43m        \u001B[49m\u001B[43mbar_positions\u001B[49m\u001B[43m \u001B[49m\u001B[38;5;241;43m+\u001B[39;49m\u001B[43m \u001B[49m\u001B[43mi\u001B[49m\u001B[43m \u001B[49m\u001B[38;5;241;43m*\u001B[39;49m\u001B[43m \u001B[49m\u001B[43mbar_width\u001B[49m\u001B[43m,\u001B[49m\n\u001B[0;32m     30\u001B[0m \u001B[43m        \u001B[49m\u001B[43mgroup_data\u001B[49m\u001B[43m[\u001B[49m\u001B[38;5;124;43m'\u001B[39;49m\u001B[38;5;124;43mavg.mae\u001B[39;49m\u001B[38;5;124;43m'\u001B[39;49m\u001B[43m]\u001B[49m\u001B[43m,\u001B[49m\n\u001B[0;32m     31\u001B[0m \u001B[43m        \u001B[49m\u001B[43mbar_width\u001B[49m\u001B[43m,\u001B[49m\n\u001B[0;32m     32\u001B[0m \u001B[43m        \u001B[49m\u001B[43mlabel\u001B[49m\u001B[38;5;241;43m=\u001B[39;49m\u001B[43mgroup\u001B[49m\u001B[43m,\u001B[49m\n\u001B[0;32m     33\u001B[0m \u001B[43m        \u001B[49m\u001B[43myerr\u001B[49m\u001B[38;5;241;43m=\u001B[39;49m\u001B[43mgroup_data\u001B[49m\u001B[43m[\u001B[49m\u001B[38;5;124;43m'\u001B[39;49m\u001B[38;5;124;43mstd.mae\u001B[39;49m\u001B[38;5;124;43m'\u001B[39;49m\u001B[43m]\u001B[49m\u001B[43m,\u001B[49m\n\u001B[0;32m     34\u001B[0m \u001B[43m        \u001B[49m\u001B[43mcapsize\u001B[49m\u001B[38;5;241;43m=\u001B[39;49m\u001B[38;5;241;43m5\u001B[39;49m\u001B[43m,\u001B[49m\u001B[43m  \u001B[49m\u001B[38;5;66;43;03m# cap size for error bars\u001B[39;49;00m\n\u001B[0;32m     35\u001B[0m \u001B[43m        \u001B[49m\u001B[43malpha\u001B[49m\u001B[38;5;241;43m=\u001B[39;49m\u001B[38;5;241;43m0.7\u001B[39;49m\u001B[43m  \u001B[49m\u001B[38;5;66;43;03m# transparency of bars\u001B[39;49;00m\n\u001B[0;32m     36\u001B[0m \u001B[43m    \u001B[49m\u001B[43m)\u001B[49m\n\u001B[0;32m     38\u001B[0m \u001B[38;5;66;03m# Set labels and title\u001B[39;00m\n\u001B[0;32m     39\u001B[0m ax\u001B[38;5;241m.\u001B[39mset_xlabel(\u001B[38;5;124m'\u001B[39m\u001B[38;5;124mGroups\u001B[39m\u001B[38;5;124m'\u001B[39m)\n",
      "File \u001B[1;32m~\\miniconda\\envs\\yaib_15\\lib\\site-packages\\matplotlib\\__init__.py:1442\u001B[0m, in \u001B[0;36m_preprocess_data.<locals>.inner\u001B[1;34m(ax, data, *args, **kwargs)\u001B[0m\n\u001B[0;32m   1439\u001B[0m \u001B[38;5;129m@functools\u001B[39m\u001B[38;5;241m.\u001B[39mwraps(func)\n\u001B[0;32m   1440\u001B[0m \u001B[38;5;28;01mdef\u001B[39;00m \u001B[38;5;21minner\u001B[39m(ax, \u001B[38;5;241m*\u001B[39margs, data\u001B[38;5;241m=\u001B[39m\u001B[38;5;28;01mNone\u001B[39;00m, \u001B[38;5;241m*\u001B[39m\u001B[38;5;241m*\u001B[39mkwargs):\n\u001B[0;32m   1441\u001B[0m     \u001B[38;5;28;01mif\u001B[39;00m data \u001B[38;5;129;01mis\u001B[39;00m \u001B[38;5;28;01mNone\u001B[39;00m:\n\u001B[1;32m-> 1442\u001B[0m         \u001B[38;5;28;01mreturn\u001B[39;00m func(ax, \u001B[38;5;241m*\u001B[39m\u001B[38;5;28mmap\u001B[39m(sanitize_sequence, args), \u001B[38;5;241m*\u001B[39m\u001B[38;5;241m*\u001B[39mkwargs)\n\u001B[0;32m   1444\u001B[0m     bound \u001B[38;5;241m=\u001B[39m new_sig\u001B[38;5;241m.\u001B[39mbind(ax, \u001B[38;5;241m*\u001B[39margs, \u001B[38;5;241m*\u001B[39m\u001B[38;5;241m*\u001B[39mkwargs)\n\u001B[0;32m   1445\u001B[0m     auto_label \u001B[38;5;241m=\u001B[39m (bound\u001B[38;5;241m.\u001B[39marguments\u001B[38;5;241m.\u001B[39mget(label_namer)\n\u001B[0;32m   1446\u001B[0m                   \u001B[38;5;129;01mor\u001B[39;00m bound\u001B[38;5;241m.\u001B[39mkwargs\u001B[38;5;241m.\u001B[39mget(label_namer))\n",
      "File \u001B[1;32m~\\miniconda\\envs\\yaib_15\\lib\\site-packages\\matplotlib\\axes\\_axes.py:2417\u001B[0m, in \u001B[0;36mAxes.bar\u001B[1;34m(self, x, height, width, bottom, align, **kwargs)\u001B[0m\n\u001B[0;32m   2414\u001B[0m     \u001B[38;5;28;01mif\u001B[39;00m yerr \u001B[38;5;129;01mis\u001B[39;00m \u001B[38;5;129;01mnot\u001B[39;00m \u001B[38;5;28;01mNone\u001B[39;00m:\n\u001B[0;32m   2415\u001B[0m         yerr \u001B[38;5;241m=\u001B[39m \u001B[38;5;28mself\u001B[39m\u001B[38;5;241m.\u001B[39m_convert_dx(yerr, y0, y, \u001B[38;5;28mself\u001B[39m\u001B[38;5;241m.\u001B[39mconvert_yunits)\n\u001B[1;32m-> 2417\u001B[0m x, height, width, y, linewidth, hatch \u001B[38;5;241m=\u001B[39m \u001B[43mnp\u001B[49m\u001B[38;5;241;43m.\u001B[39;49m\u001B[43mbroadcast_arrays\u001B[49m\u001B[43m(\u001B[49m\n\u001B[0;32m   2418\u001B[0m \u001B[43m    \u001B[49m\u001B[38;5;66;43;03m# Make args iterable too.\u001B[39;49;00m\n\u001B[0;32m   2419\u001B[0m \u001B[43m    \u001B[49m\u001B[43mnp\u001B[49m\u001B[38;5;241;43m.\u001B[39;49m\u001B[43matleast_1d\u001B[49m\u001B[43m(\u001B[49m\u001B[43mx\u001B[49m\u001B[43m)\u001B[49m\u001B[43m,\u001B[49m\u001B[43m \u001B[49m\u001B[43mheight\u001B[49m\u001B[43m,\u001B[49m\u001B[43m \u001B[49m\u001B[43mwidth\u001B[49m\u001B[43m,\u001B[49m\u001B[43m \u001B[49m\u001B[43my\u001B[49m\u001B[43m,\u001B[49m\u001B[43m \u001B[49m\u001B[43mlinewidth\u001B[49m\u001B[43m,\u001B[49m\u001B[43m \u001B[49m\u001B[43mhatch\u001B[49m\u001B[43m)\u001B[49m\n\u001B[0;32m   2421\u001B[0m \u001B[38;5;66;03m# Now that units have been converted, set the tick locations.\u001B[39;00m\n\u001B[0;32m   2422\u001B[0m \u001B[38;5;28;01mif\u001B[39;00m orientation \u001B[38;5;241m==\u001B[39m \u001B[38;5;124m'\u001B[39m\u001B[38;5;124mvertical\u001B[39m\u001B[38;5;124m'\u001B[39m:\n",
      "File \u001B[1;32m<__array_function__ internals>:200\u001B[0m, in \u001B[0;36mbroadcast_arrays\u001B[1;34m(*args, **kwargs)\u001B[0m\n",
      "File \u001B[1;32m~\\miniconda\\envs\\yaib_15\\lib\\site-packages\\numpy\\lib\\stride_tricks.py:540\u001B[0m, in \u001B[0;36mbroadcast_arrays\u001B[1;34m(subok, *args)\u001B[0m\n\u001B[0;32m    533\u001B[0m \u001B[38;5;66;03m# nditer is not used here to avoid the limit of 32 arrays.\u001B[39;00m\n\u001B[0;32m    534\u001B[0m \u001B[38;5;66;03m# Otherwise, something like the following one-liner would suffice:\u001B[39;00m\n\u001B[0;32m    535\u001B[0m \u001B[38;5;66;03m# return np.nditer(args, flags=['multi_index', 'zerosize_ok'],\u001B[39;00m\n\u001B[0;32m    536\u001B[0m \u001B[38;5;66;03m#                  order='C').itviews\u001B[39;00m\n\u001B[0;32m    538\u001B[0m args \u001B[38;5;241m=\u001B[39m [np\u001B[38;5;241m.\u001B[39marray(_m, copy\u001B[38;5;241m=\u001B[39m\u001B[38;5;28;01mFalse\u001B[39;00m, subok\u001B[38;5;241m=\u001B[39msubok) \u001B[38;5;28;01mfor\u001B[39;00m _m \u001B[38;5;129;01min\u001B[39;00m args]\n\u001B[1;32m--> 540\u001B[0m shape \u001B[38;5;241m=\u001B[39m \u001B[43m_broadcast_shape\u001B[49m\u001B[43m(\u001B[49m\u001B[38;5;241;43m*\u001B[39;49m\u001B[43margs\u001B[49m\u001B[43m)\u001B[49m\n\u001B[0;32m    542\u001B[0m \u001B[38;5;28;01mif\u001B[39;00m \u001B[38;5;28mall\u001B[39m(array\u001B[38;5;241m.\u001B[39mshape \u001B[38;5;241m==\u001B[39m shape \u001B[38;5;28;01mfor\u001B[39;00m array \u001B[38;5;129;01min\u001B[39;00m args):\n\u001B[0;32m    543\u001B[0m     \u001B[38;5;66;03m# Common case where nothing needs to be broadcasted.\u001B[39;00m\n\u001B[0;32m    544\u001B[0m     \u001B[38;5;28;01mreturn\u001B[39;00m args\n",
      "File \u001B[1;32m~\\miniconda\\envs\\yaib_15\\lib\\site-packages\\numpy\\lib\\stride_tricks.py:422\u001B[0m, in \u001B[0;36m_broadcast_shape\u001B[1;34m(*args)\u001B[0m\n\u001B[0;32m    417\u001B[0m \u001B[38;5;250m\u001B[39m\u001B[38;5;124;03m\"\"\"Returns the shape of the arrays that would result from broadcasting the\u001B[39;00m\n\u001B[0;32m    418\u001B[0m \u001B[38;5;124;03msupplied arrays against each other.\u001B[39;00m\n\u001B[0;32m    419\u001B[0m \u001B[38;5;124;03m\"\"\"\u001B[39;00m\n\u001B[0;32m    420\u001B[0m \u001B[38;5;66;03m# use the old-iterator because np.nditer does not handle size 0 arrays\u001B[39;00m\n\u001B[0;32m    421\u001B[0m \u001B[38;5;66;03m# consistently\u001B[39;00m\n\u001B[1;32m--> 422\u001B[0m b \u001B[38;5;241m=\u001B[39m \u001B[43mnp\u001B[49m\u001B[38;5;241;43m.\u001B[39;49m\u001B[43mbroadcast\u001B[49m\u001B[43m(\u001B[49m\u001B[38;5;241;43m*\u001B[39;49m\u001B[43margs\u001B[49m\u001B[43m[\u001B[49m\u001B[43m:\u001B[49m\u001B[38;5;241;43m32\u001B[39;49m\u001B[43m]\u001B[49m\u001B[43m)\u001B[49m\n\u001B[0;32m    423\u001B[0m \u001B[38;5;66;03m# unfortunately, it cannot handle 32 or more arguments directly\u001B[39;00m\n\u001B[0;32m    424\u001B[0m \u001B[38;5;28;01mfor\u001B[39;00m pos \u001B[38;5;129;01min\u001B[39;00m \u001B[38;5;28mrange\u001B[39m(\u001B[38;5;241m32\u001B[39m, \u001B[38;5;28mlen\u001B[39m(args), \u001B[38;5;241m31\u001B[39m):\n\u001B[0;32m    425\u001B[0m     \u001B[38;5;66;03m# ironically, np.broadcast does not properly handle np.broadcast\u001B[39;00m\n\u001B[0;32m    426\u001B[0m     \u001B[38;5;66;03m# objects (it treats them as scalars)\u001B[39;00m\n\u001B[0;32m    427\u001B[0m     \u001B[38;5;66;03m# use broadcasting to avoid allocating the full array\u001B[39;00m\n",
      "\u001B[1;31mValueError\u001B[0m: shape mismatch: objects cannot be broadcast to a single shape.  Mismatch is between arg 0 with shape (16,) and arg 1 with shape (41,)."
     ]
    },
    {
     "data": {
      "text/plain": "<Figure size 640x480 with 1 Axes>",
      "image/png": "[encoded data removed]"
     },
     "metadata": {},
     "output_type": "display_data"
    }
   ],
   "source": [
    "import matplotlib.pyplot as plt\n",
    "import pandas as pd\n",
    "import numpy as np\n",
    "\n",
    "# Assuming you have a DataFrame named 'df' with columns 'group', 'value', and 'error'\n",
    "# 'group' represents the different groups for the bars\n",
    "# 'value' represents the height of the bars\n",
    "# 'error' represents the standard deviation for each group\n",
    "\n",
    "# Example DataFrame creation\n",
    "# data = {\n",
    "#     'group': ['Group A', 'Group A', 'Group B', 'Group B'],\n",
    "#     'value': [10, 12, 8, 11],\n",
    "#     'error': [1, 2, 0.5, 1.5]\n",
    "# }\n",
    "# df = pd.DataFrame(data)\n",
    "\n",
    "# Grouped bar chart with custom error bars\n",
    "fig, ax = plt.subplots()\n",
    "\n",
    "# Set the bar width and positions\n",
    "bar_width = 0.35\n",
    "bar_positions = np.arange(len(df['model'].unique()))\n",
    "\n",
    "# Plot bars with error bars\n",
    "for i, group in enumerate(df['model'].unique()):\n",
    "    group_data = df[df['model'] == group]\n",
    "    ax.bar(\n",
    "        bar_positions + i * bar_width,\n",
    "        group_data['avg.mae'],\n",
    "        bar_width,\n",
    "        label=group,\n",
    "        yerr=group_data['std.mae'],\n",
    "        capsize=5,  # cap size for error bars\n",
    "        alpha=0.7  # transparency of bars\n",
    "    )\n",
    "\n",
    "# Set labels and title\n",
    "ax.set_xlabel('Groups')\n",
    "ax.set_ylabel('Values')\n",
    "ax.set_title('Grouped Bar Chart with Custom Error Bars')\n",
    "\n",
    "# Set x-axis ticks and labels\n",
    "ax.set_xticks(bar_positions + (len(df['model'].unique()) - 1) * bar_width / 2)\n",
    "ax.set_xticklabels(df['model'].unique())\n",
    "\n",
    "# Add legend\n",
    "ax.legend()\n",
    "\n",
    "# Show the plot\n",
    "plt.show()"
   ],
   "metadata": {
    "collapsed": false
   }
  },
  {
   "cell_type": "code",
   "execution_count": 304,
   "outputs": [
    {
     "name": "stderr",
     "output_type": "stream",
     "text": [
      "C:\\Users\\Robin\\AppData\\Local\\Temp\\ipykernel_28648\\3632711943.py:31: FutureWarning: The default value of numeric_only in DataFrameGroupBy.mean is deprecated. In a future version, numeric_only will default to False. Either specify numeric_only or select only columns which should be valid for the function.\n",
      "  grouped = model_data.groupby(column).mean()\n",
      "C:\\Users\\Robin\\AppData\\Local\\Temp\\ipykernel_28648\\3632711943.py:31: FutureWarning: The default value of numeric_only in DataFrameGroupBy.mean is deprecated. In a future version, numeric_only will default to False. Either specify numeric_only or select only columns which should be valid for the function.\n",
      "  grouped = model_data.groupby(column).mean()\n",
      "C:\\Users\\Robin\\AppData\\Local\\Temp\\ipykernel_28648\\3632711943.py:31: FutureWarning: The default value of numeric_only in DataFrameGroupBy.mean is deprecated. In a future version, numeric_only will default to False. Either specify numeric_only or select only columns which should be valid for the function.\n",
      "  grouped = model_data.groupby(column).mean()\n",
      "C:\\Users\\Robin\\AppData\\Local\\Temp\\ipykernel_28648\\3632711943.py:31: FutureWarning: The default value of numeric_only in DataFrameGroupBy.mean is deprecated. In a future version, numeric_only will default to False. Either specify numeric_only or select only columns which should be valid for the function.\n",
      "  grouped = model_data.groupby(column).mean()\n",
      "C:\\Users\\Robin\\AppData\\Local\\Temp\\ipykernel_28648\\3632711943.py:31: FutureWarning: The default value of numeric_only in DataFrameGroupBy.mean is deprecated. In a future version, numeric_only will default to False. Either specify numeric_only or select only columns which should be valid for the function.\n",
      "  grouped = model_data.groupby(column).mean()\n",
      "C:\\Users\\Robin\\AppData\\Local\\Temp\\ipykernel_28648\\3632711943.py:31: FutureWarning: The default value of numeric_only in DataFrameGroupBy.mean is deprecated. In a future version, numeric_only will default to False. Either specify numeric_only or select only columns which should be valid for the function.\n",
      "  grouped = model_data.groupby(column).mean()\n",
      "C:\\Users\\Robin\\AppData\\Local\\Temp\\ipykernel_28648\\3632711943.py:31: FutureWarning: The default value of numeric_only in DataFrameGroupBy.mean is deprecated. In a future version, numeric_only will default to False. Either specify numeric_only or select only columns which should be valid for the function.\n",
      "  grouped = model_data.groupby(column).mean()\n",
      "C:\\Users\\Robin\\AppData\\Local\\Temp\\ipykernel_28648\\3632711943.py:31: FutureWarning: The default value of numeric_only in DataFrameGroupBy.mean is deprecated. In a future version, numeric_only will default to False. Either specify numeric_only or select only columns which should be valid for the function.\n",
      "  grouped = model_data.groupby(column).mean()\n",
      "C:\\Users\\Robin\\AppData\\Local\\Temp\\ipykernel_28648\\3632711943.py:31: FutureWarning: The default value of numeric_only in DataFrameGroupBy.mean is deprecated. In a future version, numeric_only will default to False. Either specify numeric_only or select only columns which should be valid for the function.\n",
      "  grouped = model_data.groupby(column).mean()\n",
      "C:\\Users\\Robin\\AppData\\Local\\Temp\\ipykernel_28648\\3632711943.py:31: FutureWarning: The default value of numeric_only in DataFrameGroupBy.mean is deprecated. In a future version, numeric_only will default to False. Either specify numeric_only or select only columns which should be valid for the function.\n",
      "  grouped = model_data.groupby(column).mean()\n",
      "C:\\Users\\Robin\\AppData\\Local\\Temp\\ipykernel_28648\\3632711943.py:31: FutureWarning: The default value of numeric_only in DataFrameGroupBy.mean is deprecated. In a future version, numeric_only will default to False. Either specify numeric_only or select only columns which should be valid for the function.\n",
      "  grouped = model_data.groupby(column).mean()\n",
      "C:\\Users\\Robin\\AppData\\Local\\Temp\\ipykernel_28648\\3632711943.py:31: FutureWarning: The default value of numeric_only in DataFrameGroupBy.mean is deprecated. In a future version, numeric_only will default to False. Either specify numeric_only or select only columns which should be valid for the function.\n",
      "  grouped = model_data.groupby(column).mean()\n",
      "C:\\Users\\Robin\\AppData\\Local\\Temp\\ipykernel_28648\\3632711943.py:31: FutureWarning: The default value of numeric_only in DataFrameGroupBy.mean is deprecated. In a future version, numeric_only will default to False. Either specify numeric_only or select only columns which should be valid for the function.\n",
      "  grouped = model_data.groupby(column).mean()\n",
      "C:\\Users\\Robin\\AppData\\Local\\Temp\\ipykernel_28648\\3632711943.py:31: FutureWarning: The default value of numeric_only in DataFrameGroupBy.mean is deprecated. In a future version, numeric_only will default to False. Either specify numeric_only or select only columns which should be valid for the function.\n",
      "  grouped = model_data.groupby(column).mean()\n",
      "C:\\Users\\Robin\\AppData\\Local\\Temp\\ipykernel_28648\\3632711943.py:31: FutureWarning: The default value of numeric_only in DataFrameGroupBy.mean is deprecated. In a future version, numeric_only will default to False. Either specify numeric_only or select only columns which should be valid for the function.\n",
      "  grouped = model_data.groupby(column).mean()\n",
      "C:\\Users\\Robin\\AppData\\Local\\Temp\\ipykernel_28648\\3632711943.py:31: FutureWarning: The default value of numeric_only in DataFrameGroupBy.mean is deprecated. In a future version, numeric_only will default to False. Either specify numeric_only or select only columns which should be valid for the function.\n",
      "  grouped = model_data.groupby(column).mean()\n"
     ]
    },
    {
     "ename": "ValueError",
     "evalue": "The number of FixedLocator locations (64), usually from a call to set_ticks, does not match the number of labels (16).",
     "output_type": "error",
     "traceback": [
      "\u001B[1;31m---------------------------------------------------------------------------\u001B[0m",
      "\u001B[1;31mValueError\u001B[0m                                Traceback (most recent call last)",
      "Cell \u001B[1;32mIn[304], line 54\u001B[0m\n\u001B[0;32m     52\u001B[0m \u001B[38;5;66;03m# Set x-axis ticks and labels\u001B[39;00m\n\u001B[0;32m     53\u001B[0m ax\u001B[38;5;241m.\u001B[39mset_xticks(bar_positions \u001B[38;5;241m+\u001B[39m (\u001B[38;5;28mlen\u001B[39m(df[\u001B[38;5;124m'\u001B[39m\u001B[38;5;124mmodel\u001B[39m\u001B[38;5;124m'\u001B[39m]\u001B[38;5;241m.\u001B[39munique()) \u001B[38;5;241m-\u001B[39m \u001B[38;5;241m1\u001B[39m) \u001B[38;5;241m*\u001B[39m bar_width \u001B[38;5;241m/\u001B[39m \u001B[38;5;241m2\u001B[39m)\n\u001B[1;32m---> 54\u001B[0m \u001B[43max\u001B[49m\u001B[38;5;241;43m.\u001B[39;49m\u001B[43mset_xticklabels\u001B[49m\u001B[43m(\u001B[49m\u001B[43mdf\u001B[49m\u001B[43m[\u001B[49m\u001B[38;5;124;43m'\u001B[39;49m\u001B[38;5;124;43mmodel\u001B[39;49m\u001B[38;5;124;43m'\u001B[39;49m\u001B[43m]\u001B[49m\u001B[38;5;241;43m.\u001B[39;49m\u001B[43munique\u001B[49m\u001B[43m(\u001B[49m\u001B[43m)\u001B[49m\u001B[43m)\u001B[49m\n\u001B[0;32m     56\u001B[0m \u001B[38;5;66;03m# Add legend\u001B[39;00m\n\u001B[0;32m     57\u001B[0m ax\u001B[38;5;241m.\u001B[39mlegend()\n",
      "File \u001B[1;32m~\\miniconda\\envs\\yaib_15\\lib\\site-packages\\matplotlib\\axes\\_base.py:74\u001B[0m, in \u001B[0;36m_axis_method_wrapper.__set_name__.<locals>.wrapper\u001B[1;34m(self, *args, **kwargs)\u001B[0m\n\u001B[0;32m     73\u001B[0m \u001B[38;5;28;01mdef\u001B[39;00m \u001B[38;5;21mwrapper\u001B[39m(\u001B[38;5;28mself\u001B[39m, \u001B[38;5;241m*\u001B[39margs, \u001B[38;5;241m*\u001B[39m\u001B[38;5;241m*\u001B[39mkwargs):\n\u001B[1;32m---> 74\u001B[0m     \u001B[38;5;28;01mreturn\u001B[39;00m get_method(\u001B[38;5;28mself\u001B[39m)(\u001B[38;5;241m*\u001B[39margs, \u001B[38;5;241m*\u001B[39m\u001B[38;5;241m*\u001B[39mkwargs)\n",
      "File \u001B[1;32m~\\miniconda\\envs\\yaib_15\\lib\\site-packages\\matplotlib\\_api\\deprecation.py:297\u001B[0m, in \u001B[0;36mrename_parameter.<locals>.wrapper\u001B[1;34m(*args, **kwargs)\u001B[0m\n\u001B[0;32m    292\u001B[0m     warn_deprecated(\n\u001B[0;32m    293\u001B[0m         since, message\u001B[38;5;241m=\u001B[39m\u001B[38;5;124mf\u001B[39m\u001B[38;5;124m\"\u001B[39m\u001B[38;5;124mThe \u001B[39m\u001B[38;5;132;01m{\u001B[39;00mold\u001B[38;5;132;01m!r}\u001B[39;00m\u001B[38;5;124m parameter of \u001B[39m\u001B[38;5;132;01m{\u001B[39;00mfunc\u001B[38;5;241m.\u001B[39m\u001B[38;5;18m__name__\u001B[39m\u001B[38;5;132;01m}\u001B[39;00m\u001B[38;5;124m() \u001B[39m\u001B[38;5;124m\"\u001B[39m\n\u001B[0;32m    294\u001B[0m         \u001B[38;5;124mf\u001B[39m\u001B[38;5;124m\"\u001B[39m\u001B[38;5;124mhas been renamed \u001B[39m\u001B[38;5;132;01m{\u001B[39;00mnew\u001B[38;5;132;01m!r}\u001B[39;00m\u001B[38;5;124m since Matplotlib \u001B[39m\u001B[38;5;132;01m{\u001B[39;00msince\u001B[38;5;132;01m}\u001B[39;00m\u001B[38;5;124m; support \u001B[39m\u001B[38;5;124m\"\u001B[39m\n\u001B[0;32m    295\u001B[0m         \u001B[38;5;124mf\u001B[39m\u001B[38;5;124m\"\u001B[39m\u001B[38;5;124mfor the old name will be dropped %(removal)s.\u001B[39m\u001B[38;5;124m\"\u001B[39m)\n\u001B[0;32m    296\u001B[0m     kwargs[new] \u001B[38;5;241m=\u001B[39m kwargs\u001B[38;5;241m.\u001B[39mpop(old)\n\u001B[1;32m--> 297\u001B[0m \u001B[38;5;28;01mreturn\u001B[39;00m func(\u001B[38;5;241m*\u001B[39margs, \u001B[38;5;241m*\u001B[39m\u001B[38;5;241m*\u001B[39mkwargs)\n",
      "File \u001B[1;32m~\\miniconda\\envs\\yaib_15\\lib\\site-packages\\matplotlib\\axis.py:1969\u001B[0m, in \u001B[0;36mAxis.set_ticklabels\u001B[1;34m(self, labels, minor, fontdict, **kwargs)\u001B[0m\n\u001B[0;32m   1965\u001B[0m \u001B[38;5;28;01mif\u001B[39;00m \u001B[38;5;28misinstance\u001B[39m(locator, mticker\u001B[38;5;241m.\u001B[39mFixedLocator):\n\u001B[0;32m   1966\u001B[0m     \u001B[38;5;66;03m# Passing [] as a list of labels is often used as a way to\u001B[39;00m\n\u001B[0;32m   1967\u001B[0m     \u001B[38;5;66;03m# remove all tick labels, so only error for > 0 labels\u001B[39;00m\n\u001B[0;32m   1968\u001B[0m     \u001B[38;5;28;01mif\u001B[39;00m \u001B[38;5;28mlen\u001B[39m(locator\u001B[38;5;241m.\u001B[39mlocs) \u001B[38;5;241m!=\u001B[39m \u001B[38;5;28mlen\u001B[39m(labels) \u001B[38;5;129;01mand\u001B[39;00m \u001B[38;5;28mlen\u001B[39m(labels) \u001B[38;5;241m!=\u001B[39m \u001B[38;5;241m0\u001B[39m:\n\u001B[1;32m-> 1969\u001B[0m         \u001B[38;5;28;01mraise\u001B[39;00m \u001B[38;5;167;01mValueError\u001B[39;00m(\n\u001B[0;32m   1970\u001B[0m             \u001B[38;5;124m\"\u001B[39m\u001B[38;5;124mThe number of FixedLocator locations\u001B[39m\u001B[38;5;124m\"\u001B[39m\n\u001B[0;32m   1971\u001B[0m             \u001B[38;5;124mf\u001B[39m\u001B[38;5;124m\"\u001B[39m\u001B[38;5;124m (\u001B[39m\u001B[38;5;132;01m{\u001B[39;00m\u001B[38;5;28mlen\u001B[39m(locator\u001B[38;5;241m.\u001B[39mlocs)\u001B[38;5;132;01m}\u001B[39;00m\u001B[38;5;124m), usually from a call to\u001B[39m\u001B[38;5;124m\"\u001B[39m\n\u001B[0;32m   1972\u001B[0m             \u001B[38;5;124m\"\u001B[39m\u001B[38;5;124m set_ticks, does not match\u001B[39m\u001B[38;5;124m\"\u001B[39m\n\u001B[0;32m   1973\u001B[0m             \u001B[38;5;124mf\u001B[39m\u001B[38;5;124m\"\u001B[39m\u001B[38;5;124m the number of labels (\u001B[39m\u001B[38;5;132;01m{\u001B[39;00m\u001B[38;5;28mlen\u001B[39m(labels)\u001B[38;5;132;01m}\u001B[39;00m\u001B[38;5;124m).\u001B[39m\u001B[38;5;124m\"\u001B[39m)\n\u001B[0;32m   1974\u001B[0m     tickd \u001B[38;5;241m=\u001B[39m {loc: lab \u001B[38;5;28;01mfor\u001B[39;00m loc, lab \u001B[38;5;129;01min\u001B[39;00m \u001B[38;5;28mzip\u001B[39m(locator\u001B[38;5;241m.\u001B[39mlocs, labels)}\n\u001B[0;32m   1975\u001B[0m     func \u001B[38;5;241m=\u001B[39m functools\u001B[38;5;241m.\u001B[39mpartial(\u001B[38;5;28mself\u001B[39m\u001B[38;5;241m.\u001B[39m_format_with_dict, tickd)\n",
      "\u001B[1;31mValueError\u001B[0m: The number of FixedLocator locations (64), usually from a call to set_ticks, does not match the number of labels (16)."
     ]
    },
    {
     "data": {
      "text/plain": "<Figure size 640x480 with 1 Axes>",
      "image/png": "[encoded data removed]"
     },
     "metadata": {},
     "output_type": "display_data"
    }
   ],
   "source": [
    "import matplotlib.pyplot as plt\n",
    "import pandas as pd\n",
    "import numpy as np\n",
    "\n",
    "# Assuming you have a DataFrame named 'df' with columns 'group', 'value', and 'error'\n",
    "# 'group' represents the different groups for the bars\n",
    "# 'value' represents the height of the bars\n",
    "# 'error' represents the standard deviation for each group\n",
    "\n",
    "# Example DataFrame creation\n",
    "# data = {\n",
    "#     'group': ['Group A', 'Group A', 'Group B', 'Group B'],\n",
    "#     'value': [10, 12, 8, 11],\n",
    "#     'error': [1, 2, 0.5, 1.5]\n",
    "# }\n",
    "# df = pd.DataFrame(data)\n",
    "\n",
    "# Grouped bar chart with custom error bars\n",
    "fig, ax = plt.subplots()\n",
    "\n",
    "# Set the bar width and positions\n",
    "bar_width = 0.35\n",
    "column = \"ImputationDataset.mask_method\"\n",
    "bar_positions = np.arange(len(df['model'].unique())*len(df[column].unique()))\n",
    "value = \"avg.mae\"\n",
    "error = \"std.mae\"\n",
    "# Plot bars with error bars\n",
    "for i, model in enumerate(df['model'].unique()):\n",
    "    grouped.reset_index(inplace=True)\n",
    "    model_data = df[df['model'] == model]\n",
    "    grouped = model_data.groupby(column).mean()\n",
    "    grouped.reset_index(inplace=True)\n",
    "    for item in grouped[column].unique():\n",
    "        # print(item)\n",
    "        # test = model_data[model_data[column]==item]\n",
    "        test = grouped[grouped[column]==item][value]\n",
    "        ax.bar(\n",
    "            bar_positions + i * bar_width,\n",
    "            test,\n",
    "            bar_width,\n",
    "            label=model,\n",
    "            #yerr=model_data[error],\n",
    "            capsize=5,  # cap size for error bars\n",
    "            alpha=0.7  # transparency of bars\n",
    "        )\n",
    "\n",
    "# Set labels and title\n",
    "ax.set_xlabel('models')\n",
    "ax.set_ylabel('Values')\n",
    "ax.set_title('modeled Bar Chart with Custom Error Bars')\n",
    "\n",
    "# Set x-axis ticks and labels\n",
    "ax.set_xticks(bar_positions + (len(df['model'].unique()) - 1) * bar_width / 2)\n",
    "ax.set_xticklabels(df['model'].unique())\n",
    "\n",
    "# Add legend\n",
    "ax.legend()\n",
    "\n",
    "# Show the plot\n",
    "plt.show()"
   ],
   "metadata": {
    "collapsed": false
   }
  },
  {
   "cell_type": "code",
   "execution_count": 305,
   "outputs": [],
   "source": [
    "\n",
    "import plotly.express as px"
   ],
   "metadata": {
    "collapsed": false
   }
  },
  {
   "cell_type": "code",
   "execution_count": 8,
   "outputs": [],
   "source": [
    "df = df[df['model'].notnull()]\n",
    "df = df[df[\"ImputationDataset.mask_method\"].notnull()]"
   ],
   "metadata": {
    "collapsed": false
   }
  },
  {
   "cell_type": "code",
   "execution_count": 331,
   "outputs": [
    {
     "data": {
      "text/plain": "       avg.rmse   avg.mae   avg.jsd   std.rmse   std.mae   std.jsd  \\\n0    108.922087  0.006574  0.000451   9.929536  0.001198  0.000066   \n1      6.087111  0.008025  0.000753   7.776867  0.002548  0.000469   \n2    134.485405  0.038082  0.004144   4.879338  0.001241  0.000130   \n3    284.676188  0.038215  0.003731  11.195988  0.003594  0.000256   \n4      4.911884  0.041573  0.004719   1.696708  0.002061  0.000340   \n..          ...       ...       ...        ...       ...       ...   \n682         NaN       NaN       NaN        NaN       NaN       NaN   \n683         NaN       NaN       NaN        NaN       NaN       NaN   \n684         NaN       NaN       NaN        NaN       NaN       NaN   \n685         NaN       NaN       NaN        NaN       NaN       NaN   \n688         NaN       NaN       NaN        NaN       NaN       NaN   \n\n            model ImputationDataset.mask_method  \\\n0       Attention                          MCAR   \n1            CSDI                          MCAR   \n2       Attention                          MCAR   \n3       Attention                          MCAR   \n4            CSDI                          MCAR   \n..            ...                           ...   \n682  MostFrequent                          MCAR   \n683          MICE                          MCAR   \n684         SAITS                          MCAR   \n685          MICE                          MCAR   \n688        Median                          MCAR   \n\n     ImputationDataset.mask_proportion      data_dir  \n0                                  0.3           NaN  \n1                                  0.3           NaN  \n2                                  0.3           NaN  \n3                                  0.7           NaN  \n4                                  0.3           NaN  \n..                                 ...           ...  \n682                                0.3  ../data/miiv  \n683                                0.3  ../data/miiv  \n684                                0.3  ../data/eicu  \n685                                0.3  ../data/miiv  \n688                                0.3  ../data/miiv  \n\n[604 rows x 10 columns]",
      "text/html": "<div>\n<style scoped>\n    .dataframe tbody tr th:only-of-type {\n        vertical-align: middle;\n    }\n\n    .dataframe tbody tr th {\n        vertical-align: top;\n    }\n\n    .dataframe thead th {\n        text-align: right;\n    }\n</style>\n<table border=\"1\" class=\"dataframe\">\n  <thead>\n    <tr style=\"text-align: right;\">\n      <th></th>\n      <th>avg.rmse</th>\n      <th>avg.mae</th>\n      <th>avg.jsd</th>\n      <th>std.rmse</th>\n      <th>std.mae</th>\n      <th>std.jsd</th>\n      <th>model</th>\n      <th>ImputationDataset.mask_method</th>\n      <th>ImputationDataset.mask_proportion</th>\n      <th>data_dir</th>\n    </tr>\n  </thead>\n  <tbody>\n    <tr>\n      <th>0</th>\n      <td>108.922087</td>\n      <td>0.006574</td>\n      <td>0.000451</td>\n      <td>9.929536</td>\n      <td>0.001198</td>\n      <td>0.000066</td>\n      <td>Attention</td>\n      <td>MCAR</td>\n      <td>0.3</td>\n      <td>NaN</td>\n    </tr>\n    <tr>\n      <th>1</th>\n      <td>6.087111</td>\n      <td>0.008025</td>\n      <td>0.000753</td>\n      <td>7.776867</td>\n      <td>0.002548</td>\n      <td>0.000469</td>\n      <td>CSDI</td>\n      <td>MCAR</td>\n      <td>0.3</td>\n      <td>NaN</td>\n    </tr>\n    <tr>\n      <th>2</th>\n      <td>134.485405</td>\n      <td>0.038082</td>\n      <td>0.004144</td>\n      <td>4.879338</td>\n      <td>0.001241</td>\n      <td>0.000130</td>\n      <td>Attention</td>\n      <td>MCAR</td>\n      <td>0.3</td>\n      <td>NaN</td>\n    </tr>\n    <tr>\n      <th>3</th>\n      <td>284.676188</td>\n      <td>0.038215</td>\n      <td>0.003731</td>\n      <td>11.195988</td>\n      <td>0.003594</td>\n      <td>0.000256</td>\n      <td>Attention</td>\n      <td>MCAR</td>\n      <td>0.7</td>\n      <td>NaN</td>\n    </tr>\n    <tr>\n      <th>4</th>\n      <td>4.911884</td>\n      <td>0.041573</td>\n      <td>0.004719</td>\n      <td>1.696708</td>\n      <td>0.002061</td>\n      <td>0.000340</td>\n      <td>CSDI</td>\n      <td>MCAR</td>\n      <td>0.3</td>\n      <td>NaN</td>\n    </tr>\n    <tr>\n      <th>...</th>\n      <td>...</td>\n      <td>...</td>\n      <td>...</td>\n      <td>...</td>\n      <td>...</td>\n      <td>...</td>\n      <td>...</td>\n      <td>...</td>\n      <td>...</td>\n      <td>...</td>\n    </tr>\n    <tr>\n      <th>682</th>\n      <td>NaN</td>\n      <td>NaN</td>\n      <td>NaN</td>\n      <td>NaN</td>\n      <td>NaN</td>\n      <td>NaN</td>\n      <td>MostFrequent</td>\n      <td>MCAR</td>\n      <td>0.3</td>\n      <td>../data/miiv</td>\n    </tr>\n    <tr>\n      <th>683</th>\n      <td>NaN</td>\n      <td>NaN</td>\n      <td>NaN</td>\n      <td>NaN</td>\n      <td>NaN</td>\n      <td>NaN</td>\n      <td>MICE</td>\n      <td>MCAR</td>\n      <td>0.3</td>\n      <td>../data/miiv</td>\n    </tr>\n    <tr>\n      <th>684</th>\n      <td>NaN</td>\n      <td>NaN</td>\n      <td>NaN</td>\n      <td>NaN</td>\n      <td>NaN</td>\n      <td>NaN</td>\n      <td>SAITS</td>\n      <td>MCAR</td>\n      <td>0.3</td>\n      <td>../data/eicu</td>\n    </tr>\n    <tr>\n      <th>685</th>\n      <td>NaN</td>\n      <td>NaN</td>\n      <td>NaN</td>\n      <td>NaN</td>\n      <td>NaN</td>\n      <td>NaN</td>\n      <td>MICE</td>\n      <td>MCAR</td>\n      <td>0.3</td>\n      <td>../data/miiv</td>\n    </tr>\n    <tr>\n      <th>688</th>\n      <td>NaN</td>\n      <td>NaN</td>\n      <td>NaN</td>\n      <td>NaN</td>\n      <td>NaN</td>\n      <td>NaN</td>\n      <td>Median</td>\n      <td>MCAR</td>\n      <td>0.3</td>\n      <td>../data/miiv</td>\n    </tr>\n  </tbody>\n</table>\n<p>604 rows × 10 columns</p>\n</div>"
     },
     "execution_count": 331,
     "metadata": {},
     "output_type": "execute_result"
    }
   ],
   "source": [
    "# df"
   ],
   "metadata": {
    "collapsed": false
   }
  },
  {
   "cell_type": "code",
   "execution_count": 20,
   "outputs": [],
   "source": [
    "import plotly.io as pio"
   ],
   "metadata": {
    "collapsed": false
   }
  },
  {
   "cell_type": "code",
   "execution_count": 43,
   "outputs": [],
   "source": [
    "import plotly.graph_objects as go\n",
    "mnar = df.loc[df[\"ImputationDataset.mask_method\"]==\"MNAR\"]\n",
    "order = [\"Zero\", \"Median\",\"Mean\", \"MostFrequent\", \"MICE\", \"MissForest\",\"MLP\", \"BRITS\", \"GRU-D\", \"M4IP\", \"Attention\", \"NP\",\"SAITS\",\"Diffusion\", \"CSDI\"]\n"
   ],
   "metadata": {
    "collapsed": false
   }
  },
  {
   "cell_type": "code",
   "execution_count": null,
   "outputs": [],
   "source": [
    "# dataframe = pd.DataFrame({\"name\":[\"foo\", \"bar\"]*2, \"x\":[\"A\", \"A\", \"B\", \"B\"], \"y\":[5, 6, 7, 8]})\n",
    "data = df\n",
    "# data = mnar\n",
    "x=\"model\"\n",
    "# y=\"avg.mae\"\n",
    "# y_err = \"std.mae\"\n",
    "y=\"avg.rmse\"\n",
    "y_err = \"std.rmse\"\n",
    "# group = \"ImputationDataset.mask_method\"\n",
    "# group = \"ImputationDataset.mask_proportion\"\n",
    "legend_title_text='Missingness type'\n",
    "legend_title_text='Missingness proportion'\n",
    "margin=dict(l=50, r=10, t=10, b=50)"
   ],
   "metadata": {
    "collapsed": false
   }
  },
  {
   "cell_type": "code",
   "execution_count": 156,
   "outputs": [],
   "source": [
    "x=\"model\"\n",
    "y=\"avg.rmse\"\n",
    "y_err = \"std.rmse\"\n",
    "labels={\"avg.rmse\": \"Root Mean Squared Error (RMSE)\",\"model\": \"Model\"}\n",
    "metric=\"rmse\"\n",
    "log_y=True\n",
    "range_y=[0.01,1000]"
   ],
   "metadata": {
    "collapsed": false
   }
  },
  {
   "cell_type": "code",
   "execution_count": 154,
   "outputs": [],
   "source": [
    "x=\"model\"\n",
    "y=\"avg.mae\"\n",
    "y_err = \"std.mae\"\n",
    "labels={\"avg.mae\": \"Mean Absolute Error (MAE)\",\"model\": \"Model\"}\n",
    "metric=\"mae\"\n",
    "log_y=False\n",
    "range_y=[0,0.85]"
   ],
   "metadata": {
    "collapsed": false
   }
  },
  {
   "cell_type": "code",
   "execution_count": 151,
   "outputs": [],
   "source": [
    "x=\"model\"\n",
    "y=\"avg.jsd\"\n",
    "y_err = \"std.jsd\"\n",
    "labels={\"avg.jsd\": \"Jensen Shannon Divergence (JSD)\",\"model\": \"Model\"}\n",
    "metric=\"jsd\"\n",
    "log_y=False\n",
    "range_y=[0,0.35]"
   ],
   "metadata": {
    "collapsed": false
   }
  },
  {
   "cell_type": "code",
   "execution_count": 157,
   "outputs": [
    {
     "data": {
      "application/vnd.plotly.v1+json": {
       "data": [
        {
         "alignmentgroup": "True",
         "error_y": {
          "array": [
           9.479128271712696,
           13.264875504209398,
           10.873272558042421,
           18.607183773053666,
           12.352754757464941,
           6.9284099516838635,
           0.10550652170001444,
           15.74980718084531,
           0.2702401035962912,
           0.23933491772968032,
           9.190590011312267,
           0.289585707015171,
           10.337258088591271,
           0.19437640387322655,
           0.6657609485773321
          ]
         },
         "hovertemplate": "ImputationDataset.mask_proportion=0.3<br>Model=%{x}<br>Root Mean Squared Error (RMSE)=%{y}<extra></extra>",
         "legendgroup": "0.3",
         "marker": {
          "color": "#1F77B4",
          "pattern": {
           "shape": ""
          }
         },
         "name": "0.3",
         "offsetgroup": "0.3",
         "orientation": "v",
         "showlegend": true,
         "textposition": "auto",
         "x": [
          "Zero",
          "Median",
          "Mean",
          "MostFrequent",
          "MICE",
          "MissForest",
          "MLP",
          "BRITS",
          "GRU-D",
          "M4IP",
          "Attention",
          "NP",
          "SAITS",
          "Diffusion",
          "CSDI"
         ],
         "xaxis": "x",
         "y": [
          395.7250917561849,
          401.3168688964843,
          397.35029459635416,
          456.17342793782547,
          339.58521687825515,
          347.63250467936194,
          6.036737124125163,
          256.22032918294275,
          4.420843289693196,
          3.8128334458669024,
          177.52991480509436,
          5.158940029144287,
          180.0511339314778,
          6.7912501589457195,
          3.3975512282053635
         ],
         "yaxis": "y",
         "type": "bar"
        },
        {
         "alignmentgroup": "True",
         "error_y": {
          "array": [
           9.336664709516102,
           13.81968462934426,
           12.002576616692409,
           19.65096096986982,
           18.13361580612826,
           45.29469434406269,
           0.11089181380964026,
           17.456192299570564,
           0.26620889915821894,
           0.24173750460738622,
           17.159346020990167,
           0.35841675236441056,
           15.56130906834643,
           0.18119592549432828,
           1.637403389393463
          ]
         },
         "hovertemplate": "ImputationDataset.mask_proportion=0.5<br>Model=%{x}<br>Root Mean Squared Error (RMSE)=%{y}<extra></extra>",
         "legendgroup": "0.5",
         "marker": {
          "color": "#FF7F0E",
          "pattern": {
           "shape": ""
          }
         },
         "name": "0.5",
         "offsetgroup": "0.5",
         "orientation": "v",
         "showlegend": true,
         "textposition": "auto",
         "x": [
          "Zero",
          "Median",
          "Mean",
          "MostFrequent",
          "MICE",
          "MissForest",
          "MLP",
          "BRITS",
          "GRU-D",
          "M4IP",
          "Attention",
          "NP",
          "SAITS",
          "Diffusion",
          "CSDI"
         ],
         "xaxis": "x",
         "y": [
          506.1715338134765,
          515.9739817301432,
          511.28684936523433,
          585.946513264974,
          471.7122483317057,
          538.7235390218099,
          7.747134545644125,
          358.3663128662109,
          5.924589964548747,
          5.117506434122721,
          260.3123026529948,
          6.852729396820069,
          262.8551402791341,
          8.69493850708008,
          5.7713856156667065
         ],
         "yaxis": "y",
         "type": "bar"
        },
        {
         "alignmentgroup": "True",
         "error_y": {
          "array": [
           9.692824831938628,
           15.756605614190775,
           15.4513927351715,
           22.17281599204111,
           22.53523846785326,
           99.31307664267776,
           0.12634403528255975,
           20.479752264769775,
           0.17916211402856952,
           0.25530363318314414,
           19.206848267820693,
           0.40531435671062027,
           16.434383358950143,
           0.17239867049141386,
           3.1819219829196856
          ]
         },
         "hovertemplate": "ImputationDataset.mask_proportion=0.7<br>Model=%{x}<br>Root Mean Squared Error (RMSE)=%{y}<extra></extra>",
         "legendgroup": "0.7",
         "marker": {
          "color": "#2CA02C",
          "pattern": {
           "shape": ""
          }
         },
         "name": "0.7",
         "offsetgroup": "0.7",
         "orientation": "v",
         "showlegend": true,
         "textposition": "auto",
         "x": [
          "Zero",
          "Median",
          "Mean",
          "MostFrequent",
          "MICE",
          "MissForest",
          "MLP",
          "BRITS",
          "GRU-D",
          "M4IP",
          "Attention",
          "NP",
          "SAITS",
          "Diffusion",
          "CSDI"
         ],
         "xaxis": "x",
         "y": [
          596.8389831542969,
          613.6214188639323,
          608.7621264648437,
          694.1567777506511,
          581.9831526692708,
          794.6873779296875,
          9.223374875386556,
          449.8470768229167,
          7.504124380747477,
          6.52517651240031,
          360.8070611572266,
          8.585446421305338,
          358.2860791015625,
          10.237745780944826,
          10.193914616902669
         ],
         "yaxis": "y",
         "type": "bar"
        }
       ],
       "layout": {
        "template": {
         "data": {
          "histogram2dcontour": [
           {
            "type": "histogram2dcontour",
            "colorbar": {
             "outlinewidth": 1,
             "tickcolor": "rgb(36,36,36)",
             "ticks": "outside"
            },
            "colorscale": [
             [
              0.0,
              "#440154"
             ],
             [
              0.1111111111111111,
              "#482878"
             ],
             [
              0.2222222222222222,
              "#3e4989"
             ],
             [
              0.3333333333333333,
              "#31688e"
             ],
             [
              0.4444444444444444,
              "#26828e"
             ],
             [
              0.5555555555555556,
              "#1f9e89"
             ],
             [
              0.6666666666666666,
              "#35b779"
             ],
             [
              0.7777777777777778,
              "#6ece58"
             ],
             [
              0.8888888888888888,
              "#b5de2b"
             ],
             [
              1.0,
              "#fde725"
             ]
            ]
           }
          ],
          "choropleth": [
           {
            "type": "choropleth",
            "colorbar": {
             "outlinewidth": 1,
             "tickcolor": "rgb(36,36,36)",
             "ticks": "outside"
            }
           }
          ],
          "histogram2d": [
           {
            "type": "histogram2d",
            "colorbar": {
             "outlinewidth": 1,
             "tickcolor": "rgb(36,36,36)",
             "ticks": "outside"
            },
            "colorscale": [
             [
              0.0,
              "#440154"
             ],
             [
              0.1111111111111111,
              "#482878"
             ],
             [
              0.2222222222222222,
              "#3e4989"
             ],
             [
              0.3333333333333333,
              "#31688e"
             ],
             [
              0.4444444444444444,
              "#26828e"
             ],
             [
              0.5555555555555556,
              "#1f9e89"
             ],
             [
              0.6666666666666666,
              "#35b779"
             ],
             [
              0.7777777777777778,
              "#6ece58"
             ],
             [
              0.8888888888888888,
              "#b5de2b"
             ],
             [
              1.0,
              "#fde725"
             ]
            ]
           }
          ],
          "heatmap": [
           {
            "type": "heatmap",
            "colorbar": {
             "outlinewidth": 1,
             "tickcolor": "rgb(36,36,36)",
             "ticks": "outside"
            },
            "colorscale": [
             [
              0.0,
              "#440154"
             ],
             [
              0.1111111111111111,
              "#482878"
             ],
             [
              0.2222222222222222,
              "#3e4989"
             ],
             [
              0.3333333333333333,
              "#31688e"
             ],
             [
              0.4444444444444444,
              "#26828e"
             ],
             [
              0.5555555555555556,
              "#1f9e89"
             ],
             [
              0.6666666666666666,
              "#35b779"
             ],
             [
              0.7777777777777778,
              "#6ece58"
             ],
             [
              0.8888888888888888,
              "#b5de2b"
             ],
             [
              1.0,
              "#fde725"
             ]
            ]
           }
          ],
          "heatmapgl": [
           {
            "type": "heatmapgl",
            "colorbar": {
             "outlinewidth": 1,
             "tickcolor": "rgb(36,36,36)",
             "ticks": "outside"
            },
            "colorscale": [
             [
              0.0,
              "#440154"
             ],
             [
              0.1111111111111111,
              "#482878"
             ],
             [
              0.2222222222222222,
              "#3e4989"
             ],
             [
              0.3333333333333333,
              "#31688e"
             ],
             [
              0.4444444444444444,
              "#26828e"
             ],
             [
              0.5555555555555556,
              "#1f9e89"
             ],
             [
              0.6666666666666666,
              "#35b779"
             ],
             [
              0.7777777777777778,
              "#6ece58"
             ],
             [
              0.8888888888888888,
              "#b5de2b"
             ],
             [
              1.0,
              "#fde725"
             ]
            ]
           }
          ],
          "contourcarpet": [
           {
            "type": "contourcarpet",
            "colorbar": {
             "outlinewidth": 1,
             "tickcolor": "rgb(36,36,36)",
             "ticks": "outside"
            }
           }
          ],
          "contour": [
           {
            "type": "contour",
            "colorbar": {
             "outlinewidth": 1,
             "tickcolor": "rgb(36,36,36)",
             "ticks": "outside"
            },
            "colorscale": [
             [
              0.0,
              "#440154"
             ],
             [
              0.1111111111111111,
              "#482878"
             ],
             [
              0.2222222222222222,
              "#3e4989"
             ],
             [
              0.3333333333333333,
              "#31688e"
             ],
             [
              0.4444444444444444,
              "#26828e"
             ],
             [
              0.5555555555555556,
              "#1f9e89"
             ],
             [
              0.6666666666666666,
              "#35b779"
             ],
             [
              0.7777777777777778,
              "#6ece58"
             ],
             [
              0.8888888888888888,
              "#b5de2b"
             ],
             [
              1.0,
              "#fde725"
             ]
            ]
           }
          ],
          "surface": [
           {
            "type": "surface",
            "colorbar": {
             "outlinewidth": 1,
             "tickcolor": "rgb(36,36,36)",
             "ticks": "outside"
            },
            "colorscale": [
             [
              0.0,
              "#440154"
             ],
             [
              0.1111111111111111,
              "#482878"
             ],
             [
              0.2222222222222222,
              "#3e4989"
             ],
             [
              0.3333333333333333,
              "#31688e"
             ],
             [
              0.4444444444444444,
              "#26828e"
             ],
             [
              0.5555555555555556,
              "#1f9e89"
             ],
             [
              0.6666666666666666,
              "#35b779"
             ],
             [
              0.7777777777777778,
              "#6ece58"
             ],
             [
              0.8888888888888888,
              "#b5de2b"
             ],
             [
              1.0,
              "#fde725"
             ]
            ]
           }
          ],
          "mesh3d": [
           {
            "type": "mesh3d",
            "colorbar": {
             "outlinewidth": 1,
             "tickcolor": "rgb(36,36,36)",
             "ticks": "outside"
            }
           }
          ],
          "scatter": [
           {
            "fillpattern": {
             "fillmode": "overlay",
             "size": 10,
             "solidity": 0.2
            },
            "type": "scatter"
           }
          ],
          "parcoords": [
           {
            "type": "parcoords",
            "line": {
             "colorbar": {
              "outlinewidth": 1,
              "tickcolor": "rgb(36,36,36)",
              "ticks": "outside"
             }
            }
           }
          ],
          "scatterpolargl": [
           {
            "type": "scatterpolargl",
            "marker": {
             "colorbar": {
              "outlinewidth": 1,
              "tickcolor": "rgb(36,36,36)",
              "ticks": "outside"
             }
            }
           }
          ],
          "bar": [
           {
            "error_x": {
             "color": "rgb(36,36,36)"
            },
            "error_y": {
             "color": "rgb(36,36,36)"
            },
            "marker": {
             "line": {
              "color": "white",
              "width": 0.5
             },
             "pattern": {
              "fillmode": "overlay",
              "size": 10,
              "solidity": 0.2
             }
            },
            "type": "bar"
           }
          ],
          "scattergeo": [
           {
            "type": "scattergeo",
            "marker": {
             "colorbar": {
              "outlinewidth": 1,
              "tickcolor": "rgb(36,36,36)",
              "ticks": "outside"
             }
            }
           }
          ],
          "scatterpolar": [
           {
            "type": "scatterpolar",
            "marker": {
             "colorbar": {
              "outlinewidth": 1,
              "tickcolor": "rgb(36,36,36)",
              "ticks": "outside"
             }
            }
           }
          ],
          "histogram": [
           {
            "marker": {
             "line": {
              "color": "white",
              "width": 0.6
             }
            },
            "type": "histogram"
           }
          ],
          "scattergl": [
           {
            "type": "scattergl",
            "marker": {
             "colorbar": {
              "outlinewidth": 1,
              "tickcolor": "rgb(36,36,36)",
              "ticks": "outside"
             }
            }
           }
          ],
          "scatter3d": [
           {
            "type": "scatter3d",
            "line": {
             "colorbar": {
              "outlinewidth": 1,
              "tickcolor": "rgb(36,36,36)",
              "ticks": "outside"
             }
            },
            "marker": {
             "colorbar": {
              "outlinewidth": 1,
              "tickcolor": "rgb(36,36,36)",
              "ticks": "outside"
             }
            }
           }
          ],
          "scattermapbox": [
           {
            "type": "scattermapbox",
            "marker": {
             "colorbar": {
              "outlinewidth": 1,
              "tickcolor": "rgb(36,36,36)",
              "ticks": "outside"
             }
            }
           }
          ],
          "scatterternary": [
           {
            "type": "scatterternary",
            "marker": {
             "colorbar": {
              "outlinewidth": 1,
              "tickcolor": "rgb(36,36,36)",
              "ticks": "outside"
             }
            }
           }
          ],
          "scattercarpet": [
           {
            "type": "scattercarpet",
            "marker": {
             "colorbar": {
              "outlinewidth": 1,
              "tickcolor": "rgb(36,36,36)",
              "ticks": "outside"
             }
            }
           }
          ],
          "carpet": [
           {
            "aaxis": {
             "endlinecolor": "rgb(36,36,36)",
             "gridcolor": "white",
             "linecolor": "white",
             "minorgridcolor": "white",
             "startlinecolor": "rgb(36,36,36)"
            },
            "baxis": {
             "endlinecolor": "rgb(36,36,36)",
             "gridcolor": "white",
             "linecolor": "white",
             "minorgridcolor": "white",
             "startlinecolor": "rgb(36,36,36)"
            },
            "type": "carpet"
           }
          ],
          "table": [
           {
            "cells": {
             "fill": {
              "color": "rgb(237,237,237)"
             },
             "line": {
              "color": "white"
             }
            },
            "header": {
             "fill": {
              "color": "rgb(217,217,217)"
             },
             "line": {
              "color": "white"
             }
            },
            "type": "table"
           }
          ],
          "barpolar": [
           {
            "marker": {
             "line": {
              "color": "white",
              "width": 0.5
             },
             "pattern": {
              "fillmode": "overlay",
              "size": 10,
              "solidity": 0.2
             }
            },
            "type": "barpolar"
           }
          ],
          "pie": [
           {
            "automargin": true,
            "type": "pie"
           }
          ]
         },
         "layout": {
          "autotypenumbers": "strict",
          "colorway": [
           "#1F77B4",
           "#FF7F0E",
           "#2CA02C",
           "#D62728",
           "#9467BD",
           "#8C564B",
           "#E377C2",
           "#7F7F7F",
           "#BCBD22",
           "#17BECF"
          ],
          "font": {
           "color": "rgb(36,36,36)"
          },
          "hovermode": "closest",
          "hoverlabel": {
           "align": "left"
          },
          "paper_bgcolor": "white",
          "plot_bgcolor": "white",
          "polar": {
           "bgcolor": "white",
           "angularaxis": {
            "gridcolor": "rgb(232,232,232)",
            "linecolor": "rgb(36,36,36)",
            "showgrid": false,
            "showline": true,
            "ticks": "outside"
           },
           "radialaxis": {
            "gridcolor": "rgb(232,232,232)",
            "linecolor": "rgb(36,36,36)",
            "showgrid": false,
            "showline": true,
            "ticks": "outside"
           }
          },
          "ternary": {
           "bgcolor": "white",
           "aaxis": {
            "gridcolor": "rgb(232,232,232)",
            "linecolor": "rgb(36,36,36)",
            "showgrid": false,
            "showline": true,
            "ticks": "outside"
           },
           "baxis": {
            "gridcolor": "rgb(232,232,232)",
            "linecolor": "rgb(36,36,36)",
            "showgrid": false,
            "showline": true,
            "ticks": "outside"
           },
           "caxis": {
            "gridcolor": "rgb(232,232,232)",
            "linecolor": "rgb(36,36,36)",
            "showgrid": false,
            "showline": true,
            "ticks": "outside"
           }
          },
          "coloraxis": {
           "colorbar": {
            "outlinewidth": 1,
            "tickcolor": "rgb(36,36,36)",
            "ticks": "outside"
           }
          },
          "colorscale": {
           "sequential": [
            [
             0.0,
             "#440154"
            ],
            [
             0.1111111111111111,
             "#482878"
            ],
            [
             0.2222222222222222,
             "#3e4989"
            ],
            [
             0.3333333333333333,
             "#31688e"
            ],
            [
             0.4444444444444444,
             "#26828e"
            ],
            [
             0.5555555555555556,
             "#1f9e89"
            ],
            [
             0.6666666666666666,
             "#35b779"
            ],
            [
             0.7777777777777778,
             "#6ece58"
            ],
            [
             0.8888888888888888,
             "#b5de2b"
            ],
            [
             1.0,
             "#fde725"
            ]
           ],
           "sequentialminus": [
            [
             0.0,
             "#440154"
            ],
            [
             0.1111111111111111,
             "#482878"
            ],
            [
             0.2222222222222222,
             "#3e4989"
            ],
            [
             0.3333333333333333,
             "#31688e"
            ],
            [
             0.4444444444444444,
             "#26828e"
            ],
            [
             0.5555555555555556,
             "#1f9e89"
            ],
            [
             0.6666666666666666,
             "#35b779"
            ],
            [
             0.7777777777777778,
             "#6ece58"
            ],
            [
             0.8888888888888888,
             "#b5de2b"
            ],
            [
             1.0,
             "#fde725"
            ]
           ],
           "diverging": [
            [
             0.0,
             "rgb(103,0,31)"
            ],
            [
             0.1,
             "rgb(178,24,43)"
            ],
            [
             0.2,
             "rgb(214,96,77)"
            ],
            [
             0.3,
             "rgb(244,165,130)"
            ],
            [
             0.4,
             "rgb(253,219,199)"
            ],
            [
             0.5,
             "rgb(247,247,247)"
            ],
            [
             0.6,
             "rgb(209,229,240)"
            ],
            [
             0.7,
             "rgb(146,197,222)"
            ],
            [
             0.8,
             "rgb(67,147,195)"
            ],
            [
             0.9,
             "rgb(33,102,172)"
            ],
            [
             1.0,
             "rgb(5,48,97)"
            ]
           ]
          },
          "xaxis": {
           "gridcolor": "rgb(232,232,232)",
           "linecolor": "rgb(36,36,36)",
           "showgrid": false,
           "showline": true,
           "ticks": "outside",
           "title": {
            "standoff": 15
           },
           "zerolinecolor": "rgb(36,36,36)",
           "automargin": true,
           "zeroline": false
          },
          "yaxis": {
           "gridcolor": "rgb(232,232,232)",
           "linecolor": "rgb(36,36,36)",
           "showgrid": false,
           "showline": true,
           "ticks": "outside",
           "title": {
            "standoff": 15
           },
           "zerolinecolor": "rgb(36,36,36)",
           "automargin": true,
           "zeroline": false
          },
          "scene": {
           "xaxis": {
            "backgroundcolor": "white",
            "gridcolor": "rgb(232,232,232)",
            "linecolor": "rgb(36,36,36)",
            "showbackground": true,
            "showgrid": false,
            "showline": true,
            "ticks": "outside",
            "zerolinecolor": "rgb(36,36,36)",
            "gridwidth": 2,
            "zeroline": false
           },
           "yaxis": {
            "backgroundcolor": "white",
            "gridcolor": "rgb(232,232,232)",
            "linecolor": "rgb(36,36,36)",
            "showbackground": true,
            "showgrid": false,
            "showline": true,
            "ticks": "outside",
            "zerolinecolor": "rgb(36,36,36)",
            "gridwidth": 2,
            "zeroline": false
           },
           "zaxis": {
            "backgroundcolor": "white",
            "gridcolor": "rgb(232,232,232)",
            "linecolor": "rgb(36,36,36)",
            "showbackground": true,
            "showgrid": false,
            "showline": true,
            "ticks": "outside",
            "zerolinecolor": "rgb(36,36,36)",
            "gridwidth": 2,
            "zeroline": false
           }
          },
          "shapedefaults": {
           "fillcolor": "black",
           "line": {
            "width": 0
           },
           "opacity": 0.3
          },
          "annotationdefaults": {
           "arrowhead": 0,
           "arrowwidth": 1
          },
          "geo": {
           "bgcolor": "white",
           "landcolor": "white",
           "subunitcolor": "white",
           "showland": true,
           "showlakes": true,
           "lakecolor": "white"
          },
          "title": {
           "x": 0.05
          },
          "mapbox": {
           "style": "light"
          }
         }
        },
        "xaxis": {
         "anchor": "y",
         "domain": [
          0.0,
          1.0
         ],
         "title": {},
         "showticklabels": false,
         "showgrid": true
        },
        "yaxis": {
         "anchor": "x",
         "domain": [
          0.0,
          1.0
         ],
         "title": {
          "text": "Root Mean Squared Error (RMSE)"
         },
         "type": "log",
         "range": [
          -1.9999999999999996,
          2.9999999999999996
         ],
         "showgrid": true
        },
        "legend": {
         "title": {
          "text": "Missingness proportion"
         },
         "tracegroupgap": 0,
         "orientation": "h",
         "yanchor": "bottom",
         "y": 0.95,
         "xanchor": "right",
         "x": 1
        },
        "margin": {
         "t": 20,
         "l": 50,
         "r": 10,
         "b": 10
        },
        "barmode": "group",
        "height": 400,
        "width": 1200,
        "font": {
         "family": "Arial",
         "size": 16
        }
       },
       "config": {
        "plotlyServerURL": "https://plot.ly"
       }
      },
      "text/html": "<div>                            <div id=\"7e44d44c-896e-440f-92ef-ede68f343c78\" class=\"plotly-graph-div\" style=\"height:400px; width:1200px;\"></div>            <script type=\"text/javascript\">                require([\"plotly\"], function(Plotly) {                    window.PLOTLYENV=window.PLOTLYENV || {};                                    if (document.getElementById(\"7e44d44c-896e-440f-92ef-ede68f343c78\")) {                    Plotly.newPlot(                        \"7e44d44c-896e-440f-92ef-ede68f343c78\",                        [{\"alignmentgroup\":\"True\",\"error_y\":{\"array\":[9.479128271712696,13.264875504209398,10.873272558042421,18.607183773053666,12.352754757464941,6.9284099516838635,0.10550652170001444,15.74980718084531,0.2702401035962912,0.23933491772968032,9.190590011312267,0.289585707015171,10.337258088591271,0.19437640387322655,0.6657609485773321]},\"hovertemplate\":\"ImputationDataset.mask_proportion=0.3<br>Model=%{x}<br>Root Mean Squared Error (RMSE)=%{y}<extra></extra>\",\"legendgroup\":\"0.3\",\"marker\":{\"color\":\"#1F77B4\",\"pattern\":{\"shape\":\"\"}},\"name\":\"0.3\",\"offsetgroup\":\"0.3\",\"orientation\":\"v\",\"showlegend\":true,\"textposition\":\"auto\",\"x\":[\"Zero\",\"Median\",\"Mean\",\"MostFrequent\",\"MICE\",\"MissForest\",\"MLP\",\"BRITS\",\"GRU-D\",\"M4IP\",\"Attention\",\"NP\",\"SAITS\",\"Diffusion\",\"CSDI\"],\"xaxis\":\"x\",\"y\":[395.7250917561849,401.3168688964843,397.35029459635416,456.17342793782547,339.58521687825515,347.63250467936194,6.036737124125163,256.22032918294275,4.420843289693196,3.8128334458669024,177.52991480509436,5.158940029144287,180.0511339314778,6.7912501589457195,3.3975512282053635],\"yaxis\":\"y\",\"type\":\"bar\"},{\"alignmentgroup\":\"True\",\"error_y\":{\"array\":[9.336664709516102,13.81968462934426,12.002576616692409,19.65096096986982,18.13361580612826,45.29469434406269,0.11089181380964026,17.456192299570564,0.26620889915821894,0.24173750460738622,17.159346020990167,0.35841675236441056,15.56130906834643,0.18119592549432828,1.637403389393463]},\"hovertemplate\":\"ImputationDataset.mask_proportion=0.5<br>Model=%{x}<br>Root Mean Squared Error (RMSE)=%{y}<extra></extra>\",\"legendgroup\":\"0.5\",\"marker\":{\"color\":\"#FF7F0E\",\"pattern\":{\"shape\":\"\"}},\"name\":\"0.5\",\"offsetgroup\":\"0.5\",\"orientation\":\"v\",\"showlegend\":true,\"textposition\":\"auto\",\"x\":[\"Zero\",\"Median\",\"Mean\",\"MostFrequent\",\"MICE\",\"MissForest\",\"MLP\",\"BRITS\",\"GRU-D\",\"M4IP\",\"Attention\",\"NP\",\"SAITS\",\"Diffusion\",\"CSDI\"],\"xaxis\":\"x\",\"y\":[506.1715338134765,515.9739817301432,511.28684936523433,585.946513264974,471.7122483317057,538.7235390218099,7.747134545644125,358.3663128662109,5.924589964548747,5.117506434122721,260.3123026529948,6.852729396820069,262.8551402791341,8.69493850708008,5.7713856156667065],\"yaxis\":\"y\",\"type\":\"bar\"},{\"alignmentgroup\":\"True\",\"error_y\":{\"array\":[9.692824831938628,15.756605614190775,15.4513927351715,22.17281599204111,22.53523846785326,99.31307664267776,0.12634403528255975,20.479752264769775,0.17916211402856952,0.25530363318314414,19.206848267820693,0.40531435671062027,16.434383358950143,0.17239867049141386,3.1819219829196856]},\"hovertemplate\":\"ImputationDataset.mask_proportion=0.7<br>Model=%{x}<br>Root Mean Squared Error (RMSE)=%{y}<extra></extra>\",\"legendgroup\":\"0.7\",\"marker\":{\"color\":\"#2CA02C\",\"pattern\":{\"shape\":\"\"}},\"name\":\"0.7\",\"offsetgroup\":\"0.7\",\"orientation\":\"v\",\"showlegend\":true,\"textposition\":\"auto\",\"x\":[\"Zero\",\"Median\",\"Mean\",\"MostFrequent\",\"MICE\",\"MissForest\",\"MLP\",\"BRITS\",\"GRU-D\",\"M4IP\",\"Attention\",\"NP\",\"SAITS\",\"Diffusion\",\"CSDI\"],\"xaxis\":\"x\",\"y\":[596.8389831542969,613.6214188639323,608.7621264648437,694.1567777506511,581.9831526692708,794.6873779296875,9.223374875386556,449.8470768229167,7.504124380747477,6.52517651240031,360.8070611572266,8.585446421305338,358.2860791015625,10.237745780944826,10.193914616902669],\"yaxis\":\"y\",\"type\":\"bar\"}],                        {\"template\":{\"data\":{\"histogram2dcontour\":[{\"type\":\"histogram2dcontour\",\"colorbar\":{\"outlinewidth\":1,\"tickcolor\":\"rgb(36,36,36)\",\"ticks\":\"outside\"},\"colorscale\":[[0.0,\"#440154\"],[0.1111111111111111,\"#482878\"],[0.2222222222222222,\"#3e4989\"],[0.3333333333333333,\"#31688e\"],[0.4444444444444444,\"#26828e\"],[0.5555555555555556,\"#1f9e89\"],[0.6666666666666666,\"#35b779\"],[0.7777777777777778,\"#6ece58\"],[0.8888888888888888,\"#b5de2b\"],[1.0,\"#fde725\"]]}],\"choropleth\":[{\"type\":\"choropleth\",\"colorbar\":{\"outlinewidth\":1,\"tickcolor\":\"rgb(36,36,36)\",\"ticks\":\"outside\"}}],\"histogram2d\":[{\"type\":\"histogram2d\",\"colorbar\":{\"outlinewidth\":1,\"tickcolor\":\"rgb(36,36,36)\",\"ticks\":\"outside\"},\"colorscale\":[[0.0,\"#440154\"],[0.1111111111111111,\"#482878\"],[0.2222222222222222,\"#3e4989\"],[0.3333333333333333,\"#31688e\"],[0.4444444444444444,\"#26828e\"],[0.5555555555555556,\"#1f9e89\"],[0.6666666666666666,\"#35b779\"],[0.7777777777777778,\"#6ece58\"],[0.8888888888888888,\"#b5de2b\"],[1.0,\"#fde725\"]]}],\"heatmap\":[{\"type\":\"heatmap\",\"colorbar\":{\"outlinewidth\":1,\"tickcolor\":\"rgb(36,36,36)\",\"ticks\":\"outside\"},\"colorscale\":[[0.0,\"#440154\"],[0.1111111111111111,\"#482878\"],[0.2222222222222222,\"#3e4989\"],[0.3333333333333333,\"#31688e\"],[0.4444444444444444,\"#26828e\"],[0.5555555555555556,\"#1f9e89\"],[0.6666666666666666,\"#35b779\"],[0.7777777777777778,\"#6ece58\"],[0.8888888888888888,\"#b5de2b\"],[1.0,\"#fde725\"]]}],\"heatmapgl\":[{\"type\":\"heatmapgl\",\"colorbar\":{\"outlinewidth\":1,\"tickcolor\":\"rgb(36,36,36)\",\"ticks\":\"outside\"},\"colorscale\":[[0.0,\"#440154\"],[0.1111111111111111,\"#482878\"],[0.2222222222222222,\"#3e4989\"],[0.3333333333333333,\"#31688e\"],[0.4444444444444444,\"#26828e\"],[0.5555555555555556,\"#1f9e89\"],[0.6666666666666666,\"#35b779\"],[0.7777777777777778,\"#6ece58\"],[0.8888888888888888,\"#b5de2b\"],[1.0,\"#fde725\"]]}],\"contourcarpet\":[{\"type\":\"contourcarpet\",\"colorbar\":{\"outlinewidth\":1,\"tickcolor\":\"rgb(36,36,36)\",\"ticks\":\"outside\"}}],\"contour\":[{\"type\":\"contour\",\"colorbar\":{\"outlinewidth\":1,\"tickcolor\":\"rgb(36,36,36)\",\"ticks\":\"outside\"},\"colorscale\":[[0.0,\"#440154\"],[0.1111111111111111,\"#482878\"],[0.2222222222222222,\"#3e4989\"],[0.3333333333333333,\"#31688e\"],[0.4444444444444444,\"#26828e\"],[0.5555555555555556,\"#1f9e89\"],[0.6666666666666666,\"#35b779\"],[0.7777777777777778,\"#6ece58\"],[0.8888888888888888,\"#b5de2b\"],[1.0,\"#fde725\"]]}],\"surface\":[{\"type\":\"surface\",\"colorbar\":{\"outlinewidth\":1,\"tickcolor\":\"rgb(36,36,36)\",\"ticks\":\"outside\"},\"colorscale\":[[0.0,\"#440154\"],[0.1111111111111111,\"#482878\"],[0.2222222222222222,\"#3e4989\"],[0.3333333333333333,\"#31688e\"],[0.4444444444444444,\"#26828e\"],[0.5555555555555556,\"#1f9e89\"],[0.6666666666666666,\"#35b779\"],[0.7777777777777778,\"#6ece58\"],[0.8888888888888888,\"#b5de2b\"],[1.0,\"#fde725\"]]}],\"mesh3d\":[{\"type\":\"mesh3d\",\"colorbar\":{\"outlinewidth\":1,\"tickcolor\":\"rgb(36,36,36)\",\"ticks\":\"outside\"}}],\"scatter\":[{\"fillpattern\":{\"fillmode\":\"overlay\",\"size\":10,\"solidity\":0.2},\"type\":\"scatter\"}],\"parcoords\":[{\"type\":\"parcoords\",\"line\":{\"colorbar\":{\"outlinewidth\":1,\"tickcolor\":\"rgb(36,36,36)\",\"ticks\":\"outside\"}}}],\"scatterpolargl\":[{\"type\":\"scatterpolargl\",\"marker\":{\"colorbar\":{\"outlinewidth\":1,\"tickcolor\":\"rgb(36,36,36)\",\"ticks\":\"outside\"}}}],\"bar\":[{\"error_x\":{\"color\":\"rgb(36,36,36)\"},\"error_y\":{\"color\":\"rgb(36,36,36)\"},\"marker\":{\"line\":{\"color\":\"white\",\"width\":0.5},\"pattern\":{\"fillmode\":\"overlay\",\"size\":10,\"solidity\":0.2}},\"type\":\"bar\"}],\"scattergeo\":[{\"type\":\"scattergeo\",\"marker\":{\"colorbar\":{\"outlinewidth\":1,\"tickcolor\":\"rgb(36,36,36)\",\"ticks\":\"outside\"}}}],\"scatterpolar\":[{\"type\":\"scatterpolar\",\"marker\":{\"colorbar\":{\"outlinewidth\":1,\"tickcolor\":\"rgb(36,36,36)\",\"ticks\":\"outside\"}}}],\"histogram\":[{\"marker\":{\"line\":{\"color\":\"white\",\"width\":0.6}},\"type\":\"histogram\"}],\"scattergl\":[{\"type\":\"scattergl\",\"marker\":{\"colorbar\":{\"outlinewidth\":1,\"tickcolor\":\"rgb(36,36,36)\",\"ticks\":\"outside\"}}}],\"scatter3d\":[{\"type\":\"scatter3d\",\"line\":{\"colorbar\":{\"outlinewidth\":1,\"tickcolor\":\"rgb(36,36,36)\",\"ticks\":\"outside\"}},\"marker\":{\"colorbar\":{\"outlinewidth\":1,\"tickcolor\":\"rgb(36,36,36)\",\"ticks\":\"outside\"}}}],\"scattermapbox\":[{\"type\":\"scattermapbox\",\"marker\":{\"colorbar\":{\"outlinewidth\":1,\"tickcolor\":\"rgb(36,36,36)\",\"ticks\":\"outside\"}}}],\"scatterternary\":[{\"type\":\"scatterternary\",\"marker\":{\"colorbar\":{\"outlinewidth\":1,\"tickcolor\":\"rgb(36,36,36)\",\"ticks\":\"outside\"}}}],\"scattercarpet\":[{\"type\":\"scattercarpet\",\"marker\":{\"colorbar\":{\"outlinewidth\":1,\"tickcolor\":\"rgb(36,36,36)\",\"ticks\":\"outside\"}}}],\"carpet\":[{\"aaxis\":{\"endlinecolor\":\"rgb(36,36,36)\",\"gridcolor\":\"white\",\"linecolor\":\"white\",\"minorgridcolor\":\"white\",\"startlinecolor\":\"rgb(36,36,36)\"},\"baxis\":{\"endlinecolor\":\"rgb(36,36,36)\",\"gridcolor\":\"white\",\"linecolor\":\"white\",\"minorgridcolor\":\"white\",\"startlinecolor\":\"rgb(36,36,36)\"},\"type\":\"carpet\"}],\"table\":[{\"cells\":{\"fill\":{\"color\":\"rgb(237,237,237)\"},\"line\":{\"color\":\"white\"}},\"header\":{\"fill\":{\"color\":\"rgb(217,217,217)\"},\"line\":{\"color\":\"white\"}},\"type\":\"table\"}],\"barpolar\":[{\"marker\":{\"line\":{\"color\":\"white\",\"width\":0.5},\"pattern\":{\"fillmode\":\"overlay\",\"size\":10,\"solidity\":0.2}},\"type\":\"barpolar\"}],\"pie\":[{\"automargin\":true,\"type\":\"pie\"}]},\"layout\":{\"autotypenumbers\":\"strict\",\"colorway\":[\"#1F77B4\",\"#FF7F0E\",\"#2CA02C\",\"#D62728\",\"#9467BD\",\"#8C564B\",\"#E377C2\",\"#7F7F7F\",\"#BCBD22\",\"#17BECF\"],\"font\":{\"color\":\"rgb(36,36,36)\"},\"hovermode\":\"closest\",\"hoverlabel\":{\"align\":\"left\"},\"paper_bgcolor\":\"white\",\"plot_bgcolor\":\"white\",\"polar\":{\"bgcolor\":\"white\",\"angularaxis\":{\"gridcolor\":\"rgb(232,232,232)\",\"linecolor\":\"rgb(36,36,36)\",\"showgrid\":false,\"showline\":true,\"ticks\":\"outside\"},\"radialaxis\":{\"gridcolor\":\"rgb(232,232,232)\",\"linecolor\":\"rgb(36,36,36)\",\"showgrid\":false,\"showline\":true,\"ticks\":\"outside\"}},\"ternary\":{\"bgcolor\":\"white\",\"aaxis\":{\"gridcolor\":\"rgb(232,232,232)\",\"linecolor\":\"rgb(36,36,36)\",\"showgrid\":false,\"showline\":true,\"ticks\":\"outside\"},\"baxis\":{\"gridcolor\":\"rgb(232,232,232)\",\"linecolor\":\"rgb(36,36,36)\",\"showgrid\":false,\"showline\":true,\"ticks\":\"outside\"},\"caxis\":{\"gridcolor\":\"rgb(232,232,232)\",\"linecolor\":\"rgb(36,36,36)\",\"showgrid\":false,\"showline\":true,\"ticks\":\"outside\"}},\"coloraxis\":{\"colorbar\":{\"outlinewidth\":1,\"tickcolor\":\"rgb(36,36,36)\",\"ticks\":\"outside\"}},\"colorscale\":{\"sequential\":[[0.0,\"#440154\"],[0.1111111111111111,\"#482878\"],[0.2222222222222222,\"#3e4989\"],[0.3333333333333333,\"#31688e\"],[0.4444444444444444,\"#26828e\"],[0.5555555555555556,\"#1f9e89\"],[0.6666666666666666,\"#35b779\"],[0.7777777777777778,\"#6ece58\"],[0.8888888888888888,\"#b5de2b\"],[1.0,\"#fde725\"]],\"sequentialminus\":[[0.0,\"#440154\"],[0.1111111111111111,\"#482878\"],[0.2222222222222222,\"#3e4989\"],[0.3333333333333333,\"#31688e\"],[0.4444444444444444,\"#26828e\"],[0.5555555555555556,\"#1f9e89\"],[0.6666666666666666,\"#35b779\"],[0.7777777777777778,\"#6ece58\"],[0.8888888888888888,\"#b5de2b\"],[1.0,\"#fde725\"]],\"diverging\":[[0.0,\"rgb(103,0,31)\"],[0.1,\"rgb(178,24,43)\"],[0.2,\"rgb(214,96,77)\"],[0.3,\"rgb(244,165,130)\"],[0.4,\"rgb(253,219,199)\"],[0.5,\"rgb(247,247,247)\"],[0.6,\"rgb(209,229,240)\"],[0.7,\"rgb(146,197,222)\"],[0.8,\"rgb(67,147,195)\"],[0.9,\"rgb(33,102,172)\"],[1.0,\"rgb(5,48,97)\"]]},\"xaxis\":{\"gridcolor\":\"rgb(232,232,232)\",\"linecolor\":\"rgb(36,36,36)\",\"showgrid\":false,\"showline\":true,\"ticks\":\"outside\",\"title\":{\"standoff\":15},\"zerolinecolor\":\"rgb(36,36,36)\",\"automargin\":true,\"zeroline\":false},\"yaxis\":{\"gridcolor\":\"rgb(232,232,232)\",\"linecolor\":\"rgb(36,36,36)\",\"showgrid\":false,\"showline\":true,\"ticks\":\"outside\",\"title\":{\"standoff\":15},\"zerolinecolor\":\"rgb(36,36,36)\",\"automargin\":true,\"zeroline\":false},\"scene\":{\"xaxis\":{\"backgroundcolor\":\"white\",\"gridcolor\":\"rgb(232,232,232)\",\"linecolor\":\"rgb(36,36,36)\",\"showbackground\":true,\"showgrid\":false,\"showline\":true,\"ticks\":\"outside\",\"zerolinecolor\":\"rgb(36,36,36)\",\"gridwidth\":2,\"zeroline\":false},\"yaxis\":{\"backgroundcolor\":\"white\",\"gridcolor\":\"rgb(232,232,232)\",\"linecolor\":\"rgb(36,36,36)\",\"showbackground\":true,\"showgrid\":false,\"showline\":true,\"ticks\":\"outside\",\"zerolinecolor\":\"rgb(36,36,36)\",\"gridwidth\":2,\"zeroline\":false},\"zaxis\":{\"backgroundcolor\":\"white\",\"gridcolor\":\"rgb(232,232,232)\",\"linecolor\":\"rgb(36,36,36)\",\"showbackground\":true,\"showgrid\":false,\"showline\":true,\"ticks\":\"outside\",\"zerolinecolor\":\"rgb(36,36,36)\",\"gridwidth\":2,\"zeroline\":false}},\"shapedefaults\":{\"fillcolor\":\"black\",\"line\":{\"width\":0},\"opacity\":0.3},\"annotationdefaults\":{\"arrowhead\":0,\"arrowwidth\":1},\"geo\":{\"bgcolor\":\"white\",\"landcolor\":\"white\",\"subunitcolor\":\"white\",\"showland\":true,\"showlakes\":true,\"lakecolor\":\"white\"},\"title\":{\"x\":0.05},\"mapbox\":{\"style\":\"light\"}}},\"xaxis\":{\"anchor\":\"y\",\"domain\":[0.0,1.0],\"title\":{},\"showticklabels\":false,\"showgrid\":true},\"yaxis\":{\"anchor\":\"x\",\"domain\":[0.0,1.0],\"title\":{\"text\":\"Root Mean Squared Error (RMSE)\"},\"type\":\"log\",\"range\":[-1.9999999999999996,2.9999999999999996],\"showgrid\":true},\"legend\":{\"title\":{\"text\":\"Missingness proportion\"},\"tracegroupgap\":0,\"orientation\":\"h\",\"yanchor\":\"bottom\",\"y\":0.95,\"xanchor\":\"right\",\"x\":1},\"margin\":{\"t\":20,\"l\":50,\"r\":10,\"b\":10},\"barmode\":\"group\",\"height\":400,\"width\":1200,\"font\":{\"family\":\"Arial\",\"size\":16}},                        {\"responsive\": true}                    ).then(function(){\n                            \nvar gd = document.getElementById('7e44d44c-896e-440f-92ef-ede68f343c78');\nvar x = new MutationObserver(function (mutations, observer) {{\n        var display = window.getComputedStyle(gd).display;\n        if (!display || display === 'none') {{\n            console.log([gd, 'removed!']);\n            Plotly.purge(gd);\n            observer.disconnect();\n        }}\n}});\n\n// Listen for the removal of the full notebook cells\nvar notebookContainer = gd.closest('#notebook-container');\nif (notebookContainer) {{\n    x.observe(notebookContainer, {childList: true});\n}}\n\n// Listen for the clearing of the current output cell\nvar outputEl = gd.closest('.output');\nif (outputEl) {{\n    x.observe(outputEl, {childList: true});\n}}\n\n                        })                };                });            </script>        </div>"
     },
     "metadata": {},
     "output_type": "display_data"
    },
    {
     "data": {
      "application/vnd.plotly.v1+json": {
       "data": [
        {
         "alignmentgroup": "True",
         "error_y": {
          "array": [
           6.089203510645781,
           6.415029185775795,
           6.088008370013596,
           9.727606684861323,
           6.088008370013596,
           7.916806157480519,
           0.0850309715280634,
           6.9684433341955305,
           0.06741885352853241,
           0.05430947425049134,
           14.75578525908725,
           0.33520738128395405,
           28.2762379448367,
           0.08940556049181253,
           2.8876826693233415
          ]
         },
         "hovertemplate": "ImputationDataset.mask_method=BO<br>Model=%{x}<br>Root Mean Squared Error (RMSE)=%{y}<extra></extra>",
         "legendgroup": "BO",
         "marker": {
          "color": "#1F77B4",
          "pattern": {
           "shape": ""
          }
         },
         "name": "BO",
         "offsetgroup": "BO",
         "orientation": "v",
         "showlegend": true,
         "textposition": "auto",
         "x": [
          "Zero",
          "Median",
          "Mean",
          "MostFrequent",
          "MICE",
          "MissForest",
          "MLP",
          "BRITS",
          "GRU-D",
          "M4IP",
          "Attention",
          "NP",
          "SAITS",
          "Diffusion",
          "CSDI"
         ],
         "xaxis": "x",
         "y": [
          501.00959852430555,
          506.9052929009332,
          501.01214742024746,
          580.5037565104167,
          501.01214742024746,
          517.3306146240234,
          7.5296525022718646,
          447.0318309190538,
          5.725124087863498,
          4.883362879223294,
          306.51763899061416,
          6.598080194261339,
          340.50438195122615,
          8.587783014509412,
          8.129476533465914
         ],
         "yaxis": "y",
         "type": "bar"
        },
        {
         "alignmentgroup": "True",
         "error_y": {
          "array": [
           11.74212607095198,
           17.54554321898705,
           14.859092385481128,
           29.27008847045203,
           18.96334023250043,
           18.378336498500094,
           0.22413993197488827,
           26.195411073643648,
           0.3509898468400668,
           0.4146504255293523,
           18.60527178077288,
           0.38387059089518677,
           18.376106277485547,
           0.18073834850889436,
           5.1210838660951
          ]
         },
         "hovertemplate": "ImputationDataset.mask_method=MAR<br>Model=%{x}<br>Root Mean Squared Error (RMSE)=%{y}<extra></extra>",
         "legendgroup": "MAR",
         "marker": {
          "color": "#FF7F0E",
          "pattern": {
           "shape": ""
          }
         },
         "name": "MAR",
         "offsetgroup": "MAR",
         "orientation": "v",
         "showlegend": true,
         "textposition": "auto",
         "x": [
          "Zero",
          "Median",
          "Mean",
          "MostFrequent",
          "MICE",
          "MissForest",
          "MLP",
          "BRITS",
          "GRU-D",
          "M4IP",
          "Attention",
          "NP",
          "SAITS",
          "Diffusion",
          "CSDI"
         ],
         "xaxis": "x",
         "y": [
          457.4241278076172,
          466.97196139865446,
          463.1095148383247,
          522.7467549641927,
          414.7918719143338,
          419.01030971950956,
          7.29976154115465,
          329.6958441670736,
          5.847269740634494,
          5.287235141330296,
          240.29815500895185,
          6.446911468505859,
          240.54643064710828,
          7.839310726589627,
          7.699035424126519
         ],
         "yaxis": "y",
         "type": "bar"
        },
        {
         "alignmentgroup": "True",
         "error_y": {
          "array": [
           5.922788262320285,
           6.286776231558794,
           8.557506643534497,
           7.044791818297311,
           8.146319602026166,
           45.227229958109056,
           0.07675219019751671,
           8.13904335095265,
           0.09896052543983398,
           0.10014935687210737,
           4.549685085107006,
           0.5264293498608632,
           3.2666932795819448,
           0.08610511276903204,
           11.1806390128321
          ]
         },
         "hovertemplate": "ImputationDataset.mask_method=MCAR<br>Model=%{x}<br>Root Mean Squared Error (RMSE)=%{y}<extra></extra>",
         "legendgroup": "MCAR",
         "marker": {
          "color": "#2CA02C",
          "pattern": {
           "shape": ""
          }
         },
         "name": "MCAR",
         "offsetgroup": "MCAR",
         "orientation": "v",
         "showlegend": true,
         "textposition": "auto",
         "x": [
          "Zero",
          "Median",
          "Mean",
          "MostFrequent",
          "MICE",
          "MissForest",
          "MLP",
          "BRITS",
          "GRU-D",
          "M4IP",
          "Attention",
          "NP",
          "SAITS",
          "Diffusion",
          "CSDI"
         ],
         "xaxis": "x",
         "y": [
          500.8718726942274,
          506.67067437065975,
          575.4035994309645,
          588.2748125813802,
          520.2861515455979,
          528.7367254638672,
          7.5083538585239,
          326.6011742694561,
          6.881433902808598,
          6.13212337902614,
          233.2624454498291,
          8.227443554024948,
          224.13679876055036,
          8.57829491297404,
          13.522413630256
         ],
         "yaxis": "y",
         "type": "bar"
        },
        {
         "alignmentgroup": "True",
         "error_y": {
          "array": [
           9.502872604389141,
           14.280388582581477,
           12.77574730330211,
           20.143653578321533,
           17.673869677148822,
           50.51206031280811,
           0.11424745693073815,
           17.89525058172855,
           0.2385370389276932,
           0.24545868517340358,
           15.185594766707709,
           0.3511056053634006,
           14.110983505295948,
           0.18265699995298956,
           1.8283621069634934
          ]
         },
         "hovertemplate": "ImputationDataset.mask_method=MNAR<br>Model=%{x}<br>Root Mean Squared Error (RMSE)=%{y}<extra></extra>",
         "legendgroup": "MNAR",
         "marker": {
          "color": "#D62728",
          "pattern": {
           "shape": ""
          }
         },
         "name": "MNAR",
         "offsetgroup": "MNAR",
         "orientation": "v",
         "showlegend": true,
         "textposition": "auto",
         "x": [
          "Zero",
          "Median",
          "Mean",
          "MostFrequent",
          "MICE",
          "MissForest",
          "MLP",
          "BRITS",
          "GRU-D",
          "M4IP",
          "Attention",
          "NP",
          "SAITS",
          "Diffusion",
          "CSDI"
         ],
         "xaxis": "x",
         "y": [
          499.57853624131945,
          510.30408983018657,
          505.79975680881074,
          578.7589063178169,
          464.42687262641056,
          560.3478072102864,
          7.669082181718614,
          354.8112396240234,
          5.949852544996473,
          5.151838797463311,
          266.2164262051053,
          6.865705282423232,
          267.0641177707248,
          8.574644815656875,
          6.454283820258246
         ],
         "yaxis": "y",
         "type": "bar"
        }
       ],
       "layout": {
        "template": {
         "data": {
          "histogram2dcontour": [
           {
            "type": "histogram2dcontour",
            "colorbar": {
             "outlinewidth": 1,
             "tickcolor": "rgb(36,36,36)",
             "ticks": "outside"
            },
            "colorscale": [
             [
              0.0,
              "#440154"
             ],
             [
              0.1111111111111111,
              "#482878"
             ],
             [
              0.2222222222222222,
              "#3e4989"
             ],
             [
              0.3333333333333333,
              "#31688e"
             ],
             [
              0.4444444444444444,
              "#26828e"
             ],
             [
              0.5555555555555556,
              "#1f9e89"
             ],
             [
              0.6666666666666666,
              "#35b779"
             ],
             [
              0.7777777777777778,
              "#6ece58"
             ],
             [
              0.8888888888888888,
              "#b5de2b"
             ],
             [
              1.0,
              "#fde725"
             ]
            ]
           }
          ],
          "choropleth": [
           {
            "type": "choropleth",
            "colorbar": {
             "outlinewidth": 1,
             "tickcolor": "rgb(36,36,36)",
             "ticks": "outside"
            }
           }
          ],
          "histogram2d": [
           {
            "type": "histogram2d",
            "colorbar": {
             "outlinewidth": 1,
             "tickcolor": "rgb(36,36,36)",
             "ticks": "outside"
            },
            "colorscale": [
             [
              0.0,
              "#440154"
             ],
             [
              0.1111111111111111,
              "#482878"
             ],
             [
              0.2222222222222222,
              "#3e4989"
             ],
             [
              0.3333333333333333,
              "#31688e"
             ],
             [
              0.4444444444444444,
              "#26828e"
             ],
             [
              0.5555555555555556,
              "#1f9e89"
             ],
             [
              0.6666666666666666,
              "#35b779"
             ],
             [
              0.7777777777777778,
              "#6ece58"
             ],
             [
              0.8888888888888888,
              "#b5de2b"
             ],
             [
              1.0,
              "#fde725"
             ]
            ]
           }
          ],
          "heatmap": [
           {
            "type": "heatmap",
            "colorbar": {
             "outlinewidth": 1,
             "tickcolor": "rgb(36,36,36)",
             "ticks": "outside"
            },
            "colorscale": [
             [
              0.0,
              "#440154"
             ],
             [
              0.1111111111111111,
              "#482878"
             ],
             [
              0.2222222222222222,
              "#3e4989"
             ],
             [
              0.3333333333333333,
              "#31688e"
             ],
             [
              0.4444444444444444,
              "#26828e"
             ],
             [
              0.5555555555555556,
              "#1f9e89"
             ],
             [
              0.6666666666666666,
              "#35b779"
             ],
             [
              0.7777777777777778,
              "#6ece58"
             ],
             [
              0.8888888888888888,
              "#b5de2b"
             ],
             [
              1.0,
              "#fde725"
             ]
            ]
           }
          ],
          "heatmapgl": [
           {
            "type": "heatmapgl",
            "colorbar": {
             "outlinewidth": 1,
             "tickcolor": "rgb(36,36,36)",
             "ticks": "outside"
            },
            "colorscale": [
             [
              0.0,
              "#440154"
             ],
             [
              0.1111111111111111,
              "#482878"
             ],
             [
              0.2222222222222222,
              "#3e4989"
             ],
             [
              0.3333333333333333,
              "#31688e"
             ],
             [
              0.4444444444444444,
              "#26828e"
             ],
             [
              0.5555555555555556,
              "#1f9e89"
             ],
             [
              0.6666666666666666,
              "#35b779"
             ],
             [
              0.7777777777777778,
              "#6ece58"
             ],
             [
              0.8888888888888888,
              "#b5de2b"
             ],
             [
              1.0,
              "#fde725"
             ]
            ]
           }
          ],
          "contourcarpet": [
           {
            "type": "contourcarpet",
            "colorbar": {
             "outlinewidth": 1,
             "tickcolor": "rgb(36,36,36)",
             "ticks": "outside"
            }
           }
          ],
          "contour": [
           {
            "type": "contour",
            "colorbar": {
             "outlinewidth": 1,
             "tickcolor": "rgb(36,36,36)",
             "ticks": "outside"
            },
            "colorscale": [
             [
              0.0,
              "#440154"
             ],
             [
              0.1111111111111111,
              "#482878"
             ],
             [
              0.2222222222222222,
              "#3e4989"
             ],
             [
              0.3333333333333333,
              "#31688e"
             ],
             [
              0.4444444444444444,
              "#26828e"
             ],
             [
              0.5555555555555556,
              "#1f9e89"
             ],
             [
              0.6666666666666666,
              "#35b779"
             ],
             [
              0.7777777777777778,
              "#6ece58"
             ],
             [
              0.8888888888888888,
              "#b5de2b"
             ],
             [
              1.0,
              "#fde725"
             ]
            ]
           }
          ],
          "surface": [
           {
            "type": "surface",
            "colorbar": {
             "outlinewidth": 1,
             "tickcolor": "rgb(36,36,36)",
             "ticks": "outside"
            },
            "colorscale": [
             [
              0.0,
              "#440154"
             ],
             [
              0.1111111111111111,
              "#482878"
             ],
             [
              0.2222222222222222,
              "#3e4989"
             ],
             [
              0.3333333333333333,
              "#31688e"
             ],
             [
              0.4444444444444444,
              "#26828e"
             ],
             [
              0.5555555555555556,
              "#1f9e89"
             ],
             [
              0.6666666666666666,
              "#35b779"
             ],
             [
              0.7777777777777778,
              "#6ece58"
             ],
             [
              0.8888888888888888,
              "#b5de2b"
             ],
             [
              1.0,
              "#fde725"
             ]
            ]
           }
          ],
          "mesh3d": [
           {
            "type": "mesh3d",
            "colorbar": {
             "outlinewidth": 1,
             "tickcolor": "rgb(36,36,36)",
             "ticks": "outside"
            }
           }
          ],
          "scatter": [
           {
            "fillpattern": {
             "fillmode": "overlay",
             "size": 10,
             "solidity": 0.2
            },
            "type": "scatter"
           }
          ],
          "parcoords": [
           {
            "type": "parcoords",
            "line": {
             "colorbar": {
              "outlinewidth": 1,
              "tickcolor": "rgb(36,36,36)",
              "ticks": "outside"
             }
            }
           }
          ],
          "scatterpolargl": [
           {
            "type": "scatterpolargl",
            "marker": {
             "colorbar": {
              "outlinewidth": 1,
              "tickcolor": "rgb(36,36,36)",
              "ticks": "outside"
             }
            }
           }
          ],
          "bar": [
           {
            "error_x": {
             "color": "rgb(36,36,36)"
            },
            "error_y": {
             "color": "rgb(36,36,36)"
            },
            "marker": {
             "line": {
              "color": "white",
              "width": 0.5
             },
             "pattern": {
              "fillmode": "overlay",
              "size": 10,
              "solidity": 0.2
             }
            },
            "type": "bar"
           }
          ],
          "scattergeo": [
           {
            "type": "scattergeo",
            "marker": {
             "colorbar": {
              "outlinewidth": 1,
              "tickcolor": "rgb(36,36,36)",
              "ticks": "outside"
             }
            }
           }
          ],
          "scatterpolar": [
           {
            "type": "scatterpolar",
            "marker": {
             "colorbar": {
              "outlinewidth": 1,
              "tickcolor": "rgb(36,36,36)",
              "ticks": "outside"
             }
            }
           }
          ],
          "histogram": [
           {
            "marker": {
             "line": {
              "color": "white",
              "width": 0.6
             }
            },
            "type": "histogram"
           }
          ],
          "scattergl": [
           {
            "type": "scattergl",
            "marker": {
             "colorbar": {
              "outlinewidth": 1,
              "tickcolor": "rgb(36,36,36)",
              "ticks": "outside"
             }
            }
           }
          ],
          "scatter3d": [
           {
            "type": "scatter3d",
            "line": {
             "colorbar": {
              "outlinewidth": 1,
              "tickcolor": "rgb(36,36,36)",
              "ticks": "outside"
             }
            },
            "marker": {
             "colorbar": {
              "outlinewidth": 1,
              "tickcolor": "rgb(36,36,36)",
              "ticks": "outside"
             }
            }
           }
          ],
          "scattermapbox": [
           {
            "type": "scattermapbox",
            "marker": {
             "colorbar": {
              "outlinewidth": 1,
              "tickcolor": "rgb(36,36,36)",
              "ticks": "outside"
             }
            }
           }
          ],
          "scatterternary": [
           {
            "type": "scatterternary",
            "marker": {
             "colorbar": {
              "outlinewidth": 1,
              "tickcolor": "rgb(36,36,36)",
              "ticks": "outside"
             }
            }
           }
          ],
          "scattercarpet": [
           {
            "type": "scattercarpet",
            "marker": {
             "colorbar": {
              "outlinewidth": 1,
              "tickcolor": "rgb(36,36,36)",
              "ticks": "outside"
             }
            }
           }
          ],
          "carpet": [
           {
            "aaxis": {
             "endlinecolor": "rgb(36,36,36)",
             "gridcolor": "white",
             "linecolor": "white",
             "minorgridcolor": "white",
             "startlinecolor": "rgb(36,36,36)"
            },
            "baxis": {
             "endlinecolor": "rgb(36,36,36)",
             "gridcolor": "white",
             "linecolor": "white",
             "minorgridcolor": "white",
             "startlinecolor": "rgb(36,36,36)"
            },
            "type": "carpet"
           }
          ],
          "table": [
           {
            "cells": {
             "fill": {
              "color": "rgb(237,237,237)"
             },
             "line": {
              "color": "white"
             }
            },
            "header": {
             "fill": {
              "color": "rgb(217,217,217)"
             },
             "line": {
              "color": "white"
             }
            },
            "type": "table"
           }
          ],
          "barpolar": [
           {
            "marker": {
             "line": {
              "color": "white",
              "width": 0.5
             },
             "pattern": {
              "fillmode": "overlay",
              "size": 10,
              "solidity": 0.2
             }
            },
            "type": "barpolar"
           }
          ],
          "pie": [
           {
            "automargin": true,
            "type": "pie"
           }
          ]
         },
         "layout": {
          "autotypenumbers": "strict",
          "colorway": [
           "#1F77B4",
           "#FF7F0E",
           "#2CA02C",
           "#D62728",
           "#9467BD",
           "#8C564B",
           "#E377C2",
           "#7F7F7F",
           "#BCBD22",
           "#17BECF"
          ],
          "font": {
           "color": "rgb(36,36,36)"
          },
          "hovermode": "closest",
          "hoverlabel": {
           "align": "left"
          },
          "paper_bgcolor": "white",
          "plot_bgcolor": "white",
          "polar": {
           "bgcolor": "white",
           "angularaxis": {
            "gridcolor": "rgb(232,232,232)",
            "linecolor": "rgb(36,36,36)",
            "showgrid": false,
            "showline": true,
            "ticks": "outside"
           },
           "radialaxis": {
            "gridcolor": "rgb(232,232,232)",
            "linecolor": "rgb(36,36,36)",
            "showgrid": false,
            "showline": true,
            "ticks": "outside"
           }
          },
          "ternary": {
           "bgcolor": "white",
           "aaxis": {
            "gridcolor": "rgb(232,232,232)",
            "linecolor": "rgb(36,36,36)",
            "showgrid": false,
            "showline": true,
            "ticks": "outside"
           },
           "baxis": {
            "gridcolor": "rgb(232,232,232)",
            "linecolor": "rgb(36,36,36)",
            "showgrid": false,
            "showline": true,
            "ticks": "outside"
           },
           "caxis": {
            "gridcolor": "rgb(232,232,232)",
            "linecolor": "rgb(36,36,36)",
            "showgrid": false,
            "showline": true,
            "ticks": "outside"
           }
          },
          "coloraxis": {
           "colorbar": {
            "outlinewidth": 1,
            "tickcolor": "rgb(36,36,36)",
            "ticks": "outside"
           }
          },
          "colorscale": {
           "sequential": [
            [
             0.0,
             "#440154"
            ],
            [
             0.1111111111111111,
             "#482878"
            ],
            [
             0.2222222222222222,
             "#3e4989"
            ],
            [
             0.3333333333333333,
             "#31688e"
            ],
            [
             0.4444444444444444,
             "#26828e"
            ],
            [
             0.5555555555555556,
             "#1f9e89"
            ],
            [
             0.6666666666666666,
             "#35b779"
            ],
            [
             0.7777777777777778,
             "#6ece58"
            ],
            [
             0.8888888888888888,
             "#b5de2b"
            ],
            [
             1.0,
             "#fde725"
            ]
           ],
           "sequentialminus": [
            [
             0.0,
             "#440154"
            ],
            [
             0.1111111111111111,
             "#482878"
            ],
            [
             0.2222222222222222,
             "#3e4989"
            ],
            [
             0.3333333333333333,
             "#31688e"
            ],
            [
             0.4444444444444444,
             "#26828e"
            ],
            [
             0.5555555555555556,
             "#1f9e89"
            ],
            [
             0.6666666666666666,
             "#35b779"
            ],
            [
             0.7777777777777778,
             "#6ece58"
            ],
            [
             0.8888888888888888,
             "#b5de2b"
            ],
            [
             1.0,
             "#fde725"
            ]
           ],
           "diverging": [
            [
             0.0,
             "rgb(103,0,31)"
            ],
            [
             0.1,
             "rgb(178,24,43)"
            ],
            [
             0.2,
             "rgb(214,96,77)"
            ],
            [
             0.3,
             "rgb(244,165,130)"
            ],
            [
             0.4,
             "rgb(253,219,199)"
            ],
            [
             0.5,
             "rgb(247,247,247)"
            ],
            [
             0.6,
             "rgb(209,229,240)"
            ],
            [
             0.7,
             "rgb(146,197,222)"
            ],
            [
             0.8,
             "rgb(67,147,195)"
            ],
            [
             0.9,
             "rgb(33,102,172)"
            ],
            [
             1.0,
             "rgb(5,48,97)"
            ]
           ]
          },
          "xaxis": {
           "gridcolor": "rgb(232,232,232)",
           "linecolor": "rgb(36,36,36)",
           "showgrid": false,
           "showline": true,
           "ticks": "outside",
           "title": {
            "standoff": 15
           },
           "zerolinecolor": "rgb(36,36,36)",
           "automargin": true,
           "zeroline": false
          },
          "yaxis": {
           "gridcolor": "rgb(232,232,232)",
           "linecolor": "rgb(36,36,36)",
           "showgrid": false,
           "showline": true,
           "ticks": "outside",
           "title": {
            "standoff": 15
           },
           "zerolinecolor": "rgb(36,36,36)",
           "automargin": true,
           "zeroline": false
          },
          "scene": {
           "xaxis": {
            "backgroundcolor": "white",
            "gridcolor": "rgb(232,232,232)",
            "linecolor": "rgb(36,36,36)",
            "showbackground": true,
            "showgrid": false,
            "showline": true,
            "ticks": "outside",
            "zerolinecolor": "rgb(36,36,36)",
            "gridwidth": 2,
            "zeroline": false
           },
           "yaxis": {
            "backgroundcolor": "white",
            "gridcolor": "rgb(232,232,232)",
            "linecolor": "rgb(36,36,36)",
            "showbackground": true,
            "showgrid": false,
            "showline": true,
            "ticks": "outside",
            "zerolinecolor": "rgb(36,36,36)",
            "gridwidth": 2,
            "zeroline": false
           },
           "zaxis": {
            "backgroundcolor": "white",
            "gridcolor": "rgb(232,232,232)",
            "linecolor": "rgb(36,36,36)",
            "showbackground": true,
            "showgrid": false,
            "showline": true,
            "ticks": "outside",
            "zerolinecolor": "rgb(36,36,36)",
            "gridwidth": 2,
            "zeroline": false
           }
          },
          "shapedefaults": {
           "fillcolor": "black",
           "line": {
            "width": 0
           },
           "opacity": 0.3
          },
          "annotationdefaults": {
           "arrowhead": 0,
           "arrowwidth": 1
          },
          "geo": {
           "bgcolor": "white",
           "landcolor": "white",
           "subunitcolor": "white",
           "showland": true,
           "showlakes": true,
           "lakecolor": "white"
          },
          "title": {
           "x": 0.05
          },
          "mapbox": {
           "style": "light"
          }
         }
        },
        "xaxis": {
         "anchor": "y",
         "domain": [
          0.0,
          1.0
         ],
         "title": {},
         "showticklabels": false,
         "showgrid": true
        },
        "yaxis": {
         "anchor": "x",
         "domain": [
          0.0,
          1.0
         ],
         "title": {
          "text": "Root Mean Squared Error (RMSE)"
         },
         "type": "log",
         "range": [
          -1.9999999999999996,
          2.9999999999999996
         ],
         "showgrid": true
        },
        "legend": {
         "title": {
          "text": "Missingness type"
         },
         "tracegroupgap": 0,
         "orientation": "h",
         "yanchor": "bottom",
         "y": 0.95,
         "xanchor": "right",
         "x": 1
        },
        "margin": {
         "t": 20,
         "l": 50,
         "r": 10,
         "b": 10
        },
        "barmode": "group",
        "height": 400,
        "width": 1200,
        "font": {
         "family": "Arial",
         "size": 16
        }
       },
       "config": {
        "plotlyServerURL": "https://plot.ly"
       }
      },
      "text/html": "<div>                            <div id=\"1f566930-7148-465e-b494-c9bb87e0249b\" class=\"plotly-graph-div\" style=\"height:400px; width:1200px;\"></div>            <script type=\"text/javascript\">                require([\"plotly\"], function(Plotly) {                    window.PLOTLYENV=window.PLOTLYENV || {};                                    if (document.getElementById(\"1f566930-7148-465e-b494-c9bb87e0249b\")) {                    Plotly.newPlot(                        \"1f566930-7148-465e-b494-c9bb87e0249b\",                        [{\"alignmentgroup\":\"True\",\"error_y\":{\"array\":[6.089203510645781,6.415029185775795,6.088008370013596,9.727606684861323,6.088008370013596,7.916806157480519,0.0850309715280634,6.9684433341955305,0.06741885352853241,0.05430947425049134,14.75578525908725,0.33520738128395405,28.2762379448367,0.08940556049181253,2.8876826693233415]},\"hovertemplate\":\"ImputationDataset.mask_method=BO<br>Model=%{x}<br>Root Mean Squared Error (RMSE)=%{y}<extra></extra>\",\"legendgroup\":\"BO\",\"marker\":{\"color\":\"#1F77B4\",\"pattern\":{\"shape\":\"\"}},\"name\":\"BO\",\"offsetgroup\":\"BO\",\"orientation\":\"v\",\"showlegend\":true,\"textposition\":\"auto\",\"x\":[\"Zero\",\"Median\",\"Mean\",\"MostFrequent\",\"MICE\",\"MissForest\",\"MLP\",\"BRITS\",\"GRU-D\",\"M4IP\",\"Attention\",\"NP\",\"SAITS\",\"Diffusion\",\"CSDI\"],\"xaxis\":\"x\",\"y\":[501.00959852430555,506.9052929009332,501.01214742024746,580.5037565104167,501.01214742024746,517.3306146240234,7.5296525022718646,447.0318309190538,5.725124087863498,4.883362879223294,306.51763899061416,6.598080194261339,340.50438195122615,8.587783014509412,8.129476533465914],\"yaxis\":\"y\",\"type\":\"bar\"},{\"alignmentgroup\":\"True\",\"error_y\":{\"array\":[11.74212607095198,17.54554321898705,14.859092385481128,29.27008847045203,18.96334023250043,18.378336498500094,0.22413993197488827,26.195411073643648,0.3509898468400668,0.4146504255293523,18.60527178077288,0.38387059089518677,18.376106277485547,0.18073834850889436,5.1210838660951]},\"hovertemplate\":\"ImputationDataset.mask_method=MAR<br>Model=%{x}<br>Root Mean Squared Error (RMSE)=%{y}<extra></extra>\",\"legendgroup\":\"MAR\",\"marker\":{\"color\":\"#FF7F0E\",\"pattern\":{\"shape\":\"\"}},\"name\":\"MAR\",\"offsetgroup\":\"MAR\",\"orientation\":\"v\",\"showlegend\":true,\"textposition\":\"auto\",\"x\":[\"Zero\",\"Median\",\"Mean\",\"MostFrequent\",\"MICE\",\"MissForest\",\"MLP\",\"BRITS\",\"GRU-D\",\"M4IP\",\"Attention\",\"NP\",\"SAITS\",\"Diffusion\",\"CSDI\"],\"xaxis\":\"x\",\"y\":[457.4241278076172,466.97196139865446,463.1095148383247,522.7467549641927,414.7918719143338,419.01030971950956,7.29976154115465,329.6958441670736,5.847269740634494,5.287235141330296,240.29815500895185,6.446911468505859,240.54643064710828,7.839310726589627,7.699035424126519],\"yaxis\":\"y\",\"type\":\"bar\"},{\"alignmentgroup\":\"True\",\"error_y\":{\"array\":[5.922788262320285,6.286776231558794,8.557506643534497,7.044791818297311,8.146319602026166,45.227229958109056,0.07675219019751671,8.13904335095265,0.09896052543983398,0.10014935687210737,4.549685085107006,0.5264293498608632,3.2666932795819448,0.08610511276903204,11.1806390128321]},\"hovertemplate\":\"ImputationDataset.mask_method=MCAR<br>Model=%{x}<br>Root Mean Squared Error (RMSE)=%{y}<extra></extra>\",\"legendgroup\":\"MCAR\",\"marker\":{\"color\":\"#2CA02C\",\"pattern\":{\"shape\":\"\"}},\"name\":\"MCAR\",\"offsetgroup\":\"MCAR\",\"orientation\":\"v\",\"showlegend\":true,\"textposition\":\"auto\",\"x\":[\"Zero\",\"Median\",\"Mean\",\"MostFrequent\",\"MICE\",\"MissForest\",\"MLP\",\"BRITS\",\"GRU-D\",\"M4IP\",\"Attention\",\"NP\",\"SAITS\",\"Diffusion\",\"CSDI\"],\"xaxis\":\"x\",\"y\":[500.8718726942274,506.67067437065975,575.4035994309645,588.2748125813802,520.2861515455979,528.7367254638672,7.5083538585239,326.6011742694561,6.881433902808598,6.13212337902614,233.2624454498291,8.227443554024948,224.13679876055036,8.57829491297404,13.522413630256],\"yaxis\":\"y\",\"type\":\"bar\"},{\"alignmentgroup\":\"True\",\"error_y\":{\"array\":[9.502872604389141,14.280388582581477,12.77574730330211,20.143653578321533,17.673869677148822,50.51206031280811,0.11424745693073815,17.89525058172855,0.2385370389276932,0.24545868517340358,15.185594766707709,0.3511056053634006,14.110983505295948,0.18265699995298956,1.8283621069634934]},\"hovertemplate\":\"ImputationDataset.mask_method=MNAR<br>Model=%{x}<br>Root Mean Squared Error (RMSE)=%{y}<extra></extra>\",\"legendgroup\":\"MNAR\",\"marker\":{\"color\":\"#D62728\",\"pattern\":{\"shape\":\"\"}},\"name\":\"MNAR\",\"offsetgroup\":\"MNAR\",\"orientation\":\"v\",\"showlegend\":true,\"textposition\":\"auto\",\"x\":[\"Zero\",\"Median\",\"Mean\",\"MostFrequent\",\"MICE\",\"MissForest\",\"MLP\",\"BRITS\",\"GRU-D\",\"M4IP\",\"Attention\",\"NP\",\"SAITS\",\"Diffusion\",\"CSDI\"],\"xaxis\":\"x\",\"y\":[499.57853624131945,510.30408983018657,505.79975680881074,578.7589063178169,464.42687262641056,560.3478072102864,7.669082181718614,354.8112396240234,5.949852544996473,5.151838797463311,266.2164262051053,6.865705282423232,267.0641177707248,8.574644815656875,6.454283820258246],\"yaxis\":\"y\",\"type\":\"bar\"}],                        {\"template\":{\"data\":{\"histogram2dcontour\":[{\"type\":\"histogram2dcontour\",\"colorbar\":{\"outlinewidth\":1,\"tickcolor\":\"rgb(36,36,36)\",\"ticks\":\"outside\"},\"colorscale\":[[0.0,\"#440154\"],[0.1111111111111111,\"#482878\"],[0.2222222222222222,\"#3e4989\"],[0.3333333333333333,\"#31688e\"],[0.4444444444444444,\"#26828e\"],[0.5555555555555556,\"#1f9e89\"],[0.6666666666666666,\"#35b779\"],[0.7777777777777778,\"#6ece58\"],[0.8888888888888888,\"#b5de2b\"],[1.0,\"#fde725\"]]}],\"choropleth\":[{\"type\":\"choropleth\",\"colorbar\":{\"outlinewidth\":1,\"tickcolor\":\"rgb(36,36,36)\",\"ticks\":\"outside\"}}],\"histogram2d\":[{\"type\":\"histogram2d\",\"colorbar\":{\"outlinewidth\":1,\"tickcolor\":\"rgb(36,36,36)\",\"ticks\":\"outside\"},\"colorscale\":[[0.0,\"#440154\"],[0.1111111111111111,\"#482878\"],[0.2222222222222222,\"#3e4989\"],[0.3333333333333333,\"#31688e\"],[0.4444444444444444,\"#26828e\"],[0.5555555555555556,\"#1f9e89\"],[0.6666666666666666,\"#35b779\"],[0.7777777777777778,\"#6ece58\"],[0.8888888888888888,\"#b5de2b\"],[1.0,\"#fde725\"]]}],\"heatmap\":[{\"type\":\"heatmap\",\"colorbar\":{\"outlinewidth\":1,\"tickcolor\":\"rgb(36,36,36)\",\"ticks\":\"outside\"},\"colorscale\":[[0.0,\"#440154\"],[0.1111111111111111,\"#482878\"],[0.2222222222222222,\"#3e4989\"],[0.3333333333333333,\"#31688e\"],[0.4444444444444444,\"#26828e\"],[0.5555555555555556,\"#1f9e89\"],[0.6666666666666666,\"#35b779\"],[0.7777777777777778,\"#6ece58\"],[0.8888888888888888,\"#b5de2b\"],[1.0,\"#fde725\"]]}],\"heatmapgl\":[{\"type\":\"heatmapgl\",\"colorbar\":{\"outlinewidth\":1,\"tickcolor\":\"rgb(36,36,36)\",\"ticks\":\"outside\"},\"colorscale\":[[0.0,\"#440154\"],[0.1111111111111111,\"#482878\"],[0.2222222222222222,\"#3e4989\"],[0.3333333333333333,\"#31688e\"],[0.4444444444444444,\"#26828e\"],[0.5555555555555556,\"#1f9e89\"],[0.6666666666666666,\"#35b779\"],[0.7777777777777778,\"#6ece58\"],[0.8888888888888888,\"#b5de2b\"],[1.0,\"#fde725\"]]}],\"contourcarpet\":[{\"type\":\"contourcarpet\",\"colorbar\":{\"outlinewidth\":1,\"tickcolor\":\"rgb(36,36,36)\",\"ticks\":\"outside\"}}],\"contour\":[{\"type\":\"contour\",\"colorbar\":{\"outlinewidth\":1,\"tickcolor\":\"rgb(36,36,36)\",\"ticks\":\"outside\"},\"colorscale\":[[0.0,\"#440154\"],[0.1111111111111111,\"#482878\"],[0.2222222222222222,\"#3e4989\"],[0.3333333333333333,\"#31688e\"],[0.4444444444444444,\"#26828e\"],[0.5555555555555556,\"#1f9e89\"],[0.6666666666666666,\"#35b779\"],[0.7777777777777778,\"#6ece58\"],[0.8888888888888888,\"#b5de2b\"],[1.0,\"#fde725\"]]}],\"surface\":[{\"type\":\"surface\",\"colorbar\":{\"outlinewidth\":1,\"tickcolor\":\"rgb(36,36,36)\",\"ticks\":\"outside\"},\"colorscale\":[[0.0,\"#440154\"],[0.1111111111111111,\"#482878\"],[0.2222222222222222,\"#3e4989\"],[0.3333333333333333,\"#31688e\"],[0.4444444444444444,\"#26828e\"],[0.5555555555555556,\"#1f9e89\"],[0.6666666666666666,\"#35b779\"],[0.7777777777777778,\"#6ece58\"],[0.8888888888888888,\"#b5de2b\"],[1.0,\"#fde725\"]]}],\"mesh3d\":[{\"type\":\"mesh3d\",\"colorbar\":{\"outlinewidth\":1,\"tickcolor\":\"rgb(36,36,36)\",\"ticks\":\"outside\"}}],\"scatter\":[{\"fillpattern\":{\"fillmode\":\"overlay\",\"size\":10,\"solidity\":0.2},\"type\":\"scatter\"}],\"parcoords\":[{\"type\":\"parcoords\",\"line\":{\"colorbar\":{\"outlinewidth\":1,\"tickcolor\":\"rgb(36,36,36)\",\"ticks\":\"outside\"}}}],\"scatterpolargl\":[{\"type\":\"scatterpolargl\",\"marker\":{\"colorbar\":{\"outlinewidth\":1,\"tickcolor\":\"rgb(36,36,36)\",\"ticks\":\"outside\"}}}],\"bar\":[{\"error_x\":{\"color\":\"rgb(36,36,36)\"},\"error_y\":{\"color\":\"rgb(36,36,36)\"},\"marker\":{\"line\":{\"color\":\"white\",\"width\":0.5},\"pattern\":{\"fillmode\":\"overlay\",\"size\":10,\"solidity\":0.2}},\"type\":\"bar\"}],\"scattergeo\":[{\"type\":\"scattergeo\",\"marker\":{\"colorbar\":{\"outlinewidth\":1,\"tickcolor\":\"rgb(36,36,36)\",\"ticks\":\"outside\"}}}],\"scatterpolar\":[{\"type\":\"scatterpolar\",\"marker\":{\"colorbar\":{\"outlinewidth\":1,\"tickcolor\":\"rgb(36,36,36)\",\"ticks\":\"outside\"}}}],\"histogram\":[{\"marker\":{\"line\":{\"color\":\"white\",\"width\":0.6}},\"type\":\"histogram\"}],\"scattergl\":[{\"type\":\"scattergl\",\"marker\":{\"colorbar\":{\"outlinewidth\":1,\"tickcolor\":\"rgb(36,36,36)\",\"ticks\":\"outside\"}}}],\"scatter3d\":[{\"type\":\"scatter3d\",\"line\":{\"colorbar\":{\"outlinewidth\":1,\"tickcolor\":\"rgb(36,36,36)\",\"ticks\":\"outside\"}},\"marker\":{\"colorbar\":{\"outlinewidth\":1,\"tickcolor\":\"rgb(36,36,36)\",\"ticks\":\"outside\"}}}],\"scattermapbox\":[{\"type\":\"scattermapbox\",\"marker\":{\"colorbar\":{\"outlinewidth\":1,\"tickcolor\":\"rgb(36,36,36)\",\"ticks\":\"outside\"}}}],\"scatterternary\":[{\"type\":\"scatterternary\",\"marker\":{\"colorbar\":{\"outlinewidth\":1,\"tickcolor\":\"rgb(36,36,36)\",\"ticks\":\"outside\"}}}],\"scattercarpet\":[{\"type\":\"scattercarpet\",\"marker\":{\"colorbar\":{\"outlinewidth\":1,\"tickcolor\":\"rgb(36,36,36)\",\"ticks\":\"outside\"}}}],\"carpet\":[{\"aaxis\":{\"endlinecolor\":\"rgb(36,36,36)\",\"gridcolor\":\"white\",\"linecolor\":\"white\",\"minorgridcolor\":\"white\",\"startlinecolor\":\"rgb(36,36,36)\"},\"baxis\":{\"endlinecolor\":\"rgb(36,36,36)\",\"gridcolor\":\"white\",\"linecolor\":\"white\",\"minorgridcolor\":\"white\",\"startlinecolor\":\"rgb(36,36,36)\"},\"type\":\"carpet\"}],\"table\":[{\"cells\":{\"fill\":{\"color\":\"rgb(237,237,237)\"},\"line\":{\"color\":\"white\"}},\"header\":{\"fill\":{\"color\":\"rgb(217,217,217)\"},\"line\":{\"color\":\"white\"}},\"type\":\"table\"}],\"barpolar\":[{\"marker\":{\"line\":{\"color\":\"white\",\"width\":0.5},\"pattern\":{\"fillmode\":\"overlay\",\"size\":10,\"solidity\":0.2}},\"type\":\"barpolar\"}],\"pie\":[{\"automargin\":true,\"type\":\"pie\"}]},\"layout\":{\"autotypenumbers\":\"strict\",\"colorway\":[\"#1F77B4\",\"#FF7F0E\",\"#2CA02C\",\"#D62728\",\"#9467BD\",\"#8C564B\",\"#E377C2\",\"#7F7F7F\",\"#BCBD22\",\"#17BECF\"],\"font\":{\"color\":\"rgb(36,36,36)\"},\"hovermode\":\"closest\",\"hoverlabel\":{\"align\":\"left\"},\"paper_bgcolor\":\"white\",\"plot_bgcolor\":\"white\",\"polar\":{\"bgcolor\":\"white\",\"angularaxis\":{\"gridcolor\":\"rgb(232,232,232)\",\"linecolor\":\"rgb(36,36,36)\",\"showgrid\":false,\"showline\":true,\"ticks\":\"outside\"},\"radialaxis\":{\"gridcolor\":\"rgb(232,232,232)\",\"linecolor\":\"rgb(36,36,36)\",\"showgrid\":false,\"showline\":true,\"ticks\":\"outside\"}},\"ternary\":{\"bgcolor\":\"white\",\"aaxis\":{\"gridcolor\":\"rgb(232,232,232)\",\"linecolor\":\"rgb(36,36,36)\",\"showgrid\":false,\"showline\":true,\"ticks\":\"outside\"},\"baxis\":{\"gridcolor\":\"rgb(232,232,232)\",\"linecolor\":\"rgb(36,36,36)\",\"showgrid\":false,\"showline\":true,\"ticks\":\"outside\"},\"caxis\":{\"gridcolor\":\"rgb(232,232,232)\",\"linecolor\":\"rgb(36,36,36)\",\"showgrid\":false,\"showline\":true,\"ticks\":\"outside\"}},\"coloraxis\":{\"colorbar\":{\"outlinewidth\":1,\"tickcolor\":\"rgb(36,36,36)\",\"ticks\":\"outside\"}},\"colorscale\":{\"sequential\":[[0.0,\"#440154\"],[0.1111111111111111,\"#482878\"],[0.2222222222222222,\"#3e4989\"],[0.3333333333333333,\"#31688e\"],[0.4444444444444444,\"#26828e\"],[0.5555555555555556,\"#1f9e89\"],[0.6666666666666666,\"#35b779\"],[0.7777777777777778,\"#6ece58\"],[0.8888888888888888,\"#b5de2b\"],[1.0,\"#fde725\"]],\"sequentialminus\":[[0.0,\"#440154\"],[0.1111111111111111,\"#482878\"],[0.2222222222222222,\"#3e4989\"],[0.3333333333333333,\"#31688e\"],[0.4444444444444444,\"#26828e\"],[0.5555555555555556,\"#1f9e89\"],[0.6666666666666666,\"#35b779\"],[0.7777777777777778,\"#6ece58\"],[0.8888888888888888,\"#b5de2b\"],[1.0,\"#fde725\"]],\"diverging\":[[0.0,\"rgb(103,0,31)\"],[0.1,\"rgb(178,24,43)\"],[0.2,\"rgb(214,96,77)\"],[0.3,\"rgb(244,165,130)\"],[0.4,\"rgb(253,219,199)\"],[0.5,\"rgb(247,247,247)\"],[0.6,\"rgb(209,229,240)\"],[0.7,\"rgb(146,197,222)\"],[0.8,\"rgb(67,147,195)\"],[0.9,\"rgb(33,102,172)\"],[1.0,\"rgb(5,48,97)\"]]},\"xaxis\":{\"gridcolor\":\"rgb(232,232,232)\",\"linecolor\":\"rgb(36,36,36)\",\"showgrid\":false,\"showline\":true,\"ticks\":\"outside\",\"title\":{\"standoff\":15},\"zerolinecolor\":\"rgb(36,36,36)\",\"automargin\":true,\"zeroline\":false},\"yaxis\":{\"gridcolor\":\"rgb(232,232,232)\",\"linecolor\":\"rgb(36,36,36)\",\"showgrid\":false,\"showline\":true,\"ticks\":\"outside\",\"title\":{\"standoff\":15},\"zerolinecolor\":\"rgb(36,36,36)\",\"automargin\":true,\"zeroline\":false},\"scene\":{\"xaxis\":{\"backgroundcolor\":\"white\",\"gridcolor\":\"rgb(232,232,232)\",\"linecolor\":\"rgb(36,36,36)\",\"showbackground\":true,\"showgrid\":false,\"showline\":true,\"ticks\":\"outside\",\"zerolinecolor\":\"rgb(36,36,36)\",\"gridwidth\":2,\"zeroline\":false},\"yaxis\":{\"backgroundcolor\":\"white\",\"gridcolor\":\"rgb(232,232,232)\",\"linecolor\":\"rgb(36,36,36)\",\"showbackground\":true,\"showgrid\":false,\"showline\":true,\"ticks\":\"outside\",\"zerolinecolor\":\"rgb(36,36,36)\",\"gridwidth\":2,\"zeroline\":false},\"zaxis\":{\"backgroundcolor\":\"white\",\"gridcolor\":\"rgb(232,232,232)\",\"linecolor\":\"rgb(36,36,36)\",\"showbackground\":true,\"showgrid\":false,\"showline\":true,\"ticks\":\"outside\",\"zerolinecolor\":\"rgb(36,36,36)\",\"gridwidth\":2,\"zeroline\":false}},\"shapedefaults\":{\"fillcolor\":\"black\",\"line\":{\"width\":0},\"opacity\":0.3},\"annotationdefaults\":{\"arrowhead\":0,\"arrowwidth\":1},\"geo\":{\"bgcolor\":\"white\",\"landcolor\":\"white\",\"subunitcolor\":\"white\",\"showland\":true,\"showlakes\":true,\"lakecolor\":\"white\"},\"title\":{\"x\":0.05},\"mapbox\":{\"style\":\"light\"}}},\"xaxis\":{\"anchor\":\"y\",\"domain\":[0.0,1.0],\"title\":{},\"showticklabels\":false,\"showgrid\":true},\"yaxis\":{\"anchor\":\"x\",\"domain\":[0.0,1.0],\"title\":{\"text\":\"Root Mean Squared Error (RMSE)\"},\"type\":\"log\",\"range\":[-1.9999999999999996,2.9999999999999996],\"showgrid\":true},\"legend\":{\"title\":{\"text\":\"Missingness type\"},\"tracegroupgap\":0,\"orientation\":\"h\",\"yanchor\":\"bottom\",\"y\":0.95,\"xanchor\":\"right\",\"x\":1},\"margin\":{\"t\":20,\"l\":50,\"r\":10,\"b\":10},\"barmode\":\"group\",\"height\":400,\"width\":1200,\"font\":{\"family\":\"Arial\",\"size\":16}},                        {\"responsive\": true}                    ).then(function(){\n                            \nvar gd = document.getElementById('1f566930-7148-465e-b494-c9bb87e0249b');\nvar x = new MutationObserver(function (mutations, observer) {{\n        var display = window.getComputedStyle(gd).display;\n        if (!display || display === 'none') {{\n            console.log([gd, 'removed!']);\n            Plotly.purge(gd);\n            observer.disconnect();\n        }}\n}});\n\n// Listen for the removal of the full notebook cells\nvar notebookContainer = gd.closest('#notebook-container');\nif (notebookContainer) {{\n    x.observe(notebookContainer, {childList: true});\n}}\n\n// Listen for the clearing of the current output cell\nvar outputEl = gd.closest('.output');\nif (outputEl) {{\n    x.observe(outputEl, {childList: true});\n}}\n\n                        })                };                });            </script>        </div>"
     },
     "metadata": {},
     "output_type": "display_data"
    },
    {
     "data": {
      "application/vnd.plotly.v1+json": {
       "data": [
        {
         "alignmentgroup": "True",
         "error_y": {
          "array": [
           4.804369886631933,
           6.681786432206697,
           5.67723464388504,
           9.372760786333624,
           7.278330945292141,
           24.058640654475255,
           0.17736577562161324,
           5.11210170606596,
           0.2207450454156367,
           0.24721178071658156,
           4.656190597548551,
           0.35532227649628856,
           6.246149843973546,
           0.18344445088612008,
           8.002561137365378
          ]
         },
         "hovertemplate": "data_dir=HiRID<br>Model=%{x}<br>Root Mean Squared Error (RMSE)=%{y}<extra></extra>",
         "legendgroup": "HiRID",
         "marker": {
          "color": "#1F77B4",
          "pattern": {
           "shape": ""
          }
         },
         "name": "HiRID",
         "offsetgroup": "HiRID",
         "orientation": "v",
         "showlegend": true,
         "textposition": "auto",
         "x": [
          "Zero",
          "Median",
          "Mean",
          "MostFrequent",
          "MICE",
          "MissForest",
          "MLP",
          "BRITS",
          "GRU-D",
          "M4IP",
          "Attention",
          "NP",
          "SAITS",
          "Diffusion",
          "CSDI"
         ],
         "xaxis": "x",
         "y": [
          220.25307917277019,
          225.21993967692057,
          222.16524861653645,
          264.085667855399,
          201.33647005716958,
          230.5492430114746,
          7.620730314254761,
          118.29128787994385,
          5.309953465461731,
          4.435540426572164,
          99.08174853006999,
          6.549324561527797,
          99.32594876970563,
          8.416304876009624,
          11.821871636708577
         ],
         "yaxis": "y",
         "type": "bar"
        },
        {
         "alignmentgroup": "True",
         "error_y": {
          "array": [
           9.080336289485919,
           11.063421317315319,
           10.11707335493191,
           15.463712750349403,
           12.33337768982801,
           26.082056864806187,
           0.10269776333600426,
           14.587267600332547,
           0.13593556919878524,
           0.1404013282048902,
           10.197530894167329,
           0.311375141039613,
           12.269754312923391,
           0.12683670504264863,
           1.0073381121978637
          ]
         },
         "hovertemplate": "data_dir=MIMIC-IV<br>Model=%{x}<br>Root Mean Squared Error (RMSE)=%{y}<extra></extra>",
         "legendgroup": "MIMIC-IV",
         "marker": {
          "color": "#FF7F0E",
          "pattern": {
           "shape": ""
          }
         },
         "name": "MIMIC-IV",
         "offsetgroup": "MIMIC-IV",
         "orientation": "v",
         "showlegend": true,
         "textposition": "auto",
         "x": [
          "Zero",
          "Median",
          "Mean",
          "MostFrequent",
          "MICE",
          "MissForest",
          "MLP",
          "BRITS",
          "GRU-D",
          "M4IP",
          "Attention",
          "NP",
          "SAITS",
          "Diffusion",
          "CSDI"
         ],
         "xaxis": "x",
         "y": [
          451.8518502807617,
          458.3770095825195,
          454.77166158040365,
          536.7678193882533,
          424.6745090230306,
          468.0173569742838,
          7.566453684171041,
          350.5628028361003,
          6.247977742782006,
          5.656673921438364,
          281.7792897855319,
          6.543258555276053,
          284.7024113682338,
          8.381696718533833,
          5.813592897378481
         ],
         "yaxis": "y",
         "type": "bar"
        },
        {
         "alignmentgroup": "True",
         "error_y": {
          "array": [
           11.058036660112537,
           15.65059516465532,
           13.939696473805974,
           20.730956168829376,
           17.00478555168741,
           41.38512717589189,
           0.09506437401578743,
           24.453090161126525,
           0.16636960578154839,
           0.17795803796036738,
           23.361916542415372,
           0.2634067067314642,
           25.64469209739645,
           0.0938983603632777,
           1.3573392404065299
          ]
         },
         "hovertemplate": "data_dir=eICU<br>Model=%{x}<br>Root Mean Squared Error (RMSE)=%{y}<extra></extra>",
         "legendgroup": "eICU",
         "marker": {
          "color": "#2CA02C",
          "pattern": {
           "shape": ""
          }
         },
         "name": "eICU",
         "offsetgroup": "eICU",
         "orientation": "v",
         "showlegend": true,
         "textposition": "auto",
         "x": [
          "Zero",
          "Median",
          "Mean",
          "MostFrequent",
          "MICE",
          "MissForest",
          "MLP",
          "BRITS",
          "GRU-D",
          "M4IP",
          "Attention",
          "NP",
          "SAITS",
          "Diffusion",
          "CSDI"
         ],
         "xaxis": "x",
         "y": [
          797.0581719970704,
          809.5420646158855,
          801.1588482666016,
          910.7327233886718,
          750.6670614624023,
          820.5024927775065,
          7.317953564325968,
          625.7915150960287,
          5.644942089716594,
          4.851136654218037,
          412.485546875,
          5.966784661837987,
          414.9655780029297,
          8.387023507754007,
          5.1197438677152
         ],
         "yaxis": "y",
         "type": "bar"
        }
       ],
       "layout": {
        "template": {
         "data": {
          "histogram2dcontour": [
           {
            "type": "histogram2dcontour",
            "colorbar": {
             "outlinewidth": 1,
             "tickcolor": "rgb(36,36,36)",
             "ticks": "outside"
            },
            "colorscale": [
             [
              0.0,
              "#440154"
             ],
             [
              0.1111111111111111,
              "#482878"
             ],
             [
              0.2222222222222222,
              "#3e4989"
             ],
             [
              0.3333333333333333,
              "#31688e"
             ],
             [
              0.4444444444444444,
              "#26828e"
             ],
             [
              0.5555555555555556,
              "#1f9e89"
             ],
             [
              0.6666666666666666,
              "#35b779"
             ],
             [
              0.7777777777777778,
              "#6ece58"
             ],
             [
              0.8888888888888888,
              "#b5de2b"
             ],
             [
              1.0,
              "#fde725"
             ]
            ]
           }
          ],
          "choropleth": [
           {
            "type": "choropleth",
            "colorbar": {
             "outlinewidth": 1,
             "tickcolor": "rgb(36,36,36)",
             "ticks": "outside"
            }
           }
          ],
          "histogram2d": [
           {
            "type": "histogram2d",
            "colorbar": {
             "outlinewidth": 1,
             "tickcolor": "rgb(36,36,36)",
             "ticks": "outside"
            },
            "colorscale": [
             [
              0.0,
              "#440154"
             ],
             [
              0.1111111111111111,
              "#482878"
             ],
             [
              0.2222222222222222,
              "#3e4989"
             ],
             [
              0.3333333333333333,
              "#31688e"
             ],
             [
              0.4444444444444444,
              "#26828e"
             ],
             [
              0.5555555555555556,
              "#1f9e89"
             ],
             [
              0.6666666666666666,
              "#35b779"
             ],
             [
              0.7777777777777778,
              "#6ece58"
             ],
             [
              0.8888888888888888,
              "#b5de2b"
             ],
             [
              1.0,
              "#fde725"
             ]
            ]
           }
          ],
          "heatmap": [
           {
            "type": "heatmap",
            "colorbar": {
             "outlinewidth": 1,
             "tickcolor": "rgb(36,36,36)",
             "ticks": "outside"
            },
            "colorscale": [
             [
              0.0,
              "#440154"
             ],
             [
              0.1111111111111111,
              "#482878"
             ],
             [
              0.2222222222222222,
              "#3e4989"
             ],
             [
              0.3333333333333333,
              "#31688e"
             ],
             [
              0.4444444444444444,
              "#26828e"
             ],
             [
              0.5555555555555556,
              "#1f9e89"
             ],
             [
              0.6666666666666666,
              "#35b779"
             ],
             [
              0.7777777777777778,
              "#6ece58"
             ],
             [
              0.8888888888888888,
              "#b5de2b"
             ],
             [
              1.0,
              "#fde725"
             ]
            ]
           }
          ],
          "heatmapgl": [
           {
            "type": "heatmapgl",
            "colorbar": {
             "outlinewidth": 1,
             "tickcolor": "rgb(36,36,36)",
             "ticks": "outside"
            },
            "colorscale": [
             [
              0.0,
              "#440154"
             ],
             [
              0.1111111111111111,
              "#482878"
             ],
             [
              0.2222222222222222,
              "#3e4989"
             ],
             [
              0.3333333333333333,
              "#31688e"
             ],
             [
              0.4444444444444444,
              "#26828e"
             ],
             [
              0.5555555555555556,
              "#1f9e89"
             ],
             [
              0.6666666666666666,
              "#35b779"
             ],
             [
              0.7777777777777778,
              "#6ece58"
             ],
             [
              0.8888888888888888,
              "#b5de2b"
             ],
             [
              1.0,
              "#fde725"
             ]
            ]
           }
          ],
          "contourcarpet": [
           {
            "type": "contourcarpet",
            "colorbar": {
             "outlinewidth": 1,
             "tickcolor": "rgb(36,36,36)",
             "ticks": "outside"
            }
           }
          ],
          "contour": [
           {
            "type": "contour",
            "colorbar": {
             "outlinewidth": 1,
             "tickcolor": "rgb(36,36,36)",
             "ticks": "outside"
            },
            "colorscale": [
             [
              0.0,
              "#440154"
             ],
             [
              0.1111111111111111,
              "#482878"
             ],
             [
              0.2222222222222222,
              "#3e4989"
             ],
             [
              0.3333333333333333,
              "#31688e"
             ],
             [
              0.4444444444444444,
              "#26828e"
             ],
             [
              0.5555555555555556,
              "#1f9e89"
             ],
             [
              0.6666666666666666,
              "#35b779"
             ],
             [
              0.7777777777777778,
              "#6ece58"
             ],
             [
              0.8888888888888888,
              "#b5de2b"
             ],
             [
              1.0,
              "#fde725"
             ]
            ]
           }
          ],
          "surface": [
           {
            "type": "surface",
            "colorbar": {
             "outlinewidth": 1,
             "tickcolor": "rgb(36,36,36)",
             "ticks": "outside"
            },
            "colorscale": [
             [
              0.0,
              "#440154"
             ],
             [
              0.1111111111111111,
              "#482878"
             ],
             [
              0.2222222222222222,
              "#3e4989"
             ],
             [
              0.3333333333333333,
              "#31688e"
             ],
             [
              0.4444444444444444,
              "#26828e"
             ],
             [
              0.5555555555555556,
              "#1f9e89"
             ],
             [
              0.6666666666666666,
              "#35b779"
             ],
             [
              0.7777777777777778,
              "#6ece58"
             ],
             [
              0.8888888888888888,
              "#b5de2b"
             ],
             [
              1.0,
              "#fde725"
             ]
            ]
           }
          ],
          "mesh3d": [
           {
            "type": "mesh3d",
            "colorbar": {
             "outlinewidth": 1,
             "tickcolor": "rgb(36,36,36)",
             "ticks": "outside"
            }
           }
          ],
          "scatter": [
           {
            "fillpattern": {
             "fillmode": "overlay",
             "size": 10,
             "solidity": 0.2
            },
            "type": "scatter"
           }
          ],
          "parcoords": [
           {
            "type": "parcoords",
            "line": {
             "colorbar": {
              "outlinewidth": 1,
              "tickcolor": "rgb(36,36,36)",
              "ticks": "outside"
             }
            }
           }
          ],
          "scatterpolargl": [
           {
            "type": "scatterpolargl",
            "marker": {
             "colorbar": {
              "outlinewidth": 1,
              "tickcolor": "rgb(36,36,36)",
              "ticks": "outside"
             }
            }
           }
          ],
          "bar": [
           {
            "error_x": {
             "color": "rgb(36,36,36)"
            },
            "error_y": {
             "color": "rgb(36,36,36)"
            },
            "marker": {
             "line": {
              "color": "white",
              "width": 0.5
             },
             "pattern": {
              "fillmode": "overlay",
              "size": 10,
              "solidity": 0.2
             }
            },
            "type": "bar"
           }
          ],
          "scattergeo": [
           {
            "type": "scattergeo",
            "marker": {
             "colorbar": {
              "outlinewidth": 1,
              "tickcolor": "rgb(36,36,36)",
              "ticks": "outside"
             }
            }
           }
          ],
          "scatterpolar": [
           {
            "type": "scatterpolar",
            "marker": {
             "colorbar": {
              "outlinewidth": 1,
              "tickcolor": "rgb(36,36,36)",
              "ticks": "outside"
             }
            }
           }
          ],
          "histogram": [
           {
            "marker": {
             "line": {
              "color": "white",
              "width": 0.6
             }
            },
            "type": "histogram"
           }
          ],
          "scattergl": [
           {
            "type": "scattergl",
            "marker": {
             "colorbar": {
              "outlinewidth": 1,
              "tickcolor": "rgb(36,36,36)",
              "ticks": "outside"
             }
            }
           }
          ],
          "scatter3d": [
           {
            "type": "scatter3d",
            "line": {
             "colorbar": {
              "outlinewidth": 1,
              "tickcolor": "rgb(36,36,36)",
              "ticks": "outside"
             }
            },
            "marker": {
             "colorbar": {
              "outlinewidth": 1,
              "tickcolor": "rgb(36,36,36)",
              "ticks": "outside"
             }
            }
           }
          ],
          "scattermapbox": [
           {
            "type": "scattermapbox",
            "marker": {
             "colorbar": {
              "outlinewidth": 1,
              "tickcolor": "rgb(36,36,36)",
              "ticks": "outside"
             }
            }
           }
          ],
          "scatterternary": [
           {
            "type": "scatterternary",
            "marker": {
             "colorbar": {
              "outlinewidth": 1,
              "tickcolor": "rgb(36,36,36)",
              "ticks": "outside"
             }
            }
           }
          ],
          "scattercarpet": [
           {
            "type": "scattercarpet",
            "marker": {
             "colorbar": {
              "outlinewidth": 1,
              "tickcolor": "rgb(36,36,36)",
              "ticks": "outside"
             }
            }
           }
          ],
          "carpet": [
           {
            "aaxis": {
             "endlinecolor": "rgb(36,36,36)",
             "gridcolor": "white",
             "linecolor": "white",
             "minorgridcolor": "white",
             "startlinecolor": "rgb(36,36,36)"
            },
            "baxis": {
             "endlinecolor": "rgb(36,36,36)",
             "gridcolor": "white",
             "linecolor": "white",
             "minorgridcolor": "white",
             "startlinecolor": "rgb(36,36,36)"
            },
            "type": "carpet"
           }
          ],
          "table": [
           {
            "cells": {
             "fill": {
              "color": "rgb(237,237,237)"
             },
             "line": {
              "color": "white"
             }
            },
            "header": {
             "fill": {
              "color": "rgb(217,217,217)"
             },
             "line": {
              "color": "white"
             }
            },
            "type": "table"
           }
          ],
          "barpolar": [
           {
            "marker": {
             "line": {
              "color": "white",
              "width": 0.5
             },
             "pattern": {
              "fillmode": "overlay",
              "size": 10,
              "solidity": 0.2
             }
            },
            "type": "barpolar"
           }
          ],
          "pie": [
           {
            "automargin": true,
            "type": "pie"
           }
          ]
         },
         "layout": {
          "autotypenumbers": "strict",
          "colorway": [
           "#1F77B4",
           "#FF7F0E",
           "#2CA02C",
           "#D62728",
           "#9467BD",
           "#8C564B",
           "#E377C2",
           "#7F7F7F",
           "#BCBD22",
           "#17BECF"
          ],
          "font": {
           "color": "rgb(36,36,36)"
          },
          "hovermode": "closest",
          "hoverlabel": {
           "align": "left"
          },
          "paper_bgcolor": "white",
          "plot_bgcolor": "white",
          "polar": {
           "bgcolor": "white",
           "angularaxis": {
            "gridcolor": "rgb(232,232,232)",
            "linecolor": "rgb(36,36,36)",
            "showgrid": false,
            "showline": true,
            "ticks": "outside"
           },
           "radialaxis": {
            "gridcolor": "rgb(232,232,232)",
            "linecolor": "rgb(36,36,36)",
            "showgrid": false,
            "showline": true,
            "ticks": "outside"
           }
          },
          "ternary": {
           "bgcolor": "white",
           "aaxis": {
            "gridcolor": "rgb(232,232,232)",
            "linecolor": "rgb(36,36,36)",
            "showgrid": false,
            "showline": true,
            "ticks": "outside"
           },
           "baxis": {
            "gridcolor": "rgb(232,232,232)",
            "linecolor": "rgb(36,36,36)",
            "showgrid": false,
            "showline": true,
            "ticks": "outside"
           },
           "caxis": {
            "gridcolor": "rgb(232,232,232)",
            "linecolor": "rgb(36,36,36)",
            "showgrid": false,
            "showline": true,
            "ticks": "outside"
           }
          },
          "coloraxis": {
           "colorbar": {
            "outlinewidth": 1,
            "tickcolor": "rgb(36,36,36)",
            "ticks": "outside"
           }
          },
          "colorscale": {
           "sequential": [
            [
             0.0,
             "#440154"
            ],
            [
             0.1111111111111111,
             "#482878"
            ],
            [
             0.2222222222222222,
             "#3e4989"
            ],
            [
             0.3333333333333333,
             "#31688e"
            ],
            [
             0.4444444444444444,
             "#26828e"
            ],
            [
             0.5555555555555556,
             "#1f9e89"
            ],
            [
             0.6666666666666666,
             "#35b779"
            ],
            [
             0.7777777777777778,
             "#6ece58"
            ],
            [
             0.8888888888888888,
             "#b5de2b"
            ],
            [
             1.0,
             "#fde725"
            ]
           ],
           "sequentialminus": [
            [
             0.0,
             "#440154"
            ],
            [
             0.1111111111111111,
             "#482878"
            ],
            [
             0.2222222222222222,
             "#3e4989"
            ],
            [
             0.3333333333333333,
             "#31688e"
            ],
            [
             0.4444444444444444,
             "#26828e"
            ],
            [
             0.5555555555555556,
             "#1f9e89"
            ],
            [
             0.6666666666666666,
             "#35b779"
            ],
            [
             0.7777777777777778,
             "#6ece58"
            ],
            [
             0.8888888888888888,
             "#b5de2b"
            ],
            [
             1.0,
             "#fde725"
            ]
           ],
           "diverging": [
            [
             0.0,
             "rgb(103,0,31)"
            ],
            [
             0.1,
             "rgb(178,24,43)"
            ],
            [
             0.2,
             "rgb(214,96,77)"
            ],
            [
             0.3,
             "rgb(244,165,130)"
            ],
            [
             0.4,
             "rgb(253,219,199)"
            ],
            [
             0.5,
             "rgb(247,247,247)"
            ],
            [
             0.6,
             "rgb(209,229,240)"
            ],
            [
             0.7,
             "rgb(146,197,222)"
            ],
            [
             0.8,
             "rgb(67,147,195)"
            ],
            [
             0.9,
             "rgb(33,102,172)"
            ],
            [
             1.0,
             "rgb(5,48,97)"
            ]
           ]
          },
          "xaxis": {
           "gridcolor": "rgb(232,232,232)",
           "linecolor": "rgb(36,36,36)",
           "showgrid": false,
           "showline": true,
           "ticks": "outside",
           "title": {
            "standoff": 15
           },
           "zerolinecolor": "rgb(36,36,36)",
           "automargin": true,
           "zeroline": false
          },
          "yaxis": {
           "gridcolor": "rgb(232,232,232)",
           "linecolor": "rgb(36,36,36)",
           "showgrid": false,
           "showline": true,
           "ticks": "outside",
           "title": {
            "standoff": 15
           },
           "zerolinecolor": "rgb(36,36,36)",
           "automargin": true,
           "zeroline": false
          },
          "scene": {
           "xaxis": {
            "backgroundcolor": "white",
            "gridcolor": "rgb(232,232,232)",
            "linecolor": "rgb(36,36,36)",
            "showbackground": true,
            "showgrid": false,
            "showline": true,
            "ticks": "outside",
            "zerolinecolor": "rgb(36,36,36)",
            "gridwidth": 2,
            "zeroline": false
           },
           "yaxis": {
            "backgroundcolor": "white",
            "gridcolor": "rgb(232,232,232)",
            "linecolor": "rgb(36,36,36)",
            "showbackground": true,
            "showgrid": false,
            "showline": true,
            "ticks": "outside",
            "zerolinecolor": "rgb(36,36,36)",
            "gridwidth": 2,
            "zeroline": false
           },
           "zaxis": {
            "backgroundcolor": "white",
            "gridcolor": "rgb(232,232,232)",
            "linecolor": "rgb(36,36,36)",
            "showbackground": true,
            "showgrid": false,
            "showline": true,
            "ticks": "outside",
            "zerolinecolor": "rgb(36,36,36)",
            "gridwidth": 2,
            "zeroline": false
           }
          },
          "shapedefaults": {
           "fillcolor": "black",
           "line": {
            "width": 0
           },
           "opacity": 0.3
          },
          "annotationdefaults": {
           "arrowhead": 0,
           "arrowwidth": 1
          },
          "geo": {
           "bgcolor": "white",
           "landcolor": "white",
           "subunitcolor": "white",
           "showland": true,
           "showlakes": true,
           "lakecolor": "white"
          },
          "title": {
           "x": 0.05
          },
          "mapbox": {
           "style": "light"
          }
         }
        },
        "xaxis": {
         "anchor": "y",
         "domain": [
          0.0,
          1.0
         ],
         "title": {
          "text": "Model"
         },
         "showgrid": true
        },
        "yaxis": {
         "anchor": "x",
         "domain": [
          0.0,
          1.0
         ],
         "title": {
          "text": "Root Mean Squared Error (RMSE)"
         },
         "type": "log",
         "range": [
          -1.9999999999999996,
          2.9999999999999996
         ],
         "showgrid": true
        },
        "legend": {
         "title": {
          "text": "Dataset"
         },
         "tracegroupgap": 0,
         "orientation": "h",
         "yanchor": "bottom",
         "y": 0.95,
         "xanchor": "right",
         "x": 1
        },
        "margin": {
         "t": 20,
         "l": 50,
         "r": 10,
         "b": 50
        },
        "barmode": "group",
        "height": 400,
        "width": 1200,
        "font": {
         "family": "Arial",
         "size": 16
        }
       },
       "config": {
        "plotlyServerURL": "https://plot.ly"
       }
      },
      "text/html": "<div>                            <div id=\"4d3addd4-5f45-4c8e-8017-9755c508e768\" class=\"plotly-graph-div\" style=\"height:400px; width:1200px;\"></div>            <script type=\"text/javascript\">                require([\"plotly\"], function(Plotly) {                    window.PLOTLYENV=window.PLOTLYENV || {};                                    if (document.getElementById(\"4d3addd4-5f45-4c8e-8017-9755c508e768\")) {                    Plotly.newPlot(                        \"4d3addd4-5f45-4c8e-8017-9755c508e768\",                        [{\"alignmentgroup\":\"True\",\"error_y\":{\"array\":[4.804369886631933,6.681786432206697,5.67723464388504,9.372760786333624,7.278330945292141,24.058640654475255,0.17736577562161324,5.11210170606596,0.2207450454156367,0.24721178071658156,4.656190597548551,0.35532227649628856,6.246149843973546,0.18344445088612008,8.002561137365378]},\"hovertemplate\":\"data_dir=HiRID<br>Model=%{x}<br>Root Mean Squared Error (RMSE)=%{y}<extra></extra>\",\"legendgroup\":\"HiRID\",\"marker\":{\"color\":\"#1F77B4\",\"pattern\":{\"shape\":\"\"}},\"name\":\"HiRID\",\"offsetgroup\":\"HiRID\",\"orientation\":\"v\",\"showlegend\":true,\"textposition\":\"auto\",\"x\":[\"Zero\",\"Median\",\"Mean\",\"MostFrequent\",\"MICE\",\"MissForest\",\"MLP\",\"BRITS\",\"GRU-D\",\"M4IP\",\"Attention\",\"NP\",\"SAITS\",\"Diffusion\",\"CSDI\"],\"xaxis\":\"x\",\"y\":[220.25307917277019,225.21993967692057,222.16524861653645,264.085667855399,201.33647005716958,230.5492430114746,7.620730314254761,118.29128787994385,5.309953465461731,4.435540426572164,99.08174853006999,6.549324561527797,99.32594876970563,8.416304876009624,11.821871636708577],\"yaxis\":\"y\",\"type\":\"bar\"},{\"alignmentgroup\":\"True\",\"error_y\":{\"array\":[9.080336289485919,11.063421317315319,10.11707335493191,15.463712750349403,12.33337768982801,26.082056864806187,0.10269776333600426,14.587267600332547,0.13593556919878524,0.1404013282048902,10.197530894167329,0.311375141039613,12.269754312923391,0.12683670504264863,1.0073381121978637]},\"hovertemplate\":\"data_dir=MIMIC-IV<br>Model=%{x}<br>Root Mean Squared Error (RMSE)=%{y}<extra></extra>\",\"legendgroup\":\"MIMIC-IV\",\"marker\":{\"color\":\"#FF7F0E\",\"pattern\":{\"shape\":\"\"}},\"name\":\"MIMIC-IV\",\"offsetgroup\":\"MIMIC-IV\",\"orientation\":\"v\",\"showlegend\":true,\"textposition\":\"auto\",\"x\":[\"Zero\",\"Median\",\"Mean\",\"MostFrequent\",\"MICE\",\"MissForest\",\"MLP\",\"BRITS\",\"GRU-D\",\"M4IP\",\"Attention\",\"NP\",\"SAITS\",\"Diffusion\",\"CSDI\"],\"xaxis\":\"x\",\"y\":[451.8518502807617,458.3770095825195,454.77166158040365,536.7678193882533,424.6745090230306,468.0173569742838,7.566453684171041,350.5628028361003,6.247977742782006,5.656673921438364,281.7792897855319,6.543258555276053,284.7024113682338,8.381696718533833,5.813592897378481],\"yaxis\":\"y\",\"type\":\"bar\"},{\"alignmentgroup\":\"True\",\"error_y\":{\"array\":[11.058036660112537,15.65059516465532,13.939696473805974,20.730956168829376,17.00478555168741,41.38512717589189,0.09506437401578743,24.453090161126525,0.16636960578154839,0.17795803796036738,23.361916542415372,0.2634067067314642,25.64469209739645,0.0938983603632777,1.3573392404065299]},\"hovertemplate\":\"data_dir=eICU<br>Model=%{x}<br>Root Mean Squared Error (RMSE)=%{y}<extra></extra>\",\"legendgroup\":\"eICU\",\"marker\":{\"color\":\"#2CA02C\",\"pattern\":{\"shape\":\"\"}},\"name\":\"eICU\",\"offsetgroup\":\"eICU\",\"orientation\":\"v\",\"showlegend\":true,\"textposition\":\"auto\",\"x\":[\"Zero\",\"Median\",\"Mean\",\"MostFrequent\",\"MICE\",\"MissForest\",\"MLP\",\"BRITS\",\"GRU-D\",\"M4IP\",\"Attention\",\"NP\",\"SAITS\",\"Diffusion\",\"CSDI\"],\"xaxis\":\"x\",\"y\":[797.0581719970704,809.5420646158855,801.1588482666016,910.7327233886718,750.6670614624023,820.5024927775065,7.317953564325968,625.7915150960287,5.644942089716594,4.851136654218037,412.485546875,5.966784661837987,414.9655780029297,8.387023507754007,5.1197438677152],\"yaxis\":\"y\",\"type\":\"bar\"}],                        {\"template\":{\"data\":{\"histogram2dcontour\":[{\"type\":\"histogram2dcontour\",\"colorbar\":{\"outlinewidth\":1,\"tickcolor\":\"rgb(36,36,36)\",\"ticks\":\"outside\"},\"colorscale\":[[0.0,\"#440154\"],[0.1111111111111111,\"#482878\"],[0.2222222222222222,\"#3e4989\"],[0.3333333333333333,\"#31688e\"],[0.4444444444444444,\"#26828e\"],[0.5555555555555556,\"#1f9e89\"],[0.6666666666666666,\"#35b779\"],[0.7777777777777778,\"#6ece58\"],[0.8888888888888888,\"#b5de2b\"],[1.0,\"#fde725\"]]}],\"choropleth\":[{\"type\":\"choropleth\",\"colorbar\":{\"outlinewidth\":1,\"tickcolor\":\"rgb(36,36,36)\",\"ticks\":\"outside\"}}],\"histogram2d\":[{\"type\":\"histogram2d\",\"colorbar\":{\"outlinewidth\":1,\"tickcolor\":\"rgb(36,36,36)\",\"ticks\":\"outside\"},\"colorscale\":[[0.0,\"#440154\"],[0.1111111111111111,\"#482878\"],[0.2222222222222222,\"#3e4989\"],[0.3333333333333333,\"#31688e\"],[0.4444444444444444,\"#26828e\"],[0.5555555555555556,\"#1f9e89\"],[0.6666666666666666,\"#35b779\"],[0.7777777777777778,\"#6ece58\"],[0.8888888888888888,\"#b5de2b\"],[1.0,\"#fde725\"]]}],\"heatmap\":[{\"type\":\"heatmap\",\"colorbar\":{\"outlinewidth\":1,\"tickcolor\":\"rgb(36,36,36)\",\"ticks\":\"outside\"},\"colorscale\":[[0.0,\"#440154\"],[0.1111111111111111,\"#482878\"],[0.2222222222222222,\"#3e4989\"],[0.3333333333333333,\"#31688e\"],[0.4444444444444444,\"#26828e\"],[0.5555555555555556,\"#1f9e89\"],[0.6666666666666666,\"#35b779\"],[0.7777777777777778,\"#6ece58\"],[0.8888888888888888,\"#b5de2b\"],[1.0,\"#fde725\"]]}],\"heatmapgl\":[{\"type\":\"heatmapgl\",\"colorbar\":{\"outlinewidth\":1,\"tickcolor\":\"rgb(36,36,36)\",\"ticks\":\"outside\"},\"colorscale\":[[0.0,\"#440154\"],[0.1111111111111111,\"#482878\"],[0.2222222222222222,\"#3e4989\"],[0.3333333333333333,\"#31688e\"],[0.4444444444444444,\"#26828e\"],[0.5555555555555556,\"#1f9e89\"],[0.6666666666666666,\"#35b779\"],[0.7777777777777778,\"#6ece58\"],[0.8888888888888888,\"#b5de2b\"],[1.0,\"#fde725\"]]}],\"contourcarpet\":[{\"type\":\"contourcarpet\",\"colorbar\":{\"outlinewidth\":1,\"tickcolor\":\"rgb(36,36,36)\",\"ticks\":\"outside\"}}],\"contour\":[{\"type\":\"contour\",\"colorbar\":{\"outlinewidth\":1,\"tickcolor\":\"rgb(36,36,36)\",\"ticks\":\"outside\"},\"colorscale\":[[0.0,\"#440154\"],[0.1111111111111111,\"#482878\"],[0.2222222222222222,\"#3e4989\"],[0.3333333333333333,\"#31688e\"],[0.4444444444444444,\"#26828e\"],[0.5555555555555556,\"#1f9e89\"],[0.6666666666666666,\"#35b779\"],[0.7777777777777778,\"#6ece58\"],[0.8888888888888888,\"#b5de2b\"],[1.0,\"#fde725\"]]}],\"surface\":[{\"type\":\"surface\",\"colorbar\":{\"outlinewidth\":1,\"tickcolor\":\"rgb(36,36,36)\",\"ticks\":\"outside\"},\"colorscale\":[[0.0,\"#440154\"],[0.1111111111111111,\"#482878\"],[0.2222222222222222,\"#3e4989\"],[0.3333333333333333,\"#31688e\"],[0.4444444444444444,\"#26828e\"],[0.5555555555555556,\"#1f9e89\"],[0.6666666666666666,\"#35b779\"],[0.7777777777777778,\"#6ece58\"],[0.8888888888888888,\"#b5de2b\"],[1.0,\"#fde725\"]]}],\"mesh3d\":[{\"type\":\"mesh3d\",\"colorbar\":{\"outlinewidth\":1,\"tickcolor\":\"rgb(36,36,36)\",\"ticks\":\"outside\"}}],\"scatter\":[{\"fillpattern\":{\"fillmode\":\"overlay\",\"size\":10,\"solidity\":0.2},\"type\":\"scatter\"}],\"parcoords\":[{\"type\":\"parcoords\",\"line\":{\"colorbar\":{\"outlinewidth\":1,\"tickcolor\":\"rgb(36,36,36)\",\"ticks\":\"outside\"}}}],\"scatterpolargl\":[{\"type\":\"scatterpolargl\",\"marker\":{\"colorbar\":{\"outlinewidth\":1,\"tickcolor\":\"rgb(36,36,36)\",\"ticks\":\"outside\"}}}],\"bar\":[{\"error_x\":{\"color\":\"rgb(36,36,36)\"},\"error_y\":{\"color\":\"rgb(36,36,36)\"},\"marker\":{\"line\":{\"color\":\"white\",\"width\":0.5},\"pattern\":{\"fillmode\":\"overlay\",\"size\":10,\"solidity\":0.2}},\"type\":\"bar\"}],\"scattergeo\":[{\"type\":\"scattergeo\",\"marker\":{\"colorbar\":{\"outlinewidth\":1,\"tickcolor\":\"rgb(36,36,36)\",\"ticks\":\"outside\"}}}],\"scatterpolar\":[{\"type\":\"scatterpolar\",\"marker\":{\"colorbar\":{\"outlinewidth\":1,\"tickcolor\":\"rgb(36,36,36)\",\"ticks\":\"outside\"}}}],\"histogram\":[{\"marker\":{\"line\":{\"color\":\"white\",\"width\":0.6}},\"type\":\"histogram\"}],\"scattergl\":[{\"type\":\"scattergl\",\"marker\":{\"colorbar\":{\"outlinewidth\":1,\"tickcolor\":\"rgb(36,36,36)\",\"ticks\":\"outside\"}}}],\"scatter3d\":[{\"type\":\"scatter3d\",\"line\":{\"colorbar\":{\"outlinewidth\":1,\"tickcolor\":\"rgb(36,36,36)\",\"ticks\":\"outside\"}},\"marker\":{\"colorbar\":{\"outlinewidth\":1,\"tickcolor\":\"rgb(36,36,36)\",\"ticks\":\"outside\"}}}],\"scattermapbox\":[{\"type\":\"scattermapbox\",\"marker\":{\"colorbar\":{\"outlinewidth\":1,\"tickcolor\":\"rgb(36,36,36)\",\"ticks\":\"outside\"}}}],\"scatterternary\":[{\"type\":\"scatterternary\",\"marker\":{\"colorbar\":{\"outlinewidth\":1,\"tickcolor\":\"rgb(36,36,36)\",\"ticks\":\"outside\"}}}],\"scattercarpet\":[{\"type\":\"scattercarpet\",\"marker\":{\"colorbar\":{\"outlinewidth\":1,\"tickcolor\":\"rgb(36,36,36)\",\"ticks\":\"outside\"}}}],\"carpet\":[{\"aaxis\":{\"endlinecolor\":\"rgb(36,36,36)\",\"gridcolor\":\"white\",\"linecolor\":\"white\",\"minorgridcolor\":\"white\",\"startlinecolor\":\"rgb(36,36,36)\"},\"baxis\":{\"endlinecolor\":\"rgb(36,36,36)\",\"gridcolor\":\"white\",\"linecolor\":\"white\",\"minorgridcolor\":\"white\",\"startlinecolor\":\"rgb(36,36,36)\"},\"type\":\"carpet\"}],\"table\":[{\"cells\":{\"fill\":{\"color\":\"rgb(237,237,237)\"},\"line\":{\"color\":\"white\"}},\"header\":{\"fill\":{\"color\":\"rgb(217,217,217)\"},\"line\":{\"color\":\"white\"}},\"type\":\"table\"}],\"barpolar\":[{\"marker\":{\"line\":{\"color\":\"white\",\"width\":0.5},\"pattern\":{\"fillmode\":\"overlay\",\"size\":10,\"solidity\":0.2}},\"type\":\"barpolar\"}],\"pie\":[{\"automargin\":true,\"type\":\"pie\"}]},\"layout\":{\"autotypenumbers\":\"strict\",\"colorway\":[\"#1F77B4\",\"#FF7F0E\",\"#2CA02C\",\"#D62728\",\"#9467BD\",\"#8C564B\",\"#E377C2\",\"#7F7F7F\",\"#BCBD22\",\"#17BECF\"],\"font\":{\"color\":\"rgb(36,36,36)\"},\"hovermode\":\"closest\",\"hoverlabel\":{\"align\":\"left\"},\"paper_bgcolor\":\"white\",\"plot_bgcolor\":\"white\",\"polar\":{\"bgcolor\":\"white\",\"angularaxis\":{\"gridcolor\":\"rgb(232,232,232)\",\"linecolor\":\"rgb(36,36,36)\",\"showgrid\":false,\"showline\":true,\"ticks\":\"outside\"},\"radialaxis\":{\"gridcolor\":\"rgb(232,232,232)\",\"linecolor\":\"rgb(36,36,36)\",\"showgrid\":false,\"showline\":true,\"ticks\":\"outside\"}},\"ternary\":{\"bgcolor\":\"white\",\"aaxis\":{\"gridcolor\":\"rgb(232,232,232)\",\"linecolor\":\"rgb(36,36,36)\",\"showgrid\":false,\"showline\":true,\"ticks\":\"outside\"},\"baxis\":{\"gridcolor\":\"rgb(232,232,232)\",\"linecolor\":\"rgb(36,36,36)\",\"showgrid\":false,\"showline\":true,\"ticks\":\"outside\"},\"caxis\":{\"gridcolor\":\"rgb(232,232,232)\",\"linecolor\":\"rgb(36,36,36)\",\"showgrid\":false,\"showline\":true,\"ticks\":\"outside\"}},\"coloraxis\":{\"colorbar\":{\"outlinewidth\":1,\"tickcolor\":\"rgb(36,36,36)\",\"ticks\":\"outside\"}},\"colorscale\":{\"sequential\":[[0.0,\"#440154\"],[0.1111111111111111,\"#482878\"],[0.2222222222222222,\"#3e4989\"],[0.3333333333333333,\"#31688e\"],[0.4444444444444444,\"#26828e\"],[0.5555555555555556,\"#1f9e89\"],[0.6666666666666666,\"#35b779\"],[0.7777777777777778,\"#6ece58\"],[0.8888888888888888,\"#b5de2b\"],[1.0,\"#fde725\"]],\"sequentialminus\":[[0.0,\"#440154\"],[0.1111111111111111,\"#482878\"],[0.2222222222222222,\"#3e4989\"],[0.3333333333333333,\"#31688e\"],[0.4444444444444444,\"#26828e\"],[0.5555555555555556,\"#1f9e89\"],[0.6666666666666666,\"#35b779\"],[0.7777777777777778,\"#6ece58\"],[0.8888888888888888,\"#b5de2b\"],[1.0,\"#fde725\"]],\"diverging\":[[0.0,\"rgb(103,0,31)\"],[0.1,\"rgb(178,24,43)\"],[0.2,\"rgb(214,96,77)\"],[0.3,\"rgb(244,165,130)\"],[0.4,\"rgb(253,219,199)\"],[0.5,\"rgb(247,247,247)\"],[0.6,\"rgb(209,229,240)\"],[0.7,\"rgb(146,197,222)\"],[0.8,\"rgb(67,147,195)\"],[0.9,\"rgb(33,102,172)\"],[1.0,\"rgb(5,48,97)\"]]},\"xaxis\":{\"gridcolor\":\"rgb(232,232,232)\",\"linecolor\":\"rgb(36,36,36)\",\"showgrid\":false,\"showline\":true,\"ticks\":\"outside\",\"title\":{\"standoff\":15},\"zerolinecolor\":\"rgb(36,36,36)\",\"automargin\":true,\"zeroline\":false},\"yaxis\":{\"gridcolor\":\"rgb(232,232,232)\",\"linecolor\":\"rgb(36,36,36)\",\"showgrid\":false,\"showline\":true,\"ticks\":\"outside\",\"title\":{\"standoff\":15},\"zerolinecolor\":\"rgb(36,36,36)\",\"automargin\":true,\"zeroline\":false},\"scene\":{\"xaxis\":{\"backgroundcolor\":\"white\",\"gridcolor\":\"rgb(232,232,232)\",\"linecolor\":\"rgb(36,36,36)\",\"showbackground\":true,\"showgrid\":false,\"showline\":true,\"ticks\":\"outside\",\"zerolinecolor\":\"rgb(36,36,36)\",\"gridwidth\":2,\"zeroline\":false},\"yaxis\":{\"backgroundcolor\":\"white\",\"gridcolor\":\"rgb(232,232,232)\",\"linecolor\":\"rgb(36,36,36)\",\"showbackground\":true,\"showgrid\":false,\"showline\":true,\"ticks\":\"outside\",\"zerolinecolor\":\"rgb(36,36,36)\",\"gridwidth\":2,\"zeroline\":false},\"zaxis\":{\"backgroundcolor\":\"white\",\"gridcolor\":\"rgb(232,232,232)\",\"linecolor\":\"rgb(36,36,36)\",\"showbackground\":true,\"showgrid\":false,\"showline\":true,\"ticks\":\"outside\",\"zerolinecolor\":\"rgb(36,36,36)\",\"gridwidth\":2,\"zeroline\":false}},\"shapedefaults\":{\"fillcolor\":\"black\",\"line\":{\"width\":0},\"opacity\":0.3},\"annotationdefaults\":{\"arrowhead\":0,\"arrowwidth\":1},\"geo\":{\"bgcolor\":\"white\",\"landcolor\":\"white\",\"subunitcolor\":\"white\",\"showland\":true,\"showlakes\":true,\"lakecolor\":\"white\"},\"title\":{\"x\":0.05},\"mapbox\":{\"style\":\"light\"}}},\"xaxis\":{\"anchor\":\"y\",\"domain\":[0.0,1.0],\"title\":{\"text\":\"Model\"},\"showgrid\":true},\"yaxis\":{\"anchor\":\"x\",\"domain\":[0.0,1.0],\"title\":{\"text\":\"Root Mean Squared Error (RMSE)\"},\"type\":\"log\",\"range\":[-1.9999999999999996,2.9999999999999996],\"showgrid\":true},\"legend\":{\"title\":{\"text\":\"Dataset\"},\"tracegroupgap\":0,\"orientation\":\"h\",\"yanchor\":\"bottom\",\"y\":0.95,\"xanchor\":\"right\",\"x\":1},\"margin\":{\"t\":20,\"l\":50,\"r\":10,\"b\":50},\"barmode\":\"group\",\"height\":400,\"width\":1200,\"font\":{\"family\":\"Arial\",\"size\":16}},                        {\"responsive\": true}                    ).then(function(){\n                            \nvar gd = document.getElementById('4d3addd4-5f45-4c8e-8017-9755c508e768');\nvar x = new MutationObserver(function (mutations, observer) {{\n        var display = window.getComputedStyle(gd).display;\n        if (!display || display === 'none') {{\n            console.log([gd, 'removed!']);\n            Plotly.purge(gd);\n            observer.disconnect();\n        }}\n}});\n\n// Listen for the removal of the full notebook cells\nvar notebookContainer = gd.closest('#notebook-container');\nif (notebookContainer) {{\n    x.observe(notebookContainer, {childList: true});\n}}\n\n// Listen for the clearing of the current output cell\nvar outputEl = gd.closest('.output');\nif (outputEl) {{\n    x.observe(outputEl, {childList: true});\n}}\n\n                        })                };                });            </script>        </div>"
     },
     "metadata": {},
     "output_type": "display_data"
    }
   ],
   "source": [
    "\n",
    "group = \"ImputationDataset.mask_proportion\"\n",
    "margin=dict(l=50, r=10, t=20, b=10)\n",
    "legend_title_text='Missingness proportion'\n",
    "save_path=rf\"C:\\Users\\Robin\\Downloads\\results_imputation_missingness_amount_plotly_{metric}.pdf\"\n",
    "\n",
    "plot_results(mnar, group,x,y,y_err,legend_title_text, margin, order, x_labels=False, labels=labels, save_path=save_path, log_y=log_y,range_y=range_y)\n",
    "\n",
    "group = \"ImputationDataset.mask_method\"\n",
    "margin=dict(l=50, r=10, t=20, b=10)\n",
    "legend_title_text='Missingness type'\n",
    "save_path=rf\"C:\\Users\\Robin\\Downloads\\results_imputation_missingness_method_plotly_{metric}.pdf\"\n",
    "plot_results(df, group,x,y,y_err,legend_title_text, margin, order, x_labels=False, labels=labels, save_path=save_path, log_y=log_y,range_y=range_y)\n",
    "\n",
    "group = \"data_dir\"\n",
    "margin=dict(l=50, r=10, t=20, b=50)\n",
    "legend_title_text='Dataset'\n",
    "save_path = rf\"C:\\Users\\Robin\\Downloads\\results_imputation_missingness_dataset_plotly_{metric}.pdf\"\n",
    "plot_results(df, group,x,y,y_err,legend_title_text, margin, order, x_labels=True, labels=labels, save_path=save_path, log_y=log_y,range_y=range_y)\n",
    "\n"
   ],
   "metadata": {
    "collapsed": false
   }
  },
  {
   "cell_type": "code",
   "execution_count": 139,
   "outputs": [],
   "source": [
    "\n",
    "\n",
    "def plot_results(data,group,x,y,y_err,legend_title, margin, order, x_labels=True, labels={\"avg.mae\": \"Mean Absolute Error (MAE)\",\"model\": \"Model\"}, save_path=None, log_y=False, range_y=[0,0.85]):\n",
    "    grouped = data.groupby([x, group]).agg(\"mean\", numeric_only=True)\n",
    "    grouped.reset_index(inplace=True)\n",
    "    grouped.set_index(x,inplace=True)\n",
    "    grouped = grouped.loc[order]\n",
    "    grouped.reset_index(inplace=True)\n",
    "    grouped[\"ImputationDataset.mask_proportion\"] = grouped[\"ImputationDataset.mask_proportion\"].astype(str)\n",
    "    figure = px.bar(\n",
    "        grouped,\n",
    "        x=x,\n",
    "        y=y,\n",
    "        color=group,\n",
    "        barmode='group',\n",
    "        #category_orders={x:order})\n",
    "        error_y=grouped[y_err],\n",
    "        labels=labels,\n",
    "        log_y=log_y,\n",
    "        range_y=range_y\n",
    "        )\n",
    "    if not x_labels:\n",
    "        figure.update_xaxes(showticklabels=False, title=None)\n",
    "    figure.update_xaxes(showgrid=True)\n",
    "    figure.update_yaxes(showgrid=True)\n",
    "    figure.update_layout(legend=dict(\n",
    "        orientation=\"h\",\n",
    "        yanchor=\"bottom\",\n",
    "        y=0.95,\n",
    "        xanchor=\"right\",\n",
    "        x=1),\n",
    "        font=dict(\n",
    "            family=\"Arial\",\n",
    "            size=16,  # Set the font size here\n",
    "        ),\n",
    "        legend_title_text= legend_title, #'Dataset',\n",
    "        # legend_title_text='Missingness proportion',\n",
    "        # margin=dict(l=50, r=10, t=0, b=0))\n",
    "        # margin=dict(l=50, r=10, t=10, b=50))\n",
    "        margin=margin)\n",
    "    figure.show()\n",
    "    if save_path:\n",
    "        figure.write_image(save_path)\n",
    "\n",
    "# legend_title_text='Missingness proportion')\n",
    "# figure.layout.update(\n",
    "#     autosize=False,\n",
    "#     width=500,\n",
    "#     height=500\n",
    "# )\n",
    "# fig.update_xaxes(categoryorder='array', categoryarray= )"
   ],
   "metadata": {
    "collapsed": false
   }
  },
  {
   "cell_type": "code",
   "execution_count": 21,
   "outputs": [],
   "source": [
    "px.defaults.width = 1200\n",
    "px.defaults.height = 400\n",
    "pio.templates.default = \"simple_white\""
   ],
   "metadata": {
    "collapsed": false
   }
  },
  {
   "cell_type": "code",
   "execution_count": 95,
   "outputs": [
    {
     "data": {
      "text/plain": "       avg.rmse   avg.mae   avg.jsd   std.rmse   std.mae   std.jsd      model  \\\n0    108.922087  0.006574  0.000451   9.929536  0.001198  0.000066  Attention   \n1      6.087111  0.008025  0.000753   7.776867  0.002548  0.000469       CSDI   \n2    134.485405  0.038082  0.004144   4.879338  0.001241  0.000130  Attention   \n3    284.676188  0.038215  0.003731  11.195988  0.003594  0.000256  Attention   \n4      4.911884  0.041573  0.004719   1.696708  0.002061  0.000340       CSDI   \n..          ...       ...       ...        ...       ...       ...        ...   \n683         NaN       NaN       NaN        NaN       NaN       NaN       MICE   \n684         NaN       NaN       NaN        NaN       NaN       NaN      SAITS   \n685         NaN       NaN       NaN        NaN       NaN       NaN       MICE   \n687         NaN       NaN       NaN        NaN       NaN       NaN        NaN   \n688         NaN       NaN       NaN        NaN       NaN       NaN     Median   \n\n    ImputationDataset.mask_method  ImputationDataset.mask_proportion  data_dir  \n0                            MCAR                                0.3       NaN  \n1                            MCAR                                0.3       NaN  \n2                            MCAR                                0.3       NaN  \n3                            MCAR                                0.7       NaN  \n4                            MCAR                                0.3       NaN  \n..                            ...                                ...       ...  \n683                          MCAR                                0.3  MIMIC-IV  \n684                          MCAR                                0.3      eICU  \n685                          MCAR                                0.3  MIMIC-IV  \n687                          MCAR                                0.3       NaN  \n688                          MCAR                                0.3  MIMIC-IV  \n\n[606 rows x 10 columns]",
      "text/html": "<div>\n<style scoped>\n    .dataframe tbody tr th:only-of-type {\n        vertical-align: middle;\n    }\n\n    .dataframe tbody tr th {\n        vertical-align: top;\n    }\n\n    .dataframe thead th {\n        text-align: right;\n    }\n</style>\n<table border=\"1\" class=\"dataframe\">\n  <thead>\n    <tr style=\"text-align: right;\">\n      <th></th>\n      <th>avg.rmse</th>\n      <th>avg.mae</th>\n      <th>avg.jsd</th>\n      <th>std.rmse</th>\n      <th>std.mae</th>\n      <th>std.jsd</th>\n      <th>model</th>\n      <th>ImputationDataset.mask_method</th>\n      <th>ImputationDataset.mask_proportion</th>\n      <th>data_dir</th>\n    </tr>\n  </thead>\n  <tbody>\n    <tr>\n      <th>0</th>\n      <td>108.922087</td>\n      <td>0.006574</td>\n      <td>0.000451</td>\n      <td>9.929536</td>\n      <td>0.001198</td>\n      <td>0.000066</td>\n      <td>Attention</td>\n      <td>MCAR</td>\n      <td>0.3</td>\n      <td>NaN</td>\n    </tr>\n    <tr>\n      <th>1</th>\n      <td>6.087111</td>\n      <td>0.008025</td>\n      <td>0.000753</td>\n      <td>7.776867</td>\n      <td>0.002548</td>\n      <td>0.000469</td>\n      <td>CSDI</td>\n      <td>MCAR</td>\n      <td>0.3</td>\n      <td>NaN</td>\n    </tr>\n    <tr>\n      <th>2</th>\n      <td>134.485405</td>\n      <td>0.038082</td>\n      <td>0.004144</td>\n      <td>4.879338</td>\n      <td>0.001241</td>\n      <td>0.000130</td>\n      <td>Attention</td>\n      <td>MCAR</td>\n      <td>0.3</td>\n      <td>NaN</td>\n    </tr>\n    <tr>\n      <th>3</th>\n      <td>284.676188</td>\n      <td>0.038215</td>\n      <td>0.003731</td>\n      <td>11.195988</td>\n      <td>0.003594</td>\n      <td>0.000256</td>\n      <td>Attention</td>\n      <td>MCAR</td>\n      <td>0.7</td>\n      <td>NaN</td>\n    </tr>\n    <tr>\n      <th>4</th>\n      <td>4.911884</td>\n      <td>0.041573</td>\n      <td>0.004719</td>\n      <td>1.696708</td>\n      <td>0.002061</td>\n      <td>0.000340</td>\n      <td>CSDI</td>\n      <td>MCAR</td>\n      <td>0.3</td>\n      <td>NaN</td>\n    </tr>\n    <tr>\n      <th>...</th>\n      <td>...</td>\n      <td>...</td>\n      <td>...</td>\n      <td>...</td>\n      <td>...</td>\n      <td>...</td>\n      <td>...</td>\n      <td>...</td>\n      <td>...</td>\n      <td>...</td>\n    </tr>\n    <tr>\n      <th>683</th>\n      <td>NaN</td>\n      <td>NaN</td>\n      <td>NaN</td>\n      <td>NaN</td>\n      <td>NaN</td>\n      <td>NaN</td>\n      <td>MICE</td>\n      <td>MCAR</td>\n      <td>0.3</td>\n      <td>MIMIC-IV</td>\n    </tr>\n    <tr>\n      <th>684</th>\n      <td>NaN</td>\n      <td>NaN</td>\n      <td>NaN</td>\n      <td>NaN</td>\n      <td>NaN</td>\n      <td>NaN</td>\n      <td>SAITS</td>\n      <td>MCAR</td>\n      <td>0.3</td>\n      <td>eICU</td>\n    </tr>\n    <tr>\n      <th>685</th>\n      <td>NaN</td>\n      <td>NaN</td>\n      <td>NaN</td>\n      <td>NaN</td>\n      <td>NaN</td>\n      <td>NaN</td>\n      <td>MICE</td>\n      <td>MCAR</td>\n      <td>0.3</td>\n      <td>MIMIC-IV</td>\n    </tr>\n    <tr>\n      <th>687</th>\n      <td>NaN</td>\n      <td>NaN</td>\n      <td>NaN</td>\n      <td>NaN</td>\n      <td>NaN</td>\n      <td>NaN</td>\n      <td>NaN</td>\n      <td>MCAR</td>\n      <td>0.3</td>\n      <td>NaN</td>\n    </tr>\n    <tr>\n      <th>688</th>\n      <td>NaN</td>\n      <td>NaN</td>\n      <td>NaN</td>\n      <td>NaN</td>\n      <td>NaN</td>\n      <td>NaN</td>\n      <td>Median</td>\n      <td>MCAR</td>\n      <td>0.3</td>\n      <td>MIMIC-IV</td>\n    </tr>\n  </tbody>\n</table>\n<p>606 rows × 10 columns</p>\n</div>"
     },
     "execution_count": 95,
     "metadata": {},
     "output_type": "execute_result"
    }
   ],
   "source": [
    "df"
   ],
   "metadata": {
    "collapsed": false
   }
  },
  {
   "cell_type": "code",
   "execution_count": 31,
   "outputs": [],
   "source": [
    "grouped = data.groupby([x, group]).agg(\"mean\", numeric_only=True)\n",
    "grouped.reset_index(inplace=True)\n",
    "grouped.set_index(x,inplace=True)\n",
    "grouped = grouped.loc[order]\n",
    "grouped.reset_index(inplace=True)"
   ],
   "metadata": {
    "collapsed": false
   }
  },
  {
   "cell_type": "code",
   "execution_count": 32,
   "outputs": [
    {
     "data": {
      "text/plain": "           model  ImputationDataset.mask_proportion    avg.rmse   avg.mae  \\\n0           Zero                                0.3  386.644146  0.226068   \n1           Zero                                0.5  496.409464  0.374695   \n2           Zero                                0.7  586.109491  0.523437   \n3         Median                                0.3  391.587048  0.224294   \n4         Median                                0.5  503.947323  0.372872   \n5         Median                                0.7  597.604643  0.523766   \n6           Mean                                0.3  416.012066  0.225990   \n7           Mean                                0.5  498.814320  0.376731   \n8           Mean                                0.7  635.685629  0.527794   \n9   MostFrequent                                0.3  496.827361  0.248366   \n10  MostFrequent                                0.5  573.024456  0.412206   \n11  MostFrequent                                0.7  678.585082  0.578607   \n12          MICE                                0.3  358.110687  0.180447   \n13          MICE                                0.5  467.743738  0.331508   \n14          MICE                                0.7  611.380252  0.490337   \n15    MissForest                                0.3  349.120468  0.194580   \n16    MissForest                                0.5  497.254522  0.360705   \n17    MissForest                                0.7  672.694102  0.591352   \n18           MLP                                0.3    5.883915  0.199808   \n19           MLP                                0.5    7.583474  0.332837   \n20           MLP                                0.7    9.037749  0.470614   \n21         BRITS                                0.3  256.789835  0.115604   \n22         BRITS                                0.5  368.222194  0.236585   \n23         BRITS                                0.7  458.281534  0.341784   \n24         GRU-D                                0.3    4.764046  0.121961   \n25         GRU-D                                0.5    5.753791  0.225774   \n26         GRU-D                                0.7    8.109579  0.325207   \n27          M4IP                                0.3    4.207559  0.104806   \n28          M4IP                                0.5    4.992666  0.193529   \n29          M4IP                                0.7    7.194735  0.280561   \n30     Attention                                0.3  178.927302  0.072688   \n31     Attention                                0.5  258.100489  0.153992   \n32     Attention                                0.7  342.989202  0.241042   \n33            NP                                0.3    5.732405  0.158723   \n34            NP                                0.5    6.593196  0.276973   \n35            NP                                0.7   10.125089  0.414707   \n36         SAITS                                0.3  184.055717  0.078422   \n37         SAITS                                0.5  267.712540  0.161788   \n38         SAITS                                0.7  369.120991  0.282316   \n39     Diffusion                                0.3    6.623716  0.227072   \n40     Diffusion                                0.5    8.512802  0.376813   \n41     Diffusion                                0.7   10.048507  0.526412   \n42          CSDI                                0.3    4.172977  0.087521   \n43          CSDI                                0.5    6.322248  0.187887   \n44          CSDI                                0.7   17.956951  0.372212   \n\n     avg.jsd   std.rmse   std.mae   std.jsd  \n0   0.112487   7.964503  0.003431  0.001569  \n1   0.204720   8.268726  0.004234  0.001945  \n2   0.321298   8.709514  0.005274  0.002637  \n3   0.056247  10.213808  0.005004  0.004006  \n4   0.090023  10.963838  0.006847  0.007462  \n5   0.118574  12.218157  0.009636  0.012780  \n6   0.101341   8.970976  0.003811  0.003754  \n7   0.169090   9.580776  0.005892  0.009066  \n8   0.258036  12.442161  0.009078  0.013403  \n9   0.028730  11.689374  0.006793  0.001355  \n10  0.048498  16.838627  0.012612  0.004478  \n11  0.067763  18.789313  0.016006  0.006960  \n12  0.049077   8.555486  0.004055  0.001238  \n13  0.101036  12.460547  0.006216  0.002751  \n14  0.169898  15.794697  0.009615  0.007964  \n15  0.034528   5.844783  0.003139  0.003262  \n16  0.061415  23.069931  0.016555  0.007148  \n17  0.096434  62.611110  0.063205  0.018037  \n18  0.061237   0.110455  0.003813  0.002950  \n19  0.107580   0.121964  0.005554  0.004846  \n20  0.157988   0.142709  0.007742  0.007754  \n21  0.019054  12.283431  0.005641  0.001338  \n22  0.044202  14.217032  0.009234  0.002498  \n23  0.065588  15.911935  0.011759  0.003264  \n24  0.019976   0.162748  0.004114  0.001791  \n25  0.039543   0.184077  0.007163  0.003610  \n26  0.059653   0.189130  0.008315  0.004574  \n27  0.016140   0.164381  0.004163  0.001781  \n28  0.031202   0.190243  0.007152  0.003536  \n29  0.045795   0.220231  0.008452  0.004335  \n30  0.008983   6.903315  0.002677  0.000455  \n31  0.020186  11.429461  0.006206  0.001211  \n32  0.034360  18.565157  0.013247  0.003336  \n33  0.028019   0.332460  0.009329  0.005196  \n34  0.049732   0.342949  0.016378  0.011687  \n35  0.084741   0.633516  0.024532  0.020511  \n36  0.009842   6.977771  0.003112  0.000569  \n37  0.021937  17.480556  0.010330  0.002029  \n38  0.041807  22.017906  0.018131  0.004118  \n39  0.074843   0.133006  0.003418  0.003938  \n40  0.128952   0.136549  0.004607  0.007035  \n41  0.181092   0.134625  0.005493  0.011455  \n42  0.011351   1.952202  0.018433  0.003786  \n43  0.024815   2.525248  0.032076  0.005745  \n44  0.047675  13.248364  0.140269  0.013415  ",
      "text/html": "<div>\n<style scoped>\n    .dataframe tbody tr th:only-of-type {\n        vertical-align: middle;\n    }\n\n    .dataframe tbody tr th {\n        vertical-align: top;\n    }\n\n    .dataframe thead th {\n        text-align: right;\n    }\n</style>\n<table border=\"1\" class=\"dataframe\">\n  <thead>\n    <tr style=\"text-align: right;\">\n      <th></th>\n      <th>model</th>\n      <th>ImputationDataset.mask_proportion</th>\n      <th>avg.rmse</th>\n      <th>avg.mae</th>\n      <th>avg.jsd</th>\n      <th>std.rmse</th>\n      <th>std.mae</th>\n      <th>std.jsd</th>\n    </tr>\n  </thead>\n  <tbody>\n    <tr>\n      <th>0</th>\n      <td>Zero</td>\n      <td>0.3</td>\n      <td>386.644146</td>\n      <td>0.226068</td>\n      <td>0.112487</td>\n      <td>7.964503</td>\n      <td>0.003431</td>\n      <td>0.001569</td>\n    </tr>\n    <tr>\n      <th>1</th>\n      <td>Zero</td>\n      <td>0.5</td>\n      <td>496.409464</td>\n      <td>0.374695</td>\n      <td>0.204720</td>\n      <td>8.268726</td>\n      <td>0.004234</td>\n      <td>0.001945</td>\n    </tr>\n    <tr>\n      <th>2</th>\n      <td>Zero</td>\n      <td>0.7</td>\n      <td>586.109491</td>\n      <td>0.523437</td>\n      <td>0.321298</td>\n      <td>8.709514</td>\n      <td>0.005274</td>\n      <td>0.002637</td>\n    </tr>\n    <tr>\n      <th>3</th>\n      <td>Median</td>\n      <td>0.3</td>\n      <td>391.587048</td>\n      <td>0.224294</td>\n      <td>0.056247</td>\n      <td>10.213808</td>\n      <td>0.005004</td>\n      <td>0.004006</td>\n    </tr>\n    <tr>\n      <th>4</th>\n      <td>Median</td>\n      <td>0.5</td>\n      <td>503.947323</td>\n      <td>0.372872</td>\n      <td>0.090023</td>\n      <td>10.963838</td>\n      <td>0.006847</td>\n      <td>0.007462</td>\n    </tr>\n    <tr>\n      <th>5</th>\n      <td>Median</td>\n      <td>0.7</td>\n      <td>597.604643</td>\n      <td>0.523766</td>\n      <td>0.118574</td>\n      <td>12.218157</td>\n      <td>0.009636</td>\n      <td>0.012780</td>\n    </tr>\n    <tr>\n      <th>6</th>\n      <td>Mean</td>\n      <td>0.3</td>\n      <td>416.012066</td>\n      <td>0.225990</td>\n      <td>0.101341</td>\n      <td>8.970976</td>\n      <td>0.003811</td>\n      <td>0.003754</td>\n    </tr>\n    <tr>\n      <th>7</th>\n      <td>Mean</td>\n      <td>0.5</td>\n      <td>498.814320</td>\n      <td>0.376731</td>\n      <td>0.169090</td>\n      <td>9.580776</td>\n      <td>0.005892</td>\n      <td>0.009066</td>\n    </tr>\n    <tr>\n      <th>8</th>\n      <td>Mean</td>\n      <td>0.7</td>\n      <td>635.685629</td>\n      <td>0.527794</td>\n      <td>0.258036</td>\n      <td>12.442161</td>\n      <td>0.009078</td>\n      <td>0.013403</td>\n    </tr>\n    <tr>\n      <th>9</th>\n      <td>MostFrequent</td>\n      <td>0.3</td>\n      <td>496.827361</td>\n      <td>0.248366</td>\n      <td>0.028730</td>\n      <td>11.689374</td>\n      <td>0.006793</td>\n      <td>0.001355</td>\n    </tr>\n    <tr>\n      <th>10</th>\n      <td>MostFrequent</td>\n      <td>0.5</td>\n      <td>573.024456</td>\n      <td>0.412206</td>\n      <td>0.048498</td>\n      <td>16.838627</td>\n      <td>0.012612</td>\n      <td>0.004478</td>\n    </tr>\n    <tr>\n      <th>11</th>\n      <td>MostFrequent</td>\n      <td>0.7</td>\n      <td>678.585082</td>\n      <td>0.578607</td>\n      <td>0.067763</td>\n      <td>18.789313</td>\n      <td>0.016006</td>\n      <td>0.006960</td>\n    </tr>\n    <tr>\n      <th>12</th>\n      <td>MICE</td>\n      <td>0.3</td>\n      <td>358.110687</td>\n      <td>0.180447</td>\n      <td>0.049077</td>\n      <td>8.555486</td>\n      <td>0.004055</td>\n      <td>0.001238</td>\n    </tr>\n    <tr>\n      <th>13</th>\n      <td>MICE</td>\n      <td>0.5</td>\n      <td>467.743738</td>\n      <td>0.331508</td>\n      <td>0.101036</td>\n      <td>12.460547</td>\n      <td>0.006216</td>\n      <td>0.002751</td>\n    </tr>\n    <tr>\n      <th>14</th>\n      <td>MICE</td>\n      <td>0.7</td>\n      <td>611.380252</td>\n      <td>0.490337</td>\n      <td>0.169898</td>\n      <td>15.794697</td>\n      <td>0.009615</td>\n      <td>0.007964</td>\n    </tr>\n    <tr>\n      <th>15</th>\n      <td>MissForest</td>\n      <td>0.3</td>\n      <td>349.120468</td>\n      <td>0.194580</td>\n      <td>0.034528</td>\n      <td>5.844783</td>\n      <td>0.003139</td>\n      <td>0.003262</td>\n    </tr>\n    <tr>\n      <th>16</th>\n      <td>MissForest</td>\n      <td>0.5</td>\n      <td>497.254522</td>\n      <td>0.360705</td>\n      <td>0.061415</td>\n      <td>23.069931</td>\n      <td>0.016555</td>\n      <td>0.007148</td>\n    </tr>\n    <tr>\n      <th>17</th>\n      <td>MissForest</td>\n      <td>0.7</td>\n      <td>672.694102</td>\n      <td>0.591352</td>\n      <td>0.096434</td>\n      <td>62.611110</td>\n      <td>0.063205</td>\n      <td>0.018037</td>\n    </tr>\n    <tr>\n      <th>18</th>\n      <td>MLP</td>\n      <td>0.3</td>\n      <td>5.883915</td>\n      <td>0.199808</td>\n      <td>0.061237</td>\n      <td>0.110455</td>\n      <td>0.003813</td>\n      <td>0.002950</td>\n    </tr>\n    <tr>\n      <th>19</th>\n      <td>MLP</td>\n      <td>0.5</td>\n      <td>7.583474</td>\n      <td>0.332837</td>\n      <td>0.107580</td>\n      <td>0.121964</td>\n      <td>0.005554</td>\n      <td>0.004846</td>\n    </tr>\n    <tr>\n      <th>20</th>\n      <td>MLP</td>\n      <td>0.7</td>\n      <td>9.037749</td>\n      <td>0.470614</td>\n      <td>0.157988</td>\n      <td>0.142709</td>\n      <td>0.007742</td>\n      <td>0.007754</td>\n    </tr>\n    <tr>\n      <th>21</th>\n      <td>BRITS</td>\n      <td>0.3</td>\n      <td>256.789835</td>\n      <td>0.115604</td>\n      <td>0.019054</td>\n      <td>12.283431</td>\n      <td>0.005641</td>\n      <td>0.001338</td>\n    </tr>\n    <tr>\n      <th>22</th>\n      <td>BRITS</td>\n      <td>0.5</td>\n      <td>368.222194</td>\n      <td>0.236585</td>\n      <td>0.044202</td>\n      <td>14.217032</td>\n      <td>0.009234</td>\n      <td>0.002498</td>\n    </tr>\n    <tr>\n      <th>23</th>\n      <td>BRITS</td>\n      <td>0.7</td>\n      <td>458.281534</td>\n      <td>0.341784</td>\n      <td>0.065588</td>\n      <td>15.911935</td>\n      <td>0.011759</td>\n      <td>0.003264</td>\n    </tr>\n    <tr>\n      <th>24</th>\n      <td>GRU-D</td>\n      <td>0.3</td>\n      <td>4.764046</td>\n      <td>0.121961</td>\n      <td>0.019976</td>\n      <td>0.162748</td>\n      <td>0.004114</td>\n      <td>0.001791</td>\n    </tr>\n    <tr>\n      <th>25</th>\n      <td>GRU-D</td>\n      <td>0.5</td>\n      <td>5.753791</td>\n      <td>0.225774</td>\n      <td>0.039543</td>\n      <td>0.184077</td>\n      <td>0.007163</td>\n      <td>0.003610</td>\n    </tr>\n    <tr>\n      <th>26</th>\n      <td>GRU-D</td>\n      <td>0.7</td>\n      <td>8.109579</td>\n      <td>0.325207</td>\n      <td>0.059653</td>\n      <td>0.189130</td>\n      <td>0.008315</td>\n      <td>0.004574</td>\n    </tr>\n    <tr>\n      <th>27</th>\n      <td>M4IP</td>\n      <td>0.3</td>\n      <td>4.207559</td>\n      <td>0.104806</td>\n      <td>0.016140</td>\n      <td>0.164381</td>\n      <td>0.004163</td>\n      <td>0.001781</td>\n    </tr>\n    <tr>\n      <th>28</th>\n      <td>M4IP</td>\n      <td>0.5</td>\n      <td>4.992666</td>\n      <td>0.193529</td>\n      <td>0.031202</td>\n      <td>0.190243</td>\n      <td>0.007152</td>\n      <td>0.003536</td>\n    </tr>\n    <tr>\n      <th>29</th>\n      <td>M4IP</td>\n      <td>0.7</td>\n      <td>7.194735</td>\n      <td>0.280561</td>\n      <td>0.045795</td>\n      <td>0.220231</td>\n      <td>0.008452</td>\n      <td>0.004335</td>\n    </tr>\n    <tr>\n      <th>30</th>\n      <td>Attention</td>\n      <td>0.3</td>\n      <td>178.927302</td>\n      <td>0.072688</td>\n      <td>0.008983</td>\n      <td>6.903315</td>\n      <td>0.002677</td>\n      <td>0.000455</td>\n    </tr>\n    <tr>\n      <th>31</th>\n      <td>Attention</td>\n      <td>0.5</td>\n      <td>258.100489</td>\n      <td>0.153992</td>\n      <td>0.020186</td>\n      <td>11.429461</td>\n      <td>0.006206</td>\n      <td>0.001211</td>\n    </tr>\n    <tr>\n      <th>32</th>\n      <td>Attention</td>\n      <td>0.7</td>\n      <td>342.989202</td>\n      <td>0.241042</td>\n      <td>0.034360</td>\n      <td>18.565157</td>\n      <td>0.013247</td>\n      <td>0.003336</td>\n    </tr>\n    <tr>\n      <th>33</th>\n      <td>NP</td>\n      <td>0.3</td>\n      <td>5.732405</td>\n      <td>0.158723</td>\n      <td>0.028019</td>\n      <td>0.332460</td>\n      <td>0.009329</td>\n      <td>0.005196</td>\n    </tr>\n    <tr>\n      <th>34</th>\n      <td>NP</td>\n      <td>0.5</td>\n      <td>6.593196</td>\n      <td>0.276973</td>\n      <td>0.049732</td>\n      <td>0.342949</td>\n      <td>0.016378</td>\n      <td>0.011687</td>\n    </tr>\n    <tr>\n      <th>35</th>\n      <td>NP</td>\n      <td>0.7</td>\n      <td>10.125089</td>\n      <td>0.414707</td>\n      <td>0.084741</td>\n      <td>0.633516</td>\n      <td>0.024532</td>\n      <td>0.020511</td>\n    </tr>\n    <tr>\n      <th>36</th>\n      <td>SAITS</td>\n      <td>0.3</td>\n      <td>184.055717</td>\n      <td>0.078422</td>\n      <td>0.009842</td>\n      <td>6.977771</td>\n      <td>0.003112</td>\n      <td>0.000569</td>\n    </tr>\n    <tr>\n      <th>37</th>\n      <td>SAITS</td>\n      <td>0.5</td>\n      <td>267.712540</td>\n      <td>0.161788</td>\n      <td>0.021937</td>\n      <td>17.480556</td>\n      <td>0.010330</td>\n      <td>0.002029</td>\n    </tr>\n    <tr>\n      <th>38</th>\n      <td>SAITS</td>\n      <td>0.7</td>\n      <td>369.120991</td>\n      <td>0.282316</td>\n      <td>0.041807</td>\n      <td>22.017906</td>\n      <td>0.018131</td>\n      <td>0.004118</td>\n    </tr>\n    <tr>\n      <th>39</th>\n      <td>Diffusion</td>\n      <td>0.3</td>\n      <td>6.623716</td>\n      <td>0.227072</td>\n      <td>0.074843</td>\n      <td>0.133006</td>\n      <td>0.003418</td>\n      <td>0.003938</td>\n    </tr>\n    <tr>\n      <th>40</th>\n      <td>Diffusion</td>\n      <td>0.5</td>\n      <td>8.512802</td>\n      <td>0.376813</td>\n      <td>0.128952</td>\n      <td>0.136549</td>\n      <td>0.004607</td>\n      <td>0.007035</td>\n    </tr>\n    <tr>\n      <th>41</th>\n      <td>Diffusion</td>\n      <td>0.7</td>\n      <td>10.048507</td>\n      <td>0.526412</td>\n      <td>0.181092</td>\n      <td>0.134625</td>\n      <td>0.005493</td>\n      <td>0.011455</td>\n    </tr>\n    <tr>\n      <th>42</th>\n      <td>CSDI</td>\n      <td>0.3</td>\n      <td>4.172977</td>\n      <td>0.087521</td>\n      <td>0.011351</td>\n      <td>1.952202</td>\n      <td>0.018433</td>\n      <td>0.003786</td>\n    </tr>\n    <tr>\n      <th>43</th>\n      <td>CSDI</td>\n      <td>0.5</td>\n      <td>6.322248</td>\n      <td>0.187887</td>\n      <td>0.024815</td>\n      <td>2.525248</td>\n      <td>0.032076</td>\n      <td>0.005745</td>\n    </tr>\n    <tr>\n      <th>44</th>\n      <td>CSDI</td>\n      <td>0.7</td>\n      <td>17.956951</td>\n      <td>0.372212</td>\n      <td>0.047675</td>\n      <td>13.248364</td>\n      <td>0.140269</td>\n      <td>0.013415</td>\n    </tr>\n  </tbody>\n</table>\n</div>"
     },
     "execution_count": 32,
     "metadata": {},
     "output_type": "execute_result"
    }
   ],
   "source": [
    "grouped"
   ],
   "metadata": {
    "collapsed": false
   }
  },
  {
   "cell_type": "code",
   "execution_count": 37,
   "outputs": [
    {
     "data": {
      "application/vnd.plotly.v1+json": {
       "data": [
        {
         "alignmentgroup": "True",
         "error_y": {
          "array": [
           0.0034311665159637,
           0.004234069625222933,
           0.005274221685559909,
           0.005003570358757275,
           0.006847231044648758,
           0.00963634995454585,
           0.0038111385339286786,
           0.0058920862001079835,
           0.009078271042842465,
           0.00679308236177025,
           0.012612466290703067,
           0.016005532371539257,
           0.00405468811943205,
           0.006216094411491033,
           0.009614817352648507,
           0.00313920832660135,
           0.016554764912038125,
           0.06320471945904035,
           0.0038131849874134417,
           0.005553550451712092,
           0.0077420572207777824,
           0.005640551867442985,
           0.009233565057460385,
           0.011758685186134694,
           0.004113707683344853,
           0.0071632422715390415,
           0.008315054209061536,
           0.004162695189157093,
           0.0071523437682788,
           0.008452485450501214,
           0.00267681407033838,
           0.006206478077998409,
           0.013247320159061163,
           0.009329326517690984,
           0.016377860224078517,
           0.024532124129039493,
           0.0031120084278910116,
           0.010330134843374741,
           0.018131088029376265,
           0.003418245077712725,
           0.004606617621420742,
           0.005492958271703899,
           0.018432674827747353,
           0.032075853611581655,
           0.1402690116729908
          ]
         },
         "hovertemplate": "Model=%{x}<br>Mean Absolute Error (MAE)=%{y}<br>ImputationDataset.mask_proportion=%{marker.color}<extra></extra>",
         "legendgroup": "",
         "marker": {
          "color": [
           0.3,
           0.5,
           0.7,
           0.3,
           0.5,
           0.7,
           0.3,
           0.5,
           0.7,
           0.3,
           0.5,
           0.7,
           0.3,
           0.5,
           0.7,
           0.3,
           0.5,
           0.7,
           0.3,
           0.5,
           0.7,
           0.3,
           0.5,
           0.7,
           0.3,
           0.5,
           0.7,
           0.3,
           0.5,
           0.7,
           0.3,
           0.5,
           0.7,
           0.3,
           0.5,
           0.7,
           0.3,
           0.5,
           0.7,
           0.3,
           0.5,
           0.7,
           0.3,
           0.5,
           0.7
          ],
          "coloraxis": "coloraxis",
          "pattern": {
           "shape": ""
          }
         },
         "name": "",
         "offsetgroup": "",
         "orientation": "v",
         "showlegend": false,
         "textposition": "auto",
         "x": [
          "Zero",
          "Zero",
          "Zero",
          "Median",
          "Median",
          "Median",
          "Mean",
          "Mean",
          "Mean",
          "MostFrequent",
          "MostFrequent",
          "MostFrequent",
          "MICE",
          "MICE",
          "MICE",
          "MissForest",
          "MissForest",
          "MissForest",
          "MLP",
          "MLP",
          "MLP",
          "BRITS",
          "BRITS",
          "BRITS",
          "GRU-D",
          "GRU-D",
          "GRU-D",
          "M4IP",
          "M4IP",
          "M4IP",
          "Attention",
          "Attention",
          "Attention",
          "NP",
          "NP",
          "NP",
          "SAITS",
          "SAITS",
          "SAITS",
          "Diffusion",
          "Diffusion",
          "Diffusion",
          "CSDI",
          "CSDI",
          "CSDI"
         ],
         "xaxis": "x",
         "y": [
          0.22606805975238478,
          0.37469476977984106,
          0.5234371493260066,
          0.224294458925724,
          0.37287230630715684,
          0.5237664861480394,
          0.22599038090024673,
          0.37673137148221336,
          0.5277936619520187,
          0.24836587346262398,
          0.4122061641017596,
          0.578606971402963,
          0.18044672059161318,
          0.3315081058442592,
          0.4903369625977107,
          0.1945803312460581,
          0.3607052911321322,
          0.5913523559768995,
          0.19980787316958107,
          0.3328372878829638,
          0.4706142990787823,
          0.11560430465000013,
          0.23658510426680246,
          0.3417843130656651,
          0.12196071086327231,
          0.22577399889628091,
          0.3252069649526051,
          0.10480568107962605,
          0.19352869078516957,
          0.2805608920965876,
          0.0726882542657355,
          0.15399227013190583,
          0.24104207986167497,
          0.1587234818562865,
          0.27697271024187403,
          0.4147069472074508,
          0.07842209996546012,
          0.1617879420270522,
          0.282316232273976,
          0.22707159593701362,
          0.3768126875162124,
          0.5264118190606435,
          0.08752097805017142,
          0.1878873782853285,
          0.37221158901495593
         ],
         "yaxis": "y",
         "type": "bar"
        }
       ],
       "layout": {
        "template": {
         "data": {
          "histogram2dcontour": [
           {
            "type": "histogram2dcontour",
            "colorbar": {
             "outlinewidth": 1,
             "tickcolor": "rgb(36,36,36)",
             "ticks": "outside"
            },
            "colorscale": [
             [
              0.0,
              "#440154"
             ],
             [
              0.1111111111111111,
              "#482878"
             ],
             [
              0.2222222222222222,
              "#3e4989"
             ],
             [
              0.3333333333333333,
              "#31688e"
             ],
             [
              0.4444444444444444,
              "#26828e"
             ],
             [
              0.5555555555555556,
              "#1f9e89"
             ],
             [
              0.6666666666666666,
              "#35b779"
             ],
             [
              0.7777777777777778,
              "#6ece58"
             ],
             [
              0.8888888888888888,
              "#b5de2b"
             ],
             [
              1.0,
              "#fde725"
             ]
            ]
           }
          ],
          "choropleth": [
           {
            "type": "choropleth",
            "colorbar": {
             "outlinewidth": 1,
             "tickcolor": "rgb(36,36,36)",
             "ticks": "outside"
            }
           }
          ],
          "histogram2d": [
           {
            "type": "histogram2d",
            "colorbar": {
             "outlinewidth": 1,
             "tickcolor": "rgb(36,36,36)",
             "ticks": "outside"
            },
            "colorscale": [
             [
              0.0,
              "#440154"
             ],
             [
              0.1111111111111111,
              "#482878"
             ],
             [
              0.2222222222222222,
              "#3e4989"
             ],
             [
              0.3333333333333333,
              "#31688e"
             ],
             [
              0.4444444444444444,
              "#26828e"
             ],
             [
              0.5555555555555556,
              "#1f9e89"
             ],
             [
              0.6666666666666666,
              "#35b779"
             ],
             [
              0.7777777777777778,
              "#6ece58"
             ],
             [
              0.8888888888888888,
              "#b5de2b"
             ],
             [
              1.0,
              "#fde725"
             ]
            ]
           }
          ],
          "heatmap": [
           {
            "type": "heatmap",
            "colorbar": {
             "outlinewidth": 1,
             "tickcolor": "rgb(36,36,36)",
             "ticks": "outside"
            },
            "colorscale": [
             [
              0.0,
              "#440154"
             ],
             [
              0.1111111111111111,
              "#482878"
             ],
             [
              0.2222222222222222,
              "#3e4989"
             ],
             [
              0.3333333333333333,
              "#31688e"
             ],
             [
              0.4444444444444444,
              "#26828e"
             ],
             [
              0.5555555555555556,
              "#1f9e89"
             ],
             [
              0.6666666666666666,
              "#35b779"
             ],
             [
              0.7777777777777778,
              "#6ece58"
             ],
             [
              0.8888888888888888,
              "#b5de2b"
             ],
             [
              1.0,
              "#fde725"
             ]
            ]
           }
          ],
          "heatmapgl": [
           {
            "type": "heatmapgl",
            "colorbar": {
             "outlinewidth": 1,
             "tickcolor": "rgb(36,36,36)",
             "ticks": "outside"
            },
            "colorscale": [
             [
              0.0,
              "#440154"
             ],
             [
              0.1111111111111111,
              "#482878"
             ],
             [
              0.2222222222222222,
              "#3e4989"
             ],
             [
              0.3333333333333333,
              "#31688e"
             ],
             [
              0.4444444444444444,
              "#26828e"
             ],
             [
              0.5555555555555556,
              "#1f9e89"
             ],
             [
              0.6666666666666666,
              "#35b779"
             ],
             [
              0.7777777777777778,
              "#6ece58"
             ],
             [
              0.8888888888888888,
              "#b5de2b"
             ],
             [
              1.0,
              "#fde725"
             ]
            ]
           }
          ],
          "contourcarpet": [
           {
            "type": "contourcarpet",
            "colorbar": {
             "outlinewidth": 1,
             "tickcolor": "rgb(36,36,36)",
             "ticks": "outside"
            }
           }
          ],
          "contour": [
           {
            "type": "contour",
            "colorbar": {
             "outlinewidth": 1,
             "tickcolor": "rgb(36,36,36)",
             "ticks": "outside"
            },
            "colorscale": [
             [
              0.0,
              "#440154"
             ],
             [
              0.1111111111111111,
              "#482878"
             ],
             [
              0.2222222222222222,
              "#3e4989"
             ],
             [
              0.3333333333333333,
              "#31688e"
             ],
             [
              0.4444444444444444,
              "#26828e"
             ],
             [
              0.5555555555555556,
              "#1f9e89"
             ],
             [
              0.6666666666666666,
              "#35b779"
             ],
             [
              0.7777777777777778,
              "#6ece58"
             ],
             [
              0.8888888888888888,
              "#b5de2b"
             ],
             [
              1.0,
              "#fde725"
             ]
            ]
           }
          ],
          "surface": [
           {
            "type": "surface",
            "colorbar": {
             "outlinewidth": 1,
             "tickcolor": "rgb(36,36,36)",
             "ticks": "outside"
            },
            "colorscale": [
             [
              0.0,
              "#440154"
             ],
             [
              0.1111111111111111,
              "#482878"
             ],
             [
              0.2222222222222222,
              "#3e4989"
             ],
             [
              0.3333333333333333,
              "#31688e"
             ],
             [
              0.4444444444444444,
              "#26828e"
             ],
             [
              0.5555555555555556,
              "#1f9e89"
             ],
             [
              0.6666666666666666,
              "#35b779"
             ],
             [
              0.7777777777777778,
              "#6ece58"
             ],
             [
              0.8888888888888888,
              "#b5de2b"
             ],
             [
              1.0,
              "#fde725"
             ]
            ]
           }
          ],
          "mesh3d": [
           {
            "type": "mesh3d",
            "colorbar": {
             "outlinewidth": 1,
             "tickcolor": "rgb(36,36,36)",
             "ticks": "outside"
            }
           }
          ],
          "scatter": [
           {
            "fillpattern": {
             "fillmode": "overlay",
             "size": 10,
             "solidity": 0.2
            },
            "type": "scatter"
           }
          ],
          "parcoords": [
           {
            "type": "parcoords",
            "line": {
             "colorbar": {
              "outlinewidth": 1,
              "tickcolor": "rgb(36,36,36)",
              "ticks": "outside"
             }
            }
           }
          ],
          "scatterpolargl": [
           {
            "type": "scatterpolargl",
            "marker": {
             "colorbar": {
              "outlinewidth": 1,
              "tickcolor": "rgb(36,36,36)",
              "ticks": "outside"
             }
            }
           }
          ],
          "bar": [
           {
            "error_x": {
             "color": "rgb(36,36,36)"
            },
            "error_y": {
             "color": "rgb(36,36,36)"
            },
            "marker": {
             "line": {
              "color": "white",
              "width": 0.5
             },
             "pattern": {
              "fillmode": "overlay",
              "size": 10,
              "solidity": 0.2
             }
            },
            "type": "bar"
           }
          ],
          "scattergeo": [
           {
            "type": "scattergeo",
            "marker": {
             "colorbar": {
              "outlinewidth": 1,
              "tickcolor": "rgb(36,36,36)",
              "ticks": "outside"
             }
            }
           }
          ],
          "scatterpolar": [
           {
            "type": "scatterpolar",
            "marker": {
             "colorbar": {
              "outlinewidth": 1,
              "tickcolor": "rgb(36,36,36)",
              "ticks": "outside"
             }
            }
           }
          ],
          "histogram": [
           {
            "marker": {
             "line": {
              "color": "white",
              "width": 0.6
             }
            },
            "type": "histogram"
           }
          ],
          "scattergl": [
           {
            "type": "scattergl",
            "marker": {
             "colorbar": {
              "outlinewidth": 1,
              "tickcolor": "rgb(36,36,36)",
              "ticks": "outside"
             }
            }
           }
          ],
          "scatter3d": [
           {
            "type": "scatter3d",
            "line": {
             "colorbar": {
              "outlinewidth": 1,
              "tickcolor": "rgb(36,36,36)",
              "ticks": "outside"
             }
            },
            "marker": {
             "colorbar": {
              "outlinewidth": 1,
              "tickcolor": "rgb(36,36,36)",
              "ticks": "outside"
             }
            }
           }
          ],
          "scattermapbox": [
           {
            "type": "scattermapbox",
            "marker": {
             "colorbar": {
              "outlinewidth": 1,
              "tickcolor": "rgb(36,36,36)",
              "ticks": "outside"
             }
            }
           }
          ],
          "scatterternary": [
           {
            "type": "scatterternary",
            "marker": {
             "colorbar": {
              "outlinewidth": 1,
              "tickcolor": "rgb(36,36,36)",
              "ticks": "outside"
             }
            }
           }
          ],
          "scattercarpet": [
           {
            "type": "scattercarpet",
            "marker": {
             "colorbar": {
              "outlinewidth": 1,
              "tickcolor": "rgb(36,36,36)",
              "ticks": "outside"
             }
            }
           }
          ],
          "carpet": [
           {
            "aaxis": {
             "endlinecolor": "rgb(36,36,36)",
             "gridcolor": "white",
             "linecolor": "white",
             "minorgridcolor": "white",
             "startlinecolor": "rgb(36,36,36)"
            },
            "baxis": {
             "endlinecolor": "rgb(36,36,36)",
             "gridcolor": "white",
             "linecolor": "white",
             "minorgridcolor": "white",
             "startlinecolor": "rgb(36,36,36)"
            },
            "type": "carpet"
           }
          ],
          "table": [
           {
            "cells": {
             "fill": {
              "color": "rgb(237,237,237)"
             },
             "line": {
              "color": "white"
             }
            },
            "header": {
             "fill": {
              "color": "rgb(217,217,217)"
             },
             "line": {
              "color": "white"
             }
            },
            "type": "table"
           }
          ],
          "barpolar": [
           {
            "marker": {
             "line": {
              "color": "white",
              "width": 0.5
             },
             "pattern": {
              "fillmode": "overlay",
              "size": 10,
              "solidity": 0.2
             }
            },
            "type": "barpolar"
           }
          ],
          "pie": [
           {
            "automargin": true,
            "type": "pie"
           }
          ]
         },
         "layout": {
          "autotypenumbers": "strict",
          "colorway": [
           "#1F77B4",
           "#FF7F0E",
           "#2CA02C",
           "#D62728",
           "#9467BD",
           "#8C564B",
           "#E377C2",
           "#7F7F7F",
           "#BCBD22",
           "#17BECF"
          ],
          "font": {
           "color": "rgb(36,36,36)"
          },
          "hovermode": "closest",
          "hoverlabel": {
           "align": "left"
          },
          "paper_bgcolor": "white",
          "plot_bgcolor": "white",
          "polar": {
           "bgcolor": "white",
           "angularaxis": {
            "gridcolor": "rgb(232,232,232)",
            "linecolor": "rgb(36,36,36)",
            "showgrid": false,
            "showline": true,
            "ticks": "outside"
           },
           "radialaxis": {
            "gridcolor": "rgb(232,232,232)",
            "linecolor": "rgb(36,36,36)",
            "showgrid": false,
            "showline": true,
            "ticks": "outside"
           }
          },
          "ternary": {
           "bgcolor": "white",
           "aaxis": {
            "gridcolor": "rgb(232,232,232)",
            "linecolor": "rgb(36,36,36)",
            "showgrid": false,
            "showline": true,
            "ticks": "outside"
           },
           "baxis": {
            "gridcolor": "rgb(232,232,232)",
            "linecolor": "rgb(36,36,36)",
            "showgrid": false,
            "showline": true,
            "ticks": "outside"
           },
           "caxis": {
            "gridcolor": "rgb(232,232,232)",
            "linecolor": "rgb(36,36,36)",
            "showgrid": false,
            "showline": true,
            "ticks": "outside"
           }
          },
          "coloraxis": {
           "colorbar": {
            "outlinewidth": 1,
            "tickcolor": "rgb(36,36,36)",
            "ticks": "outside"
           }
          },
          "colorscale": {
           "sequential": [
            [
             0.0,
             "#440154"
            ],
            [
             0.1111111111111111,
             "#482878"
            ],
            [
             0.2222222222222222,
             "#3e4989"
            ],
            [
             0.3333333333333333,
             "#31688e"
            ],
            [
             0.4444444444444444,
             "#26828e"
            ],
            [
             0.5555555555555556,
             "#1f9e89"
            ],
            [
             0.6666666666666666,
             "#35b779"
            ],
            [
             0.7777777777777778,
             "#6ece58"
            ],
            [
             0.8888888888888888,
             "#b5de2b"
            ],
            [
             1.0,
             "#fde725"
            ]
           ],
           "sequentialminus": [
            [
             0.0,
             "#440154"
            ],
            [
             0.1111111111111111,
             "#482878"
            ],
            [
             0.2222222222222222,
             "#3e4989"
            ],
            [
             0.3333333333333333,
             "#31688e"
            ],
            [
             0.4444444444444444,
             "#26828e"
            ],
            [
             0.5555555555555556,
             "#1f9e89"
            ],
            [
             0.6666666666666666,
             "#35b779"
            ],
            [
             0.7777777777777778,
             "#6ece58"
            ],
            [
             0.8888888888888888,
             "#b5de2b"
            ],
            [
             1.0,
             "#fde725"
            ]
           ],
           "diverging": [
            [
             0.0,
             "rgb(103,0,31)"
            ],
            [
             0.1,
             "rgb(178,24,43)"
            ],
            [
             0.2,
             "rgb(214,96,77)"
            ],
            [
             0.3,
             "rgb(244,165,130)"
            ],
            [
             0.4,
             "rgb(253,219,199)"
            ],
            [
             0.5,
             "rgb(247,247,247)"
            ],
            [
             0.6,
             "rgb(209,229,240)"
            ],
            [
             0.7,
             "rgb(146,197,222)"
            ],
            [
             0.8,
             "rgb(67,147,195)"
            ],
            [
             0.9,
             "rgb(33,102,172)"
            ],
            [
             1.0,
             "rgb(5,48,97)"
            ]
           ]
          },
          "xaxis": {
           "gridcolor": "rgb(232,232,232)",
           "linecolor": "rgb(36,36,36)",
           "showgrid": false,
           "showline": true,
           "ticks": "outside",
           "title": {
            "standoff": 15
           },
           "zerolinecolor": "rgb(36,36,36)",
           "automargin": true,
           "zeroline": false
          },
          "yaxis": {
           "gridcolor": "rgb(232,232,232)",
           "linecolor": "rgb(36,36,36)",
           "showgrid": false,
           "showline": true,
           "ticks": "outside",
           "title": {
            "standoff": 15
           },
           "zerolinecolor": "rgb(36,36,36)",
           "automargin": true,
           "zeroline": false
          },
          "scene": {
           "xaxis": {
            "backgroundcolor": "white",
            "gridcolor": "rgb(232,232,232)",
            "linecolor": "rgb(36,36,36)",
            "showbackground": true,
            "showgrid": false,
            "showline": true,
            "ticks": "outside",
            "zerolinecolor": "rgb(36,36,36)",
            "gridwidth": 2,
            "zeroline": false
           },
           "yaxis": {
            "backgroundcolor": "white",
            "gridcolor": "rgb(232,232,232)",
            "linecolor": "rgb(36,36,36)",
            "showbackground": true,
            "showgrid": false,
            "showline": true,
            "ticks": "outside",
            "zerolinecolor": "rgb(36,36,36)",
            "gridwidth": 2,
            "zeroline": false
           },
           "zaxis": {
            "backgroundcolor": "white",
            "gridcolor": "rgb(232,232,232)",
            "linecolor": "rgb(36,36,36)",
            "showbackground": true,
            "showgrid": false,
            "showline": true,
            "ticks": "outside",
            "zerolinecolor": "rgb(36,36,36)",
            "gridwidth": 2,
            "zeroline": false
           }
          },
          "shapedefaults": {
           "fillcolor": "black",
           "line": {
            "width": 0
           },
           "opacity": 0.3
          },
          "annotationdefaults": {
           "arrowhead": 0,
           "arrowwidth": 1
          },
          "geo": {
           "bgcolor": "white",
           "landcolor": "white",
           "subunitcolor": "white",
           "showland": true,
           "showlakes": true,
           "lakecolor": "white"
          },
          "title": {
           "x": 0.05
          },
          "mapbox": {
           "style": "light"
          }
         }
        },
        "xaxis": {
         "anchor": "y",
         "domain": [
          0.0,
          1.0
         ],
         "title": {
          "text": "Model"
         }
        },
        "yaxis": {
         "anchor": "x",
         "domain": [
          0.0,
          1.0
         ],
         "title": {
          "text": "Mean Absolute Error (MAE)"
         }
        },
        "coloraxis": {
         "colorbar": {
          "title": {
           "text": "ImputationDataset.mask_proportion"
          }
         },
         "colorscale": [
          [
           0.0,
           "#440154"
          ],
          [
           0.1111111111111111,
           "#482878"
          ],
          [
           0.2222222222222222,
           "#3e4989"
          ],
          [
           0.3333333333333333,
           "#31688e"
          ],
          [
           0.4444444444444444,
           "#26828e"
          ],
          [
           0.5555555555555556,
           "#1f9e89"
          ],
          [
           0.6666666666666666,
           "#35b779"
          ],
          [
           0.7777777777777778,
           "#6ece58"
          ],
          [
           0.8888888888888888,
           "#b5de2b"
          ],
          [
           1.0,
           "#fde725"
          ]
         ]
        },
        "legend": {
         "tracegroupgap": 0
        },
        "margin": {
         "t": 60
        },
        "barmode": "group",
        "height": 400,
        "width": 1200
       },
       "config": {
        "plotlyServerURL": "https://plot.ly"
       }
      },
      "text/html": "<div>                            <div id=\"c688ce80-a39d-4024-a921-e6f846e13176\" class=\"plotly-graph-div\" style=\"height:400px; width:1200px;\"></div>            <script type=\"text/javascript\">                require([\"plotly\"], function(Plotly) {                    window.PLOTLYENV=window.PLOTLYENV || {};                                    if (document.getElementById(\"c688ce80-a39d-4024-a921-e6f846e13176\")) {                    Plotly.newPlot(                        \"c688ce80-a39d-4024-a921-e6f846e13176\",                        [{\"alignmentgroup\":\"True\",\"error_y\":{\"array\":[0.0034311665159637,0.004234069625222933,0.005274221685559909,0.005003570358757275,0.006847231044648758,0.00963634995454585,0.0038111385339286786,0.0058920862001079835,0.009078271042842465,0.00679308236177025,0.012612466290703067,0.016005532371539257,0.00405468811943205,0.006216094411491033,0.009614817352648507,0.00313920832660135,0.016554764912038125,0.06320471945904035,0.0038131849874134417,0.005553550451712092,0.0077420572207777824,0.005640551867442985,0.009233565057460385,0.011758685186134694,0.004113707683344853,0.0071632422715390415,0.008315054209061536,0.004162695189157093,0.0071523437682788,0.008452485450501214,0.00267681407033838,0.006206478077998409,0.013247320159061163,0.009329326517690984,0.016377860224078517,0.024532124129039493,0.0031120084278910116,0.010330134843374741,0.018131088029376265,0.003418245077712725,0.004606617621420742,0.005492958271703899,0.018432674827747353,0.032075853611581655,0.1402690116729908]},\"hovertemplate\":\"Model=%{x}<br>Mean Absolute Error (MAE)=%{y}<br>ImputationDataset.mask_proportion=%{marker.color}<extra></extra>\",\"legendgroup\":\"\",\"marker\":{\"color\":[0.3,0.5,0.7,0.3,0.5,0.7,0.3,0.5,0.7,0.3,0.5,0.7,0.3,0.5,0.7,0.3,0.5,0.7,0.3,0.5,0.7,0.3,0.5,0.7,0.3,0.5,0.7,0.3,0.5,0.7,0.3,0.5,0.7,0.3,0.5,0.7,0.3,0.5,0.7,0.3,0.5,0.7,0.3,0.5,0.7],\"coloraxis\":\"coloraxis\",\"pattern\":{\"shape\":\"\"}},\"name\":\"\",\"offsetgroup\":\"\",\"orientation\":\"v\",\"showlegend\":false,\"textposition\":\"auto\",\"x\":[\"Zero\",\"Zero\",\"Zero\",\"Median\",\"Median\",\"Median\",\"Mean\",\"Mean\",\"Mean\",\"MostFrequent\",\"MostFrequent\",\"MostFrequent\",\"MICE\",\"MICE\",\"MICE\",\"MissForest\",\"MissForest\",\"MissForest\",\"MLP\",\"MLP\",\"MLP\",\"BRITS\",\"BRITS\",\"BRITS\",\"GRU-D\",\"GRU-D\",\"GRU-D\",\"M4IP\",\"M4IP\",\"M4IP\",\"Attention\",\"Attention\",\"Attention\",\"NP\",\"NP\",\"NP\",\"SAITS\",\"SAITS\",\"SAITS\",\"Diffusion\",\"Diffusion\",\"Diffusion\",\"CSDI\",\"CSDI\",\"CSDI\"],\"xaxis\":\"x\",\"y\":[0.22606805975238478,0.37469476977984106,0.5234371493260066,0.224294458925724,0.37287230630715684,0.5237664861480394,0.22599038090024673,0.37673137148221336,0.5277936619520187,0.24836587346262398,0.4122061641017596,0.578606971402963,0.18044672059161318,0.3315081058442592,0.4903369625977107,0.1945803312460581,0.3607052911321322,0.5913523559768995,0.19980787316958107,0.3328372878829638,0.4706142990787823,0.11560430465000013,0.23658510426680246,0.3417843130656651,0.12196071086327231,0.22577399889628091,0.3252069649526051,0.10480568107962605,0.19352869078516957,0.2805608920965876,0.0726882542657355,0.15399227013190583,0.24104207986167497,0.1587234818562865,0.27697271024187403,0.4147069472074508,0.07842209996546012,0.1617879420270522,0.282316232273976,0.22707159593701362,0.3768126875162124,0.5264118190606435,0.08752097805017142,0.1878873782853285,0.37221158901495593],\"yaxis\":\"y\",\"type\":\"bar\"}],                        {\"template\":{\"data\":{\"histogram2dcontour\":[{\"type\":\"histogram2dcontour\",\"colorbar\":{\"outlinewidth\":1,\"tickcolor\":\"rgb(36,36,36)\",\"ticks\":\"outside\"},\"colorscale\":[[0.0,\"#440154\"],[0.1111111111111111,\"#482878\"],[0.2222222222222222,\"#3e4989\"],[0.3333333333333333,\"#31688e\"],[0.4444444444444444,\"#26828e\"],[0.5555555555555556,\"#1f9e89\"],[0.6666666666666666,\"#35b779\"],[0.7777777777777778,\"#6ece58\"],[0.8888888888888888,\"#b5de2b\"],[1.0,\"#fde725\"]]}],\"choropleth\":[{\"type\":\"choropleth\",\"colorbar\":{\"outlinewidth\":1,\"tickcolor\":\"rgb(36,36,36)\",\"ticks\":\"outside\"}}],\"histogram2d\":[{\"type\":\"histogram2d\",\"colorbar\":{\"outlinewidth\":1,\"tickcolor\":\"rgb(36,36,36)\",\"ticks\":\"outside\"},\"colorscale\":[[0.0,\"#440154\"],[0.1111111111111111,\"#482878\"],[0.2222222222222222,\"#3e4989\"],[0.3333333333333333,\"#31688e\"],[0.4444444444444444,\"#26828e\"],[0.5555555555555556,\"#1f9e89\"],[0.6666666666666666,\"#35b779\"],[0.7777777777777778,\"#6ece58\"],[0.8888888888888888,\"#b5de2b\"],[1.0,\"#fde725\"]]}],\"heatmap\":[{\"type\":\"heatmap\",\"colorbar\":{\"outlinewidth\":1,\"tickcolor\":\"rgb(36,36,36)\",\"ticks\":\"outside\"},\"colorscale\":[[0.0,\"#440154\"],[0.1111111111111111,\"#482878\"],[0.2222222222222222,\"#3e4989\"],[0.3333333333333333,\"#31688e\"],[0.4444444444444444,\"#26828e\"],[0.5555555555555556,\"#1f9e89\"],[0.6666666666666666,\"#35b779\"],[0.7777777777777778,\"#6ece58\"],[0.8888888888888888,\"#b5de2b\"],[1.0,\"#fde725\"]]}],\"heatmapgl\":[{\"type\":\"heatmapgl\",\"colorbar\":{\"outlinewidth\":1,\"tickcolor\":\"rgb(36,36,36)\",\"ticks\":\"outside\"},\"colorscale\":[[0.0,\"#440154\"],[0.1111111111111111,\"#482878\"],[0.2222222222222222,\"#3e4989\"],[0.3333333333333333,\"#31688e\"],[0.4444444444444444,\"#26828e\"],[0.5555555555555556,\"#1f9e89\"],[0.6666666666666666,\"#35b779\"],[0.7777777777777778,\"#6ece58\"],[0.8888888888888888,\"#b5de2b\"],[1.0,\"#fde725\"]]}],\"contourcarpet\":[{\"type\":\"contourcarpet\",\"colorbar\":{\"outlinewidth\":1,\"tickcolor\":\"rgb(36,36,36)\",\"ticks\":\"outside\"}}],\"contour\":[{\"type\":\"contour\",\"colorbar\":{\"outlinewidth\":1,\"tickcolor\":\"rgb(36,36,36)\",\"ticks\":\"outside\"},\"colorscale\":[[0.0,\"#440154\"],[0.1111111111111111,\"#482878\"],[0.2222222222222222,\"#3e4989\"],[0.3333333333333333,\"#31688e\"],[0.4444444444444444,\"#26828e\"],[0.5555555555555556,\"#1f9e89\"],[0.6666666666666666,\"#35b779\"],[0.7777777777777778,\"#6ece58\"],[0.8888888888888888,\"#b5de2b\"],[1.0,\"#fde725\"]]}],\"surface\":[{\"type\":\"surface\",\"colorbar\":{\"outlinewidth\":1,\"tickcolor\":\"rgb(36,36,36)\",\"ticks\":\"outside\"},\"colorscale\":[[0.0,\"#440154\"],[0.1111111111111111,\"#482878\"],[0.2222222222222222,\"#3e4989\"],[0.3333333333333333,\"#31688e\"],[0.4444444444444444,\"#26828e\"],[0.5555555555555556,\"#1f9e89\"],[0.6666666666666666,\"#35b779\"],[0.7777777777777778,\"#6ece58\"],[0.8888888888888888,\"#b5de2b\"],[1.0,\"#fde725\"]]}],\"mesh3d\":[{\"type\":\"mesh3d\",\"colorbar\":{\"outlinewidth\":1,\"tickcolor\":\"rgb(36,36,36)\",\"ticks\":\"outside\"}}],\"scatter\":[{\"fillpattern\":{\"fillmode\":\"overlay\",\"size\":10,\"solidity\":0.2},\"type\":\"scatter\"}],\"parcoords\":[{\"type\":\"parcoords\",\"line\":{\"colorbar\":{\"outlinewidth\":1,\"tickcolor\":\"rgb(36,36,36)\",\"ticks\":\"outside\"}}}],\"scatterpolargl\":[{\"type\":\"scatterpolargl\",\"marker\":{\"colorbar\":{\"outlinewidth\":1,\"tickcolor\":\"rgb(36,36,36)\",\"ticks\":\"outside\"}}}],\"bar\":[{\"error_x\":{\"color\":\"rgb(36,36,36)\"},\"error_y\":{\"color\":\"rgb(36,36,36)\"},\"marker\":{\"line\":{\"color\":\"white\",\"width\":0.5},\"pattern\":{\"fillmode\":\"overlay\",\"size\":10,\"solidity\":0.2}},\"type\":\"bar\"}],\"scattergeo\":[{\"type\":\"scattergeo\",\"marker\":{\"colorbar\":{\"outlinewidth\":1,\"tickcolor\":\"rgb(36,36,36)\",\"ticks\":\"outside\"}}}],\"scatterpolar\":[{\"type\":\"scatterpolar\",\"marker\":{\"colorbar\":{\"outlinewidth\":1,\"tickcolor\":\"rgb(36,36,36)\",\"ticks\":\"outside\"}}}],\"histogram\":[{\"marker\":{\"line\":{\"color\":\"white\",\"width\":0.6}},\"type\":\"histogram\"}],\"scattergl\":[{\"type\":\"scattergl\",\"marker\":{\"colorbar\":{\"outlinewidth\":1,\"tickcolor\":\"rgb(36,36,36)\",\"ticks\":\"outside\"}}}],\"scatter3d\":[{\"type\":\"scatter3d\",\"line\":{\"colorbar\":{\"outlinewidth\":1,\"tickcolor\":\"rgb(36,36,36)\",\"ticks\":\"outside\"}},\"marker\":{\"colorbar\":{\"outlinewidth\":1,\"tickcolor\":\"rgb(36,36,36)\",\"ticks\":\"outside\"}}}],\"scattermapbox\":[{\"type\":\"scattermapbox\",\"marker\":{\"colorbar\":{\"outlinewidth\":1,\"tickcolor\":\"rgb(36,36,36)\",\"ticks\":\"outside\"}}}],\"scatterternary\":[{\"type\":\"scatterternary\",\"marker\":{\"colorbar\":{\"outlinewidth\":1,\"tickcolor\":\"rgb(36,36,36)\",\"ticks\":\"outside\"}}}],\"scattercarpet\":[{\"type\":\"scattercarpet\",\"marker\":{\"colorbar\":{\"outlinewidth\":1,\"tickcolor\":\"rgb(36,36,36)\",\"ticks\":\"outside\"}}}],\"carpet\":[{\"aaxis\":{\"endlinecolor\":\"rgb(36,36,36)\",\"gridcolor\":\"white\",\"linecolor\":\"white\",\"minorgridcolor\":\"white\",\"startlinecolor\":\"rgb(36,36,36)\"},\"baxis\":{\"endlinecolor\":\"rgb(36,36,36)\",\"gridcolor\":\"white\",\"linecolor\":\"white\",\"minorgridcolor\":\"white\",\"startlinecolor\":\"rgb(36,36,36)\"},\"type\":\"carpet\"}],\"table\":[{\"cells\":{\"fill\":{\"color\":\"rgb(237,237,237)\"},\"line\":{\"color\":\"white\"}},\"header\":{\"fill\":{\"color\":\"rgb(217,217,217)\"},\"line\":{\"color\":\"white\"}},\"type\":\"table\"}],\"barpolar\":[{\"marker\":{\"line\":{\"color\":\"white\",\"width\":0.5},\"pattern\":{\"fillmode\":\"overlay\",\"size\":10,\"solidity\":0.2}},\"type\":\"barpolar\"}],\"pie\":[{\"automargin\":true,\"type\":\"pie\"}]},\"layout\":{\"autotypenumbers\":\"strict\",\"colorway\":[\"#1F77B4\",\"#FF7F0E\",\"#2CA02C\",\"#D62728\",\"#9467BD\",\"#8C564B\",\"#E377C2\",\"#7F7F7F\",\"#BCBD22\",\"#17BECF\"],\"font\":{\"color\":\"rgb(36,36,36)\"},\"hovermode\":\"closest\",\"hoverlabel\":{\"align\":\"left\"},\"paper_bgcolor\":\"white\",\"plot_bgcolor\":\"white\",\"polar\":{\"bgcolor\":\"white\",\"angularaxis\":{\"gridcolor\":\"rgb(232,232,232)\",\"linecolor\":\"rgb(36,36,36)\",\"showgrid\":false,\"showline\":true,\"ticks\":\"outside\"},\"radialaxis\":{\"gridcolor\":\"rgb(232,232,232)\",\"linecolor\":\"rgb(36,36,36)\",\"showgrid\":false,\"showline\":true,\"ticks\":\"outside\"}},\"ternary\":{\"bgcolor\":\"white\",\"aaxis\":{\"gridcolor\":\"rgb(232,232,232)\",\"linecolor\":\"rgb(36,36,36)\",\"showgrid\":false,\"showline\":true,\"ticks\":\"outside\"},\"baxis\":{\"gridcolor\":\"rgb(232,232,232)\",\"linecolor\":\"rgb(36,36,36)\",\"showgrid\":false,\"showline\":true,\"ticks\":\"outside\"},\"caxis\":{\"gridcolor\":\"rgb(232,232,232)\",\"linecolor\":\"rgb(36,36,36)\",\"showgrid\":false,\"showline\":true,\"ticks\":\"outside\"}},\"coloraxis\":{\"colorbar\":{\"outlinewidth\":1,\"tickcolor\":\"rgb(36,36,36)\",\"ticks\":\"outside\"}},\"colorscale\":{\"sequential\":[[0.0,\"#440154\"],[0.1111111111111111,\"#482878\"],[0.2222222222222222,\"#3e4989\"],[0.3333333333333333,\"#31688e\"],[0.4444444444444444,\"#26828e\"],[0.5555555555555556,\"#1f9e89\"],[0.6666666666666666,\"#35b779\"],[0.7777777777777778,\"#6ece58\"],[0.8888888888888888,\"#b5de2b\"],[1.0,\"#fde725\"]],\"sequentialminus\":[[0.0,\"#440154\"],[0.1111111111111111,\"#482878\"],[0.2222222222222222,\"#3e4989\"],[0.3333333333333333,\"#31688e\"],[0.4444444444444444,\"#26828e\"],[0.5555555555555556,\"#1f9e89\"],[0.6666666666666666,\"#35b779\"],[0.7777777777777778,\"#6ece58\"],[0.8888888888888888,\"#b5de2b\"],[1.0,\"#fde725\"]],\"diverging\":[[0.0,\"rgb(103,0,31)\"],[0.1,\"rgb(178,24,43)\"],[0.2,\"rgb(214,96,77)\"],[0.3,\"rgb(244,165,130)\"],[0.4,\"rgb(253,219,199)\"],[0.5,\"rgb(247,247,247)\"],[0.6,\"rgb(209,229,240)\"],[0.7,\"rgb(146,197,222)\"],[0.8,\"rgb(67,147,195)\"],[0.9,\"rgb(33,102,172)\"],[1.0,\"rgb(5,48,97)\"]]},\"xaxis\":{\"gridcolor\":\"rgb(232,232,232)\",\"linecolor\":\"rgb(36,36,36)\",\"showgrid\":false,\"showline\":true,\"ticks\":\"outside\",\"title\":{\"standoff\":15},\"zerolinecolor\":\"rgb(36,36,36)\",\"automargin\":true,\"zeroline\":false},\"yaxis\":{\"gridcolor\":\"rgb(232,232,232)\",\"linecolor\":\"rgb(36,36,36)\",\"showgrid\":false,\"showline\":true,\"ticks\":\"outside\",\"title\":{\"standoff\":15},\"zerolinecolor\":\"rgb(36,36,36)\",\"automargin\":true,\"zeroline\":false},\"scene\":{\"xaxis\":{\"backgroundcolor\":\"white\",\"gridcolor\":\"rgb(232,232,232)\",\"linecolor\":\"rgb(36,36,36)\",\"showbackground\":true,\"showgrid\":false,\"showline\":true,\"ticks\":\"outside\",\"zerolinecolor\":\"rgb(36,36,36)\",\"gridwidth\":2,\"zeroline\":false},\"yaxis\":{\"backgroundcolor\":\"white\",\"gridcolor\":\"rgb(232,232,232)\",\"linecolor\":\"rgb(36,36,36)\",\"showbackground\":true,\"showgrid\":false,\"showline\":true,\"ticks\":\"outside\",\"zerolinecolor\":\"rgb(36,36,36)\",\"gridwidth\":2,\"zeroline\":false},\"zaxis\":{\"backgroundcolor\":\"white\",\"gridcolor\":\"rgb(232,232,232)\",\"linecolor\":\"rgb(36,36,36)\",\"showbackground\":true,\"showgrid\":false,\"showline\":true,\"ticks\":\"outside\",\"zerolinecolor\":\"rgb(36,36,36)\",\"gridwidth\":2,\"zeroline\":false}},\"shapedefaults\":{\"fillcolor\":\"black\",\"line\":{\"width\":0},\"opacity\":0.3},\"annotationdefaults\":{\"arrowhead\":0,\"arrowwidth\":1},\"geo\":{\"bgcolor\":\"white\",\"landcolor\":\"white\",\"subunitcolor\":\"white\",\"showland\":true,\"showlakes\":true,\"lakecolor\":\"white\"},\"title\":{\"x\":0.05},\"mapbox\":{\"style\":\"light\"}}},\"xaxis\":{\"anchor\":\"y\",\"domain\":[0.0,1.0],\"title\":{\"text\":\"Model\"}},\"yaxis\":{\"anchor\":\"x\",\"domain\":[0.0,1.0],\"title\":{\"text\":\"Mean Absolute Error (MAE)\"}},\"coloraxis\":{\"colorbar\":{\"title\":{\"text\":\"ImputationDataset.mask_proportion\"}},\"colorscale\":[[0.0,\"#440154\"],[0.1111111111111111,\"#482878\"],[0.2222222222222222,\"#3e4989\"],[0.3333333333333333,\"#31688e\"],[0.4444444444444444,\"#26828e\"],[0.5555555555555556,\"#1f9e89\"],[0.6666666666666666,\"#35b779\"],[0.7777777777777778,\"#6ece58\"],[0.8888888888888888,\"#b5de2b\"],[1.0,\"#fde725\"]]},\"legend\":{\"tracegroupgap\":0},\"margin\":{\"t\":60},\"barmode\":\"group\",\"height\":400,\"width\":1200},                        {\"responsive\": true}                    ).then(function(){\n                            \nvar gd = document.getElementById('c688ce80-a39d-4024-a921-e6f846e13176');\nvar x = new MutationObserver(function (mutations, observer) {{\n        var display = window.getComputedStyle(gd).display;\n        if (!display || display === 'none') {{\n            console.log([gd, 'removed!']);\n            Plotly.purge(gd);\n            observer.disconnect();\n        }}\n}});\n\n// Listen for the removal of the full notebook cells\nvar notebookContainer = gd.closest('#notebook-container');\nif (notebookContainer) {{\n    x.observe(notebookContainer, {childList: true});\n}}\n\n// Listen for the clearing of the current output cell\nvar outputEl = gd.closest('.output');\nif (outputEl) {{\n    x.observe(outputEl, {childList: true});\n}}\n\n                        })                };                });            </script>        </div>"
     },
     "metadata": {},
     "output_type": "display_data"
    }
   ],
   "source": [
    "figure.show()"
   ],
   "metadata": {
    "collapsed": false
   }
  },
  {
   "cell_type": "code",
   "execution_count": 88,
   "outputs": [],
   "source": [
    "figure.write_image(r\"C:\\Users\\Robin\\Downloads\\results_imputation_missingness_method_plotly.pdf\")"
   ],
   "metadata": {
    "collapsed": false
   }
  },
  {
   "cell_type": "code",
   "execution_count": 90,
   "outputs": [],
   "source": [
    "figure.write_image(r\"C:\\Users\\Robin\\Downloads\\results_imputation_missingness_amount_plotly.pdf\")\n"
   ],
   "metadata": {
    "collapsed": false
   }
  },
  {
   "cell_type": "code",
   "execution_count": 93,
   "outputs": [],
   "source": [
    "figure.write_image(r\"C:\\Users\\Robin\\Downloads\\results_imputation_missingness_dataset_plotly.pdf\")\n"
   ],
   "metadata": {
    "collapsed": false
   }
  },
  {
   "cell_type": "code",
   "execution_count": null,
   "outputs": [],
   "source": [],
   "metadata": {
    "collapsed": false
   }
  }
 ],
 "metadata": {
  "kernelspec": {
   "display_name": "Python 3",
   "language": "python",
   "name": "python3"
  },
  "language_info": {
   "codemirror_mode": {
    "name": "ipython",
    "version": 2
   },
   "file_extension": ".py",
   "mimetype": "text/x-python",
   "name": "python",
   "nbconvert_exporter": "python",
   "pygments_lexer": "ipython2",
   "version": "2.7.6"
  }
 },
 "nbformat": 4,
 "nbformat_minor": 0
}
